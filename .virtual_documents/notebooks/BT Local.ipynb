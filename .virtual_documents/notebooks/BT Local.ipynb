get_ipython().run_line_magic("load_ext", " autoreload")
get_ipython().run_line_magic("autoreload", " 2")
get_ipython().run_line_magic("env", " WANDB_SILENT=true")

from pathlib import Path
import matplotlib.pyplot as plt
import pandas as pd
import quantstats as qs
import os
import logging
import json

logger = logging.getLogger("wandb")
logger.setLevel(logging.ERROR)
qs.extend_pandas()
plt.style.use("seaborn-whitegrid")
pd.set_option('display.max_rows', 200)

if "freqtrade" not in os.listdir():
    os.chdir("..")
    import nest_asyncio
    nest_asyncio.apply()

PATH_MOUNT = Path.cwd().parent / "mount"
print("Working Directory:", os.getcwd())

# Freqtrade Imports
from freqtrade.optimize.optimize_reports import text_table_add_metrics
from freqtrade.nbtools.preset import Preset
from freqtrade.nbtools import plotting


PATH_LOCAL_PRESET = PATH_MOUNT / "presets" / "normalizer"
PATH_LOCAL_DATADIR = PATH_MOUNT / "data" / "binance"
TIMERANGE = "20210501-20210801"

# Start Backtesting Logic
preset_local, strategy_code = Preset.from_local(PATH_LOCAL_PRESET)
preset_local.datadir = PATH_LOCAL_DATADIR
preset_local.timerange = TIMERANGE

print("Backtesting...")
stats, summary = preset_local.backtest_by_default_strategy_code()
trades = pd.DataFrame(stats["strategy"]["NotebookStrategy"]["trades"])
print("[GOOD NEWS] Backtest done! Data is ready to be analyzed.")


plotting.plot_profits(
    trades,
    start = "2021-05-01",
    end = "2021-08-01",
    path_mount = PATH_MOUNT
)


# Running this cell will print backtest results
results = stats["strategy"]["NotebookStrategy"]

# Results per pair
results_per_pair = pd.DataFrame(results["results_per_pair"])
results_per_pair_df = results_per_pair.set_index("key").drop(columns=["profit_mean", "profit_total"])
results_per_pair_df = results_per_pair_df.sort_values(by=["profit_total_abs"], ascending=False)
results_per_pair_df.round(2)

# Sell reason stats
sells = pd.DataFrame(results['sell_reason_summary'])
sells = sells.drop(columns=["profit_mean", "profit_total"]).set_index("sell_reason")

# Left open trades
left_open_trades = pd.DataFrame(results['left_open_trades'])
left_open_trades = left_open_trades.drop(columns=["profit_mean", "profit_total"]).set_index("key")

# Summary metrics
metrics = text_table_add_metrics(results)

# Advanced metrics
with (preset_local.path_local_preset / "metadata.json").open("r") as fs:
    advanced_metrics = json.load(fs)
    advanced_metrics["profit_mean"] = advanced_metrics["profit_mean"] * 100
    advanced_metrics["profit_median"] = advanced_metrics["profit_median"] * 100
    advanced_metrics["profit_total"] = advanced_metrics["profit_total"] * 100

for key, value in advanced_metrics.items():
    if isinstance(value, float):
        advanced_metrics[key] =  round(value, 3)
    advanced_metrics[key] = [advanced_metrics[key]]
    
advanced_metrics_df = pd.DataFrame(advanced_metrics)
    
print("Results Per Pair")
display(results_per_pair_df.round(2))
print("Sell Reasons")
display(sells.round(2))
print("Left Open Trades")
display(left_open_trades.round(2))
print("Freqtrade Summary Metrics")
print("=" * 48 + "\n" + metrics + "\n" + "=" * 48)
print("Advanced Metrics")
print("Preset Name:", advanced_metrics_df["preset_name"][0])
display(advanced_metrics_df.drop(columns=["preset_name", "pairlist"]).T)



