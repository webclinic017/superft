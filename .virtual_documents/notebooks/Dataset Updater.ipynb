get_ipython().run_line_magic("load_ext", " autoreload")
get_ipython().run_line_magic("autoreload", " 2")

from pathlib import Path
import os
import sys
import logging

if "freqtrade" not in os.listdir():
    import nest_asyncio
    os.chdir("..")
    nest_asyncio.apply()
    logging.basicConfig(format='%(asctime)-15s - %(message)s')
    logging.root.setLevel(logging.DEBUG)

from freqtrade.commands.data_commands import start_download_data
PATH_MOUNT = Path.cwd().parent / "mount"
PATH_LOCAL_DATADIR = PATH_MOUNT / "data"


pairs = [
    "BTC/USDT","ETH/USDT","ADA/USDT","BNB/USDT","XRP/USDT","DOT/USDT","DOGE/USDT","ZEC/USDT","NANO/USDT","NEO/USDT",
    "UNI/USDT","BCH/USDT","LINK/USDT","LTC/USDT","MATIC/USDT","XLM/USDT","SOL/USDT","ETC/USDT","VET/USDT","THETA/USDT",
    "EOS/USDT","TRX/USDT","FIL/USDT","XMR/USDT","AAVE/USDT","MKR/USDT","ATOM/USDT","ALGO/USDT","CAKE/USDT","KSM/USDT",
    "LUNA/USDT","BTT/USDT","AVAX/USDT","COMP/USDT","DASH/USDT","DCR/USDT","EGLD/USDT","WAVES/USDT","YFI/USDT","XEM/USDT",
    "CHZ/USDT","SUSHI/USDT","HOT/USDT","ZIL/USDT","SNX/USDT","MANA/USDT","ENJ/USDT","HNT/USDT","BAT/USDT","NEAR/USDT",
    "QTUM/USDT","GRT/USDT","ONE/USDT","ONT/USDT","BAKE/USDT","BNT/USDT","ZRX/USDT","FTM/USDT","OMG/USDT","CELO/USDT",
    "ICX/USDT","ANKR/USDT","RVN/USDT","CRV/USDT", "FTT/USDT", "TFUEL/USDT",
]
timeframes = ["1m", "3m", "5m", "15m", "30m", "1h", "2h", "4h", "6h", "12h", "6h", "8h", "1d", "3d", "1w", "1M"]
exchange = "binance"
pairlist_name = "marketcap64"

args = {
    "timeframes": timeframes,
    "exchange": exchange,
    "pairs": pairs,
    "days": 2000,
    "datadir": PATH_LOCAL_DATADIR / exchange,
    "verbosity": 0,
}
start_download_data(args)


import time
import logging


logger = logging.getLogger()
logging.root.addHandler(logging.StreamHandler(stream=sys.stdout))
logger.setLevel(logging.DEBUG)

for i in range(3):
    logger.debug("Hi")
    time.sleep(1)
    
print("Finished")



