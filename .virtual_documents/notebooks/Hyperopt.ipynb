# Freqtrade Workspace

# Notebook Helpers
get_ipython().run_line_magic("load_ext", " autoreload")
get_ipython().run_line_magic("autoreload", " 2")
get_ipython().run_line_magic("env", " WANDB_SILENT=true")

# Standard Imports
from pathlib import Path
from typing import List, Callable, Tuple, Any
from wandb.wandb_run import Run
from datetime import datetime, timedelta
from copy import deepcopy

import attr
import gc
import os
import wandb
import nest_asyncio
import logging
import sys
import pandas as pd
import numpy as np
import qgrid
pd.set_option('display.max_rows', 200)

# Resolve CWD
gc.collect()
nest_asyncio.apply()

while "freqtrade" not in os.listdir():
    os.chdir("..")
    if "freqtrade" in os.listdir():
        nest_asyncio.apply()
        logger = logging.getLogger("freqtrade.nbtools")
        handler = logging.StreamHandler(stream=sys.stdout)
        handler.setFormatter(logging.Formatter("%(name)s - %(message)s"))
        logger.addHandler(handler)
        logger.setLevel(logging.INFO)
        logging.getLogger("distributed.utils_perf").setLevel(logging.ERROR)

# Freqtrade Imports
from freqtrade.optimize.optimize_reports import text_table_add_metrics
from freqtrade.configuration import Configuration
from freqtrade.data.btanalysis import load_backtest_data, load_backtest_stats
from freqtrade.ml.lightning import LightningModule, LightningConfig
from freqtrade.ml.trainer import TradingTrainer
from freqtrade.ml.container import LightningContainer
from freqtrade.ml import loader, lightning_utils
from freqtrade.nbtools.preset import LocalPreset, ConfigPreset, FilePreset, CloudPreset
from freqtrade.nbtools.backtest import backtest, DataLoader
from freqtrade.nbtools import plotting, configs
from freqtrade.nbtools.helper import free_mem
from freqtrade.nbtools.pairs import PAIRS_HIGHCAP_NONSTABLE
from notebooks import utils_hyperopter

# Constants
PATH_MOUNT = Path.cwd().parent / "mount"
PATH_DATA = PATH_MOUNT / "data"
PATH_PRESETS = PATH_MOUNT / "presets"
PATH_STRATEGIES = PATH_PRESETS / ".strategy_files"
DATALOADER = DataLoader(max_n_datasets=5)

# Define custom functions
def foo() -> str:
    return "bar"

import os
os.chdir("/freqtrade")

from pathlib import Path
import matplotlib.pyplot as plt
import subprocess
import numpy as np
import pandas as pd
import random


# Running this block will hyperopt your preset with `config-backtesting.json` AS CONFIG!.

# Backtesting arguments
PRESET = "15m-next30m-10_06"
TIMERANGE_START = "2021-05-01"
TIMERANGE_END = "2021-07-01"

HYPEROPT_OPTIONS = {
    # spaces: all, buy, sell, roi, stoploss, trailing, default (all exc. trailing)
    "spaces": "buy",
    "epochs": 100,
    # hyperopt-loss: SharpeHyperOptLoss, SortinoHyperOptLoss, OnlyProfitHyperOptLoss, ShortTradeDurHyperOptLoss, or Sharpe/Sortino + Daily
    "hyperopt-loss": "SharpeHyperOptLoss",
    "min-trades": 10,
    "random-state": 2,
}

# Backtesting Pipeline (Don't Change!)
command, args = utils_hyperopter.get_hyperopt_command(PRESET, TIMERANGE_START, TIMERANGE_END, HYPEROPT_OPTIONS, fee = 0.001)
print(f"> {command} \n-----")
get_ipython().getoutput("{command}")
utils_hyperopter.post_hyperopt(PRESET, command, args, "stdout")






