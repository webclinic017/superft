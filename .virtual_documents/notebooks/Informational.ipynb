get_ipython().run_line_magic("load_ext", " autoreload")
get_ipython().run_line_magic("autoreload", " 2")
get_ipython().run_line_magic("env", " WANDB_SILENT=true")

from pathlib import Path
from copy import deepcopy
import matplotlib.pyplot as plt
import pandas as pd
import quantstats as qs
import os
import logging
import sys

qs.extend_pandas()
plt.style.use("seaborn-whitegrid")
pd.set_option('display.max_rows', 200)

if "freqtrade" not in os.listdir():
    import nest_asyncio
    nest_asyncio.apply()
    os.chdir("..")
    
PATH_MOUNT = Path.cwd().parent / "mount"
print("Working Directory:", os.getcwd())

# Freqtrade Imports
from freqtrade.nbtools import remote_utils


# Get local presets
local = (PATH_MOUNT / "presets").glob("*")
local = (it.name for it in list(local) if not it.name.startswith("."))
local_df = pd.DataFrame({"preset_name": local})
local_df


# Preset Backtest Results
columns = ["preset_name", "profit_mean_pct", "profit_factor"]
df = remote_utils.cloud_get_presets_df(from_run_history=False)
df["profit_mean_pct"] = df["profit_mean"] * 100
df.loc[df["profit_mean_pct"] > 0.25, columns].sort_values(by=["profit_factor"], ascending=False).head(20)


# Preset Run History
columns = ["preset_name", "profit_mean_pct", "profit_factor"]
df = remote_utils.cloud_get_presets_df(from_run_history=True)
df["profit_mean_pct"] = df["profit_mean"] * 100
df.loc[df["profit_mean_pct"] > 0.25, columns].sort_values(by=["profit_factor"], ascending=False).head(20)
