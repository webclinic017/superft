get_ipython().run_line_magic("load_ext", " autoreload")
get_ipython().run_line_magic("autoreload", " 2")
get_ipython().run_line_magic("env", " WANDB_SILENT=true")

from pathlib import Path
from copy import deepcopy
from datetime import datetime, timedelta
import matplotlib.pyplot as plt
import pandas as pd
import quantstats as qs
import os
import logging
import sys

qs.extend_pandas()
plt.style.use("seaborn-whitegrid")
pd.set_option('display.max_rows', 200)

if "freqtrade" not in os.listdir():
    import nest_asyncio
    nest_asyncio.apply()
    os.chdir("..")
    
PATH_MOUNT = Path.cwd().parent / "mount"
print("Working Directory:", os.getcwd())

# Freqtrade Imports
from freqtrade.nbtools import remote_utils


# Get local presets
local = (PATH_MOUNT / "presets").glob("*")
local = (it.name for it in list(local) if not it.name.startswith("."))
local_df = pd.DataFrame({"preset_name": local})
local_df


# Preset Backtest Results
df_download = remote_utils.cloud_get_presets_df(from_run_history=False)
df_download


# Get top 20 strategies by drawdown, but backtest_end is not older than 7 days. Drop duplicates by profit factor.
df = df_download.copy().drop_duplicates(subset=["profit_factor"])

df["profit_mean_pct"] = df["profit_mean"] * 100
df["backtest_start"] = pd.to_datetime(df["backtest_start"])
df["backtest_end"] = pd.to_datetime(df["backtest_end"])

columns = ["preset_name", "profit_mean_pct", "profit_factor", "backtest_start" ,"backtest_end"]

newer = pd.to_datetime(datetime.today() - timedelta(days=7))
last_month_btstart = pd.to_datetime(datetime.today() - timedelta(days=63))

df.loc[
    (df["profit_mean_pct"] > 0.25) & (df["backtest_end"] > newer) & (df["backtest_start"] > last_month_btstart), 
columns].sort_values(by=["profit_factor"], ascending=False).head(20)


df_download.columns


# Preset Run History
columns = ["preset_name", "profit_mean_pct", "profit_factor"]
df = remote_utils.cloud_get_presets_df(from_run_history=True)
df["profit_mean_pct"] = df["profit_mean"] * 100
df.loc[df["profit_mean_pct"] > 0.25, columns].sort_values(by=["profit_factor"], ascending=False).head(20)
