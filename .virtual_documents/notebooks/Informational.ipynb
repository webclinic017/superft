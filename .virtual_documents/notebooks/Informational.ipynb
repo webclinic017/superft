# Setup Imports (Run this first!)
get_ipython().run_line_magic("load_ext", " autoreload")
get_ipython().run_line_magic("autoreload", " 2")
from pandas import DataFrame
from pathlib import Path
import matplotlib.pyplot as plt
import numpy as np
import pandas as pd
import quantstats as qs
import os
import time
import inspect
import wandb
import logging

PATH_MOUNT = Path.cwd().parent / "mount"
logger = logging.getLogger("wandb")
logger.setLevel(logging.ERROR)
qs.extend_pandas()
plt.style.use("seaborn-whitegrid")

if "freqtrade" not in os.listdir():
    os.chdir("..")
    import nest_asyncio
    nest_asyncio.apply()

print("Working Directory:", os.getcwd())

# Freqtrade Imports
from freqtrade.nbtools import remote_utils


# Preset Backtest Results
columns = ["preset_name", "profit_mean_pct", "profit_factor"]
df = remote_utils.cloud_get_presets_df(from_run_history=False)
df["profit_mean_pct"] = df["profit_mean"] * 100
df.loc[df["profit_mean_pct"] > 0.25, columns].sort_values(by=["profit_factor"], ascending=False).head(20)


# Preset Run History
columns = ["preset_name", "profit_mean_pct", "profit_factor"]
df = remote_utils.cloud_get_presets_df(from_run_history=True)
df["profit_mean_pct"] = df["profit_mean"] * 100
df.loc[df["profit_mean_pct"] > 0.25, columns].sort_values(by=["profit_factor"], ascending=False).head(20)


# List of Local Presets






