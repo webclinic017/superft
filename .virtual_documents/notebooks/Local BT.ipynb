get_ipython().run_line_magic("load_ext", " autoreload")
get_ipython().run_line_magic("autoreload", " 2")

from matplotlib import dates
from pandas import DataFrame
from pathlib import Path
import matplotlib.pyplot as plt
import numpy as np
import pandas as pd
import quantstats as qs
import talib.abstract as ta
import os
import time
import inspect
import stackprinter
import wandb
import logging

PATH_MOUNT = Path.cwd().parent / "mount"
logger = logging.getLogger("wandb")
logger.setLevel(logging.ERROR)
stackprinter.set_excepthook(style='lightbg')  # for jupyter notebooks try style='lightbg'
qs.extend_pandas()
plt.style.use("seaborn-whitegrid")

if "freqtrade" not in os.listdir():
    os.chdir("..")
    import nest_asyncio
    nest_asyncio.apply()

print("Working Directory:", os.getcwd())

# Freqtrade Imports
from freqtrade.nbtools.preset import Preset
from freqtrade.nbtools import plotting


PATH_LOCAL_PRESET = PATH_MOUNT / "presets" / "15m-next30m-combine"
PATH_LOCAL_DATADIR = PATH_MOUNT / "data" / "binance"
TIMERANGE = "20210501-20210531"

# Start Backtesting Logic
preset_local, strategy_code = Preset.from_local(PATH_LOCAL_PRESET)
preset_local.datadir = PATH_LOCAL_DATADIR
preset_local.timerange = TIMERANGE
stats, summary = preset_local.backtest_by_default_strategy_code()
trades = stats["strategy"]["NotebookStrategy"]["trades"]
print(summary)


plotting.plot_profits(
    trades,
    start = "2021-05-01",
    end = "2021-06-01",
    path_mount = PATH_MOUNT
)
