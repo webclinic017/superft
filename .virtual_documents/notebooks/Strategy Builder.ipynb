# Freqtrade Workspace

# Notebook Helper
get_ipython().run_line_magic("load_ext", " autoreload")
get_ipython().run_line_magic("autoreload", " 2")
get_ipython().run_line_magic("env", " WANDB_SILENT=true")

# Standard Imports
from pathlib import Path
from typing import List, Callable, Tuple, Any
from wandb.wandb_run import Run
from datetime import datetime, timedelta
from functools import reduce
import attr
import gc
import os
import wandb
import nest_asyncio
import logging
import sys
import pandas as pd
import numpy as np
import mplfinance as mpf
import pandas_ta as ta
import random

# Resolve CWD
gc.collect()
nest_asyncio.apply()

while "freqtrade" not in os.listdir():
    os.chdir("..")
    if "freqtrade" in os.listdir():
        nest_asyncio.apply()
        logger = logging.getLogger("freqtrade.nbtools")
        handler = logging.StreamHandler(stream=sys.stdout)
        handler.setFormatter(logging.Formatter("%(name)s - %(message)s"))
        logger.addHandler(handler)
        logger.setLevel(logging.DEBUG)

# Freqtrade Imports
from freqtrade.optimize.optimize_reports import text_table_add_metrics
from freqtrade.ml.lightning import LightningModule, LightningConfig
from freqtrade.ml.trainer import TradingTrainer
from freqtrade.ml.container import LightningContainer
from freqtrade.ml import loader, lightning_utils
from freqtrade.nbtools.preset import LocalPreset, ConfigPreset, FilePreset, CloudPreset
from freqtrade.nbtools.backtest import backtest
from freqtrade.nbtools import plotting, configs
from freqtrade.nbtools.helper import free_mem
from freqtrade.nbtools.pairs import PAIRS_HIGHCAP_NONSTABLE

import freqtrade.vendor.qtpylib.indicators as qtpylib

# Constants
PATH_MOUNT = Path.cwd().parent / "mount"
PATH_DATA = PATH_MOUNT / "data"
PATH_PRESETS = PATH_MOUNT / "presets"
PATH_STRATEGIES = PATH_PRESETS / ".strategy_files"

# Define custom functions
def get_random_index(dataframe: pd.DataFrame, loc_condition):
    if len_buy == 0: raise Exception("Zero BUY signals")
    if len_sell == 0: raise Exception("Zero SELL signals")
    idx = 0
    while idx < 1000 or idx > len(dataframe) - 1000:
        idx = df.loc[loc_condition].sample()["idx"][0]
    return idx


def get_middle(dataframe: pd.DataFrame, index: int, num_look: int) -> pd.DataFrame:
    return df.loc[
        (dataframe["idx"] >= index - num_look) & (dataframe["idx"] <= index + num_look)
    ]


style = {'base_mpl_style': 'fast',
         'marketcolors'  : {'candle': {'up': '#00b060', 'down': '#fe3032'},
                            'edge'  : {'up': '#00b060', 'down': '#fe3032'},
                            'wick'  : {'up': '#606060', 'down': '#606060'},
                            'ohlc'  : {'up': '#00b060', 'down': '#fe3032'},
                            'volume': {'up': '#4dc790', 'down': '#fd6b6c'},
                            'vcedge': {'up': '#1f77b4', 'down': '#1f77b4'},
         'vcdopcod'      : True,
         'alpha'         : 0.9},
         'mavcolors'     : None,
         'facecolor'     : '#fafafa',
         'gridcolor'     : '#d0d0d0',
         'gridstyle'     : '-',
         'y_on_right'    : True,
         'rc'            : {'axes.labelcolor': '#101010',
                            'axes.grid.axis' : 'y',
                            'ytick.color'    : '#101010',
                            'xtick.color'    : '#101010',
                            'figure.titlesize': 'x-large',
                            'figure.titleweight':'semibold',
                            'axes.edgecolor'  : 'black',
                           'axes.linewidth'  :  1.0,
                           'lines.linewidth' :  1.0,
                           },
         'base_mpf_style': 'yahoo'}


def plot(dataframe: pd.DataFrame, display_indicators: dict, length = 150):
    """ Plot the price chart!
    """
    df = dataframe.copy()[-length:]
    df.loc[df["buy"] == 1, "buy"] = df["low"] - (0.0025*df["low"])
    df.loc[df["buy"] == 0, "buy"] = np.nan
    df.loc[df["sell"] == 1, "sell"] = df["high"] + (0.0025*df["high"])
    df.loc[df["sell"] == 0, "sell"] = np.nan
    
    
    # Add indicators
    addplot = []
    
    for indicator, panel in display_indicators.items():
        plot = mpf.make_addplot(df[indicator], panel=panel, ylabel=indicator)
        addplot.append(plot)
    
    # Add buy and sell markers
    if len(df.loc[df["buy"] > 0]) > 0: 
        addplot.append(mpf.make_addplot(df["buy"], type='scatter', markersize=100, marker='^', color="green"))
    if len(df.loc[df["sell"] > 0]) > 0: 
        addplot.append(mpf.make_addplot(df["sell"], type='scatter', markersize=100, marker='v', color="red"))
    
    # Add vline markers
    df.index = pd.to_datetime(df.index)
    vlines = {
        "vlines": list(df.loc[df["buy"] > 0].index) + list(df.loc[df["sell"] > 0].index),
        "alpha": 0.25,
        "colors": ["green" for _ in range(len(df.loc[df["buy"] > 0]))] + ["red" for _ in range(len(df.loc[df["sell"] > 0]))]
    }
    
    mpf.plot(
        df, 
        type="candle", 
        style=style, 
        figsize=(15, 8), 
        addplot=addplot,
        vlines=vlines
    )


df_load = loader.load_df(PATH_DATA / "binance"/ "BTC_USDT-5m.json", "5m").iloc[-50000:]
df_load = df_load.set_index("date")
df_load["idx"] = range(0, len(df_load))
df_load["buy"] = 0
df_load["sell"] = 0
df_load


def populate_indicators(dataframe: pd.DataFrame) -> pd.DataFrame:
    """ Populate Freqtrade Indicators """
    dataframe["ema_15"] = dataframe.ta.ema(15)
    dataframe["ema_30"] = dataframe.ta.ema(30)
    dataframe["ema_200"] = dataframe.ta.ema(200)
    dataframe["rsi"] = dataframe.ta.rsi()
    return dataframe


def populate_buy_trend(dataframe: pd.DataFrame) -> pd.DataFrame:
    """ Generate BUY Signals"""
    conditions = [
        qtpylib.crossed_above(dataframe['ema_15'], dataframe['ema_30']),
        dataframe["close"] > dataframe["ema_200"],
        dataframe["rsi"] < 55,
        dataframe['volume'] > 0,
    ]
            
    dataframe.loc[reduce(lambda x, y: x & y, conditions), 'buy'] = 1
    return dataframe

    
def populate_sell_trend(dataframe: pd.DataFrame) -> pd.DataFrame:
    """ Generate SELL Signals"""
    conditions = [
        qtpylib.crossed_below(dataframe['ema_15'], dataframe['ema_30']),
        dataframe['volume'] > 0,
    ]
            
    dataframe.loc[reduce(lambda x, y: x & y, conditions), 'sell'] = 1
    return dataframe


df = populate_sell_trend(populate_buy_trend(populate_indicators(df_load.copy())))
look_len = 70
len_buy, len_sell = len(df.loc[df["buy"] == 1]), len(df.loc[df["sell"] == 1])
print(f"Buy signals: {len_buy} | Sell signals: {len_sell}")
if len_buy == 0: raise Exception("Zero BUY signals")
if len_sell == 0: raise Exception("Zero SELL signals")
idx_buy, idx_sell = get_random_index(df, df["buy"] == 1), get_random_index(df, df["sell"] == 1)
print(f"Index BUY: {idx_buy} | Index SELL: {idx_sell}")
if random.randint(0, 1) == 0: 
    print("Showing SELL example")
    df_middle = get_middle(df, idx_sell, look_len)
else:
    print("Showing BUY example")
    df_middle = get_middle(df, idx_buy, look_len)

display_indicators = {
    "ema_15": 0,
    "ema_30": 0,
    "ema_200": 0,
    "rsi": 1,
}
plot(df_middle, display_indicators)


# Displays a OHLCV chart with indicators and buy / sell signals
