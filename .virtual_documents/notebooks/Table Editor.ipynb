get_ipython().run_line_magic("load_ext", " autoreload")
get_ipython().run_line_magic("autoreload", " 2")

from pathlib import Path
import matplotlib.pyplot as plt
import pandas as pd
import quantstats as qs
import os
import stackprinter

stackprinter.set_excepthook(style='darkbg2')  # for jupyter notebooks try style='lightbg'

if "freqtrade" not in os.listdir():
        os.chdir("..")
        import nest_asyncio
        nest_asyncio.apply()

from freqtrade.nbtools import remote_utils

qs.extend_pandas()
plt.style.use("seaborn")

path_mount = Path.cwd().parent / "mount"


# This Notebook is used to edit Table Metadata Columns
df: pd.DataFrame = remote_utils.cloud_get_presets_df()
df = df.drop(columns=["preset_type", "random_name"])


# Commit changes to the table. NOTE: Make sure you sync the code in preset.py after commit!
remote_utils.table_update(
    df, 
    remote_utils.constants.PROJECT_NAME_PRESETS, 
    remote_utils.constants.PRESETS_ARTIFACT_METADATA,
    remote_utils.constants.PRESETS_TABLEKEY_METADATA,
)


# Make sure the cloud table had changed. See your new column.
df = remote_utils.cloud_get_presets_df()
df.info()


df["profit_mean_abs"].head()






