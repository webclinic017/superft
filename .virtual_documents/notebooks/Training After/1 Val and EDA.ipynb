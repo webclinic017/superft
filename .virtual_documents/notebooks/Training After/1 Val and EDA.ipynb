# Create a strategy using the trained model
# Backtest using timerange TRAINVAL, and pairs of trained model
# Make sure the profit graph is upwards (ofc coz we BT'ed in train and val date)


get_ipython().run_line_magic("load_ext", " autoreload")
get_ipython().run_line_magic("autoreload", " 2")
get_ipython().run_line_magic("env", " WANDB_SILENT=true")

from pathlib import Path
from copy import deepcopy
import matplotlib.pyplot as plt
import pandas as pd
import quantstats as qs
import os
import logging
import sys
import nest_asyncio

nest_asyncio.apply()

while "freqtrade" not in os.listdir():
    os.chdir("..")
    if "freqtrade" in os.listdir():
        nest_asyncio.apply()
        logger = logging.getLogger("freqtrade.nbtools")
        handler = logging.StreamHandler(stream=sys.stdout)
        handler.setFormatter(logging.Formatter("%(name)s - %(message)s"))
        logger.addHandler(handler)
        logger.setLevel(logging.DEBUG)

# Freqtrade Imports
from freqtrade.optimize.optimize_reports import text_table_add_metrics
from freqtrade.nbtools.preset import ConfigPreset
from freqtrade.nbtools.backtest import backtest
from freqtrade.nbtools.remote_utils import load_lightning_container
from freqtrade.nbtools.helper import get_function_body
from freqtrade.nbtools import plotting, configs
from freqtrade.ml import lightning_utils

# Constants
PATH_MOUNT = Path.cwd().parent / "mount"

# Custom function
def string_templating(string: str, data: dict, strip_doublequotes=False):
    _string = deepcopy(string)
    """Replace [|key|] in string with data["key"] """
    for key, value in data.items():
        to_replace = "[|{}|]".format(key)
        if strip_doublequotes:
            to_replace = "\"[|{}|]\"".format(key)
        if to_replace not in string:
            raise Exception(f"Not found formatting with key '{key}'")
        _string = _string.replace(to_replace, str(value))
    return _string


# NOTE: Last run is for "5n20-catboosttest"

def strategy_func():
    """ Start Strategy Code """
    from freqtrade.nbtools.strategy import INbStrategy
    from freqtrade.nbtools.remote_utils import load_lightning_container
    from freqtrade.ml.container import LightningContainer
    from pandas import DataFrame
    import numpy as np  # noqa
    import pandas as pd  # noqa
    import talib.abstract as ta
    
    LIGHTNING_CONTAINER_NAME = "[|LIGHTNING_CONTAINER_NAME|]"
    lightning_container = load_lightning_container(LIGHTNING_CONTAINER_NAME, LIGHTNING_CONTAINER_NAME, version="latest")        
    
    
    class NotebookStrategy(INbStrategy):
        # These attributes are REQUIRED!
        timeframe = lightning_container.module.config.timeframe
        minimal_roi = {"0": 99}
        stoploss = -0.99
        startup_candle_count: int = 500
                    
        def populate_indicators(self, dataframe: DataFrame, metadata: dict) -> DataFrame:
            dataframe = lightning_container.predict(dataframe)
            return dataframe

        def populate_buy_trend(self, dataframe: DataFrame, metadata: dict) -> DataFrame:
            dataframe.loc[
                (
                    (dataframe['ml_2'] > 0.55) &
                    (dataframe['volume'] > 0)  # Make sure Volume is not 0
                ),
                'buy'] = 1
            return dataframe

        def populate_sell_trend(self, dataframe: DataFrame, metadata: dict) -> DataFrame:
            num_candles_forward: int = lightning_container.module.config.num_future_candles
            dataframe.loc[
                (
                    ( (dataframe['ml_0'] > 0.7) | (dataframe['buy'].shift(num_candles_forward) == 1) ) &
                    (dataframe['volume'] > 0)  # Make sure Volume is not 0
                ),
                'sell'] = 1
            return dataframe
    """ End Strategy Code """


PATH_LOCAL_DATADIR = PATH_MOUNT / "data"
LIGHTNING_CONTAINER_NAME = "5n20-catboosttest"

lightning_container = load_lightning_container(LIGHTNING_CONTAINER_NAME, LIGHTNING_CONTAINER_NAME, version="latest")
preset = ConfigPreset(
    name=LIGHTNING_CONTAINER_NAME,
    config_dict = configs.DEFAULT,
    path_data=PATH_LOCAL_DATADIR,
    timerange=lightning_utils.get_timerange_trainval(lightning_container)
)
preset.overwrite_config(pairs=lightning_container.module.config.pairs)

strategy_code = string_templating(
    get_function_body(strategy_func),
    data={"LIGHTNING_CONTAINER_NAME": LIGHTNING_CONTAINER_NAME}
)
stats, summary = backtest(preset, strategy_code)
trades = pd.DataFrame(stats["strategy"]["NotebookStrategy"]["trades"])


plotting.plot_profits_timerange(
    trades,
    timerange = preset.timerange,
    path_mount = PATH_MOUNT
)



