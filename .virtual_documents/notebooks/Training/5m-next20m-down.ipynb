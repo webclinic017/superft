from pathlib import Path

import os
import wandb
import nest_asyncio

nest_asyncio.apply()

while "freqtrade" not in os.listdir():
    os.chdir("..")

PATH_MOUNT = Path.cwd().parent / "mount"
PATH_DATA = PATH_MOUNT / "data"
BINANCE = PATH_DATA / "binance"


"""
Date <= Last 2 months: Train and Val (Shuffled val data)
Date <= Last month   : Strategy optimization
Last Month to Present: Unbiased backtesting
"""
TRAINVAL_START, TRAINVAL_END = "2021-01-01", "2021-05-15"
OPT_START, OPT_END           = "2021-05-16", "2021-06-15"
TEST_START, TEST_END         = "2021-06-16", "2021-07-15"

""" 
Configuration
"""
NAME = "5m-next20m-down"
TIMEFRAME = "5m"
DATASET = BINANCE.glob(f"*DOWN_USDT-{TIMEFRAME}.json")
COLUMNS_NOT_USE = []



