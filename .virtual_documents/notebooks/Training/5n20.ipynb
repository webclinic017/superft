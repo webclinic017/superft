get_ipython().run_line_magic("load_ext", " autoreload")
get_ipython().run_line_magic("autoreload", " 2")

from pathlib import Path
from typing import List

import os
import wandb
import nest_asyncio
import pandas as pd

nest_asyncio.apply()

while "freqtrade" not in os.listdir():
    os.chdir("..")

from freqtrade.nbtools.dataloader import load_dataset

PATH_MOUNT = Path.cwd().parent / "mount"
PATH_DATA = PATH_MOUNT / "data"
BINANCE = PATH_DATA / "binance"




        
train = TrainingConfiguration()
df_exp = load_dataset(DATASET, add_features, add_labels, TRAINVAL_START, TRAINVAL_END)





print("Dataframe Rows:", len(df_exp))
df_exp.head()


# Make sure float datatypes are float32 
df_exp.info()


display(df_exp.groupby(by=["ml_target"]).count()["date"])


def training_pipeline(run):
    """ After done exploring and correcting dataset, call this function."""
    
    # TODO: Split num of data equally to number of classes (if classification)
    # TODO: Neural Network prediction as a feature for Catboost
    # TODO: Add `Reinforcement Learning` layer below
    # -> https://github.com/THINK989/Real-Time-Stock-Market-Prediction-using-Ensemble-DL-and-Rainbow-DQN

    from catboost import CatBoostClassifier
    from sklearn.model_selection import train_test_split
    import gc
    
    # Save memory
    global df_exp
    del df_exp
    gc.collect()
    
    df_all = load_dataset(DATASET, FEATURE_FUNCTION, LABEL_FUNCTION, TRAINVAL_START, TRAINVAL_END)
    df_all = df_all.sample(frac=1).reset_index(drop=True)
    
    col_use = [col for col in df_all.columns if col not in COLUMNS_NOT_USE]
    
    X = df_all[col_use]
    y = df_all["ml_target"]
    
    X_train, X_val, y_train, y_val = train_test_split(X, y, test_size=0.2, random_state=1)



