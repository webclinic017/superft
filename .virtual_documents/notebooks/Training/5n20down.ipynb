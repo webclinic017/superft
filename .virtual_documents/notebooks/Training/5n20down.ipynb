get_ipython().run_line_magic("load_ext", " autoreload")
get_ipython().run_line_magic("autoreload", " 2")

from pathlib import Path

import os
import wandb
import nest_asyncio

nest_asyncio.apply()

while "freqtrade" not in os.listdir():
    os.chdir("..")
    
    
from freqtrade.nbtools.dataloader import load_dataset

PATH_MOUNT = Path.cwd().parent / "mount"
PATH_DATA = PATH_MOUNT / "data"
BINANCE = PATH_DATA / "binance"


""" 
Configuration
"""
NAME = "5m-next20m-down"
TIMEFRAME = "5m"
DATASET = BINANCE.glob(f"*DOWN_USDT-{TIMEFRAME}.json")
COLUMNS_NOT_USE = []

"""
Date <= Last 2 months: Train and Val (Shuffled val data)
Date <= Last month   : Strategy optimization
Last Month to Present: Unbiased backtesting
"""
TRAINVAL_START, TRAINVAL_END = "2021-01-01", "2021-05-15"
OPT_START, OPT_END           = "2021-05-16", "2021-06-15"
TEST_START, TEST_END         = "2021-06-16", "2021-07-15"


def FEATURE_FUNCTION(dataframe):
    import talib.abstract as ta
    import gc
    new_dataframe = dataframe.copy()
    
    del dataframe
    gc.collect()
    
    # Start adding features...
    new_dataframe["ma_5"] = new_dataframe["close"].rolling(5).mean()
    
    return new_dataframe


df_main = load_dataset(DATASET, FEATURE_FUNCTION, TRAINVAL_START, TRAINVAL_END)

# NOTE: THE *DOWN DATASET IS VERY MESSY WHEN REDENOMINATION! PLEASE DROP ABNORMAL CHANGES THEN IMPUTE.
# NOTE: THE *DOWN DATASET IS VERY MESSY WHEN REDENOMINATION! PLEASE DROP ABNORMAL CHANGES THEN IMPUTE.
# NOTE: THE *DOWN DATASET IS VERY MESSY WHEN REDENOMINATION! PLEASE DROP ABNORMAL CHANGES THEN IMPUTE.


print("Dataframe Rows:", len(df_main))
display(df_main.head())



