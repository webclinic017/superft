### Drop row


### Imputation (filling with mean)


### Imputation + is_missing category column
