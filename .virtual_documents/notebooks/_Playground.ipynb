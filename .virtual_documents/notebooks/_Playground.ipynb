delta = []


for _ in range(100000000):
    delta.append(10000000000000000)


len(delta)



