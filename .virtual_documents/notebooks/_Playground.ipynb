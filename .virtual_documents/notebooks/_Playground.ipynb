import pandas as pd
import qgrid


df = pd.DataFrame({
    "name": ["Lary", "Wilson", "Robert", "Martin", "Wilray"],
    "age": [15, 25, 17, 19, 29],
})
df


qgrid_widget = qgrid.show_grid(df)
qgrid_widget



