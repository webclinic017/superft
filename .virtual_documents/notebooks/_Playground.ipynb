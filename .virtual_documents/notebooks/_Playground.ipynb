import arrow

date = arrow.get(2021, 8, 1)
type(date.datetime)



