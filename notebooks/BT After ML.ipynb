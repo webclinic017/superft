{
 "cells": [
  {
   "cell_type": "markdown",
   "id": "0192a1a9-f48e-4ea2-9f64-c70f0215ea96",
   "metadata": {},
   "source": [
    "# Make Sure the ML Model Fitted Correctly"
   ]
  },
  {
   "cell_type": "code",
   "execution_count": 1,
   "id": "474577b4-b38b-4fea-897e-75182bb20af6",
   "metadata": {},
   "outputs": [],
   "source": [
    "# Create a strategy using the trained model\n",
    "# Backtest using timerange TRAINVAL, and pairs of trained model\n",
    "# Make sure the profit graph is upwards (ofc coz we BT'ed in train and val date)"
   ]
  },
  {
   "cell_type": "code",
   "execution_count": 1,
   "id": "264c5aa2-1e97-4a63-8b69-42e7021665c6",
   "metadata": {},
   "outputs": [
    {
     "name": "stdout",
     "output_type": "stream",
     "text": [
      "env: WANDB_SILENT=true\n",
      "freqtrade.nbtools.backtest - Initialized DataLoader with 5 max datas.\n"
     ]
    }
   ],
   "source": [
    "%load_ext autoreload\n",
    "%autoreload 2\n",
    "%env WANDB_SILENT=true\n",
    "\n",
    "from pathlib import Path\n",
    "from copy import deepcopy\n",
    "import matplotlib.pyplot as plt\n",
    "import pandas as pd\n",
    "import quantstats as qs\n",
    "import os\n",
    "import logging\n",
    "import sys\n",
    "import nest_asyncio\n",
    "\n",
    "nest_asyncio.apply()\n",
    "\n",
    "while \"freqtrade\" not in os.listdir():\n",
    "    os.chdir(\"..\")\n",
    "    if \"freqtrade\" in os.listdir():\n",
    "        nest_asyncio.apply()\n",
    "        logger = logging.getLogger(\"freqtrade.nbtools\")\n",
    "        handler = logging.StreamHandler(stream=sys.stdout)\n",
    "        handler.setFormatter(logging.Formatter(\"%(name)s - %(message)s\"))\n",
    "        logger.addHandler(handler)\n",
    "        logger.setLevel(logging.DEBUG)\n",
    "\n",
    "# Freqtrade Imports\n",
    "from freqtrade.optimize.optimize_reports import text_table_add_metrics\n",
    "from freqtrade.nbtools.preset import ConfigPreset\n",
    "from freqtrade.nbtools.backtest import backtest, DataLoader\n",
    "from freqtrade.nbtools.remote_utils import load_lightning_container\n",
    "from freqtrade.nbtools.helper import parse_function_body\n",
    "from freqtrade.nbtools import plotting, configs\n",
    "from freqtrade.ml import lightning_utils\n",
    "\n",
    "# Constants\n",
    "PATH_MOUNT = Path.cwd().parent / \"mount\"\n",
    "DATALOADER = DataLoader(max_n_datasets=5)\n",
    "\n",
    "# Custom function\n",
    "def string_templating(string: str, data: dict, strip_doublequotes=False):\n",
    "    _string = deepcopy(string)\n",
    "    \"\"\"Replace [|key|] in string with data[\"key\"] \"\"\"\n",
    "    for key, value in data.items():\n",
    "        to_replace = \"[|{}|]\".format(key)\n",
    "        if strip_doublequotes:\n",
    "            to_replace = \"\\\"[|{}|]\\\"\".format(key)\n",
    "        if to_replace not in string:\n",
    "            raise Exception(f\"Not found formatting with key '{key}'\")\n",
    "        _string = _string.replace(to_replace, str(value))\n",
    "    return _string\n",
    "\n",
    "\n",
    "def start_backtesting(strat_func, lightning_name: str, bt_type: str, version=\"latest\"):\n",
    "    PATH_LOCAL_DATADIR = PATH_MOUNT / \"data\"\n",
    "    LIGHTNING_CONTAINER_NAME = lightning_name\n",
    "\n",
    "    lightning_container = load_lightning_container(LIGHTNING_CONTAINER_NAME, LIGHTNING_CONTAINER_NAME, version=version)\n",
    "    \n",
    "    if bt_type == \"val\":\n",
    "        timerange = lightning_utils.get_timerange_trainval(lightning_container)\n",
    "    elif bt_type == \"opt\":\n",
    "        timerange = lightning_utils.get_timerange_opt(lightning_container)\n",
    "    elif bt_type == \"test\":\n",
    "        timerange = lightning_utils.get_timerange_test(lightning_container)\n",
    "    else:\n",
    "        raise Exception(f\"Unknown BT type: {bt_type}\")\n",
    "    \n",
    "    preset = ConfigPreset(\n",
    "        name=f\"ml_{bt_type}_{LIGHTNING_CONTAINER_NAME}\",\n",
    "        config_dict = configs.DEFAULT,\n",
    "        path_data=PATH_LOCAL_DATADIR,\n",
    "        timerange=timerange\n",
    "    )\n",
    "    preset.overwrite_config(pairs=lightning_container.config.pairs)\n",
    "\n",
    "    strategy_code = string_templating(\n",
    "        parse_function_body(strat_func),\n",
    "        data={\"LIGHTNING_CONTAINER_NAME\": LIGHTNING_CONTAINER_NAME}\n",
    "    )\n",
    "    stats, summary = backtest(preset, strategy_code, dataloader=DATALOADER)\n",
    "    return stats, summary, preset"
   ]
  },
  {
   "cell_type": "markdown",
   "id": "dbeacc45-8a1d-43b7-a0b0-d7436de9446c",
   "metadata": {},
   "source": [
    "# Model Validation"
   ]
  },
  {
   "cell_type": "code",
   "execution_count": 16,
   "id": "ebd48eae-5c96-4a2a-bcc0-07c5a6d9591c",
   "metadata": {},
   "outputs": [],
   "source": [
    "\"\"\"\n",
    "This strategy will backtested in Train and Validation date.\n",
    "To make sure the model was fitted correctly, you need to know that you model is predicting accurately in this date.\n",
    "Create the strategy that BUYS when the ML Model predicts the future is going to UP, and do the same for the sell.\n",
    "The strategy doesn't need to be trend following, but the final backtest results must profitable steadily.\n",
    "\n",
    "NOTE! Please indent the hashtag when commenting!\n",
    "NOTE! Please indent the hashtag when commenting!\n",
    "NOTE! Please indent the hashtag when commenting!\n",
    "\"\"\"\n",
    "\n",
    "def val_strategy():\n",
    "    \"\"\" Start Strategy Code \"\"\"\n",
    "    from freqtrade.nbtools.strategy import INbStrategy\n",
    "    from freqtrade.nbtools.remote_utils import load_lightning_container\n",
    "    from freqtrade.ml.container import LightningContainer\n",
    "    from pandas import DataFrame\n",
    "    from functools import reduce\n",
    "    import numpy as np  # noqa\n",
    "    import pandas as pd  # noqa\n",
    "    import talib.abstract as ta\n",
    "    \n",
    "    LIGHTNING_CONTAINER_NAME = \"[|LIGHTNING_CONTAINER_NAME|]\"\n",
    "    lightning_container = load_lightning_container(LIGHTNING_CONTAINER_NAME, LIGHTNING_CONTAINER_NAME, version=\"latest\")        \n",
    "    \n",
    "    class NotebookStrategy(INbStrategy):\n",
    "        # These attributes are REQUIRED!\n",
    "        timeframe = lightning_container.config.timeframe\n",
    "        minimal_roi = {\"0\": 99}\n",
    "        stoploss = -0.99\n",
    "        startup_candle_count: int = 500\n",
    "                    \n",
    "        def populate_indicators(self, dataframe: DataFrame, metadata: dict) -> DataFrame:\n",
    "            num_classes = 5\n",
    "            dataframe = lightning_container.predict(dataframe)\n",
    "            dataframe[\"argmax_ml\"] = dataframe[[f\"ml_{x}\"for x in range(num_classes)]].idxmax(axis=1)\n",
    "            return dataframe\n",
    "\n",
    "        def populate_buy_trend(self, dataframe: DataFrame, metadata: dict) -> DataFrame:\n",
    "            conditions = [\n",
    "                dataframe[\"argmax_ml\"] == \"ml_4\",\n",
    "                dataframe['volume'] > 0,\n",
    "            ]\n",
    "            \n",
    "            dataframe.loc[reduce(lambda x, y: x & y, conditions), 'buy'] = 1\n",
    "                        \n",
    "            return dataframe\n",
    "\n",
    "        def populate_sell_trend(self, dataframe: DataFrame, metadata: dict) -> DataFrame:\n",
    "            num_candles_forward = lightning_container.config.num_future_candles\n",
    "            conditions = [\n",
    "                dataframe['buy'].shift(num_candles_forward) == 1,\n",
    "                dataframe['volume'] > 0,\n",
    "            ]\n",
    "            \n",
    "            dataframe.loc[reduce(lambda x, y: x & y, conditions), 'sell'] = 1\n",
    "            \n",
    "            self.print_once(dataframe.info(), \"info_df\")\n",
    "            self.print_once(dataframe.describe(), \"describe_df\")\n",
    "            self.print_once(dataframe, \"populate_buy_sell\")\n",
    "            \n",
    "            return dataframe\n",
    "    \"\"\" End Strategy Code \"\"\""
   ]
  },
  {
   "cell_type": "code",
   "execution_count": 17,
   "id": "c1776583-d2ed-4ed9-8394-93a7fb8b2c92",
   "metadata": {},
   "outputs": [
    {
     "name": "stdout",
     "output_type": "stream",
     "text": [
      "freqtrade.nbtools.remote_utils - Load LightningContainer version 'latest' of project: '15n30-catboost_intentional' - asset_name: '15n30-catboost_intentional'.\n",
      "freqtrade.nbtools.remote_utils - WARNING: You are using the LATEST version of LightningContainer asset!\n",
      "freqtrade.nbtools.preset.base_preset - Overwriting pairs (from 0 to 5 pairs)\n",
      "freqtrade.nbtools.preset.base_preset - Overwriting pairs (from 0 to 5 pairs)\n",
      "freqtrade.nbtools.preset.base_preset - Setting config for 15n30-catboost_intentional ...\n",
      "freqtrade.nbtools.preset.base_preset - Setting arg `datadir` to C:\\CS\\Python\\crypto-collection\\freqtrade\\mount\\data\\binance\n",
      "freqtrade.nbtools.preset.base_preset - Setting arg `timerange` to 20160821-20210620\n",
      "freqtrade.nbtools.remote_utils - Load LightningContainer version 'latest' of project: '15n30-catboost_intentional' - asset_name: '15n30-catboost_intentional'.\n",
      "freqtrade.nbtools.remote_utils - WARNING: You are using the LATEST version of LightningContainer asset!\n",
      "freqtrade.nbtools.helper - Strategy using minimal_roi: {'0': 99}\n",
      "freqtrade.nbtools.helper - Strategy using timeframe: 15m\n",
      "freqtrade.nbtools.helper - Strategy using stoploss: -0.99\n",
      "freqtrade.nbtools.helper - Strategy using trailing_stop: False\n",
      "freqtrade.nbtools.helper - Strategy using trailing_stop_positive_offset: 0.0\n",
      "freqtrade.nbtools.helper - Strategy using trailing_only_offset_is_reached: False\n",
      "freqtrade.nbtools.helper - Strategy using use_custom_stoploss: False\n",
      "freqtrade.nbtools.helper - Strategy using process_only_new_candles: False\n",
      "freqtrade.nbtools.helper - Strategy using order_types: {'buy': 'limit', 'sell': 'limit', 'forcesell': 'market', 'emergencysell': 'market', 'stoploss': 'market', 'stoploss_on_exchange': False, 'stoploss_on_exchange_interval': 60}\n",
      "freqtrade.nbtools.helper - Strategy using order_time_in_force: {'buy': 'gtc', 'sell': 'gtc'}\n",
      "freqtrade.nbtools.helper - Strategy using stake_currency: USDT\n",
      "freqtrade.nbtools.helper - Strategy using stake_amount: 15\n",
      "freqtrade.nbtools.helper - Strategy using protections: []\n",
      "freqtrade.nbtools.helper - Strategy using startup_candle_count: 500\n",
      "freqtrade.nbtools.helper - Strategy using unfilledtimeout: {'buy': 300, 'sell': 60, 'unit': 'seconds'}\n",
      "freqtrade.nbtools.helper - Strategy using use_sell_signal: True\n",
      "freqtrade.nbtools.helper - Strategy using sell_profit_only: False\n",
      "freqtrade.nbtools.helper - Strategy using ignore_roi_if_buy_signal: True\n",
      "freqtrade.nbtools.helper - Strategy using sell_profit_offset: 0.0\n",
      "freqtrade.nbtools.helper - Strategy using disable_dataframe_checks: False\n",
      "freqtrade.nbtools.helper - Strategy using ignore_buying_expired_candle_after: 0\n",
      "freqtrade.nbtools.backtest - Backtesting...\n",
      "freqtrade.nbtools.backtest - DATALOADER: Dataset with hash `-6125590848542168313` exists in cache!\n",
      "freqtrade.nbtools.helper - \"Load BT Data\" executed in 0.01s\n",
      "freqtrade.nbtools.backtest - Loading data from 2017-08-17 04:00:00 up to 2021-06-20 00:00:00 (1402 days).\n",
      "freqtrade.nbtools.backtest - Dataload complete. Calculating indicators\n"
     ]
    },
    {
     "data": {
      "application/vnd.jupyter.widget-view+json": {
       "model_id": "efa7fb60847c450a97433109ce0c1bf1",
       "version_major": 2,
       "version_minor": 0
      },
      "text/plain": [
       "Populating Indicators:   0%|          | 0/4 [00:00<?, ?it/s]"
      ]
     },
     "metadata": {},
     "output_type": "display_data"
    },
    {
     "name": "stdout",
     "output_type": "stream",
     "text": [
      "<class 'pandas.core.frame.DataFrame'>\n",
      "Int64Index: 110845 entries, 500 to 111344\n",
      "Data columns (total 14 columns):\n",
      " #   Column     Non-Null Count   Dtype              \n",
      "---  ------     --------------   -----              \n",
      " 0   date       110845 non-null  datetime64[ns, UTC]\n",
      " 1   open       110845 non-null  float64            \n",
      " 2   high       110845 non-null  float64            \n",
      " 3   low        110845 non-null  float64            \n",
      " 4   close      110845 non-null  float64            \n",
      " 5   volume     110845 non-null  float64            \n",
      " 6   ml_0       110843 non-null  float64            \n",
      " 7   ml_1       110843 non-null  float64            \n",
      " 8   ml_2       110843 non-null  float64            \n",
      " 9   ml_3       110843 non-null  float64            \n",
      " 10  ml_4       110843 non-null  float64            \n",
      " 11  argmax_ml  110843 non-null  object             \n",
      " 12  buy        110845 non-null  int64              \n",
      " 13  sell       110845 non-null  int64              \n",
      "dtypes: datetime64[ns, UTC](1), float64(10), int64(2), object(1)\n",
      "memory usage: 12.7+ MB\n",
      "None\n",
      "                open           high            low          close  \\\n",
      "count  110845.000000  110845.000000  110845.000000  110845.000000   \n",
      "mean        0.235766       0.237087       0.234388       0.235774   \n",
      "std         0.412019       0.414709       0.409211       0.412034   \n",
      "min         0.018540       0.019140       0.017650       0.018500   \n",
      "25%         0.045850       0.045970       0.045690       0.045840   \n",
      "50%         0.081540       0.081800       0.081240       0.081530   \n",
      "75%         0.144200       0.144730       0.143700       0.144180   \n",
      "max         2.461200       2.470000       2.422000       2.461400   \n",
      "\n",
      "             volume           ml_0           ml_1           ml_2  \\\n",
      "count  1.108450e+05  110843.000000  110843.000000  110843.000000   \n",
      "mean   3.159472e+06       0.206797       0.197761       0.192247   \n",
      "std    4.756527e+06       0.070792       0.060023       0.058905   \n",
      "min    0.000000e+00       0.163365       0.163365       0.163498   \n",
      "25%    8.197486e+05       0.163499       0.163523       0.163523   \n",
      "50%    1.673410e+06       0.164045       0.169008       0.168023   \n",
      "75%    3.598726e+06       0.183185       0.180250       0.172315   \n",
      "max    1.418738e+08       0.334792       0.326990       0.336713   \n",
      "\n",
      "                ml_3           ml_4            buy           sell  \n",
      "count  110843.000000  110843.000000  110845.000000  110845.000000  \n",
      "mean        0.196686       0.206509       0.240146       0.240110  \n",
      "std         0.059816       0.070738       0.427174       0.427152  \n",
      "min         0.163511       0.163455       0.000000       0.000000  \n",
      "25%         0.163577       0.163555       0.000000       0.000000  \n",
      "50%         0.167368       0.163918       0.000000       0.000000  \n",
      "75%         0.175864       0.200281       0.000000       0.000000  \n",
      "max         0.331003       0.335738       1.000000       1.000000  \n",
      "                            date     open     high      low    close  \\\n",
      "500    2018-04-22 09:00:00+00:00  0.29146  0.29300  0.29000  0.29036   \n",
      "501    2018-04-22 09:15:00+00:00  0.29036  0.29037  0.28779  0.28876   \n",
      "502    2018-04-22 09:30:00+00:00  0.28878  0.28956  0.28746  0.28746   \n",
      "503    2018-04-22 09:45:00+00:00  0.28780  0.29000  0.28780  0.28970   \n",
      "504    2018-04-22 10:00:00+00:00  0.28988  0.29100  0.28970  0.29019   \n",
      "...                          ...      ...      ...      ...      ...   \n",
      "111340 2021-06-19 23:00:00+00:00  1.39210  1.39560  1.38830  1.39440   \n",
      "111341 2021-06-19 23:15:00+00:00  1.39440  1.40250  1.39310  1.39580   \n",
      "111342 2021-06-19 23:30:00+00:00  1.39590  1.39590  1.38630  1.38780   \n",
      "111343 2021-06-19 23:45:00+00:00  1.38780  1.39230  1.38340  1.38390   \n",
      "111344 2021-06-20 00:00:00+00:00  1.38400  1.39150  1.37600  1.38300   \n",
      "\n",
      "            volume      ml_0      ml_1      ml_2      ml_3      ml_4  \\\n",
      "500     1013181.89  0.334792  0.174676  0.163510  0.163511  0.163511   \n",
      "501      894210.88  0.164017  0.164017  0.168704  0.311879  0.191384   \n",
      "502      478325.18  0.163499  0.163499  0.163498  0.173767  0.335738   \n",
      "503      405004.47  0.163523  0.163523  0.163523  0.174000  0.335431   \n",
      "504      299952.85  0.163523  0.163523  0.163523  0.174000  0.335431   \n",
      "...            ...       ...       ...       ...       ...       ...   \n",
      "111340  1056152.94  0.321188  0.186917  0.163965  0.163965  0.163965   \n",
      "111341  1701482.75  0.334792  0.174676  0.163510  0.163511  0.163511   \n",
      "111342  1257458.36  0.181245  0.320543  0.170714  0.163749  0.163750   \n",
      "111343  1421241.39       NaN       NaN       NaN       NaN       NaN   \n",
      "111344  4344697.70       NaN       NaN       NaN       NaN       NaN   \n",
      "\n",
      "       argmax_ml  buy  sell  \n",
      "500         ml_0    0     0  \n",
      "501         ml_3    0     0  \n",
      "502         ml_4    1     0  \n",
      "503         ml_4    1     0  \n",
      "504         ml_4    1     1  \n",
      "...          ...  ...   ...  \n",
      "111340      ml_0    0     0  \n",
      "111341      ml_0    0     0  \n",
      "111342      ml_1    0     0  \n",
      "111343       NaN    0     0  \n",
      "111344       NaN    0     0  \n",
      "\n",
      "[110845 rows x 14 columns]\n",
      "<class 'pandas.core.frame.DataFrame'>\n",
      "Int64Index: 134173 entries, 500 to 134672\n",
      "Data columns (total 14 columns):\n",
      " #   Column     Non-Null Count   Dtype              \n",
      "---  ------     --------------   -----              \n",
      " 0   date       134173 non-null  datetime64[ns, UTC]\n",
      " 1   open       134173 non-null  float64            \n",
      " 2   high       134173 non-null  float64            \n",
      " 3   low        134173 non-null  float64            \n",
      " 4   close      134173 non-null  float64            \n",
      " 5   volume     134173 non-null  float64            \n",
      " 6   ml_0       134171 non-null  float64            \n",
      " 7   ml_1       134171 non-null  float64            \n",
      " 8   ml_2       134171 non-null  float64            \n",
      " 9   ml_3       134171 non-null  float64            \n",
      " 10  ml_4       134171 non-null  float64            \n",
      " 11  argmax_ml  134171 non-null  object             \n",
      " 12  buy        134173 non-null  int64              \n",
      " 13  sell       134173 non-null  int64              \n",
      "dtypes: datetime64[ns, UTC](1), float64(10), int64(2), object(1)\n",
      "memory usage: 15.4+ MB\n",
      "<class 'pandas.core.frame.DataFrame'>\n",
      "Int64Index: 28785 entries, 500 to 29284\n",
      "Data columns (total 14 columns):\n",
      " #   Column     Non-Null Count  Dtype              \n",
      "---  ------     --------------  -----              \n",
      " 0   date       28785 non-null  datetime64[ns, UTC]\n",
      " 1   open       28785 non-null  float64            \n",
      " 2   high       28785 non-null  float64            \n",
      " 3   low        28785 non-null  float64            \n",
      " 4   close      28785 non-null  float64            \n",
      " 5   volume     28785 non-null  float64            \n",
      " 6   ml_0       28783 non-null  float64            \n",
      " 7   ml_1       28783 non-null  float64            \n",
      " 8   ml_2       28783 non-null  float64            \n",
      " 9   ml_3       28783 non-null  float64            \n",
      " 10  ml_4       28783 non-null  float64            \n",
      " 11  argmax_ml  28783 non-null  object             \n",
      " 12  buy        28785 non-null  int64              \n",
      " 13  sell       28785 non-null  int64              \n",
      "dtypes: datetime64[ns, UTC](1), float64(10), int64(2), object(1)\n",
      "memory usage: 3.3+ MB\n",
      "<class 'pandas.core.frame.DataFrame'>\n",
      "Int64Index: 109197 entries, 500 to 109696\n",
      "Data columns (total 14 columns):\n",
      " #   Column     Non-Null Count   Dtype              \n",
      "---  ------     --------------   -----              \n",
      " 0   date       109197 non-null  datetime64[ns, UTC]\n",
      " 1   open       109197 non-null  float64            \n",
      " 2   high       109197 non-null  float64            \n",
      " 3   low        109197 non-null  float64            \n",
      " 4   close      109197 non-null  float64            \n",
      " 5   volume     109197 non-null  float64            \n",
      " 6   ml_0       109195 non-null  float64            \n",
      " 7   ml_1       109195 non-null  float64            \n",
      " 8   ml_2       109195 non-null  float64            \n",
      " 9   ml_3       109195 non-null  float64            \n",
      " 10  ml_4       109195 non-null  float64            \n",
      " 11  argmax_ml  109195 non-null  object             \n",
      " 12  buy        109197 non-null  int64              \n",
      " 13  sell       109197 non-null  int64              \n",
      "dtypes: datetime64[ns, UTC](1), float64(10), int64(2), object(1)\n",
      "memory usage: 12.5+ MB\n",
      "freqtrade.nbtools.helper - \"Backtest\" executed in 14.31s\n",
      "freqtrade.nbtools.backtest - Logging preset...\n",
      "freqtrade.nbtools.backtest - [LOG PRESET OFFLINE SUCCESS]\n",
      "freqtrade.nbtools.backtest - Sync preset with name: 15n30-catboost_intentional__backtest-2021-09-01_19-28-14\n",
      "freqtrade.nbtools.backtest - with random name: friendly-kazuya-mask\n",
      "freqtrade.nbtools.backtest - [WANDB LOG PRESET CONTINUES IN BACKGROUND]\n",
      "freqtrade.nbtools.helper - \"Whole Backtesting Process (Backtest + Log)\" executed in 47.07s\n"
     ]
    },
    {
     "data": {
      "image/png": "[encoded data removed]",
      "text/plain": [
       "<Figure size 1296x360 with 2 Axes>"
      ]
     },
     "metadata": {},
     "output_type": "display_data"
    },
    {
     "data": {
      "image/png": "[encoded data removed]",
      "text/plain": [
       "<Figure size 1296x288 with 2 Axes>"
      ]
     },
     "metadata": {
      "needs_background": "light"
     },
     "output_type": "display_data"
    },
    {
     "data": {
      "text/html": [
       "<div>\n",
       "<style scoped>\n",
       "    .dataframe tbody tr th:only-of-type {\n",
       "        vertical-align: middle;\n",
       "    }\n",
       "\n",
       "    .dataframe tbody tr th {\n",
       "        vertical-align: top;\n",
       "    }\n",
       "\n",
       "    .dataframe thead th {\n",
       "        text-align: right;\n",
       "    }\n",
       "</style>\n",
       "<table border=\"1\" class=\"dataframe\">\n",
       "  <thead>\n",
       "    <tr style=\"text-align: right;\">\n",
       "      <th></th>\n",
       "      <th>Portfolio Summary</th>\n",
       "    </tr>\n",
       "  </thead>\n",
       "  <tbody>\n",
       "    <tr>\n",
       "      <th>Trades</th>\n",
       "      <td>37786</td>\n",
       "    </tr>\n",
       "    <tr>\n",
       "      <th>Min Balance</th>\n",
       "      <td>0.047825</td>\n",
       "    </tr>\n",
       "    <tr>\n",
       "      <th>Max Balance</th>\n",
       "      <td>5871.769343</td>\n",
       "    </tr>\n",
       "    <tr>\n",
       "      <th>Final Balance</th>\n",
       "      <td>5871.769343</td>\n",
       "    </tr>\n",
       "    <tr>\n",
       "      <th>Avg. Return (%)</th>\n",
       "      <td>1.034934</td>\n",
       "    </tr>\n",
       "    <tr>\n",
       "      <th>Avg. Return ($)</th>\n",
       "      <td>0.155395</td>\n",
       "    </tr>\n",
       "    <tr>\n",
       "      <th>Avg. Trade Duration (h)</th>\n",
       "      <td>0 days 00:36:16.067855819</td>\n",
       "    </tr>\n",
       "  </tbody>\n",
       "</table>\n",
       "</div>"
      ],
      "text/plain": [
       "                                 Portfolio Summary\n",
       "Trades                                       37786\n",
       "Min Balance                               0.047825\n",
       "Max Balance                            5871.769343\n",
       "Final Balance                          5871.769343\n",
       "Avg. Return (%)                           1.034934\n",
       "Avg. Return ($)                           0.155395\n",
       "Avg. Trade Duration (h)  0 days 00:36:16.067855819"
      ]
     },
     "execution_count": 17,
     "metadata": {},
     "output_type": "execute_result"
    },
    {
     "name": "stdout",
     "output_type": "stream",
     "text": [
      "freqtrade.nbtools.remote_utils - Adding new row to table...\n",
      "freqtrade.nbtools.remote_utils - Columns are not identical.\n",
      "freqtrade.nbtools.remote_utils - New columns    : []\n",
      "freqtrade.nbtools.remote_utils - Removed columns: ['pairlist', 'daily_profit']\n",
      "freqtrade.nbtools.remote_utils - Inserting 'None' to removed columns\n",
      "freqtrade.nbtools.backtest - ===============================\n",
      "freqtrade.nbtools.backtest - |  '15n30-catboost_intentional__backtest-2021-09-01_19-28-14'\n",
      "freqtrade.nbtools.backtest - |  WANDB LOG PRESET FINISHED  \n",
      "freqtrade.nbtools.backtest - ===============================\n"
     ]
    }
   ],
   "source": [
    "MODEL_NAME = \"15n30-catboost_intentional\"\n",
    "MODEL_VER = \"latest\"\n",
    "\n",
    "stats, summary, preset = start_backtesting(val_strategy, MODEL_NAME, \"val\", version=MODEL_VER)\n",
    "trades = pd.DataFrame(stats[\"strategy\"][\"NotebookStrategy\"][\"trades\"])\n",
    "plotting.plot_profits_timerange(trades, timerange=preset.timerange, path_mount=PATH_MOUNT)"
   ]
  },
  {
   "cell_type": "markdown",
   "id": "787a7978-8fcc-478f-8efd-56393223e4b2",
   "metadata": {},
   "source": [
    "# Model x Strategy Optimization"
   ]
  },
  {
   "cell_type": "code",
   "execution_count": 18,
   "id": "ca740cf9-7ced-4743-ba79-83076561660f",
   "metadata": {},
   "outputs": [],
   "source": [
    "\"\"\" \n",
    "In this phase, tinker your strategy until you get the \"Sweet Spot\"!\n",
    "\"\"\"\n",
    "\n",
    "def opt_strategy():\n",
    "    \"\"\" Start Strategy Code \"\"\"\n",
    "    from freqtrade.nbtools.strategy import INbStrategy\n",
    "    from freqtrade.nbtools.remote_utils import load_lightning_container\n",
    "    from freqtrade.ml.container import LightningContainer\n",
    "    from pandas import DataFrame\n",
    "    from functools import reduce\n",
    "    import numpy as np  # noqa\n",
    "    import pandas as pd  # noqa\n",
    "    import talib.abstract as ta\n",
    "    \n",
    "    LIGHTNING_CONTAINER_NAME = \"[|LIGHTNING_CONTAINER_NAME|]\"\n",
    "    lightning_container = load_lightning_container(LIGHTNING_CONTAINER_NAME, LIGHTNING_CONTAINER_NAME, version=\"latest\")        \n",
    "    \n",
    "    \n",
    "    class NotebookStrategy(INbStrategy):\n",
    "        # These attributes are REQUIRED!\n",
    "        timeframe = lightning_container.config.timeframe\n",
    "        minimal_roi = {\"0\": 99}\n",
    "        stoploss = -0.99\n",
    "        startup_candle_count: int = 500\n",
    "                    \n",
    "        def populate_indicators(self, dataframe: DataFrame, metadata: dict) -> DataFrame:\n",
    "            dataframe[\"ema\"] = ta.EMA(dataframe, timeperiod=200)\n",
    "            dataframe = lightning_container.predict(dataframe)\n",
    "            \n",
    "            num_classes = 5\n",
    "            dataframe[\"argmax_ml\"] = dataframe[[f\"ml_{x}\"for x in range(num_classes)]].idxmax(axis=1)\n",
    "            return dataframe\n",
    "\n",
    "        def populate_buy_trend(self, dataframe: DataFrame, metadata: dict) -> DataFrame:\n",
    "            conditions = [\n",
    "                dataframe['close'] > dataframe['ema'],\n",
    "                dataframe['argmax_ml'] == \"ml_4\",\n",
    "                # dataframe['ml_4'] > 0.5,\n",
    "                dataframe['volume'] > 0,\n",
    "            ]\n",
    "            \n",
    "            dataframe.loc[reduce(lambda x, y: x & y, conditions), 'buy'] = 1\n",
    "            return dataframe\n",
    "\n",
    "        def populate_sell_trend(self, dataframe: DataFrame, metadata: dict) -> DataFrame:\n",
    "            num_candles_forward = lightning_container.config.num_future_candles\n",
    "            conditions = [\n",
    "                dataframe['buy'].shift(num_candles_forward) == 1,\n",
    "                dataframe['volume'] > 0,\n",
    "            ]\n",
    "            \n",
    "            dataframe.loc[reduce(lambda x, y: x & y, conditions), 'sell'] = 1\n",
    "            return dataframe\n",
    "    \"\"\" End Strategy Code \"\"\""
   ]
  },
  {
   "cell_type": "code",
   "execution_count": 19,
   "id": "07478fdd-20fb-4946-abf4-df7ccc72a28d",
   "metadata": {},
   "outputs": [
    {
     "name": "stdout",
     "output_type": "stream",
     "text": [
      "freqtrade.nbtools.remote_utils - Load LightningContainer version 'latest' of project: '15n30-catboost_intentional' - asset_name: '15n30-catboost_intentional'.\n",
      "freqtrade.nbtools.remote_utils - WARNING: You are using the LATEST version of LightningContainer asset!\n",
      "freqtrade.nbtools.preset.base_preset - Overwriting pairs (from 0 to 5 pairs)\n",
      "freqtrade.nbtools.preset.base_preset - Overwriting pairs (from 0 to 5 pairs)\n",
      "freqtrade.nbtools.preset.base_preset - Setting config for 15n30-catboost_intentional ...\n",
      "freqtrade.nbtools.preset.base_preset - Setting arg `datadir` to C:\\CS\\Python\\crypto-collection\\freqtrade\\mount\\data\\binance\n",
      "freqtrade.nbtools.preset.base_preset - Setting arg `timerange` to 20210621-20210720\n",
      "freqtrade.nbtools.remote_utils - Load LightningContainer version 'latest' of project: '15n30-catboost_intentional' - asset_name: '15n30-catboost_intentional'.\n",
      "freqtrade.nbtools.remote_utils - WARNING: You are using the LATEST version of LightningContainer asset!\n",
      "freqtrade.nbtools.helper - Strategy using minimal_roi: {'0': 99}\n",
      "freqtrade.nbtools.helper - Strategy using timeframe: 15m\n",
      "freqtrade.nbtools.helper - Strategy using stoploss: -0.99\n",
      "freqtrade.nbtools.helper - Strategy using trailing_stop: False\n",
      "freqtrade.nbtools.helper - Strategy using trailing_stop_positive_offset: 0.0\n",
      "freqtrade.nbtools.helper - Strategy using trailing_only_offset_is_reached: False\n",
      "freqtrade.nbtools.helper - Strategy using use_custom_stoploss: False\n",
      "freqtrade.nbtools.helper - Strategy using process_only_new_candles: False\n",
      "freqtrade.nbtools.helper - Strategy using order_types: {'buy': 'limit', 'sell': 'limit', 'forcesell': 'market', 'emergencysell': 'market', 'stoploss': 'market', 'stoploss_on_exchange': False, 'stoploss_on_exchange_interval': 60}\n",
      "freqtrade.nbtools.helper - Strategy using order_time_in_force: {'buy': 'gtc', 'sell': 'gtc'}\n",
      "freqtrade.nbtools.helper - Strategy using stake_currency: USDT\n",
      "freqtrade.nbtools.helper - Strategy using stake_amount: 15\n",
      "freqtrade.nbtools.helper - Strategy using protections: []\n",
      "freqtrade.nbtools.helper - Strategy using startup_candle_count: 500\n",
      "freqtrade.nbtools.helper - Strategy using unfilledtimeout: {'buy': 300, 'sell': 60, 'unit': 'seconds'}\n",
      "freqtrade.nbtools.helper - Strategy using use_sell_signal: True\n",
      "freqtrade.nbtools.helper - Strategy using sell_profit_only: False\n",
      "freqtrade.nbtools.helper - Strategy using ignore_roi_if_buy_signal: True\n",
      "freqtrade.nbtools.helper - Strategy using sell_profit_offset: 0.0\n",
      "freqtrade.nbtools.helper - Strategy using disable_dataframe_checks: False\n",
      "freqtrade.nbtools.helper - Strategy using ignore_buying_expired_candle_after: 0\n",
      "freqtrade.nbtools.backtest - Backtesting...\n",
      "freqtrade.nbtools.backtest - DATALOADER: Dataset with hash `-9050680587688177281` doesn't exist. Loading from disk...\n",
      "freqtrade.nbtools.helper - \"Load BT Data\" executed in 1.13s\n",
      "freqtrade.nbtools.backtest - Loading data from 2021-06-10 14:00:00 up to 2021-07-20 00:00:00 (39 days).\n",
      "freqtrade.nbtools.backtest - Dataload complete. Calculating indicators\n"
     ]
    },
    {
     "data": {
      "application/vnd.jupyter.widget-view+json": {
       "model_id": "5789919f098a4f3ea455c10afa36a9d7",
       "version_major": 2,
       "version_minor": 0
      },
      "text/plain": [
       "Populating Indicators:   0%|          | 0/4 [00:00<?, ?it/s]"
      ]
     },
     "metadata": {},
     "output_type": "display_data"
    },
    {
     "name": "stdout",
     "output_type": "stream",
     "text": [
      "freqtrade.nbtools.helper - \"Backtest\" executed in 1.45s\n",
      "freqtrade.nbtools.backtest - Logging preset...\n",
      "freqtrade.nbtools.backtest - [LOG PRESET OFFLINE SUCCESS]\n",
      "freqtrade.nbtools.backtest - Sync preset with name: 15n30-catboost_intentional__backtest-2021-09-01_19-34-19\n",
      "freqtrade.nbtools.backtest - with random name: destroyed-batman-charger\n",
      "freqtrade.nbtools.backtest - [WANDB LOG PRESET CONTINUES IN BACKGROUND]\n",
      "freqtrade.nbtools.helper - \"Whole Backtesting Process (Backtest + Log)\" executed in 27.55s\n"
     ]
    },
    {
     "name": "stderr",
     "output_type": "stream",
     "text": [
      "C:\\CS\\Python\\crypto-collection\\freqtrade\\superft\\freqtrade\\nbtools\\backtest.py:392: RuntimeWarning: divide by zero encountered in double_scalars\n",
      "  \"profit_per_drawdown\": trades_summary[\"profit_total_abs\"] / abs(trades_summary[\"max_drawdown_abs\"]),\n",
      "C:\\CS\\Python\\crypto-collection\\freqtrade\\superft\\freqtrade\\nbtools\\backtest.py:397: RuntimeWarning: divide by zero encountered in double_scalars\n",
      "  \"profit_factor\": metadata[\"sum_profit_winners_abs\"] / abs(metadata[\"sum_profit_losers_abs\"]),\n"
     ]
    },
    {
     "data": {
      "image/png": "[encoded data removed]",
      "text/plain": [
       "<Figure size 1296x360 with 2 Axes>"
      ]
     },
     "metadata": {},
     "output_type": "display_data"
    },
    {
     "data": {
      "image/png": "[encoded data removed]",
      "text/plain": [
       "<Figure size 1296x288 with 2 Axes>"
      ]
     },
     "metadata": {
      "needs_background": "light"
     },
     "output_type": "display_data"
    },
    {
     "data": {
      "text/html": [
       "<div>\n",
       "<style scoped>\n",
       "    .dataframe tbody tr th:only-of-type {\n",
       "        vertical-align: middle;\n",
       "    }\n",
       "\n",
       "    .dataframe tbody tr th {\n",
       "        vertical-align: top;\n",
       "    }\n",
       "\n",
       "    .dataframe thead th {\n",
       "        text-align: right;\n",
       "    }\n",
       "</style>\n",
       "<table border=\"1\" class=\"dataframe\">\n",
       "  <thead>\n",
       "    <tr style=\"text-align: right;\">\n",
       "      <th></th>\n",
       "      <th>Portfolio Summary</th>\n",
       "    </tr>\n",
       "  </thead>\n",
       "  <tbody>\n",
       "    <tr>\n",
       "      <th>Trades</th>\n",
       "      <td>409</td>\n",
       "    </tr>\n",
       "    <tr>\n",
       "      <th>Min Balance</th>\n",
       "      <td>0.077874</td>\n",
       "    </tr>\n",
       "    <tr>\n",
       "      <th>Max Balance</th>\n",
       "      <td>58.343745</td>\n",
       "    </tr>\n",
       "    <tr>\n",
       "      <th>Final Balance</th>\n",
       "      <td>58.343745</td>\n",
       "    </tr>\n",
       "    <tr>\n",
       "      <th>Avg. Return (%)</th>\n",
       "      <td>0.950048</td>\n",
       "    </tr>\n",
       "    <tr>\n",
       "      <th>Avg. Return ($)</th>\n",
       "      <td>0.14265</td>\n",
       "    </tr>\n",
       "    <tr>\n",
       "      <th>Avg. Trade Duration (h)</th>\n",
       "      <td>0 days 00:36:58.092909535</td>\n",
       "    </tr>\n",
       "  </tbody>\n",
       "</table>\n",
       "</div>"
      ],
      "text/plain": [
       "                                 Portfolio Summary\n",
       "Trades                                         409\n",
       "Min Balance                               0.077874\n",
       "Max Balance                              58.343745\n",
       "Final Balance                            58.343745\n",
       "Avg. Return (%)                           0.950048\n",
       "Avg. Return ($)                            0.14265\n",
       "Avg. Trade Duration (h)  0 days 00:36:58.092909535"
      ]
     },
     "execution_count": 19,
     "metadata": {},
     "output_type": "execute_result"
    },
    {
     "name": "stdout",
     "output_type": "stream",
     "text": [
      "freqtrade.nbtools.remote_utils - Adding new row to table...\n",
      "freqtrade.nbtools.remote_utils - Columns are not identical.\n",
      "freqtrade.nbtools.remote_utils - New columns    : []\n",
      "freqtrade.nbtools.remote_utils - Removed columns: ['pairlist', 'daily_profit']\n",
      "freqtrade.nbtools.remote_utils - Inserting 'None' to removed columns\n"
     ]
    }
   ],
   "source": [
    "stats, summary, preset = start_backtesting(opt_strategy, MODEL_NAME, \"opt\", version=MODEL_VER)\n",
    "trades = pd.DataFrame(stats[\"strategy\"][\"NotebookStrategy\"][\"trades\"])\n",
    "plotting.plot_profits_timerange(trades, timerange=preset.timerange, path_mount=PATH_MOUNT)"
   ]
  },
  {
   "cell_type": "markdown",
   "id": "69c63ec7-0338-4ce3-ad4b-f8f204f767e9",
   "metadata": {},
   "source": [
    "# Unbiased Backtesting"
   ]
  },
  {
   "cell_type": "code",
   "execution_count": 21,
   "id": "e8714dc4-2465-43ba-8adb-7bba7cfbdcf2",
   "metadata": {},
   "outputs": [
    {
     "name": "stdout",
     "output_type": "stream",
     "text": [
      "freqtrade.nbtools.remote_utils - Load LightningContainer version 'latest' of project: '15n30-catboost_intentional' - asset_name: '15n30-catboost_intentional'.\n",
      "freqtrade.nbtools.remote_utils - WARNING: You are using the LATEST version of LightningContainer asset!\n",
      "freqtrade.nbtools.preset.base_preset - Overwriting pairs (from 0 to 5 pairs)\n",
      "freqtrade.nbtools.preset.base_preset - Overwriting pairs (from 0 to 5 pairs)\n",
      "freqtrade.nbtools.preset.base_preset - Setting config for 15n30-catboost_intentional ...\n",
      "freqtrade.nbtools.preset.base_preset - Setting arg `datadir` to C:\\CS\\Python\\crypto-collection\\freqtrade\\mount\\data\\binance\n",
      "freqtrade.nbtools.preset.base_preset - Setting arg `timerange` to 20210721-20210820\n",
      "freqtrade.nbtools.remote_utils - Load LightningContainer version 'latest' of project: '15n30-catboost_intentional' - asset_name: '15n30-catboost_intentional'.\n",
      "freqtrade.nbtools.remote_utils - WARNING: You are using the LATEST version of LightningContainer asset!\n",
      "freqtrade.nbtools.helper - Strategy using minimal_roi: {'0': 99}\n",
      "freqtrade.nbtools.helper - Strategy using timeframe: 15m\n",
      "freqtrade.nbtools.helper - Strategy using stoploss: -0.99\n",
      "freqtrade.nbtools.helper - Strategy using trailing_stop: False\n",
      "freqtrade.nbtools.helper - Strategy using trailing_stop_positive_offset: 0.0\n",
      "freqtrade.nbtools.helper - Strategy using trailing_only_offset_is_reached: False\n",
      "freqtrade.nbtools.helper - Strategy using use_custom_stoploss: False\n",
      "freqtrade.nbtools.helper - Strategy using process_only_new_candles: False\n",
      "freqtrade.nbtools.helper - Strategy using order_types: {'buy': 'limit', 'sell': 'limit', 'forcesell': 'market', 'emergencysell': 'market', 'stoploss': 'market', 'stoploss_on_exchange': False, 'stoploss_on_exchange_interval': 60}\n",
      "freqtrade.nbtools.helper - Strategy using order_time_in_force: {'buy': 'gtc', 'sell': 'gtc'}\n",
      "freqtrade.nbtools.helper - Strategy using stake_currency: USDT\n",
      "freqtrade.nbtools.helper - Strategy using stake_amount: 15\n",
      "freqtrade.nbtools.helper - Strategy using protections: []\n",
      "freqtrade.nbtools.helper - Strategy using startup_candle_count: 500\n",
      "freqtrade.nbtools.helper - Strategy using unfilledtimeout: {'buy': 300, 'sell': 60, 'unit': 'seconds'}\n",
      "freqtrade.nbtools.helper - Strategy using use_sell_signal: True\n",
      "freqtrade.nbtools.helper - Strategy using sell_profit_only: False\n",
      "freqtrade.nbtools.helper - Strategy using ignore_roi_if_buy_signal: True\n",
      "freqtrade.nbtools.helper - Strategy using sell_profit_offset: 0.0\n",
      "freqtrade.nbtools.helper - Strategy using disable_dataframe_checks: False\n",
      "freqtrade.nbtools.helper - Strategy using ignore_buying_expired_candle_after: 0\n",
      "freqtrade.nbtools.backtest - Backtesting...\n",
      "freqtrade.nbtools.backtest - DATALOADER: Dataset with hash `-6530963359549459359` exists in cache!\n",
      "freqtrade.nbtools.helper - \"Load BT Data\" executed in 0.01s\n",
      "freqtrade.nbtools.backtest - Loading data from 2021-07-10 14:00:00 up to 2021-08-20 00:00:00 (40 days).\n",
      "freqtrade.nbtools.backtest - Dataload complete. Calculating indicators\n"
     ]
    },
    {
     "data": {
      "application/vnd.jupyter.widget-view+json": {
       "model_id": "bbdc1ea89b354a45bec713f61f2a31ad",
       "version_major": 2,
       "version_minor": 0
      },
      "text/plain": [
       "Populating Indicators:   0%|          | 0/4 [00:00<?, ?it/s]"
      ]
     },
     "metadata": {},
     "output_type": "display_data"
    },
    {
     "name": "stdout",
     "output_type": "stream",
     "text": [
      "freqtrade.nbtools.helper - \"Backtest\" executed in 0.50s\n",
      "freqtrade.nbtools.backtest - Logging preset...\n",
      "freqtrade.nbtools.backtest - [LOG PRESET OFFLINE SUCCESS]\n",
      "freqtrade.nbtools.backtest - Sync preset with name: 15n30-catboost_intentional__backtest-2021-09-01_19-39-12\n",
      "freqtrade.nbtools.backtest - with random name: satisfied-kazuya-virus\n",
      "freqtrade.nbtools.backtest - [WANDB LOG PRESET CONTINUES IN BACKGROUND]\n",
      "freqtrade.nbtools.helper - \"Whole Backtesting Process (Backtest + Log)\" executed in 27.18s\n"
     ]
    },
    {
     "name": "stderr",
     "output_type": "stream",
     "text": [
      "C:\\CS\\Python\\crypto-collection\\freqtrade\\superft\\freqtrade\\nbtools\\backtest.py:392: RuntimeWarning: divide by zero encountered in double_scalars\n",
      "  \"profit_per_drawdown\": trades_summary[\"profit_total_abs\"] / abs(trades_summary[\"max_drawdown_abs\"]),\n",
      "C:\\CS\\Python\\crypto-collection\\freqtrade\\superft\\freqtrade\\nbtools\\backtest.py:397: RuntimeWarning: divide by zero encountered in double_scalars\n",
      "  \"profit_factor\": metadata[\"sum_profit_winners_abs\"] / abs(metadata[\"sum_profit_losers_abs\"]),\n"
     ]
    },
    {
     "data": {
      "image/png": "[encoded data removed]",
      "text/plain": [
       "<Figure size 1296x360 with 2 Axes>"
      ]
     },
     "metadata": {},
     "output_type": "display_data"
    },
    {
     "data": {
      "image/png": "[encoded data removed]",
      "text/plain": [
       "<Figure size 1296x288 with 2 Axes>"
      ]
     },
     "metadata": {
      "needs_background": "light"
     },
     "output_type": "display_data"
    },
    {
     "data": {
      "text/html": [
       "<div>\n",
       "<style scoped>\n",
       "    .dataframe tbody tr th:only-of-type {\n",
       "        vertical-align: middle;\n",
       "    }\n",
       "\n",
       "    .dataframe tbody tr th {\n",
       "        vertical-align: top;\n",
       "    }\n",
       "\n",
       "    .dataframe thead th {\n",
       "        text-align: right;\n",
       "    }\n",
       "</style>\n",
       "<table border=\"1\" class=\"dataframe\">\n",
       "  <thead>\n",
       "    <tr style=\"text-align: right;\">\n",
       "      <th></th>\n",
       "      <th>Portfolio Summary</th>\n",
       "    </tr>\n",
       "  </thead>\n",
       "  <tbody>\n",
       "    <tr>\n",
       "      <th>Trades</th>\n",
       "      <td>1061</td>\n",
       "    </tr>\n",
       "    <tr>\n",
       "      <th>Min Balance</th>\n",
       "      <td>0.096558</td>\n",
       "    </tr>\n",
       "    <tr>\n",
       "      <th>Max Balance</th>\n",
       "      <td>168.886909</td>\n",
       "    </tr>\n",
       "    <tr>\n",
       "      <th>Final Balance</th>\n",
       "      <td>168.886909</td>\n",
       "    </tr>\n",
       "    <tr>\n",
       "      <th>Avg. Return (%)</th>\n",
       "      <td>1.060121</td>\n",
       "    </tr>\n",
       "    <tr>\n",
       "      <th>Avg. Return ($)</th>\n",
       "      <td>0.159177</td>\n",
       "    </tr>\n",
       "    <tr>\n",
       "      <th>Avg. Trade Duration</th>\n",
       "      <td>0 days 00:38:23</td>\n",
       "    </tr>\n",
       "  </tbody>\n",
       "</table>\n",
       "</div>"
      ],
      "text/plain": [
       "                    Portfolio Summary\n",
       "Trades                           1061\n",
       "Min Balance                  0.096558\n",
       "Max Balance                168.886909\n",
       "Final Balance              168.886909\n",
       "Avg. Return (%)              1.060121\n",
       "Avg. Return ($)              0.159177\n",
       "Avg. Trade Duration   0 days 00:38:23"
      ]
     },
     "execution_count": 21,
     "metadata": {},
     "output_type": "execute_result"
    },
    {
     "name": "stdout",
     "output_type": "stream",
     "text": [
      "freqtrade.nbtools.remote_utils - Adding new row to table...\n",
      "freqtrade.nbtools.remote_utils - Columns are not identical.\n",
      "freqtrade.nbtools.remote_utils - New columns    : []\n",
      "freqtrade.nbtools.remote_utils - Removed columns: ['pairlist', 'daily_profit']\n",
      "freqtrade.nbtools.remote_utils - Inserting 'None' to removed columns\n",
      "freqtrade.nbtools.backtest - ===============================\n",
      "freqtrade.nbtools.backtest - |  '15n30-catboost_intentional__backtest-2021-09-01_19-39-12'\n",
      "freqtrade.nbtools.backtest - |  WANDB LOG PRESET FINISHED  \n",
      "freqtrade.nbtools.backtest - ===============================\n"
     ]
    }
   ],
   "source": [
    "\"\"\" \n",
    "Just run once every \"Sweet Spot\" you got from Model x Strategy Optimize!\n",
    "\"\"\"\n",
    "stats, summary, preset = start_backtesting(opt_strategy, MODEL_NAME, \"test\", version=MODEL_VER)\n",
    "trades = pd.DataFrame(stats[\"strategy\"][\"NotebookStrategy\"][\"trades\"])\n",
    "plotting.plot_profits_timerange(trades, timerange=preset.timerange, path_mount=PATH_MOUNT)"
   ]
  },
  {
   "cell_type": "code",
   "execution_count": null,
   "id": "339739e7-a0dc-4604-9db6-b3d61b5ad14f",
   "metadata": {},
   "outputs": [],
   "source": []
  }
 ],
 "metadata": {
  "kernelspec": {
   "display_name": "Python 3 (ipykernel)",
   "language": "python",
   "name": "python3"
  },
  "language_info": {
   "codemirror_mode": {
    "name": "ipython",
    "version": 3
   },
   "file_extension": ".py",
   "mimetype": "text/x-python",
   "name": "python",
   "nbconvert_exporter": "python",
   "pygments_lexer": "ipython3",
   "version": "3.9.5"
  },
  "widgets": {
   "application/vnd.jupyter.widget-state+json": {
    "state": {
     "033d01b5d21e41eea207a5b9ea9950f3": {
      "model_module": "@jupyter-widgets/base",
      "model_module_version": "1.2.0",
      "model_name": "LayoutModel",
      "state": {}
     },
     "04d9218b5ce5433f9e5566d1cd9169fc": {
      "model_module": "@jupyter-widgets/controls",
      "model_module_version": "1.5.0",
      "model_name": "ProgressStyleModel",
      "state": {
       "description_width": ""
      }
     },
     "056f2bf2fe8e49af8e6cc8e7db5a9928": {
      "model_module": "@jupyter-widgets/controls",
      "model_module_version": "1.5.0",
      "model_name": "DescriptionStyleModel",
      "state": {
       "description_width": ""
      }
     },
     "067dff83814c435da25272b3e5cc6688": {
      "model_module": "@jupyter-widgets/base",
      "model_module_version": "1.2.0",
      "model_name": "LayoutModel",
      "state": {}
     },
     "072d4e22e58b4cc6bce26d5ca2747eee": {
      "model_module": "@jupyter-widgets/controls",
      "model_module_version": "1.5.0",
      "model_name": "ProgressStyleModel",
      "state": {
       "description_width": ""
      }
     },
     "0a5de2b8dd1c4728b036bbe5b586be45": {
      "model_module": "@jupyter-widgets/controls",
      "model_module_version": "1.5.0",
      "model_name": "FloatProgressModel",
      "state": {
       "bar_style": "success",
       "layout": "IPY_MODEL_76b741c855964a789e4c45331c1f0842",
       "max": 4,
       "style": "IPY_MODEL_97780f0fa4aa4a81b4a42a797ac7ef3e",
       "value": 4
      }
     },
     "0a9d7d49f903464997c3f1fc0821af0a": {
      "model_module": "@jupyter-widgets/base",
      "model_module_version": "1.2.0",
      "model_name": "LayoutModel",
      "state": {}
     },
     "0b38b71cb26c44eb922ef4632b8b0f97": {
      "model_module": "@jupyter-widgets/controls",
      "model_module_version": "1.5.0",
      "model_name": "LabelModel",
      "state": {
       "layout": "IPY_MODEL_ac0e5db850154bc994225ecb66861492",
       "style": "IPY_MODEL_87d3347e22494fe880a5fed685c229b9",
       "value": " 65.93MB of 65.93MB uploaded (0.00MB deduped)\r"
      }
     },
     "0ff137e3bee24f5284d3e27686cfcddb": {
      "model_module": "@jupyter-widgets/controls",
      "model_module_version": "1.5.0",
      "model_name": "VBoxModel",
      "state": {
       "children": [
        "IPY_MODEL_56683c3d4a4b489d9e120ddfe35349bf",
        "IPY_MODEL_51e05890b64c4b3f9b65b8c0fa606636"
       ],
       "layout": "IPY_MODEL_5c8fca51396a4bcc9e38f145c5735050"
      }
     },
     "10ddf9eb024e41d9b9227e185a0c676a": {
      "model_module": "@jupyter-widgets/base",
      "model_module_version": "1.2.0",
      "model_name": "LayoutModel",
      "state": {}
     },
     "11714921f57e4e74898e6f01585bd379": {
      "model_module": "@jupyter-widgets/base",
      "model_module_version": "1.2.0",
      "model_name": "LayoutModel",
      "state": {}
     },
     "11c6d39b40584978b46c1f0273ec84bf": {
      "model_module": "@jupyter-widgets/base",
      "model_module_version": "1.2.0",
      "model_name": "LayoutModel",
      "state": {}
     },
     "126fc47f91df4951aac6a771b33647f3": {
      "model_module": "@jupyter-widgets/base",
      "model_module_version": "1.2.0",
      "model_name": "LayoutModel",
      "state": {}
     },
     "1284ed98ea4e43d2b5d178c4af3678d3": {
      "model_module": "@jupyter-widgets/base",
      "model_module_version": "1.2.0",
      "model_name": "LayoutModel",
      "state": {}
     },
     "13ed61c373324b56884848040afe8648": {
      "model_module": "@jupyter-widgets/controls",
      "model_module_version": "1.5.0",
      "model_name": "DescriptionStyleModel",
      "state": {
       "description_width": ""
      }
     },
     "13fbb85676204bbeab1c08849a7a8c36": {
      "model_module": "@jupyter-widgets/controls",
      "model_module_version": "1.5.0",
      "model_name": "DescriptionStyleModel",
      "state": {
       "description_width": ""
      }
     },
     "14093ec7458144719e6c8225d91d4ff7": {
      "model_module": "@jupyter-widgets/controls",
      "model_module_version": "1.5.0",
      "model_name": "FloatProgressModel",
      "state": {
       "layout": "IPY_MODEL_54d05d733dd04491b6aa5e3b2574bd3a",
       "max": 1,
       "style": "IPY_MODEL_decc1822d8754bbcb449ea7a67214c01",
       "value": 1
      }
     },
     "147cbd9ded6a42a1abd6f6f290f53b63": {
      "model_module": "@jupyter-widgets/base",
      "model_module_version": "1.2.0",
      "model_name": "LayoutModel",
      "state": {}
     },
     "15866ed4e46a4ccaa30e1b2d9e064dae": {
      "model_module": "@jupyter-widgets/controls",
      "model_module_version": "1.5.0",
      "model_name": "LabelModel",
      "state": {
       "layout": "IPY_MODEL_c7a4b4237b774f3a9188c8d2cdb25ad6",
       "style": "IPY_MODEL_cfe6da5ba81e46eca2daaace9e6e321f",
       "value": " 24.43MB of 24.43MB uploaded (0.00MB deduped)\r"
      }
     },
     "17a54eb12b764380b2feac8e7d4956ab": {
      "model_module": "@jupyter-widgets/controls",
      "model_module_version": "1.5.0",
      "model_name": "LabelModel",
      "state": {
       "layout": "IPY_MODEL_5a07c5e2912f4d2b816b8fd5ef837cb0",
       "style": "IPY_MODEL_c98e87134f2147c2839002175a72b9c9",
       "value": " 24.27MB of 24.27MB uploaded (0.00MB deduped)\r"
      }
     },
     "196af315c284489e81791e016f9541fc": {
      "model_module": "@jupyter-widgets/controls",
      "model_module_version": "1.5.0",
      "model_name": "LabelModel",
      "state": {
       "layout": "IPY_MODEL_6cf78cf179be47209f4a10170131e789",
       "style": "IPY_MODEL_373ab15cc8eb47a29b734adbbfa568d4",
       "value": " 24.55MB of 24.55MB uploaded (0.00MB deduped)\r"
      }
     },
     "1971849b7750410a93813bb4ea2de6d9": {
      "model_module": "@jupyter-widgets/base",
      "model_module_version": "1.2.0",
      "model_name": "LayoutModel",
      "state": {}
     },
     "1ba7797c19d4463987c7967addb647fa": {
      "model_module": "@jupyter-widgets/controls",
      "model_module_version": "1.5.0",
      "model_name": "DescriptionStyleModel",
      "state": {
       "description_width": ""
      }
     },
     "1baeff16a7074ce7b2e5722145e86dd7": {
      "model_module": "@jupyter-widgets/base",
      "model_module_version": "1.2.0",
      "model_name": "LayoutModel",
      "state": {}
     },
     "1d47e8c1b63747deb366b7622f1ac2f7": {
      "model_module": "@jupyter-widgets/controls",
      "model_module_version": "1.5.0",
      "model_name": "DescriptionStyleModel",
      "state": {
       "description_width": ""
      }
     },
     "1edb7bb395a04ec2aef54da6c38c8d45": {
      "model_module": "@jupyter-widgets/controls",
      "model_module_version": "1.5.0",
      "model_name": "ProgressStyleModel",
      "state": {
       "description_width": ""
      }
     },
     "1ee60420d5594da5a454b126cdd4fec8": {
      "model_module": "@jupyter-widgets/base",
      "model_module_version": "1.2.0",
      "model_name": "LayoutModel",
      "state": {}
     },
     "1f70f9087fd24b6ba562c51da8ed94ae": {
      "model_module": "@jupyter-widgets/base",
      "model_module_version": "1.2.0",
      "model_name": "LayoutModel",
      "state": {}
     },
     "1fd3d1ad2ad14bcaaab999e973780126": {
      "model_module": "@jupyter-widgets/controls",
      "model_module_version": "1.5.0",
      "model_name": "ProgressStyleModel",
      "state": {
       "description_width": ""
      }
     },
     "2151c90cff134f2487e911ab15653b4b": {
      "model_module": "@jupyter-widgets/controls",
      "model_module_version": "1.5.0",
      "model_name": "DescriptionStyleModel",
      "state": {
       "description_width": ""
      }
     },
     "220ab7bbd0324633940539f1ff7a4d1e": {
      "model_module": "@jupyter-widgets/controls",
      "model_module_version": "1.5.0",
      "model_name": "FloatProgressModel",
      "state": {
       "layout": "IPY_MODEL_fd63576139304b209d71d8b8b608e8b5",
       "max": 1,
       "style": "IPY_MODEL_f8c6be2b2eb74800a842bb1ad99d1862",
       "value": 1
      }
     },
     "260e3a2b6c0047f295967490f80a7907": {
      "model_module": "@jupyter-widgets/controls",
      "model_module_version": "1.5.0",
      "model_name": "DescriptionStyleModel",
      "state": {
       "description_width": ""
      }
     },
     "27d138e14bc648d9a4d5679b732dd70b": {
      "model_module": "@jupyter-widgets/base",
      "model_module_version": "1.2.0",
      "model_name": "LayoutModel",
      "state": {}
     },
     "29afd4a2e39f43a98d9054224f3e87ea": {
      "model_module": "@jupyter-widgets/base",
      "model_module_version": "1.2.0",
      "model_name": "LayoutModel",
      "state": {}
     },
     "2a29e72941694b5dbb12c5cb332a419b": {
      "model_module": "@jupyter-widgets/base",
      "model_module_version": "1.2.0",
      "model_name": "LayoutModel",
      "state": {}
     },
     "2addfe4e1ab84badbdb44f4cd1a06e55": {
      "model_module": "@jupyter-widgets/controls",
      "model_module_version": "1.5.0",
      "model_name": "ProgressStyleModel",
      "state": {
       "description_width": ""
      }
     },
     "2ca1cdef00b24d3f9c5a328481f00b7e": {
      "model_module": "@jupyter-widgets/base",
      "model_module_version": "1.2.0",
      "model_name": "LayoutModel",
      "state": {}
     },
     "2cb385f8e2ea4e689d734d6ddb734403": {
      "model_module": "@jupyter-widgets/controls",
      "model_module_version": "1.5.0",
      "model_name": "DescriptionStyleModel",
      "state": {
       "description_width": ""
      }
     },
     "2cc2ed07a9c64f53825cf54f208810a6": {
      "model_module": "@jupyter-widgets/base",
      "model_module_version": "1.2.0",
      "model_name": "LayoutModel",
      "state": {}
     },
     "2fae3edca33941ed873de6b3437e428d": {
      "model_module": "@jupyter-widgets/controls",
      "model_module_version": "1.5.0",
      "model_name": "HBoxModel",
      "state": {
       "children": [
        "IPY_MODEL_626d530e0fbc408a8ae80f8b30a24830",
        "IPY_MODEL_0a5de2b8dd1c4728b036bbe5b586be45",
        "IPY_MODEL_5feaf4a4e3f64ca4ae10cda74a20cc88"
       ],
       "layout": "IPY_MODEL_c20b441deb334a4293d1f222861a70e0"
      }
     },
     "30ba742f30f742618cc7cd27685d6faf": {
      "model_module": "@jupyter-widgets/controls",
      "model_module_version": "1.5.0",
      "model_name": "HTMLModel",
      "state": {
       "layout": "IPY_MODEL_147cbd9ded6a42a1abd6f6f290f53b63",
       "style": "IPY_MODEL_674796b2109c47f9be9729dbecb47cff",
       "value": " 4/4 [00:00&lt;00:00,  6.30it/s]"
      }
     },
     "3312deefe9bc4696be9a67b0acab9cff": {
      "model_module": "@jupyter-widgets/base",
      "model_module_version": "1.2.0",
      "model_name": "LayoutModel",
      "state": {}
     },
     "340f77eaf2f044ea97c0ec7068fdd544": {
      "model_module": "@jupyter-widgets/base",
      "model_module_version": "1.2.0",
      "model_name": "LayoutModel",
      "state": {}
     },
     "360bab050a52426cbb9f3a00f031d6fe": {
      "model_module": "@jupyter-widgets/controls",
      "model_module_version": "1.5.0",
      "model_name": "LabelModel",
      "state": {
       "layout": "IPY_MODEL_afa1021363af49de88975427748e550f",
       "style": "IPY_MODEL_537d069db1c843aaa07c52f0aeeb277d",
       "value": " 24.56MB of 24.56MB uploaded (0.00MB deduped)\r"
      }
     },
     "3624b9a8d4944efea43654e78242b4ae": {
      "model_module": "@jupyter-widgets/base",
      "model_module_version": "1.2.0",
      "model_name": "LayoutModel",
      "state": {}
     },
     "362c813d7be8418e889d550f1b3c9516": {
      "model_module": "@jupyter-widgets/base",
      "model_module_version": "1.2.0",
      "model_name": "LayoutModel",
      "state": {}
     },
     "36a3ad64815943d789a2aa5261fddc69": {
      "model_module": "@jupyter-widgets/controls",
      "model_module_version": "1.5.0",
      "model_name": "ProgressStyleModel",
      "state": {
       "description_width": ""
      }
     },
     "36be92bf8c504596b272c81089dcde69": {
      "model_module": "@jupyter-widgets/controls",
      "model_module_version": "1.5.0",
      "model_name": "FloatProgressModel",
      "state": {
       "layout": "IPY_MODEL_1baeff16a7074ce7b2e5722145e86dd7",
       "max": 1,
       "style": "IPY_MODEL_b05d7a9d1c034d6db25280d16d5acbb4",
       "value": 1
      }
     },
     "373ab15cc8eb47a29b734adbbfa568d4": {
      "model_module": "@jupyter-widgets/controls",
      "model_module_version": "1.5.0",
      "model_name": "DescriptionStyleModel",
      "state": {
       "description_width": ""
      }
     },
     "39ec41898ecb49d59e1b82ce61dbad9e": {
      "model_module": "@jupyter-widgets/controls",
      "model_module_version": "1.5.0",
      "model_name": "FloatProgressModel",
      "state": {
       "bar_style": "success",
       "layout": "IPY_MODEL_8eb33c9b23d141f19f0288ff5d100440",
       "max": 4,
       "style": "IPY_MODEL_406f5ecf8adc4ccb9441678743083ea4",
       "value": 4
      }
     },
     "3a77dff7344c47cc8472fe8dbbfbe227": {
      "model_module": "@jupyter-widgets/base",
      "model_module_version": "1.2.0",
      "model_name": "LayoutModel",
      "state": {}
     },
     "3be2eeccb7054450a2e0cb05c12a0592": {
      "model_module": "@jupyter-widgets/controls",
      "model_module_version": "1.5.0",
      "model_name": "FloatProgressModel",
      "state": {
       "layout": "IPY_MODEL_e2e436fbab7249a99e92a859f885ae9c",
       "max": 1,
       "style": "IPY_MODEL_962b380e73cd4fcb9c937c57e8dad81d",
       "value": 1
      }
     },
     "3d302b9ed899441db472cd0b17ba5e31": {
      "model_module": "@jupyter-widgets/controls",
      "model_module_version": "1.5.0",
      "model_name": "DescriptionStyleModel",
      "state": {
       "description_width": ""
      }
     },
     "3db77f80f6674dacb15a68c558b8bc1e": {
      "model_module": "@jupyter-widgets/base",
      "model_module_version": "1.2.0",
      "model_name": "LayoutModel",
      "state": {}
     },
     "3ea38e8c949b42c29a2e3d6edf9f97eb": {
      "model_module": "@jupyter-widgets/controls",
      "model_module_version": "1.5.0",
      "model_name": "DescriptionStyleModel",
      "state": {
       "description_width": ""
      }
     },
     "3ede885e535840c387ebeecd3e827fde": {
      "model_module": "@jupyter-widgets/base",
      "model_module_version": "1.2.0",
      "model_name": "LayoutModel",
      "state": {}
     },
     "3f9d0ca27b344d3fb0688402fc878586": {
      "model_module": "@jupyter-widgets/base",
      "model_module_version": "1.2.0",
      "model_name": "LayoutModel",
      "state": {}
     },
     "406f5ecf8adc4ccb9441678743083ea4": {
      "model_module": "@jupyter-widgets/controls",
      "model_module_version": "1.5.0",
      "model_name": "ProgressStyleModel",
      "state": {
       "description_width": ""
      }
     },
     "4411f24a131e440dba00428f90e9cb4c": {
      "model_module": "@jupyter-widgets/controls",
      "model_module_version": "1.5.0",
      "model_name": "FloatProgressModel",
      "state": {
       "layout": "IPY_MODEL_d64f795828354e4ca5c76bc776446bfa",
       "max": 1,
       "style": "IPY_MODEL_bae568df8b3e44d5917bdde96f362c44",
       "value": 1
      }
     },
     "45a7ec2b2529448eb7f3c46cc07179d6": {
      "model_module": "@jupyter-widgets/controls",
      "model_module_version": "1.5.0",
      "model_name": "FloatProgressModel",
      "state": {
       "layout": "IPY_MODEL_340f77eaf2f044ea97c0ec7068fdd544",
       "max": 1,
       "style": "IPY_MODEL_b5f32cf7162846b5835da2a701436fa7",
       "value": 1
      }
     },
     "46bab17325514d0398d3afe6e434dca4": {
      "model_module": "@jupyter-widgets/base",
      "model_module_version": "1.2.0",
      "model_name": "LayoutModel",
      "state": {}
     },
     "483bac4cf2504d2f80784166eed68983": {
      "model_module": "@jupyter-widgets/controls",
      "model_module_version": "1.5.0",
      "model_name": "HTMLModel",
      "state": {
       "layout": "IPY_MODEL_aac2c3710d8f451fba14c9132768e9a2",
       "style": "IPY_MODEL_056f2bf2fe8e49af8e6cc8e7db5a9928",
       "value": " 4/4 [00:00&lt;00:00,  6.01it/s]"
      }
     },
     "4852f06256484661a31322551c57e626": {
      "model_module": "@jupyter-widgets/controls",
      "model_module_version": "1.5.0",
      "model_name": "LabelModel",
      "state": {
       "layout": "IPY_MODEL_3ede885e535840c387ebeecd3e827fde",
       "style": "IPY_MODEL_90ea8ec4bc0d4f82a6237016a8677808",
       "value": " 24.43MB of 24.43MB uploaded (0.00MB deduped)\r"
      }
     },
     "48af2b61bd6b443d9bce626dbb18c25b": {
      "model_module": "@jupyter-widgets/controls",
      "model_module_version": "1.5.0",
      "model_name": "DescriptionStyleModel",
      "state": {
       "description_width": ""
      }
     },
     "4a5df25af8ea4f5aad8cd0ee07f25cf1": {
      "model_module": "@jupyter-widgets/controls",
      "model_module_version": "1.5.0",
      "model_name": "FloatProgressModel",
      "state": {
       "bar_style": "success",
       "layout": "IPY_MODEL_b871bbf4619c48dd8c67c4bb9974b140",
       "max": 4,
       "style": "IPY_MODEL_ab36bdc528384ed3bb067ac9867a9de5",
       "value": 4
      }
     },
     "4a99908297ea46d4b4cc537399390dd1": {
      "model_module": "@jupyter-widgets/controls",
      "model_module_version": "1.5.0",
      "model_name": "HTMLModel",
      "state": {
       "layout": "IPY_MODEL_033d01b5d21e41eea207a5b9ea9950f3",
       "style": "IPY_MODEL_c2fa336b758947629c19c2a9a885f61f",
       "value": "Populating Indicators: 100%"
      }
     },
     "4b00a497c0664fd7b87a582aaae9e1fd": {
      "model_module": "@jupyter-widgets/base",
      "model_module_version": "1.2.0",
      "model_name": "LayoutModel",
      "state": {}
     },
     "4b4325b9275844008398fa7151ed0adc": {
      "model_module": "@jupyter-widgets/controls",
      "model_module_version": "1.5.0",
      "model_name": "LabelModel",
      "state": {
       "layout": "IPY_MODEL_0a9d7d49f903464997c3f1fc0821af0a",
       "style": "IPY_MODEL_13fbb85676204bbeab1c08849a7a8c36",
       "value": " 24.40MB of 24.40MB uploaded (0.00MB deduped)\r"
      }
     },
     "4d27beb2df98418784fdc76e59876ff9": {
      "model_module": "@jupyter-widgets/controls",
      "model_module_version": "1.5.0",
      "model_name": "FloatProgressModel",
      "state": {
       "bar_style": "success",
       "layout": "IPY_MODEL_c5ef0d0414be4e79b5278b308246cef4",
       "max": 4,
       "style": "IPY_MODEL_36a3ad64815943d789a2aa5261fddc69",
       "value": 4
      }
     },
     "4e3bc74900d64b79a9b21b85ab255c5e": {
      "model_module": "@jupyter-widgets/controls",
      "model_module_version": "1.5.0",
      "model_name": "HBoxModel",
      "state": {
       "children": [
        "IPY_MODEL_4a99908297ea46d4b4cc537399390dd1",
        "IPY_MODEL_39ec41898ecb49d59e1b82ce61dbad9e",
        "IPY_MODEL_7ec9e46566934a20b748dbc978fe35a0"
       ],
       "layout": "IPY_MODEL_57c478f994f241af9add07df8ffd78f9"
      }
     },
     "4e778703cc13401688cf34093fd0bb7f": {
      "model_module": "@jupyter-widgets/controls",
      "model_module_version": "1.5.0",
      "model_name": "DescriptionStyleModel",
      "state": {
       "description_width": ""
      }
     },
     "4e8e064bfd3b4064a7a6782bb99a8f0a": {
      "model_module": "@jupyter-widgets/base",
      "model_module_version": "1.2.0",
      "model_name": "LayoutModel",
      "state": {}
     },
     "4ea447e22c874e849ab1011ba2d49c71": {
      "model_module": "@jupyter-widgets/controls",
      "model_module_version": "1.5.0",
      "model_name": "ProgressStyleModel",
      "state": {
       "description_width": ""
      }
     },
     "50c2d878aeb943c89245a5865603eb7d": {
      "model_module": "@jupyter-widgets/controls",
      "model_module_version": "1.5.0",
      "model_name": "HTMLModel",
      "state": {
       "layout": "IPY_MODEL_9dd44b4c908e4182b2991b6399f46bf3",
       "style": "IPY_MODEL_c52d25fb418f48cc95f5e596f58c0b34",
       "value": " 4/4 [00:00&lt;00:00, 54.88it/s]"
      }
     },
     "51c3785fff6c4fd9b94eb4ef80672f39": {
      "model_module": "@jupyter-widgets/controls",
      "model_module_version": "1.5.0",
      "model_name": "FloatProgressModel",
      "state": {
       "layout": "IPY_MODEL_fd8fb14adfc4457aba58876e6bcf3d01",
       "max": 1,
       "style": "IPY_MODEL_970d6865096e47ac86e772879bef1870",
       "value": 1
      }
     },
     "51e05890b64c4b3f9b65b8c0fa606636": {
      "model_module": "@jupyter-widgets/controls",
      "model_module_version": "1.5.0",
      "model_name": "FloatProgressModel",
      "state": {
       "layout": "IPY_MODEL_a506540d16814e269a78cc83baf6a1c1",
       "max": 1,
       "style": "IPY_MODEL_8f92d52fee5e464bb6fbbe9aa3c467eb"
      }
     },
     "520ae44adb904426ad1934261ed5d565": {
      "model_module": "@jupyter-widgets/controls",
      "model_module_version": "1.5.0",
      "model_name": "FloatProgressModel",
      "state": {
       "layout": "IPY_MODEL_e8834b80a5d645f6a2247e59557b53f8",
       "max": 1,
       "style": "IPY_MODEL_2addfe4e1ab84badbdb44f4cd1a06e55",
       "value": 1
      }
     },
     "537d069db1c843aaa07c52f0aeeb277d": {
      "model_module": "@jupyter-widgets/controls",
      "model_module_version": "1.5.0",
      "model_name": "DescriptionStyleModel",
      "state": {
       "description_width": ""
      }
     },
     "54d05d733dd04491b6aa5e3b2574bd3a": {
      "model_module": "@jupyter-widgets/base",
      "model_module_version": "1.2.0",
      "model_name": "LayoutModel",
      "state": {}
     },
     "56683c3d4a4b489d9e120ddfe35349bf": {
      "model_module": "@jupyter-widgets/controls",
      "model_module_version": "1.5.0",
      "model_name": "LabelModel",
      "state": {
       "layout": "IPY_MODEL_c638f7e706d44b4192b627d5ef49b9d8",
       "style": "IPY_MODEL_a499a059b5324cefb783a4c824e3dc48"
      }
     },
     "56cfac13e8714098b875bdb5375cb4d8": {
      "model_module": "@jupyter-widgets/base",
      "model_module_version": "1.2.0",
      "model_name": "LayoutModel",
      "state": {}
     },
     "5789919f098a4f3ea455c10afa36a9d7": {
      "model_module": "@jupyter-widgets/controls",
      "model_module_version": "1.5.0",
      "model_name": "HBoxModel",
      "state": {
       "children": [
        "IPY_MODEL_f6bc708915974c8d825eb45ca63c0ea3",
        "IPY_MODEL_4d27beb2df98418784fdc76e59876ff9",
        "IPY_MODEL_eafe103a72f948238f53050467823119"
       ],
       "layout": "IPY_MODEL_9e13999e541c4343b11979e9dde59739"
      }
     },
     "57c478f994f241af9add07df8ffd78f9": {
      "model_module": "@jupyter-widgets/base",
      "model_module_version": "1.2.0",
      "model_name": "LayoutModel",
      "state": {}
     },
     "5806c646d9644005821ed2da1a0b2bd6": {
      "model_module": "@jupyter-widgets/controls",
      "model_module_version": "1.5.0",
      "model_name": "DescriptionStyleModel",
      "state": {
       "description_width": ""
      }
     },
     "592f90b8d6cf4663a2e0a29eb0ce4027": {
      "model_module": "@jupyter-widgets/controls",
      "model_module_version": "1.5.0",
      "model_name": "ProgressStyleModel",
      "state": {
       "description_width": ""
      }
     },
     "5a07c5e2912f4d2b816b8fd5ef837cb0": {
      "model_module": "@jupyter-widgets/base",
      "model_module_version": "1.2.0",
      "model_name": "LayoutModel",
      "state": {}
     },
     "5bfbe7965a83448d83d2008ce25106af": {
      "model_module": "@jupyter-widgets/controls",
      "model_module_version": "1.5.0",
      "model_name": "FloatProgressModel",
      "state": {
       "layout": "IPY_MODEL_dec5c13050ab4076a86519618a3eb2ca",
       "max": 1,
       "style": "IPY_MODEL_c3c8c0224cc6443c8088ac5c34cdacb3",
       "value": 1
      }
     },
     "5c10c6b2e99147aaa9bee57212f7d5b3": {
      "model_module": "@jupyter-widgets/base",
      "model_module_version": "1.2.0",
      "model_name": "LayoutModel",
      "state": {}
     },
     "5c8fca51396a4bcc9e38f145c5735050": {
      "model_module": "@jupyter-widgets/base",
      "model_module_version": "1.2.0",
      "model_name": "LayoutModel",
      "state": {}
     },
     "5ca3d13d5a334b8a98a09a5b3ccdc0fd": {
      "model_module": "@jupyter-widgets/controls",
      "model_module_version": "1.5.0",
      "model_name": "DescriptionStyleModel",
      "state": {
       "description_width": ""
      }
     },
     "5cfd86d8ff4547ca8a450a6a14d7e688": {
      "model_module": "@jupyter-widgets/base",
      "model_module_version": "1.2.0",
      "model_name": "LayoutModel",
      "state": {}
     },
     "5d40b86fb95446c0931f7f5af3abbbf4": {
      "model_module": "@jupyter-widgets/controls",
      "model_module_version": "1.5.0",
      "model_name": "ProgressStyleModel",
      "state": {
       "description_width": ""
      }
     },
     "5dafc8de6c8e49e0a3f70a6449158edb": {
      "model_module": "@jupyter-widgets/base",
      "model_module_version": "1.2.0",
      "model_name": "LayoutModel",
      "state": {}
     },
     "5efd6b143a5f4a4e85328219d5eae43a": {
      "model_module": "@jupyter-widgets/controls",
      "model_module_version": "1.5.0",
      "model_name": "DescriptionStyleModel",
      "state": {
       "description_width": ""
      }
     },
     "5feaf4a4e3f64ca4ae10cda74a20cc88": {
      "model_module": "@jupyter-widgets/controls",
      "model_module_version": "1.5.0",
      "model_name": "HTMLModel",
      "state": {
       "layout": "IPY_MODEL_3db77f80f6674dacb15a68c558b8bc1e",
       "style": "IPY_MODEL_2151c90cff134f2487e911ab15653b4b",
       "value": " 4/4 [00:00&lt;00:00,  5.97it/s]"
      }
     },
     "626d530e0fbc408a8ae80f8b30a24830": {
      "model_module": "@jupyter-widgets/controls",
      "model_module_version": "1.5.0",
      "model_name": "HTMLModel",
      "state": {
       "layout": "IPY_MODEL_10ddf9eb024e41d9b9227e185a0c676a",
       "style": "IPY_MODEL_de99784b632c4dcea1d96e0acbf3f443",
       "value": "Populating Indicators: 100%"
      }
     },
     "631c8b47084e4258acca4d52a5b64a04": {
      "model_module": "@jupyter-widgets/base",
      "model_module_version": "1.2.0",
      "model_name": "LayoutModel",
      "state": {}
     },
     "6614091ab8c74f70b145ae1cc96df4b6": {
      "model_module": "@jupyter-widgets/base",
      "model_module_version": "1.2.0",
      "model_name": "LayoutModel",
      "state": {}
     },
     "66883666b2aa4293a01f6df5ebca4920": {
      "model_module": "@jupyter-widgets/controls",
      "model_module_version": "1.5.0",
      "model_name": "DescriptionStyleModel",
      "state": {
       "description_width": ""
      }
     },
     "671fde364c0a4ddfa5b9abcb53a0083f": {
      "model_module": "@jupyter-widgets/base",
      "model_module_version": "1.2.0",
      "model_name": "LayoutModel",
      "state": {}
     },
     "674796b2109c47f9be9729dbecb47cff": {
      "model_module": "@jupyter-widgets/controls",
      "model_module_version": "1.5.0",
      "model_name": "DescriptionStyleModel",
      "state": {
       "description_width": ""
      }
     },
     "683487201a19477bba7f432ac77fff53": {
      "model_module": "@jupyter-widgets/controls",
      "model_module_version": "1.5.0",
      "model_name": "ProgressStyleModel",
      "state": {
       "description_width": ""
      }
     },
     "6857df9e7cd34704963600e813ef1ca6": {
      "model_module": "@jupyter-widgets/controls",
      "model_module_version": "1.5.0",
      "model_name": "HTMLModel",
      "state": {
       "layout": "IPY_MODEL_1f70f9087fd24b6ba562c51da8ed94ae",
       "style": "IPY_MODEL_66883666b2aa4293a01f6df5ebca4920",
       "value": "Populating Indicators: 100%"
      }
     },
     "6a559afc436847f0bb30e1169953e915": {
      "model_module": "@jupyter-widgets/controls",
      "model_module_version": "1.5.0",
      "model_name": "DescriptionStyleModel",
      "state": {
       "description_width": ""
      }
     },
     "6ac44d9aae504d92a7ea196c753876e8": {
      "model_module": "@jupyter-widgets/controls",
      "model_module_version": "1.5.0",
      "model_name": "FloatProgressModel",
      "state": {
       "layout": "IPY_MODEL_b6f7c942a18d49bab8b6ebd102a11dda",
       "max": 1,
       "style": "IPY_MODEL_724421ef54814ccb98f846a46c356651",
       "value": 1
      }
     },
     "6cf78cf179be47209f4a10170131e789": {
      "model_module": "@jupyter-widgets/base",
      "model_module_version": "1.2.0",
      "model_name": "LayoutModel",
      "state": {}
     },
     "6d037a7ca28a4d45be25b91e2b52f486": {
      "model_module": "@jupyter-widgets/base",
      "model_module_version": "1.2.0",
      "model_name": "LayoutModel",
      "state": {}
     },
     "724421ef54814ccb98f846a46c356651": {
      "model_module": "@jupyter-widgets/controls",
      "model_module_version": "1.5.0",
      "model_name": "ProgressStyleModel",
      "state": {
       "description_width": ""
      }
     },
     "72625650bea34d9697230fa5c5c5f643": {
      "model_module": "@jupyter-widgets/base",
      "model_module_version": "1.2.0",
      "model_name": "LayoutModel",
      "state": {}
     },
     "73c17ecee9f241919602a3fb16077009": {
      "model_module": "@jupyter-widgets/base",
      "model_module_version": "1.2.0",
      "model_name": "LayoutModel",
      "state": {}
     },
     "741a4f2137de402e8ec35dd67c375509": {
      "model_module": "@jupyter-widgets/base",
      "model_module_version": "1.2.0",
      "model_name": "LayoutModel",
      "state": {}
     },
     "747e19907e5644298764d77aed9b951f": {
      "model_module": "@jupyter-widgets/controls",
      "model_module_version": "1.5.0",
      "model_name": "FloatProgressModel",
      "state": {
       "layout": "IPY_MODEL_bd2c845b3266489382006eb328a3390b",
       "max": 1,
       "style": "IPY_MODEL_9f5e8d7d5c7d43c780c2e2f39228a99b",
       "value": 1
      }
     },
     "76b741c855964a789e4c45331c1f0842": {
      "model_module": "@jupyter-widgets/base",
      "model_module_version": "1.2.0",
      "model_name": "LayoutModel",
      "state": {}
     },
     "776490934d134496ad343aecd58f29c7": {
      "model_module": "@jupyter-widgets/base",
      "model_module_version": "1.2.0",
      "model_name": "LayoutModel",
      "state": {}
     },
     "781da032f6b549b3a979f2edd418c56c": {
      "model_module": "@jupyter-widgets/base",
      "model_module_version": "1.2.0",
      "model_name": "LayoutModel",
      "state": {}
     },
     "795e66004d8b4cedb36d39bf431248a9": {
      "model_module": "@jupyter-widgets/base",
      "model_module_version": "1.2.0",
      "model_name": "LayoutModel",
      "state": {}
     },
     "7c2a6fbdd7444a29ad708a526f34660a": {
      "model_module": "@jupyter-widgets/controls",
      "model_module_version": "1.5.0",
      "model_name": "FloatProgressModel",
      "state": {
       "layout": "IPY_MODEL_88e314b3755341ed8ac08b34323b36e0",
       "max": 1,
       "style": "IPY_MODEL_955647f4aa714370849382d10d93d67c",
       "value": 1
      }
     },
     "7d7ee8bedfaf4ca4931834fff1adaa4c": {
      "model_module": "@jupyter-widgets/controls",
      "model_module_version": "1.5.0",
      "model_name": "LabelModel",
      "state": {
       "layout": "IPY_MODEL_bc3a44888eae4c82ac089f8b4eebba29",
       "style": "IPY_MODEL_86f03c30db644c449a502ff8bef54fe8",
       "value": " 24.41MB of 24.41MB uploaded (0.00MB deduped)\r"
      }
     },
     "7e1a022877b04d86841ce7b3e1742c5a": {
      "model_module": "@jupyter-widgets/base",
      "model_module_version": "1.2.0",
      "model_name": "LayoutModel",
      "state": {}
     },
     "7ec9e46566934a20b748dbc978fe35a0": {
      "model_module": "@jupyter-widgets/controls",
      "model_module_version": "1.5.0",
      "model_name": "HTMLModel",
      "state": {
       "layout": "IPY_MODEL_2a29e72941694b5dbb12c5cb332a419b",
       "style": "IPY_MODEL_1ba7797c19d4463987c7967addb647fa",
       "value": " 4/4 [00:00&lt;00:00, 55.35it/s]"
      }
     },
     "7f0ee2bc6b7b4cb6ab684f426f399757": {
      "model_module": "@jupyter-widgets/controls",
      "model_module_version": "1.5.0",
      "model_name": "FloatProgressModel",
      "state": {
       "layout": "IPY_MODEL_7e1a022877b04d86841ce7b3e1742c5a",
       "max": 1,
       "style": "IPY_MODEL_04d9218b5ce5433f9e5566d1cd9169fc",
       "value": 1
      }
     },
     "7fa6725f403848a1afbd920733abadb5": {
      "model_module": "@jupyter-widgets/base",
      "model_module_version": "1.2.0",
      "model_name": "LayoutModel",
      "state": {}
     },
     "801234da4c504fd5b38b15d375d513b4": {
      "model_module": "@jupyter-widgets/controls",
      "model_module_version": "1.5.0",
      "model_name": "LabelModel",
      "state": {
       "layout": "IPY_MODEL_3f9d0ca27b344d3fb0688402fc878586",
       "style": "IPY_MODEL_3ea38e8c949b42c29a2e3d6edf9f97eb",
       "value": " 24.39MB of 24.39MB uploaded (0.00MB deduped)\r"
      }
     },
     "81d5569acd024674aa7acae35598c024": {
      "model_module": "@jupyter-widgets/controls",
      "model_module_version": "1.5.0",
      "model_name": "ProgressStyleModel",
      "state": {
       "description_width": ""
      }
     },
     "82b2b4b93f2d4c619d2e510010e4e3ad": {
      "model_module": "@jupyter-widgets/base",
      "model_module_version": "1.2.0",
      "model_name": "LayoutModel",
      "state": {}
     },
     "83628ac26f1a4adc9923e3aece52cbbc": {
      "model_module": "@jupyter-widgets/controls",
      "model_module_version": "1.5.0",
      "model_name": "ProgressStyleModel",
      "state": {
       "description_width": ""
      }
     },
     "84dd2d425ead4640aa33f275d8f24c18": {
      "model_module": "@jupyter-widgets/controls",
      "model_module_version": "1.5.0",
      "model_name": "LabelModel",
      "state": {
       "layout": "IPY_MODEL_1284ed98ea4e43d2b5d178c4af3678d3",
       "style": "IPY_MODEL_b033bf28581d42398562de45ff76cc5d",
       "value": " 24.35MB of 24.35MB uploaded (0.00MB deduped)\r"
      }
     },
     "864cfd74f7694e1884dcba26ff67a8b3": {
      "model_module": "@jupyter-widgets/controls",
      "model_module_version": "1.5.0",
      "model_name": "DescriptionStyleModel",
      "state": {
       "description_width": ""
      }
     },
     "86f03c30db644c449a502ff8bef54fe8": {
      "model_module": "@jupyter-widgets/controls",
      "model_module_version": "1.5.0",
      "model_name": "DescriptionStyleModel",
      "state": {
       "description_width": ""
      }
     },
     "87d3347e22494fe880a5fed685c229b9": {
      "model_module": "@jupyter-widgets/controls",
      "model_module_version": "1.5.0",
      "model_name": "DescriptionStyleModel",
      "state": {
       "description_width": ""
      }
     },
     "887788cfd9f44a8b89a16d32f61f05b8": {
      "model_module": "@jupyter-widgets/controls",
      "model_module_version": "1.5.0",
      "model_name": "FloatProgressModel",
      "state": {
       "layout": "IPY_MODEL_a80bd8a0a3694f6f96c8243eba8bf9b1",
       "max": 1,
       "style": "IPY_MODEL_83628ac26f1a4adc9923e3aece52cbbc",
       "value": 1
      }
     },
     "88e314b3755341ed8ac08b34323b36e0": {
      "model_module": "@jupyter-widgets/base",
      "model_module_version": "1.2.0",
      "model_name": "LayoutModel",
      "state": {}
     },
     "89121915f0894787bcd3e277540036f7": {
      "model_module": "@jupyter-widgets/controls",
      "model_module_version": "1.5.0",
      "model_name": "LabelModel",
      "state": {
       "layout": "IPY_MODEL_98af896e233a4f0582c79572084bc827",
       "style": "IPY_MODEL_5efd6b143a5f4a4e85328219d5eae43a",
       "value": " 24.28MB of 24.28MB uploaded (0.00MB deduped)\r"
      }
     },
     "8b778b383d41450393a2351f6040147f": {
      "model_module": "@jupyter-widgets/controls",
      "model_module_version": "1.5.0",
      "model_name": "LabelModel",
      "state": {
       "layout": "IPY_MODEL_5dafc8de6c8e49e0a3f70a6449158edb",
       "style": "IPY_MODEL_6a559afc436847f0bb30e1169953e915",
       "value": " 24.27MB of 24.27MB uploaded (0.00MB deduped)\r"
      }
     },
     "8c14642251fa433381807add29eb25b2": {
      "model_module": "@jupyter-widgets/controls",
      "model_module_version": "1.5.0",
      "model_name": "HBoxModel",
      "state": {
       "children": [
        "IPY_MODEL_6857df9e7cd34704963600e813ef1ca6",
        "IPY_MODEL_f3edb79492ac445aa08047ef962bfe31",
        "IPY_MODEL_483bac4cf2504d2f80784166eed68983"
       ],
       "layout": "IPY_MODEL_ac2b911ba4df4e19a19aa7a87434d8a8"
      }
     },
     "8e3f968ccd5740c5b40a826c55f89915": {
      "model_module": "@jupyter-widgets/controls",
      "model_module_version": "1.5.0",
      "model_name": "DescriptionStyleModel",
      "state": {
       "description_width": ""
      }
     },
     "8eb33c9b23d141f19f0288ff5d100440": {
      "model_module": "@jupyter-widgets/base",
      "model_module_version": "1.2.0",
      "model_name": "LayoutModel",
      "state": {}
     },
     "8f0b8859150c4389b82f03c38b03ccaa": {
      "model_module": "@jupyter-widgets/controls",
      "model_module_version": "1.5.0",
      "model_name": "LabelModel",
      "state": {
       "layout": "IPY_MODEL_631c8b47084e4258acca4d52a5b64a04",
       "style": "IPY_MODEL_1d47e8c1b63747deb366b7622f1ac2f7",
       "value": " 65.69MB of 65.69MB uploaded (0.00MB deduped)\r"
      }
     },
     "8f92d52fee5e464bb6fbbe9aa3c467eb": {
      "model_module": "@jupyter-widgets/controls",
      "model_module_version": "1.5.0",
      "model_name": "ProgressStyleModel",
      "state": {
       "description_width": ""
      }
     },
     "90ea8ec4bc0d4f82a6237016a8677808": {
      "model_module": "@jupyter-widgets/controls",
      "model_module_version": "1.5.0",
      "model_name": "DescriptionStyleModel",
      "state": {
       "description_width": ""
      }
     },
     "955647f4aa714370849382d10d93d67c": {
      "model_module": "@jupyter-widgets/controls",
      "model_module_version": "1.5.0",
      "model_name": "ProgressStyleModel",
      "state": {
       "description_width": ""
      }
     },
     "962b380e73cd4fcb9c937c57e8dad81d": {
      "model_module": "@jupyter-widgets/controls",
      "model_module_version": "1.5.0",
      "model_name": "ProgressStyleModel",
      "state": {
       "description_width": ""
      }
     },
     "96318a2070554a67a52500d4e8dba92f": {
      "model_module": "@jupyter-widgets/base",
      "model_module_version": "1.2.0",
      "model_name": "LayoutModel",
      "state": {}
     },
     "970d6865096e47ac86e772879bef1870": {
      "model_module": "@jupyter-widgets/controls",
      "model_module_version": "1.5.0",
      "model_name": "ProgressStyleModel",
      "state": {
       "description_width": ""
      }
     },
     "97780f0fa4aa4a81b4a42a797ac7ef3e": {
      "model_module": "@jupyter-widgets/controls",
      "model_module_version": "1.5.0",
      "model_name": "ProgressStyleModel",
      "state": {
       "description_width": ""
      }
     },
     "98163def69904a638f75e9bb586538b8": {
      "model_module": "@jupyter-widgets/controls",
      "model_module_version": "1.5.0",
      "model_name": "DescriptionStyleModel",
      "state": {
       "description_width": ""
      }
     },
     "98af896e233a4f0582c79572084bc827": {
      "model_module": "@jupyter-widgets/base",
      "model_module_version": "1.2.0",
      "model_name": "LayoutModel",
      "state": {}
     },
     "9d22c02cab36478eba373fb77f5e758c": {
      "model_module": "@jupyter-widgets/base",
      "model_module_version": "1.2.0",
      "model_name": "LayoutModel",
      "state": {}
     },
     "9dbc70ffdce34f2eae37cea3d13b980f": {
      "model_module": "@jupyter-widgets/base",
      "model_module_version": "1.2.0",
      "model_name": "LayoutModel",
      "state": {}
     },
     "9dd44b4c908e4182b2991b6399f46bf3": {
      "model_module": "@jupyter-widgets/base",
      "model_module_version": "1.2.0",
      "model_name": "LayoutModel",
      "state": {}
     },
     "9e13999e541c4343b11979e9dde59739": {
      "model_module": "@jupyter-widgets/base",
      "model_module_version": "1.2.0",
      "model_name": "LayoutModel",
      "state": {}
     },
     "9e9e3ec3b59f4f95b2fb63d01c563c8c": {
      "model_module": "@jupyter-widgets/base",
      "model_module_version": "1.2.0",
      "model_name": "LayoutModel",
      "state": {}
     },
     "9f5e8d7d5c7d43c780c2e2f39228a99b": {
      "model_module": "@jupyter-widgets/controls",
      "model_module_version": "1.5.0",
      "model_name": "ProgressStyleModel",
      "state": {
       "description_width": ""
      }
     },
     "a133935a078b452d909ce8fc25333eac": {
      "model_module": "@jupyter-widgets/base",
      "model_module_version": "1.2.0",
      "model_name": "LayoutModel",
      "state": {}
     },
     "a2fb6ddb1bb5480b92f338061247fd71": {
      "model_module": "@jupyter-widgets/controls",
      "model_module_version": "1.5.0",
      "model_name": "FloatProgressModel",
      "state": {
       "layout": "IPY_MODEL_a7497be1ce2c4759a2f9f6b22106a386",
       "max": 1,
       "style": "IPY_MODEL_592f90b8d6cf4663a2e0a29eb0ce4027",
       "value": 1
      }
     },
     "a40ee363a5384ae5b63cab6065f6c65a": {
      "model_module": "@jupyter-widgets/base",
      "model_module_version": "1.2.0",
      "model_name": "LayoutModel",
      "state": {}
     },
     "a499a059b5324cefb783a4c824e3dc48": {
      "model_module": "@jupyter-widgets/controls",
      "model_module_version": "1.5.0",
      "model_name": "DescriptionStyleModel",
      "state": {
       "description_width": ""
      }
     },
     "a4eb3aec8f2744199d671e53104d1b6f": {
      "model_module": "@jupyter-widgets/controls",
      "model_module_version": "1.5.0",
      "model_name": "ProgressStyleModel",
      "state": {
       "description_width": ""
      }
     },
     "a506540d16814e269a78cc83baf6a1c1": {
      "model_module": "@jupyter-widgets/base",
      "model_module_version": "1.2.0",
      "model_name": "LayoutModel",
      "state": {}
     },
     "a6323baffe1f466ebae3258fb6634ada": {
      "model_module": "@jupyter-widgets/controls",
      "model_module_version": "1.5.0",
      "model_name": "LabelModel",
      "state": {
       "layout": "IPY_MODEL_a66eb7100d474224943f155fb356b704",
       "style": "IPY_MODEL_98163def69904a638f75e9bb586538b8",
       "value": " 24.27MB of 24.27MB uploaded (0.00MB deduped)\r"
      }
     },
     "a66eb7100d474224943f155fb356b704": {
      "model_module": "@jupyter-widgets/base",
      "model_module_version": "1.2.0",
      "model_name": "LayoutModel",
      "state": {}
     },
     "a7497be1ce2c4759a2f9f6b22106a386": {
      "model_module": "@jupyter-widgets/base",
      "model_module_version": "1.2.0",
      "model_name": "LayoutModel",
      "state": {}
     },
     "a80bd8a0a3694f6f96c8243eba8bf9b1": {
      "model_module": "@jupyter-widgets/base",
      "model_module_version": "1.2.0",
      "model_name": "LayoutModel",
      "state": {}
     },
     "a8a664bdc01446819a4eebe427b67bcd": {
      "model_module": "@jupyter-widgets/base",
      "model_module_version": "1.2.0",
      "model_name": "LayoutModel",
      "state": {}
     },
     "aac2c3710d8f451fba14c9132768e9a2": {
      "model_module": "@jupyter-widgets/base",
      "model_module_version": "1.2.0",
      "model_name": "LayoutModel",
      "state": {}
     },
     "ab36bdc528384ed3bb067ac9867a9de5": {
      "model_module": "@jupyter-widgets/controls",
      "model_module_version": "1.5.0",
      "model_name": "ProgressStyleModel",
      "state": {
       "description_width": ""
      }
     },
     "ac0e5db850154bc994225ecb66861492": {
      "model_module": "@jupyter-widgets/base",
      "model_module_version": "1.2.0",
      "model_name": "LayoutModel",
      "state": {}
     },
     "ac2b911ba4df4e19a19aa7a87434d8a8": {
      "model_module": "@jupyter-widgets/base",
      "model_module_version": "1.2.0",
      "model_name": "LayoutModel",
      "state": {}
     },
     "af735539f0d44b17a43fdee0fa19d3c8": {
      "model_module": "@jupyter-widgets/base",
      "model_module_version": "1.2.0",
      "model_name": "LayoutModel",
      "state": {}
     },
     "afa1021363af49de88975427748e550f": {
      "model_module": "@jupyter-widgets/base",
      "model_module_version": "1.2.0",
      "model_name": "LayoutModel",
      "state": {}
     },
     "b033bf28581d42398562de45ff76cc5d": {
      "model_module": "@jupyter-widgets/controls",
      "model_module_version": "1.5.0",
      "model_name": "DescriptionStyleModel",
      "state": {
       "description_width": ""
      }
     },
     "b05d7a9d1c034d6db25280d16d5acbb4": {
      "model_module": "@jupyter-widgets/controls",
      "model_module_version": "1.5.0",
      "model_name": "ProgressStyleModel",
      "state": {
       "description_width": ""
      }
     },
     "b266d35b4f304a40921907e4648a09a9": {
      "model_module": "@jupyter-widgets/base",
      "model_module_version": "1.2.0",
      "model_name": "LayoutModel",
      "state": {}
     },
     "b36fbab9fe1d43f5a0ce1760e0384fe7": {
      "model_module": "@jupyter-widgets/controls",
      "model_module_version": "1.5.0",
      "model_name": "ProgressStyleModel",
      "state": {
       "description_width": ""
      }
     },
     "b5f32cf7162846b5835da2a701436fa7": {
      "model_module": "@jupyter-widgets/controls",
      "model_module_version": "1.5.0",
      "model_name": "ProgressStyleModel",
      "state": {
       "description_width": ""
      }
     },
     "b6aaf838efaf45fe81e210b27452a271": {
      "model_module": "@jupyter-widgets/base",
      "model_module_version": "1.2.0",
      "model_name": "LayoutModel",
      "state": {}
     },
     "b6f7c942a18d49bab8b6ebd102a11dda": {
      "model_module": "@jupyter-widgets/base",
      "model_module_version": "1.2.0",
      "model_name": "LayoutModel",
      "state": {}
     },
     "b871bbf4619c48dd8c67c4bb9974b140": {
      "model_module": "@jupyter-widgets/base",
      "model_module_version": "1.2.0",
      "model_name": "LayoutModel",
      "state": {}
     },
     "bae568df8b3e44d5917bdde96f362c44": {
      "model_module": "@jupyter-widgets/controls",
      "model_module_version": "1.5.0",
      "model_name": "ProgressStyleModel",
      "state": {
       "description_width": ""
      }
     },
     "bbdc1ea89b354a45bec713f61f2a31ad": {
      "model_module": "@jupyter-widgets/controls",
      "model_module_version": "1.5.0",
      "model_name": "HBoxModel",
      "state": {
       "children": [
        "IPY_MODEL_e40acf6e02b24e918691fcb390bf18bd",
        "IPY_MODEL_4a5df25af8ea4f5aad8cd0ee07f25cf1",
        "IPY_MODEL_50c2d878aeb943c89245a5865603eb7d"
       ],
       "layout": "IPY_MODEL_f263d6ea95784995aca33ba78aaf942e"
      }
     },
     "bc3a44888eae4c82ac089f8b4eebba29": {
      "model_module": "@jupyter-widgets/base",
      "model_module_version": "1.2.0",
      "model_name": "LayoutModel",
      "state": {}
     },
     "bc6af45876144addac8de1b59d6993db": {
      "model_module": "@jupyter-widgets/controls",
      "model_module_version": "1.5.0",
      "model_name": "HTMLModel",
      "state": {
       "layout": "IPY_MODEL_9e9e3ec3b59f4f95b2fb63d01c563c8c",
       "style": "IPY_MODEL_864cfd74f7694e1884dcba26ff67a8b3",
       "value": "Populating Indicators: 100%"
      }
     },
     "bd2c845b3266489382006eb328a3390b": {
      "model_module": "@jupyter-widgets/base",
      "model_module_version": "1.2.0",
      "model_name": "LayoutModel",
      "state": {}
     },
     "bd6ecf245d4641bc8a66dbc209c81889": {
      "model_module": "@jupyter-widgets/controls",
      "model_module_version": "1.5.0",
      "model_name": "FloatProgressModel",
      "state": {
       "layout": "IPY_MODEL_2cc2ed07a9c64f53825cf54f208810a6",
       "max": 1,
       "style": "IPY_MODEL_d4a5b45edf594c399dabadbc27a34818",
       "value": 1
      }
     },
     "bebf55aa2f72446fb7d620791285d4b0": {
      "model_module": "@jupyter-widgets/controls",
      "model_module_version": "1.5.0",
      "model_name": "HTMLModel",
      "state": {
       "layout": "IPY_MODEL_671fde364c0a4ddfa5b9abcb53a0083f",
       "style": "IPY_MODEL_c0d0a1f8f04a4207852e477c0e50373c",
       "value": " 4/4 [00:00&lt;00:00,  6.31it/s]"
      }
     },
     "bef0f902c2044d748f3b0d3c05d33b84": {
      "model_module": "@jupyter-widgets/controls",
      "model_module_version": "1.5.0",
      "model_name": "FloatProgressModel",
      "state": {
       "layout": "IPY_MODEL_a8a664bdc01446819a4eebe427b67bcd",
       "max": 1,
       "style": "IPY_MODEL_683487201a19477bba7f432ac77fff53",
       "value": 1
      }
     },
     "c093eb4336874b798d081c82e97c054d": {
      "model_module": "@jupyter-widgets/controls",
      "model_module_version": "1.5.0",
      "model_name": "LabelModel",
      "state": {
       "layout": "IPY_MODEL_795e66004d8b4cedb36d39bf431248a9",
       "style": "IPY_MODEL_d778491b5a7a4b46ba3e3dff983a4f6b",
       "value": " 65.99MB of 65.99MB uploaded (0.00MB deduped)\r"
      }
     },
     "c0d0a1f8f04a4207852e477c0e50373c": {
      "model_module": "@jupyter-widgets/controls",
      "model_module_version": "1.5.0",
      "model_name": "DescriptionStyleModel",
      "state": {
       "description_width": ""
      }
     },
     "c11e17a488c64b3495d0c86df52f2824": {
      "model_module": "@jupyter-widgets/base",
      "model_module_version": "1.2.0",
      "model_name": "LayoutModel",
      "state": {}
     },
     "c1a244bc49f8451690180fbbbcebfebb": {
      "model_module": "@jupyter-widgets/base",
      "model_module_version": "1.2.0",
      "model_name": "LayoutModel",
      "state": {}
     },
     "c20b441deb334a4293d1f222861a70e0": {
      "model_module": "@jupyter-widgets/base",
      "model_module_version": "1.2.0",
      "model_name": "LayoutModel",
      "state": {}
     },
     "c2fa336b758947629c19c2a9a885f61f": {
      "model_module": "@jupyter-widgets/controls",
      "model_module_version": "1.5.0",
      "model_name": "DescriptionStyleModel",
      "state": {
       "description_width": ""
      }
     },
     "c3c8c0224cc6443c8088ac5c34cdacb3": {
      "model_module": "@jupyter-widgets/controls",
      "model_module_version": "1.5.0",
      "model_name": "ProgressStyleModel",
      "state": {
       "description_width": ""
      }
     },
     "c52d25fb418f48cc95f5e596f58c0b34": {
      "model_module": "@jupyter-widgets/controls",
      "model_module_version": "1.5.0",
      "model_name": "DescriptionStyleModel",
      "state": {
       "description_width": ""
      }
     },
     "c5dae52c5b5e4afbb46e76bf66ef601c": {
      "model_module": "@jupyter-widgets/controls",
      "model_module_version": "1.5.0",
      "model_name": "HBoxModel",
      "state": {
       "children": [
        "IPY_MODEL_bc6af45876144addac8de1b59d6993db",
        "IPY_MODEL_e25281e4cbe446d4b464abd14f1d1890",
        "IPY_MODEL_bebf55aa2f72446fb7d620791285d4b0"
       ],
       "layout": "IPY_MODEL_f155cfcdfa5947449d1d0ec5d2ce8868"
      }
     },
     "c5e29c9cb5a94c338a03a40e799b0a4b": {
      "model_module": "@jupyter-widgets/base",
      "model_module_version": "1.2.0",
      "model_name": "LayoutModel",
      "state": {}
     },
     "c5ef0d0414be4e79b5278b308246cef4": {
      "model_module": "@jupyter-widgets/base",
      "model_module_version": "1.2.0",
      "model_name": "LayoutModel",
      "state": {}
     },
     "c638f7e706d44b4192b627d5ef49b9d8": {
      "model_module": "@jupyter-widgets/base",
      "model_module_version": "1.2.0",
      "model_name": "LayoutModel",
      "state": {}
     },
     "c7a4b4237b774f3a9188c8d2cdb25ad6": {
      "model_module": "@jupyter-widgets/base",
      "model_module_version": "1.2.0",
      "model_name": "LayoutModel",
      "state": {}
     },
     "c84b9f8e2da64c4e851e5613ae78127b": {
      "model_module": "@jupyter-widgets/controls",
      "model_module_version": "1.5.0",
      "model_name": "LabelModel",
      "state": {
       "layout": "IPY_MODEL_b6aaf838efaf45fe81e210b27452a271",
       "style": "IPY_MODEL_260e3a2b6c0047f295967490f80a7907",
       "value": " 26.32MB of 26.32MB uploaded (0.00MB deduped)\r"
      }
     },
     "c98e87134f2147c2839002175a72b9c9": {
      "model_module": "@jupyter-widgets/controls",
      "model_module_version": "1.5.0",
      "model_name": "DescriptionStyleModel",
      "state": {
       "description_width": ""
      }
     },
     "cc97ec13ef5b4bf6a13150bc55babb26": {
      "model_module": "@jupyter-widgets/controls",
      "model_module_version": "1.5.0",
      "model_name": "DescriptionStyleModel",
      "state": {
       "description_width": ""
      }
     },
     "cf1ed223b026484ab142ffe1ca64e083": {
      "model_module": "@jupyter-widgets/base",
      "model_module_version": "1.2.0",
      "model_name": "LayoutModel",
      "state": {}
     },
     "cfe6da5ba81e46eca2daaace9e6e321f": {
      "model_module": "@jupyter-widgets/controls",
      "model_module_version": "1.5.0",
      "model_name": "DescriptionStyleModel",
      "state": {
       "description_width": ""
      }
     },
     "d16673ea584345898999a8be8e6b35b8": {
      "model_module": "@jupyter-widgets/controls",
      "model_module_version": "1.5.0",
      "model_name": "LabelModel",
      "state": {
       "layout": "IPY_MODEL_29afd4a2e39f43a98d9054224f3e87ea",
       "style": "IPY_MODEL_5ca3d13d5a334b8a98a09a5b3ccdc0fd",
       "value": " 26.32MB of 26.32MB uploaded (0.00MB deduped)\r"
      }
     },
     "d4a5b45edf594c399dabadbc27a34818": {
      "model_module": "@jupyter-widgets/controls",
      "model_module_version": "1.5.0",
      "model_name": "ProgressStyleModel",
      "state": {
       "description_width": ""
      }
     },
     "d64f795828354e4ca5c76bc776446bfa": {
      "model_module": "@jupyter-widgets/base",
      "model_module_version": "1.2.0",
      "model_name": "LayoutModel",
      "state": {}
     },
     "d778491b5a7a4b46ba3e3dff983a4f6b": {
      "model_module": "@jupyter-widgets/controls",
      "model_module_version": "1.5.0",
      "model_name": "DescriptionStyleModel",
      "state": {
       "description_width": ""
      }
     },
     "d8cb6edd8ce541f6b4df0a3ce71b5c69": {
      "model_module": "@jupyter-widgets/controls",
      "model_module_version": "1.5.0",
      "model_name": "LabelModel",
      "state": {
       "layout": "IPY_MODEL_741a4f2137de402e8ec35dd67c375509",
       "style": "IPY_MODEL_3d302b9ed899441db472cd0b17ba5e31",
       "value": " 24.64MB of 24.64MB uploaded (0.00MB deduped)\r"
      }
     },
     "dc000b1b199040b49e24376954560d0e": {
      "model_module": "@jupyter-widgets/controls",
      "model_module_version": "1.5.0",
      "model_name": "LabelModel",
      "state": {
       "layout": "IPY_MODEL_5c10c6b2e99147aaa9bee57212f7d5b3",
       "style": "IPY_MODEL_2cb385f8e2ea4e689d734d6ddb734403",
       "value": " 25.43MB of 25.43MB uploaded (0.00MB deduped)\r"
      }
     },
     "dc0efcd985c147e1ab7374ff8059e25d": {
      "model_module": "@jupyter-widgets/controls",
      "model_module_version": "1.5.0",
      "model_name": "ProgressStyleModel",
      "state": {
       "description_width": ""
      }
     },
     "dca7d5c605644d13818e62fb95e40358": {
      "model_module": "@jupyter-widgets/controls",
      "model_module_version": "1.5.0",
      "model_name": "FloatProgressModel",
      "state": {
       "layout": "IPY_MODEL_4e8e064bfd3b4064a7a6782bb99a8f0a",
       "max": 1,
       "style": "IPY_MODEL_5d40b86fb95446c0931f7f5af3abbbf4",
       "value": 1
      }
     },
     "de99784b632c4dcea1d96e0acbf3f443": {
      "model_module": "@jupyter-widgets/controls",
      "model_module_version": "1.5.0",
      "model_name": "DescriptionStyleModel",
      "state": {
       "description_width": ""
      }
     },
     "dec5c13050ab4076a86519618a3eb2ca": {
      "model_module": "@jupyter-widgets/base",
      "model_module_version": "1.2.0",
      "model_name": "LayoutModel",
      "state": {}
     },
     "decc1822d8754bbcb449ea7a67214c01": {
      "model_module": "@jupyter-widgets/controls",
      "model_module_version": "1.5.0",
      "model_name": "ProgressStyleModel",
      "state": {
       "description_width": ""
      }
     },
     "df61b238bdaf47dcabbc8ef519d8f6ac": {
      "model_module": "@jupyter-widgets/base",
      "model_module_version": "1.2.0",
      "model_name": "LayoutModel",
      "state": {}
     },
     "e1a901f8dc4449e39d3547a5caa99607": {
      "model_module": "@jupyter-widgets/controls",
      "model_module_version": "1.5.0",
      "model_name": "LabelModel",
      "state": {
       "layout": "IPY_MODEL_11c6d39b40584978b46c1f0273ec84bf",
       "style": "IPY_MODEL_13ed61c373324b56884848040afe8648",
       "value": " 24.43MB of 24.43MB uploaded (0.00MB deduped)\r"
      }
     },
     "e25281e4cbe446d4b464abd14f1d1890": {
      "model_module": "@jupyter-widgets/controls",
      "model_module_version": "1.5.0",
      "model_name": "FloatProgressModel",
      "state": {
       "bar_style": "success",
       "layout": "IPY_MODEL_e960cfb3a19a40abb4376078cdb5b31f",
       "max": 4,
       "style": "IPY_MODEL_dc0efcd985c147e1ab7374ff8059e25d",
       "value": 4
      }
     },
     "e2e436fbab7249a99e92a859f885ae9c": {
      "model_module": "@jupyter-widgets/base",
      "model_module_version": "1.2.0",
      "model_name": "LayoutModel",
      "state": {}
     },
     "e40acf6e02b24e918691fcb390bf18bd": {
      "model_module": "@jupyter-widgets/controls",
      "model_module_version": "1.5.0",
      "model_name": "HTMLModel",
      "state": {
       "layout": "IPY_MODEL_3624b9a8d4944efea43654e78242b4ae",
       "style": "IPY_MODEL_fb696ac347224a9989bc2de5b50c948f",
       "value": "Populating Indicators: 100%"
      }
     },
     "e60b9466830244fcb2416041ca9e60e0": {
      "model_module": "@jupyter-widgets/controls",
      "model_module_version": "1.5.0",
      "model_name": "FloatProgressModel",
      "state": {
       "bar_style": "success",
       "layout": "IPY_MODEL_9d22c02cab36478eba373fb77f5e758c",
       "max": 4,
       "style": "IPY_MODEL_4ea447e22c874e849ab1011ba2d49c71",
       "value": 4
      }
     },
     "e78e49c1a2b74be0b8be51c5a94e6b73": {
      "model_module": "@jupyter-widgets/controls",
      "model_module_version": "1.5.0",
      "model_name": "HTMLModel",
      "state": {
       "layout": "IPY_MODEL_362c813d7be8418e889d550f1b3c9516",
       "style": "IPY_MODEL_ed28460e3ce248c3a1eee2ac1e32f0ba",
       "value": "Populating Indicators: 100%"
      }
     },
     "e8834b80a5d645f6a2247e59557b53f8": {
      "model_module": "@jupyter-widgets/base",
      "model_module_version": "1.2.0",
      "model_name": "LayoutModel",
      "state": {}
     },
     "e960cfb3a19a40abb4376078cdb5b31f": {
      "model_module": "@jupyter-widgets/base",
      "model_module_version": "1.2.0",
      "model_name": "LayoutModel",
      "state": {}
     },
     "eafe103a72f948238f53050467823119": {
      "model_module": "@jupyter-widgets/controls",
      "model_module_version": "1.5.0",
      "model_name": "HTMLModel",
      "state": {
       "layout": "IPY_MODEL_9dbc70ffdce34f2eae37cea3d13b980f",
       "style": "IPY_MODEL_5806c646d9644005821ed2da1a0b2bd6",
       "value": " 4/4 [00:00&lt;00:00, 53.87it/s]"
      }
     },
     "ebc7c5b97b3945c2b6adc4d0bf3796c0": {
      "model_module": "@jupyter-widgets/controls",
      "model_module_version": "1.5.0",
      "model_name": "LabelModel",
      "state": {
       "layout": "IPY_MODEL_1971849b7750410a93813bb4ea2de6d9",
       "style": "IPY_MODEL_cc97ec13ef5b4bf6a13150bc55babb26",
       "value": " 24.55MB of 24.55MB uploaded (0.00MB deduped)\r"
      }
     },
     "ebe3239af1264268ba403831545f88af": {
      "model_module": "@jupyter-widgets/controls",
      "model_module_version": "1.5.0",
      "model_name": "FloatProgressModel",
      "state": {
       "layout": "IPY_MODEL_3312deefe9bc4696be9a67b0acab9cff",
       "max": 1,
       "style": "IPY_MODEL_b36fbab9fe1d43f5a0ce1760e0384fe7",
       "value": 1
      }
     },
     "ed28460e3ce248c3a1eee2ac1e32f0ba": {
      "model_module": "@jupyter-widgets/controls",
      "model_module_version": "1.5.0",
      "model_name": "DescriptionStyleModel",
      "state": {
       "description_width": ""
      }
     },
     "ed2ee1fd7e87410281ed53b11fc370b2": {
      "model_module": "@jupyter-widgets/base",
      "model_module_version": "1.2.0",
      "model_name": "LayoutModel",
      "state": {}
     },
     "efa7fb60847c450a97433109ce0c1bf1": {
      "model_module": "@jupyter-widgets/controls",
      "model_module_version": "1.5.0",
      "model_name": "HBoxModel",
      "state": {
       "children": [
        "IPY_MODEL_e78e49c1a2b74be0b8be51c5a94e6b73",
        "IPY_MODEL_e60b9466830244fcb2416041ca9e60e0",
        "IPY_MODEL_30ba742f30f742618cc7cd27685d6faf"
       ],
       "layout": "IPY_MODEL_73c17ecee9f241919602a3fb16077009"
      }
     },
     "f0be2a9cf726410c96ede7375e41a2c2": {
      "model_module": "@jupyter-widgets/base",
      "model_module_version": "1.2.0",
      "model_name": "LayoutModel",
      "state": {}
     },
     "f155cfcdfa5947449d1d0ec5d2ce8868": {
      "model_module": "@jupyter-widgets/base",
      "model_module_version": "1.2.0",
      "model_name": "LayoutModel",
      "state": {}
     },
     "f263d6ea95784995aca33ba78aaf942e": {
      "model_module": "@jupyter-widgets/base",
      "model_module_version": "1.2.0",
      "model_name": "LayoutModel",
      "state": {}
     },
     "f3edb79492ac445aa08047ef962bfe31": {
      "model_module": "@jupyter-widgets/controls",
      "model_module_version": "1.5.0",
      "model_name": "FloatProgressModel",
      "state": {
       "bar_style": "success",
       "layout": "IPY_MODEL_c1a244bc49f8451690180fbbbcebfebb",
       "max": 4,
       "style": "IPY_MODEL_1fd3d1ad2ad14bcaaab999e973780126",
       "value": 4
      }
     },
     "f6bc708915974c8d825eb45ca63c0ea3": {
      "model_module": "@jupyter-widgets/controls",
      "model_module_version": "1.5.0",
      "model_name": "HTMLModel",
      "state": {
       "layout": "IPY_MODEL_56cfac13e8714098b875bdb5375cb4d8",
       "style": "IPY_MODEL_8e3f968ccd5740c5b40a826c55f89915",
       "value": "Populating Indicators: 100%"
      }
     },
     "f8c6be2b2eb74800a842bb1ad99d1862": {
      "model_module": "@jupyter-widgets/controls",
      "model_module_version": "1.5.0",
      "model_name": "ProgressStyleModel",
      "state": {
       "description_width": ""
      }
     },
     "f9bda0baedc0471cbf9f8754b16ecc5b": {
      "model_module": "@jupyter-widgets/controls",
      "model_module_version": "1.5.0",
      "model_name": "FloatProgressModel",
      "state": {
       "layout": "IPY_MODEL_2ca1cdef00b24d3f9c5a328481f00b7e",
       "max": 1,
       "style": "IPY_MODEL_81d5569acd024674aa7acae35598c024",
       "value": 1
      }
     },
     "f9d4ac2faa9b49389c0da08f610a9eff": {
      "model_module": "@jupyter-widgets/controls",
      "model_module_version": "1.5.0",
      "model_name": "FloatProgressModel",
      "state": {
       "layout": "IPY_MODEL_af735539f0d44b17a43fdee0fa19d3c8",
       "max": 1,
       "style": "IPY_MODEL_a4eb3aec8f2744199d671e53104d1b6f",
       "value": 1
      }
     },
     "fa619de8440b464db102b9fdff4eb669": {
      "model_module": "@jupyter-widgets/controls",
      "model_module_version": "1.5.0",
      "model_name": "LabelModel",
      "state": {
       "layout": "IPY_MODEL_3a77dff7344c47cc8472fe8dbbfbe227",
       "style": "IPY_MODEL_4e778703cc13401688cf34093fd0bb7f",
       "value": " 24.26MB of 24.26MB uploaded (0.00MB deduped)\r"
      }
     },
     "fb696ac347224a9989bc2de5b50c948f": {
      "model_module": "@jupyter-widgets/controls",
      "model_module_version": "1.5.0",
      "model_name": "DescriptionStyleModel",
      "state": {
       "description_width": ""
      }
     },
     "fc14a668c2ca4c49a66fc8c7501951ac": {
      "model_module": "@jupyter-widgets/controls",
      "model_module_version": "1.5.0",
      "model_name": "FloatProgressModel",
      "state": {
       "layout": "IPY_MODEL_11714921f57e4e74898e6f01585bd379",
       "max": 1,
       "style": "IPY_MODEL_072d4e22e58b4cc6bce26d5ca2747eee",
       "value": 1
      }
     },
     "fc42bc05eb684d6aacf29356be6e70dd": {
      "model_module": "@jupyter-widgets/controls",
      "model_module_version": "1.5.0",
      "model_name": "LabelModel",
      "state": {
       "layout": "IPY_MODEL_96318a2070554a67a52500d4e8dba92f",
       "style": "IPY_MODEL_48af2b61bd6b443d9bce626dbb18c25b",
       "value": " 24.35MB of 24.35MB uploaded (0.00MB deduped)\r"
      }
     },
     "fd63576139304b209d71d8b8b608e8b5": {
      "model_module": "@jupyter-widgets/base",
      "model_module_version": "1.2.0",
      "model_name": "LayoutModel",
      "state": {}
     },
     "fd78bf4f11114d668ce6c504072ba999": {
      "model_module": "@jupyter-widgets/controls",
      "model_module_version": "1.5.0",
      "model_name": "FloatProgressModel",
      "state": {
       "layout": "IPY_MODEL_df61b238bdaf47dcabbc8ef519d8f6ac",
       "max": 1,
       "style": "IPY_MODEL_1edb7bb395a04ec2aef54da6c38c8d45",
       "value": 1
      }
     },
     "fd8fb14adfc4457aba58876e6bcf3d01": {
      "model_module": "@jupyter-widgets/base",
      "model_module_version": "1.2.0",
      "model_name": "LayoutModel",
      "state": {}
     },
     "ffb8c434a00844c9a76943d2f077f15e": {
      "model_module": "@jupyter-widgets/base",
      "model_module_version": "1.2.0",
      "model_name": "LayoutModel",
      "state": {}
     }
    },
    "version_major": 2,
    "version_minor": 0
   }
  }
 },
 "nbformat": 4,
 "nbformat_minor": 5
}
