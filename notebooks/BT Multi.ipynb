{
 "cells": [
  {
   "cell_type": "code",
   "execution_count": null,
   "id": "356b64bb-883e-4f4b-9024-a4b39b471582",
   "metadata": {},
   "outputs": [],
   "source": [
    "%load_ext autoreload\n",
    "%autoreload 2\n",
    "%env WANDB_SILENT=true\n",
    "\n",
    "from pathlib import Path\n",
    "import matplotlib.pyplot as plt\n",
    "import pandas as pd\n",
    "import quantstats as qs\n",
    "import os\n",
    "import logging\n",
    "import json\n",
    "\n",
    "logger = logging.getLogger(\"wandb\")\n",
    "logger.setLevel(logging.ERROR)\n",
    "qs.extend_pandas()\n",
    "plt.style.use(\"seaborn-whitegrid\")\n",
    "pd.set_option('display.max_rows', 200)\n",
    "\n",
    "if \"freqtrade\" not in os.listdir():\n",
    "    os.chdir(\"..\")\n",
    "    import nest_asyncio\n",
    "    nest_asyncio.apply()\n",
    "\n",
    "PATH_MOUNT = Path.cwd().parent / \"mount\"\n",
    "print(\"Working Directory:\", os.getcwd())\n",
    "\n",
    "# Freqtrade Imports\n",
    "from freqtrade.optimize.optimize_reports import text_table_add_metrics\n",
    "from freqtrade.nbtools import plotting"
   ]
  },
  {
   "cell_type": "markdown",
   "id": "ce4fc14b-e4cf-4cfc-b7c1-33018b1908d8",
   "metadata": {},
   "source": [
    "## BT Multi\n",
    "\n",
    "BT Multi will let you do backtesting using multiple presets. It can be ConfigPreset, LocalPreset, or CloudPreset. You can combine them!"
   ]
  },
  {
   "cell_type": "code",
   "execution_count": null,
   "id": "6438cd4b-739c-42f2-8224-e298e63fe3b8",
   "metadata": {},
   "outputs": [],
   "source": [
    "# Work In Progress"
   ]
  }
 ],
 "metadata": {
  "kernelspec": {
   "display_name": "Python 3 (ipykernel)",
   "language": "python",
   "name": "python3"
  },
  "language_info": {
   "codemirror_mode": {
    "name": "ipython",
    "version": 3
   },
   "file_extension": ".py",
   "mimetype": "text/x-python",
   "name": "python",
   "nbconvert_exporter": "python",
   "pygments_lexer": "ipython3",
   "version": "3.9.5"
  }
 },
 "nbformat": 4,
 "nbformat_minor": 5
}
