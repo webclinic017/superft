{
 "cells": [
  {
   "cell_type": "code",
   "execution_count": null,
   "id": "356b64bb-883e-4f4b-9024-a4b39b471582",
   "metadata": {},
   "outputs": [],
   "source": [
    "# Freqtrade Workspace\n",
    "\n",
    "# Notebook Helper\n",
    "%load_ext autoreload\n",
    "%autoreload 2\n",
    "%env WANDB_SILENT=true\n",
    "\n",
    "# Standard Imports\n",
    "from pathlib import Path\n",
    "from typing import List, Callable, Tuple, Any\n",
    "from wandb.wandb_run import Run\n",
    "from datetime import datetime, timedelta\n",
    "import attr\n",
    "import gc\n",
    "import os\n",
    "import wandb\n",
    "import nest_asyncio\n",
    "import logging\n",
    "import sys\n",
    "import pandas as pd\n",
    "import numpy as np\n",
    "\n",
    "# Resolve CWD\n",
    "gc.collect()\n",
    "nest_asyncio.apply()\n",
    "\n",
    "while \"freqtrade\" not in os.listdir():\n",
    "    os.chdir(\"..\")\n",
    "    if \"freqtrade\" in os.listdir():\n",
    "        nest_asyncio.apply()\n",
    "        logger = logging.getLogger(\"freqtrade.ml\")\n",
    "        handler = logging.StreamHandler(stream=sys.stdout)\n",
    "        handler.setFormatter(logging.Formatter(\"%(name)s - %(message)s\"))\n",
    "        logger.addHandler(handler)\n",
    "        logger.setLevel(logging.DEBUG)\n",
    "\n",
    "# Freqtrade Imports\n",
    "from freqtrade.optimize.optimize_reports import text_table_add_metrics\n",
    "from freqtrade.ml.lightning import LightningModule, LightningConfig\n",
    "from freqtrade.ml.trainer import TradingTrainer\n",
    "from freqtrade.ml.container import LightningContainer\n",
    "from freqtrade.ml import loader, lightning_utils\n",
    "from freqtrade.nbtools.preset import LocalPreset, ConfigPreset, FilePreset, CloudPreset\n",
    "from freqtrade.nbtools.backtest import backtest\n",
    "from freqtrade.nbtools import plotting, configs\n",
    "from freqtrade.nbtools.helper import free_mem\n",
    "from freqtrade.nbtools.pairs import PAIRS_HIGHCAP_NONSTABLE\n",
    "\n",
    "# Constants\n",
    "PATH_MOUNT = Path.cwd().parent / \"mount\"\n",
    "PATH_DATA = PATH_MOUNT / \"data\" / \"binance\"\n",
    "PATH_PRESETS = PATH_MOUNT / \"presets\"\n",
    "\n",
    "# Define custom functions\n",
    "def foo() -> str:\n",
    "    return \"bar\""
   ]
  },
  {
   "cell_type": "markdown",
   "id": "ce4fc14b-e4cf-4cfc-b7c1-33018b1908d8",
   "metadata": {},
   "source": [
    "## BT Multi\n",
    "\n",
    "BT Multi will let you do backtesting using multiple presets. It can be ConfigPreset, LocalPreset, or CloudPreset. You can combine them!"
   ]
  },
  {
   "cell_type": "code",
   "execution_count": null,
   "id": "6438cd4b-739c-42f2-8224-e298e63fe3b8",
   "metadata": {},
   "outputs": [],
   "source": [
    "# TODO: To be implemented"
   ]
  }
 ],
 "metadata": {
  "kernelspec": {
   "display_name": "Python 3 (ipykernel)",
   "language": "python",
   "name": "python3"
  },
  "language_info": {
   "codemirror_mode": {
    "name": "ipython",
    "version": 3
   },
   "file_extension": ".py",
   "mimetype": "text/x-python",
   "name": "python",
   "nbconvert_exporter": "python",
   "pygments_lexer": "ipython3",
   "version": "3.9.5"
  }
 },
 "nbformat": 4,
 "nbformat_minor": 5
}
