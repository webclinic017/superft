{
 "cells": [
  {
   "cell_type": "code",
   "execution_count": 2,
   "metadata": {},
   "outputs": [],
   "source": [
    "\n",
    "\"\"\"\n",
    "Training Workflow:\n",
    "1. Run your Docker Freqtrade Jupyterlab\n",
    "2. Download newest data (TODO: Kaggle lib script to remove old data then upload new one, cuts step 3 through 4)\n",
    "3. Zip downloaded data\n",
    "4. Upload to Kaggle\n",
    "5. Open Kaggle notebook that cointains training ML model (or create a new one)\n",
    "6. Train model\n",
    "7. Predict then do some EDA\n",
    "8. Backtest using that model\n",
    "\n",
    "Backtest Workflow:\n",
    "1. Create new preset and IStrategy\n",
    "2. Tweak the strategy parameters (E.G: Good point thresholding, Adding TA filters like buy on divergence only, Hyperopting)\n",
    "3. Run freqtrade backtesting in notebook. Timerange: After val period when training\n",
    "4. Are the equity curve good enough?\n",
    "   Yes: Save to \"candidate\" then Dry run for 1 week\n",
    "   No: Return to step 2\n",
    "5. Are the dry run good enough?\n",
    "   Yes: Live run!\n",
    "   No: Back to step 2 or training\n",
    "\"\"\"\n",
    "def resolve_imports():\n",
    "    import os\n",
    "    import stackprinter\n",
    "    stackprinter.set_excepthook(style='darkbg2')  # for jupyter notebooks try style='lightbg'\n",
    "\n",
    "\n",
    "    if \"freqtrade\" not in os.listdir():\n",
    "        os.chdir(\"..\")\n",
    "        import nest_asyncio\n",
    "        nest_asyncio.apply()\n",
    "\n",
    "resolve_imports()"
   ]
  },
  {
   "cell_type": "code",
   "execution_count": 3,
   "metadata": {},
   "outputs": [
    {
     "name": "stderr",
     "output_type": "stream",
     "text": [
      "Failed to detect the name of this notebook, you can set it manually with the WANDB_NOTEBOOK_NAME environment variable to enable code saving.\n",
      "\u001b[34m\u001b[1mwandb\u001b[0m: Currently logged in as: \u001b[33mjliberooo\u001b[0m (use `wandb login --relogin` to force relogin)\n"
     ]
    },
    {
     "data": {
      "text/html": [
       "\n",
       "                Tracking run with wandb version 0.10.33<br/>\n",
       "                Syncing run <strong style=\"color:#cdcd00\">flowing-violet-65</strong> to <a href=\"https://wandb.ai\" target=\"_blank\">Weights & Biases</a> <a href=\"https://docs.wandb.com/integrations/jupyter.html\" target=\"_blank\">(Documentation)</a>.<br/>\n",
       "                Project page: <a href=\"https://wandb.ai/jliberooo/ft-presets\" target=\"_blank\">https://wandb.ai/jliberooo/ft-presets</a><br/>\n",
       "                Run page: <a href=\"https://wandb.ai/jliberooo/ft-presets/runs/3jp6lh83\" target=\"_blank\">https://wandb.ai/jliberooo/ft-presets/runs/3jp6lh83</a><br/>\n",
       "                Run data is saved locally in <code>c:\\CS\\Python\\crypto-collection\\freqtrade\\superft\\wandb\\run-20210712_225541-3jp6lh83</code><br/><br/>\n",
       "            "
      ],
      "text/plain": [
       "<IPython.core.display.HTML object>"
      ]
     },
     "metadata": {},
     "output_type": "display_data"
    },
    {
     "name": "stderr",
     "output_type": "stream",
     "text": [
      "\u001b[34m\u001b[1mwandb\u001b[0m: Adding directory to artifact (.\\.temp\\ma_crossover__backtest-2021-07-12_22-55-41)... Done. 0.0s\n"
     ]
    },
    {
     "data": {
      "text/html": [
       "<br/>Waiting for W&B process to finish, PID 1860<br/>Program ended successfully."
      ],
      "text/plain": [
       "<IPython.core.display.HTML object>"
      ]
     },
     "metadata": {},
     "output_type": "display_data"
    },
    {
     "data": {
      "application/vnd.jupyter.widget-view+json": {
       "model_id": "b92d486fd40a4654bcd94609e4054b2f",
       "version_major": 2,
       "version_minor": 0
      },
      "text/plain": [
       "VBox(children=(Label(value=' 0.22MB of 0.22MB uploaded (0.00MB deduped)\\r'), FloatProgress(value=1.0, max=1.0)…"
      ]
     },
     "metadata": {},
     "output_type": "display_data"
    },
    {
     "data": {
      "text/html": [
       "Find user logs for this run at: <code>c:\\CS\\Python\\crypto-collection\\freqtrade\\superft\\wandb\\run-20210712_225541-3jp6lh83\\logs\\debug.log</code>"
      ],
      "text/plain": [
       "<IPython.core.display.HTML object>"
      ]
     },
     "metadata": {},
     "output_type": "display_data"
    },
    {
     "data": {
      "text/html": [
       "Find internal logs for this run at: <code>c:\\CS\\Python\\crypto-collection\\freqtrade\\superft\\wandb\\run-20210712_225541-3jp6lh83\\logs\\debug-internal.log</code>"
      ],
      "text/plain": [
       "<IPython.core.display.HTML object>"
      ]
     },
     "metadata": {},
     "output_type": "display_data"
    },
    {
     "data": {
      "text/html": [
       "Synced 6 W&B file(s), 0 media file(s), 6 artifact file(s) and 1 other file(s)"
      ],
      "text/plain": [
       "<IPython.core.display.HTML object>"
      ]
     },
     "metadata": {},
     "output_type": "display_data"
    },
    {
     "data": {
      "text/html": [
       "\n",
       "                    <br/>Synced <strong style=\"color:#cdcd00\">flowing-violet-65</strong>: <a href=\"https://wandb.ai/jliberooo/ft-presets/runs/3jp6lh83\" target=\"_blank\">https://wandb.ai/jliberooo/ft-presets/runs/3jp6lh83</a><br/>\n",
       "                "
      ],
      "text/plain": [
       "<IPython.core.display.HTML object>"
      ]
     },
     "metadata": {},
     "output_type": "display_data"
    },
    {
     "data": {
      "text/html": [
       "\n",
       "                Tracking run with wandb version 0.10.33<br/>\n",
       "                Syncing run <strong style=\"color:#cdcd00\">young-puddle-66</strong> to <a href=\"https://wandb.ai\" target=\"_blank\">Weights & Biases</a> <a href=\"https://docs.wandb.com/integrations/jupyter.html\" target=\"_blank\">(Documentation)</a>.<br/>\n",
       "                Project page: <a href=\"https://wandb.ai/jliberooo/ft-presets\" target=\"_blank\">https://wandb.ai/jliberooo/ft-presets</a><br/>\n",
       "                Run page: <a href=\"https://wandb.ai/jliberooo/ft-presets/runs/rk6pvfma\" target=\"_blank\">https://wandb.ai/jliberooo/ft-presets/runs/rk6pvfma</a><br/>\n",
       "                Run data is saved locally in <code>c:\\CS\\Python\\crypto-collection\\freqtrade\\superft\\wandb\\run-20210712_225555-rk6pvfma</code><br/><br/>\n",
       "            "
      ],
      "text/plain": [
       "<IPython.core.display.HTML object>"
      ]
     },
     "metadata": {},
     "output_type": "display_data"
    },
    {
     "data": {
      "text/html": [
       "<br/>Waiting for W&B process to finish, PID 21020<br/>Program ended successfully."
      ],
      "text/plain": [
       "<IPython.core.display.HTML object>"
      ]
     },
     "metadata": {},
     "output_type": "display_data"
    },
    {
     "data": {
      "application/vnd.jupyter.widget-view+json": {
       "model_id": "a2fc0ce3dd1c41a6ac0aa727a89e5e0f",
       "version_major": 2,
       "version_minor": 0
      },
      "text/plain": [
       "VBox(children=(Label(value=' 0.04MB of 0.04MB uploaded (0.00MB deduped)\\r'), FloatProgress(value=1.0, max=1.0)…"
      ]
     },
     "metadata": {},
     "output_type": "display_data"
    },
    {
     "data": {
      "text/html": [
       "Find user logs for this run at: <code>c:\\CS\\Python\\crypto-collection\\freqtrade\\superft\\wandb\\run-20210712_225555-rk6pvfma\\logs\\debug.log</code>"
      ],
      "text/plain": [
       "<IPython.core.display.HTML object>"
      ]
     },
     "metadata": {},
     "output_type": "display_data"
    },
    {
     "data": {
      "text/html": [
       "Find internal logs for this run at: <code>c:\\CS\\Python\\crypto-collection\\freqtrade\\superft\\wandb\\run-20210712_225555-rk6pvfma\\logs\\debug-internal.log</code>"
      ],
      "text/plain": [
       "<IPython.core.display.HTML object>"
      ]
     },
     "metadata": {},
     "output_type": "display_data"
    },
    {
     "data": {
      "text/html": [
       "Synced 5 W&B file(s), 0 media file(s), 1 artifact file(s) and 1 other file(s)"
      ],
      "text/plain": [
       "<IPython.core.display.HTML object>"
      ]
     },
     "metadata": {},
     "output_type": "display_data"
    },
    {
     "data": {
      "text/html": [
       "\n",
       "                    <br/>Synced <strong style=\"color:#cdcd00\">young-puddle-66</strong>: <a href=\"https://wandb.ai/jliberooo/ft-presets/runs/rk6pvfma\" target=\"_blank\">https://wandb.ai/jliberooo/ft-presets/runs/rk6pvfma</a><br/>\n",
       "                "
      ],
      "text/plain": [
       "<IPython.core.display.HTML object>"
      ]
     },
     "metadata": {},
     "output_type": "display_data"
    },
    {
     "name": "stdout",
     "output_type": "stream",
     "text": [
      "Result for strategy NotebookStrategy\n",
      "========================================================== BACKTESTING REPORT =========================================================\n",
      "|     Pair |   Buys |   Avg Profit % |   Cum Profit % |   Tot Profit USDT |   Tot Profit % |   Avg Duration |   Win  Draw  Loss  Win% |\n",
      "|----------+--------+----------------+----------------+-------------------+----------------+----------------+-------------------------|\n",
      "| BTC/USDT |    329 |          -0.28 |         -92.92 |           -13.952 |          -1.40 |        0:51:00 |   117     0   212  35.6 |\n",
      "|    TOTAL |    329 |          -0.28 |         -92.92 |           -13.952 |          -1.40 |        0:51:00 |   117     0   212  35.6 |\n",
      "===================================================== SELL REASON STATS =====================================================\n",
      "|   Sell Reason |   Sells |   Win  Draws  Loss  Win% |   Avg Profit % |   Cum Profit % |   Tot Profit USDT |   Tot Profit % |\n",
      "|---------------+---------+--------------------------+----------------+----------------+-------------------+----------------|\n",
      "|     stop_loss |     175 |      0     0   175     0 |          -1.2  |        -209.62 |           -31.474 |        -209.62 |\n",
      "|           roi |     112 |    112     0     0   100 |           1.22 |         136.29 |            20.463 |         136.29 |\n",
      "|   sell_signal |      41 |      5     0    36  12.2 |          -0.46 |         -19.04 |            -2.858 |         -19.04 |\n",
      "|    force_sell |       1 |      0     0     1     0 |          -0.56 |          -0.56 |            -0.084 |          -0.56 |\n",
      "======================================================= LEFT OPEN TRADES REPORT =======================================================\n",
      "|     Pair |   Buys |   Avg Profit % |   Cum Profit % |   Tot Profit USDT |   Tot Profit % |   Avg Duration |   Win  Draw  Loss  Win% |\n",
      "|----------+--------+----------------+----------------+-------------------+----------------+----------------+-------------------------|\n",
      "| BTC/USDT |      1 |          -0.56 |          -0.56 |            -0.084 |          -0.01 |        0:15:00 |     0     0     1     0 |\n",
      "|    TOTAL |      1 |          -0.56 |          -0.56 |            -0.084 |          -0.01 |        0:15:00 |     0     0     1     0 |\n",
      "=============== SUMMARY METRICS ================\n",
      "| Metric                 | Value               |\n",
      "|------------------------+---------------------|\n",
      "| Backtesting from       | 2021-05-01 00:00:00 |\n",
      "| Backtesting to         | 2021-06-01 00:00:00 |\n",
      "| Max open trades        | 1                   |\n",
      "|                        |                     |\n",
      "| Total/Daily Avg Trades | 329 / 10.61         |\n",
      "| Starting balance       | 1000.000 USDT       |\n",
      "| Final balance          | 986.048 USDT        |\n",
      "| Absolute profit        | -13.952 USDT        |\n",
      "| Total profit %         | -1.4%               |\n",
      "| Avg. stake amount      | 15.000 USDT         |\n",
      "| Total trade volume     | 4935.000 USDT       |\n",
      "|                        |                     |\n",
      "| Best Pair              | BTC/USDT -92.92%    |\n",
      "| Worst Pair             | BTC/USDT -92.92%    |\n",
      "| Best trade             | BTC/USDT 2.0%       |\n",
      "| Worst trade            | BTC/USDT -1.2%      |\n",
      "| Best day               | 0.675 USDT          |\n",
      "| Worst day              | -2.492 USDT         |\n",
      "| Days win/draw/lose     | 4 / 0 / 28          |\n",
      "| Avg. Duration Winners  | 0:59:00             |\n",
      "| Avg. Duration Loser    | 0:47:00             |\n",
      "| Zero Duration Trades   | 0.00% (0)           |\n",
      "| Rejected Buy signals   | 0                   |\n",
      "|                        |                     |\n",
      "| Min balance            | 985.272 USDT        |\n",
      "| Max balance            | 999.952 USDT        |\n",
      "| Drawdown               | 97.77%              |\n",
      "| Drawdown               | 14.680 USDT         |\n",
      "| Drawdown high          | -0.048 USDT         |\n",
      "| Drawdown low           | -14.728 USDT        |\n",
      "| Drawdown Start         | 2021-05-01 07:30:00 |\n",
      "| Drawdown End           | 2021-05-30 00:30:00 |\n",
      "| Market change          | -29.66%             |\n",
      "================================================\n",
      "\n"
     ]
    }
   ],
   "source": [
    "resolve_imports()\n",
    "\n",
    "from freqtrade.nbtools.preset import Preset\n",
    "\n",
    "\n",
    "def strategy_func():\n",
    "    \"\"\" Start Strategy Coding \"\"\"\n",
    "    from typing import Dict, List, Tuple, Union, Optional, Callable\n",
    "    from pandas import DataFrame\n",
    "    import numpy as np  # noqa\n",
    "    import pandas as pd  # noqa\n",
    "    from freqtrade.nbtools.strategy import INbStrategy\n",
    "    # --------------------------------\n",
    "    # Add your lib to import here\n",
    "    import talib.abstract as ta\n",
    "    import freqtrade.vendor.qtpylib.indicators as qtpylib\n",
    "    import sklearn\n",
    "    import pickle\n",
    "    import marshal\n",
    "    import types\n",
    "\n",
    "    # Load ML models so it only loaded once (Cached)\n",
    "    def load_model():\n",
    "        pass\n",
    "\n",
    "    # Start Configure Strategy\n",
    "    class NotebookStrategy(INbStrategy):\n",
    "        timeframe: str = \"15m\"\n",
    "        minimal_roi: Dict[int, float] = {\"0\": 0.02, \"30\": 0.01}\n",
    "        stoploss: float = -0.01\n",
    "        startup_candle_count: int = 100\n",
    "        \n",
    "        def populate_indicators(self, dataframe: DataFrame, metadata: dict) -> DataFrame:\n",
    "            dataframe[\"ema_10\"] = ta.EMA(dataframe[\"close\"], timeperiod=10)\n",
    "            dataframe[\"ema_20\"] = ta.EMA(dataframe[\"close\"], timeperiod=20)\n",
    "            return dataframe\n",
    "\n",
    "        def populate_buy_trend(self, dataframe: DataFrame, metadata: dict) -> DataFrame:\n",
    "            dataframe.loc[\n",
    "                (\n",
    "                    (dataframe['ema_10'] > dataframe['ema_20']) &\n",
    "                    (dataframe['volume'] > 0)  # Make sure Volume is not 0\n",
    "                ),\n",
    "                'buy'] = 1\n",
    "            return dataframe\n",
    "\n",
    "        def populate_sell_trend(self, dataframe: DataFrame, metadata: dict) -> DataFrame:\n",
    "            dataframe.loc[\n",
    "                (\n",
    "                    (dataframe['ema_10'] < dataframe['ema_20']) &\n",
    "                    (dataframe['volume'] > 0)  # Make sure Volume is not 0\n",
    "                ),\n",
    "                'sell'] = 1\n",
    "            return dataframe\n",
    "    \n",
    "    \"\"\"End Strategy Coding\"\"\"\n",
    "\n",
    "\n",
    "# Start Configure Backtesting\n",
    "preset = Preset(\n",
    "    name = \"ma_crossover\",\n",
    "    datadir = \"../mount/data/binance\",\n",
    "    exchange = \"binance\",\n",
    "    timerange = \"20210501-20210601\",\n",
    "    stake_amount = 15,\n",
    "    starting_balance = 1000,\n",
    "    max_open_trades = 100,\n",
    "    fee = 0.001,\n",
    "    pairs = [\"BTC/USDT\"],\n",
    ")\n",
    "stats, summary = preset.backtest_by_strategy_func(strategy_func)\n",
    "print(summary)"
   ]
  },
  {
   "cell_type": "code",
   "execution_count": 3,
   "metadata": {},
   "outputs": [
    {
     "data": {
      "text/plain": [
       "{'preset_name': 'self.name',\n",
       " 'backtest_date': 'get_readable_date()',\n",
       " 'leverage': 1,\n",
       " 'direction': 'long',\n",
       " 'is_hedging': False,\n",
       " 'num_pairs': 1,\n",
       " 'data_source': \"self.config['exchange']\",\n",
       " 'win_rate': 0.3556231003039514,\n",
       " 'avg_profit_winners_abs': 0.1759729905128205,\n",
       " 'avg_profit_losers_abs': -0.16293023740566037,\n",
       " 'sum_profit_winners_abs': 20.58883989,\n",
       " 'sum_profit_losers_abs': -34.54121033,\n",
       " 'profit_factor': 0.5960659656479386,\n",
       " 'profit_per_drawdown': -0.9504429291487234,\n",
       " 'expectancy_abs': -0.04240842079027354,\n",
       " 'total_trades': 329,\n",
       " 'total_volume': 4935.0,\n",
       " 'avg_stake_amount': 15.0,\n",
       " 'profit_mean': -0.002824405957446809,\n",
       " 'profit_median': -0.01197802,\n",
       " 'profit_total': -0.013952370439999999,\n",
       " 'profit_total_abs': -13.95237044,\n",
       " 'backtest_start': '2021-05-01 00:00:00',\n",
       " 'backtest_start_ts': 1619827200000,\n",
       " 'backtest_end': '2021-06-01 00:00:00',\n",
       " 'backtest_end_ts': 1622505600000,\n",
       " 'backtest_days': 31,\n",
       " 'backtest_run_start_ts': 1625751172,\n",
       " 'backtest_run_end_ts': 1625751172,\n",
       " 'trades_per_day': 10.61,\n",
       " 'market_change': -0.2966096961886866,\n",
       " 'pairlist': \"['BTC/USDT']\",\n",
       " 'stake_amount': 15,\n",
       " 'stake_currency': 'USDT',\n",
       " 'stake_currency_decimals': 3,\n",
       " 'starting_balance': 1000,\n",
       " 'dry_run_wallet': 1000,\n",
       " 'final_balance': 986.04762956,\n",
       " 'rejected_signals': 0,\n",
       " 'max_open_trades': 1,\n",
       " 'max_open_trades_setting': 100,\n",
       " 'timeframe': '15m',\n",
       " 'timerange': '20210501-20210601',\n",
       " 'enable_protections': False,\n",
       " 'strategy_name': 'NotebookStrategy',\n",
       " 'stoploss': -0.01,\n",
       " 'trailing_stop': False,\n",
       " 'trailing_stop_positive': None,\n",
       " 'trailing_stop_positive_offset': 0.0,\n",
       " 'trailing_only_offset_is_reached': False,\n",
       " 'use_custom_stoploss': False,\n",
       " 'minimal_roi': \"{'0': 0.02, '30': 0.01}\",\n",
       " 'use_sell_signal': True,\n",
       " 'sell_profit_only': False,\n",
       " 'sell_profit_offset': 0.0,\n",
       " 'ignore_roi_if_buy_signal': False,\n",
       " 'backtest_best_day': 0.04493299,\n",
       " 'backtest_worst_day': -0.16596732000000003,\n",
       " 'backtest_best_day_abs': 0.67467306,\n",
       " 'backtest_worst_day_abs': -2.49200548,\n",
       " 'winning_days': 4,\n",
       " 'draw_days': 0,\n",
       " 'losing_days': 28,\n",
       " 'wins': 117,\n",
       " 'losses': 212,\n",
       " 'draws': 0,\n",
       " 'holding_avg': '0:51:00',\n",
       " 'holding_avg_s': 3060.0,\n",
       " 'winner_holding_avg': '0:59:00',\n",
       " 'winner_holding_avg_s': 3540.0,\n",
       " 'loser_holding_avg': '0:47:00',\n",
       " 'loser_holding_avg_s': 2820.0,\n",
       " 'zero_duration_trades': 0,\n",
       " 'max_drawdown': 0.9776803600000036,\n",
       " 'max_drawdown_abs': 14.679861370000008,\n",
       " 'drawdown_start': '2021-05-01 07:30:00',\n",
       " 'drawdown_start_ts': 1619854200000.0,\n",
       " 'drawdown_end': '2021-05-30 00:30:00',\n",
       " 'drawdown_end_ts': 1622334600000.0,\n",
       " 'max_drawdown_low': -14.728090550000008,\n",
       " 'max_drawdown_high': -0.04822918,\n",
       " 'csum_min': 985.27190945,\n",
       " 'csum_max': 999.95177082}"
      ]
     },
     "execution_count": 3,
     "metadata": {},
     "output_type": "execute_result"
    }
   ],
   "source": [
    "import pandas as pd\n",
    "from copy import deepcopy\n",
    "\n",
    "all_stats = deepcopy(stats)\n",
    "trades = pd.DataFrame(deepcopy(stats[\"strategy\"][\"NotebookStrategy\"][\"trades\"]))\n",
    "trades_summary = deepcopy(stats[\"strategy\"][\"NotebookStrategy\"])\n",
    "\n",
    "del trades_summary[\"trades\"]\n",
    "del trades_summary[\"locks\"]\n",
    "del trades_summary[\"best_pair\"]\n",
    "del trades_summary[\"worst_pair\"]\n",
    "del trades_summary[\"results_per_pair\"]\n",
    "del trades_summary[\"sell_reason_summary\"]\n",
    "del trades_summary[\"left_open_trades\"]\n",
    "\n",
    "metadata = {}\n",
    "metadata[\"preset_name\"] = \"self.name\"\n",
    "metadata[\"backtest_date\"] = \"get_readable_date()\"\n",
    "metadata[\"leverage\"] = 1\n",
    "metadata[\"direction\"] = \"long\"\n",
    "metadata[\"is_hedging\"] = False\n",
    "metadata[\"num_pairs\"] = len(trades_summary[\"pairlist\"])\n",
    "metadata[\"data_source\"] = \"self.config['exchange']\"\n",
    "metadata[\"win_rate\"] = trades_summary[\"wins\"] / trades_summary[\"total_trades\"]\n",
    "metadata[\"avg_profit_winners_abs\"] = trades.loc[trades[\"profit_abs\"] >= 0, \"profit_abs\"].dropna().mean()\n",
    "metadata[\"avg_profit_losers_abs\"] = trades.loc[trades[\"profit_abs\"] < 0, \"profit_abs\"].dropna().mean()\n",
    "metadata[\"sum_profit_winners_abs\"] = trades.loc[trades[\"profit_abs\"] >= 0, \"profit_abs\"].dropna().sum()\n",
    "metadata[\"sum_profit_losers_abs\"] = trades.loc[trades[\"profit_abs\"] < 0, \"profit_abs\"].dropna().sum()\n",
    "metadata[\"profit_factor\"] = metadata[\"sum_profit_winners_abs\"] / abs(metadata[\"sum_profit_losers_abs\"])\n",
    "metadata[\"profit_per_drawdown\"] = trades_summary[\"profit_total_abs\"] / abs(trades_summary[\"max_drawdown_abs\"])\n",
    "metadata[\"expectancy_abs\"] = (\n",
    "    (metadata[\"win_rate\"] * metadata[\"avg_profit_winners_abs\"]) + \n",
    "    ((1 - metadata[\"win_rate\"]) * metadata[\"avg_profit_losers_abs\"])\n",
    ")\n",
    "\n",
    "for key, value in trades_summary.items():\n",
    "    is_valid = any(\n",
    "        [isinstance(value, it) for it in (str, int, float, bool)] + [value is None],\n",
    "    )\n",
    "    if not is_valid:\n",
    "        trades_summary[key] = str(value)\n",
    "\n",
    "metadata = {**metadata, **trades_summary}\n",
    "metadata"
   ]
  },
  {
   "cell_type": "code",
   "execution_count": 3,
   "metadata": {},
   "outputs": [
    {
     "name": "stderr",
     "output_type": "stream",
     "text": [
      "Failed to detect the name of this notebook, you can set it manually with the WANDB_NOTEBOOK_NAME environment variable to enable code saving.\n",
      "\u001b[34m\u001b[1mwandb\u001b[0m: Currently logged in as: \u001b[33mjliberooo\u001b[0m (use `wandb login --relogin` to force relogin)\n"
     ]
    },
    {
     "data": {
      "text/html": [
       "\n",
       "                Tracking run with wandb version 0.10.33<br/>\n",
       "                Syncing run <strong style=\"color:#cdcd00\">toasty-water-4</strong> to <a href=\"https://wandb.ai\" target=\"_blank\">Weights & Biases</a> <a href=\"https://docs.wandb.com/integrations/jupyter.html\" target=\"_blank\">(Documentation)</a>.<br/>\n",
       "                Project page: <a href=\"https://wandb.ai/jliberooo/ft-presets\" target=\"_blank\">https://wandb.ai/jliberooo/ft-presets</a><br/>\n",
       "                Run page: <a href=\"https://wandb.ai/jliberooo/ft-presets/runs/bx31g2db\" target=\"_blank\">https://wandb.ai/jliberooo/ft-presets/runs/bx31g2db</a><br/>\n",
       "                Run data is saved locally in <code>c:\\CS\\Python\\crypto-collection\\freqtrade-futures\\wandb\\run-20210708_204236-bx31g2db</code><br/><br/>\n",
       "            "
      ],
      "text/plain": [
       "<IPython.core.display.HTML object>"
      ]
     },
     "metadata": {},
     "output_type": "display_data"
    },
    {
     "name": "stdout",
     "output_type": "stream",
     "text": [
      "Project jliberooo/ft-presets does not contain artifact: \"table-metadata:latest\"\n",
      "Creating new table...\n"
     ]
    },
    {
     "data": {
      "text/html": [
       "<br/>Waiting for W&B process to finish, PID 30616<br/>Program ended successfully."
      ],
      "text/plain": [
       "<IPython.core.display.HTML object>"
      ]
     },
     "metadata": {},
     "output_type": "display_data"
    },
    {
     "data": {
      "application/vnd.jupyter.widget-view+json": {
       "model_id": "637e46c0c98544bbb4242079789399d9",
       "version_major": 2,
       "version_minor": 0
      },
      "text/plain": [
       "VBox(children=(Label(value=' 0.05MB of 0.05MB uploaded (0.00MB deduped)\\r'), FloatProgress(value=1.0, max=1.0)…"
      ]
     },
     "metadata": {},
     "output_type": "display_data"
    },
    {
     "data": {
      "text/html": [
       "Find user logs for this run at: <code>c:\\CS\\Python\\crypto-collection\\freqtrade-futures\\wandb\\run-20210708_204236-bx31g2db\\logs\\debug.log</code>"
      ],
      "text/plain": [
       "<IPython.core.display.HTML object>"
      ]
     },
     "metadata": {},
     "output_type": "display_data"
    },
    {
     "data": {
      "text/html": [
       "Find internal logs for this run at: <code>c:\\CS\\Python\\crypto-collection\\freqtrade-futures\\wandb\\run-20210708_204236-bx31g2db\\logs\\debug-internal.log</code>"
      ],
      "text/plain": [
       "<IPython.core.display.HTML object>"
      ]
     },
     "metadata": {},
     "output_type": "display_data"
    },
    {
     "data": {
      "text/html": [
       "Synced 6 W&B file(s), 0 media file(s), 1 artifact file(s) and 1 other file(s)"
      ],
      "text/plain": [
       "<IPython.core.display.HTML object>"
      ]
     },
     "metadata": {},
     "output_type": "display_data"
    },
    {
     "data": {
      "text/html": [
       "\n",
       "                    <br/>Synced <strong style=\"color:#cdcd00\">toasty-water-4</strong>: <a href=\"https://wandb.ai/jliberooo/ft-presets/runs/bx31g2db\" target=\"_blank\">https://wandb.ai/jliberooo/ft-presets/runs/bx31g2db</a><br/>\n",
       "                "
      ],
      "text/plain": [
       "<IPython.core.display.HTML object>"
      ]
     },
     "metadata": {},
     "output_type": "display_data"
    }
   ],
   "source": [
    "metadata = {'preset_name': 'self.name',\n",
    " 'backtest_date': 'get_readable_date()',\n",
    " 'leverage': 1,\n",
    " 'direction': 'long',\n",
    " 'is_hedging': False,\n",
    " 'num_pairs': 1,\n",
    " 'data_source': \"self.config['exchange']\",\n",
    " 'win_rate': 0.3556231003039514,\n",
    " 'avg_profit_winners_abs': 0.1759729905128205,\n",
    " 'avg_profit_losers_abs': -0.16293023740566037,\n",
    " 'sum_profit_winners_abs': 20.58883989,\n",
    " 'sum_profit_losers_abs': -34.54121033,\n",
    " 'profit_factor': 0.5960659656479386,\n",
    " 'profit_per_drawdown': -0.9504429291487234,\n",
    " 'expectancy_abs': -0.04240842079027354,\n",
    " 'total_trades': 329,\n",
    " 'total_volume': 4935.0,\n",
    " 'avg_stake_amount': 15.0,\n",
    " 'profit_mean': -0.002824405957446809,\n",
    " 'profit_median': -0.01197802,\n",
    " 'profit_total': -0.013952370439999999,\n",
    " 'profit_total_abs': -13.95237044,\n",
    " 'backtest_start': '2021-05-01 00:00:00',\n",
    " 'backtest_start_ts': 1619827200000,\n",
    " 'backtest_end': '2021-06-01 00:00:00',\n",
    " 'backtest_end_ts': 1622505600000,\n",
    " 'backtest_days': 31,\n",
    " 'backtest_run_start_ts': 1625751172,\n",
    " 'backtest_run_end_ts': 1625751172,\n",
    " 'trades_per_day': 10.61,\n",
    " 'market_change': -0.2966096961886866,\n",
    " 'pairlist': \"['BTC/USDT']\",\n",
    " 'stake_amount': 15,\n",
    " 'stake_currency': 'USDT',\n",
    " 'stake_currency_decimals': 3,\n",
    " 'starting_balance': 1000,\n",
    " 'dry_run_wallet': 1000,\n",
    " 'final_balance': 986.04762956,\n",
    " 'rejected_signals': 0,\n",
    " 'max_open_trades': 1,\n",
    " 'max_open_trades_setting': 100,\n",
    " 'timeframe': '15m',\n",
    " 'timerange': '20210501-20210601',\n",
    " 'enable_protections': False,\n",
    " 'strategy_name': 'NotebookStrategy',\n",
    " 'stoploss': -0.01,\n",
    " 'trailing_stop': False,\n",
    " 'trailing_stop_positive': None,\n",
    " 'trailing_stop_positive_offset': 0.0,\n",
    " 'trailing_only_offset_is_reached': False,\n",
    " 'use_custom_stoploss': False,\n",
    " 'minimal_roi': \"{'0': 0.02, '30': 0.01}\",\n",
    " 'use_sell_signal': True,\n",
    " 'sell_profit_only': False,\n",
    " 'sell_profit_offset': 0.0,\n",
    " 'ignore_roi_if_buy_signal': False,\n",
    " 'backtest_best_day': 0.04493299,\n",
    " 'backtest_worst_day': -0.16596732000000003,\n",
    " 'backtest_best_day_abs': 0.67467306,\n",
    " 'backtest_worst_day_abs': -2.49200548,\n",
    " 'winning_days': 4,\n",
    " 'draw_days': 0,\n",
    " 'losing_days': 28,\n",
    " 'wins': 117,\n",
    " 'losses': 212,\n",
    " 'draws': 0,\n",
    " 'holding_avg': '0:51:00',\n",
    " 'holding_avg_s': 3060.0,\n",
    " 'winner_holding_avg': '0:59:00',\n",
    " 'winner_holding_avg_s': 3540.0,\n",
    " 'loser_holding_avg': '0:47:00',\n",
    " 'loser_holding_avg_s': 2820.0,\n",
    " 'zero_duration_trades': 0,\n",
    " 'max_drawdown': 0.9776803600000036,\n",
    " 'max_drawdown_abs': 14.679861370000008,\n",
    " 'drawdown_start': '2021-05-01 07:30:00',\n",
    " 'drawdown_start_ts': 1619854200000.0,\n",
    " 'drawdown_end': '2021-05-30 00:30:00',\n",
    " 'drawdown_end_ts': 1622334600000.0,\n",
    " 'max_drawdown_low': -14.728090550000008,\n",
    " 'max_drawdown_high': -0.04822918,\n",
    " 'csum_min': 985.27190945,\n",
    " 'csum_max': 999.95177082}\n",
    "\n",
    "from freqtrade.nbtools import remote_utils, constants\n",
    "import pandas as pd\n",
    "\n",
    "metadata_df = pd.DataFrame({key:[value] for key, value in metadata.items()})\n",
    "remote_utils.table_update(metadata_df, constants.PROJECT_NAME, constants.ARTIFACT_TABLE_METADATA, constants.TABLEKEY_METADATA)"
   ]
  },
  {
   "cell_type": "code",
   "execution_count": 2,
   "metadata": {},
   "outputs": [
    {
     "name": "stderr",
     "output_type": "stream",
     "text": [
      "Failed to detect the name of this notebook, you can set it manually with the WANDB_NOTEBOOK_NAME environment variable to enable code saving.\n",
      "\u001b[34m\u001b[1mwandb\u001b[0m: Currently logged in as: \u001b[33mjliberooo\u001b[0m (use `wandb login --relogin` to force relogin)\n"
     ]
    },
    {
     "data": {
      "text/html": [
       "\n",
       "                Tracking run with wandb version 0.10.33<br/>\n",
       "                Syncing run <strong style=\"color:#cdcd00\">comic-glitter-9</strong> to <a href=\"https://wandb.ai\" target=\"_blank\">Weights & Biases</a> <a href=\"https://docs.wandb.com/integrations/jupyter.html\" target=\"_blank\">(Documentation)</a>.<br/>\n",
       "                Project page: <a href=\"https://wandb.ai/jliberooo/ft-presets\" target=\"_blank\">https://wandb.ai/jliberooo/ft-presets</a><br/>\n",
       "                Run page: <a href=\"https://wandb.ai/jliberooo/ft-presets/runs/18916nja\" target=\"_blank\">https://wandb.ai/jliberooo/ft-presets/runs/18916nja</a><br/>\n",
       "                Run data is saved locally in <code>c:\\CS\\Python\\crypto-collection\\freqtrade-futures\\wandb\\run-20210709_164612-18916nja</code><br/><br/>\n",
       "            "
      ],
      "text/plain": [
       "<IPython.core.display.HTML object>"
      ]
     },
     "metadata": {},
     "output_type": "display_data"
    },
    {
     "data": {
      "text/html": [
       "<br/>Waiting for W&B process to finish, PID 24124<br/>Program ended successfully."
      ],
      "text/plain": [
       "<IPython.core.display.HTML object>"
      ]
     },
     "metadata": {},
     "output_type": "display_data"
    },
    {
     "data": {
      "application/vnd.jupyter.widget-view+json": {
       "model_id": "ed0a6b4d9f164150a37619e732f3a367",
       "version_major": 2,
       "version_minor": 0
      },
      "text/plain": [
       "VBox(children=(Label(value=' 0.01MB of 0.01MB uploaded (0.00MB deduped)\\r'), FloatProgress(value=1.0, max=1.0)…"
      ]
     },
     "metadata": {},
     "output_type": "display_data"
    },
    {
     "data": {
      "text/html": [
       "Find user logs for this run at: <code>c:\\CS\\Python\\crypto-collection\\freqtrade-futures\\wandb\\run-20210709_164612-18916nja\\logs\\debug.log</code>"
      ],
      "text/plain": [
       "<IPython.core.display.HTML object>"
      ]
     },
     "metadata": {},
     "output_type": "display_data"
    },
    {
     "data": {
      "text/html": [
       "Find internal logs for this run at: <code>c:\\CS\\Python\\crypto-collection\\freqtrade-futures\\wandb\\run-20210709_164612-18916nja\\logs\\debug-internal.log</code>"
      ],
      "text/plain": [
       "<IPython.core.display.HTML object>"
      ]
     },
     "metadata": {},
     "output_type": "display_data"
    },
    {
     "data": {
      "text/html": [
       "Synced 5 W&B file(s), 0 media file(s), 0 artifact file(s) and 1 other file(s)"
      ],
      "text/plain": [
       "<IPython.core.display.HTML object>"
      ]
     },
     "metadata": {},
     "output_type": "display_data"
    },
    {
     "data": {
      "text/html": [
       "\n",
       "                    <br/>Synced <strong style=\"color:#cdcd00\">comic-glitter-9</strong>: <a href=\"https://wandb.ai/jliberooo/ft-presets/runs/18916nja\" target=\"_blank\">https://wandb.ai/jliberooo/ft-presets/runs/18916nja</a><br/>\n",
       "                "
      ],
      "text/plain": [
       "<IPython.core.display.HTML object>"
      ]
     },
     "metadata": {},
     "output_type": "display_data"
    },
    {
     "data": {
      "text/html": [
       "<div>\n",
       "<style scoped>\n",
       "    .dataframe tbody tr th:only-of-type {\n",
       "        vertical-align: middle;\n",
       "    }\n",
       "\n",
       "    .dataframe tbody tr th {\n",
       "        vertical-align: top;\n",
       "    }\n",
       "\n",
       "    .dataframe thead th {\n",
       "        text-align: right;\n",
       "    }\n",
       "</style>\n",
       "<table border=\"1\" class=\"dataframe\">\n",
       "  <thead>\n",
       "    <tr style=\"text-align: right;\">\n",
       "      <th></th>\n",
       "      <th>preset_name</th>\n",
       "      <th>backtest_date</th>\n",
       "      <th>leverage</th>\n",
       "      <th>direction</th>\n",
       "      <th>is_hedging</th>\n",
       "      <th>num_pairs</th>\n",
       "      <th>data_source</th>\n",
       "      <th>win_rate</th>\n",
       "      <th>avg_profit_winners_abs</th>\n",
       "      <th>avg_profit_losers_abs</th>\n",
       "      <th>...</th>\n",
       "      <th>max_drawdown</th>\n",
       "      <th>max_drawdown_abs</th>\n",
       "      <th>drawdown_start</th>\n",
       "      <th>drawdown_start_ts</th>\n",
       "      <th>drawdown_end</th>\n",
       "      <th>drawdown_end_ts</th>\n",
       "      <th>max_drawdown_low</th>\n",
       "      <th>max_drawdown_high</th>\n",
       "      <th>csum_min</th>\n",
       "      <th>csum_max</th>\n",
       "    </tr>\n",
       "  </thead>\n",
       "  <tbody>\n",
       "    <tr>\n",
       "      <th>1</th>\n",
       "      <td>ma_crossover__backtest-2021-07-08_20-45-34</td>\n",
       "      <td>2021-07-08_20-45-34</td>\n",
       "      <td>1</td>\n",
       "      <td>long</td>\n",
       "      <td>False</td>\n",
       "      <td>1</td>\n",
       "      <td>self.config['exchange']</td>\n",
       "      <td>0.355623</td>\n",
       "      <td>0.175973</td>\n",
       "      <td>-0.16293</td>\n",
       "      <td>...</td>\n",
       "      <td>0.97768</td>\n",
       "      <td>14.679861</td>\n",
       "      <td>2021-05-01 07:30:00</td>\n",
       "      <td>1.619854e+12</td>\n",
       "      <td>2021-05-30 00:30:00</td>\n",
       "      <td>1.622335e+12</td>\n",
       "      <td>-14.728091</td>\n",
       "      <td>-0.048229</td>\n",
       "      <td>985.271909</td>\n",
       "      <td>999.951771</td>\n",
       "    </tr>\n",
       "  </tbody>\n",
       "</table>\n",
       "<p>1 rows × 83 columns</p>\n",
       "</div>"
      ],
      "text/plain": [
       "                                  preset_name        backtest_date  leverage  \\\n",
       "1  ma_crossover__backtest-2021-07-08_20-45-34  2021-07-08_20-45-34         1   \n",
       "\n",
       "  direction  is_hedging  num_pairs              data_source  win_rate  \\\n",
       "1      long       False          1  self.config['exchange']  0.355623   \n",
       "\n",
       "   avg_profit_winners_abs  avg_profit_losers_abs  ...  max_drawdown  \\\n",
       "1                0.175973               -0.16293  ...       0.97768   \n",
       "\n",
       "   max_drawdown_abs       drawdown_start  drawdown_start_ts  \\\n",
       "1         14.679861  2021-05-01 07:30:00       1.619854e+12   \n",
       "\n",
       "          drawdown_end  drawdown_end_ts  max_drawdown_low  max_drawdown_high  \\\n",
       "1  2021-05-30 00:30:00     1.622335e+12        -14.728091          -0.048229   \n",
       "\n",
       "     csum_min    csum_max  \n",
       "1  985.271909  999.951771  \n",
       "\n",
       "[1 rows x 83 columns]"
      ]
     },
     "execution_count": 2,
     "metadata": {},
     "output_type": "execute_result"
    }
   ],
   "source": [
    "from freqtrade.nbtools import remote_utils\n",
    "\n",
    "remote_utils.cloud_get_presets_df(True)"
   ]
  },
  {
   "cell_type": "code",
   "execution_count": 3,
   "metadata": {},
   "outputs": [
    {
     "name": "stdout",
     "output_type": "stream",
     "text": [
      "{'max_open_trades': 1000, 'stake_currency': 'USDT', 'stake_amount': 15, 'tradable_balance_ratio': 0.99, 'fiat_display_currency': 'USD', 'dry_run': True, 'cancel_open_orders_on_exit': False, 'unfilledtimeout': {'buy': 10, 'sell': 30}, 'bid_strategy': {'ask_last_balance': 0.0, 'use_order_book': False, 'order_book_top': 1, 'check_depth_of_market': {'enabled': False, 'bids_to_ask_delta': 1}}, 'ask_strategy': {'use_order_book': False, 'order_book_min': 1, 'order_book_max': 1, 'use_sell_signal': True, 'sell_profit_only': False, 'ignore_roi_if_buy_signal': False}, 'exchange': {'name': 'binance', 'key': 'your_exchange_key', 'secret': 'your_exchange_secret', 'ccxt_config': {'enableRateLimit': True}, 'ccxt_async_config': {'enableRateLimit': True, 'rateLimit': 200}, 'pair_whitelist': ['BTC/USDT'], 'pair_blacklist': ['BNB/BTC']}, 'pairlists': [{'method': 'StaticPairList'}], 'edge': {'enabled': False, 'process_throttle_secs': 3600, 'calculate_since_number_of_days': 7, 'allowed_risk': 0.01, 'stoploss_range_min': -0.01, 'stoploss_range_max': -0.1, 'stoploss_range_step': -0.01, 'minimum_winrate': 0.6, 'minimum_expectancy': 0.2, 'min_trade_number': 10, 'max_trade_duration_minute': 1440, 'remove_pumps': False}, 'telegram': {'enabled': False, 'token': 'your_telegram_token', 'chat_id': 'your_telegram_chat_id'}, 'api_server': {'enabled': False, 'listen_ip_address': '127.0.0.1', 'listen_port': 8080, 'verbosity': 'error', 'jwt_secret_key': 'somethingrandom', 'CORS_origins': [], 'username': 'freqtrader', 'password': 'SuperSecurePassword'}, 'bot_name': 'freqtrade', 'initial_state': 'running', 'forcebuy_enable': False, 'internals': {'process_throttle_secs': 5}}\n"
     ]
    }
   ],
   "source": [
    "import sys\n",
    "import rapidjson\n",
    "\n",
    "path = \"../freqtrade/mount/presets/test_strategy/config-backtesting.json\"\n",
    "\n",
    "with open(path) if path != '-' else sys.stdin as file:\n",
    "    print(rapidjson.load(file))"
   ]
  },
  {
   "cell_type": "code",
   "execution_count": null,
   "metadata": {},
   "outputs": [],
   "source": []
  },
  {
   "cell_type": "code",
   "execution_count": 10,
   "metadata": {},
   "outputs": [
    {
     "ename": "NameError",
     "evalue": "name 'self' is not defined",
     "output_type": "error",
     "traceback": [
      "\u001b[1;31m---------------------------------------------------------------------------\u001b[0m",
      "\u001b[1;31mNameError\u001b[0m                                 Traceback (most recent call last)",
      "\u001b[1;32m~\\AppData\\Local\\Temp/ipykernel_30792/1086360082.py\u001b[0m in \u001b[0;36m<module>\u001b[1;34m\u001b[0m\n\u001b[0;32m      3\u001b[0m \u001b[1;33m\u001b[0m\u001b[0m\n\u001b[0;32m      4\u001b[0m \u001b[0mstrategy_code\u001b[0m \u001b[1;33m=\u001b[0m \u001b[0mget_function_body\u001b[0m\u001b[1;33m(\u001b[0m\u001b[0mstrategy_func\u001b[0m\u001b[1;33m)\u001b[0m\u001b[1;33m\u001b[0m\u001b[1;33m\u001b[0m\u001b[0m\n\u001b[1;32m----> 5\u001b[1;33m \u001b[0mstrategy\u001b[0m \u001b[1;33m=\u001b[0m \u001b[0mget_class_from_string\u001b[0m\u001b[1;33m(\u001b[0m\u001b[0mstrategy_code\u001b[0m\u001b[1;33m,\u001b[0m \u001b[1;34m\"NotebookStrategy\"\u001b[0m\u001b[1;33m)\u001b[0m\u001b[1;33m(\u001b[0m\u001b[0mself\u001b[0m\u001b[1;33m.\u001b[0m\u001b[0mconfig\u001b[0m\u001b[1;33m)\u001b[0m\u001b[1;33m\u001b[0m\u001b[1;33m\u001b[0m\u001b[0m\n\u001b[0m",
      "\u001b[1;31mNameError\u001b[0m: name 'self' is not defined"
     ]
    }
   ],
   "source": [
    "from freqtrade.nbtools.helper import get_function_body, get_class_from_string\n",
    "from freqtrade.nbtools.strategy import INbStrategy\n",
    "\n",
    "strategy_code = get_function_body(strategy_func)\n",
    "strategy = get_class_from_string(strategy_code, \"NotebookStrategy\")(self.config)"
   ]
  },
  {
   "cell_type": "code",
   "execution_count": 5,
   "metadata": {},
   "outputs": [
    {
     "name": "stdout",
     "output_type": "stream",
     "text": [
      "Result for strategy NotebookStrategy\n",
      "========================================================== BACKTESTING REPORT =========================================================\n",
      "|     Pair |   Buys |   Avg Profit % |   Cum Profit % |   Tot Profit USDT |   Tot Profit % |   Avg Duration |   Win  Draw  Loss  Win% |\n",
      "|----------+--------+----------------+----------------+-------------------+----------------+----------------+-------------------------|\n",
      "| BTC/USDT |    329 |          -0.28 |         -92.92 |           -13.952 |          -1.40 |        0:51:00 |   117     0   212  35.6 |\n",
      "|    TOTAL |    329 |          -0.28 |         -92.92 |           -13.952 |          -1.40 |        0:51:00 |   117     0   212  35.6 |\n",
      "===================================================== SELL REASON STATS =====================================================\n",
      "|   Sell Reason |   Sells |   Win  Draws  Loss  Win% |   Avg Profit % |   Cum Profit % |   Tot Profit USDT |   Tot Profit % |\n",
      "|---------------+---------+--------------------------+----------------+----------------+-------------------+----------------|\n",
      "|     stop_loss |     175 |      0     0   175     0 |          -1.2  |        -209.62 |           -31.474 |        -209.62 |\n",
      "|           roi |     112 |    112     0     0   100 |           1.22 |         136.29 |            20.463 |         136.29 |\n",
      "|   sell_signal |      41 |      5     0    36  12.2 |          -0.46 |         -19.04 |            -2.858 |         -19.04 |\n",
      "|    force_sell |       1 |      0     0     1     0 |          -0.56 |          -0.56 |            -0.084 |          -0.56 |\n",
      "======================================================= LEFT OPEN TRADES REPORT =======================================================\n",
      "|     Pair |   Buys |   Avg Profit % |   Cum Profit % |   Tot Profit USDT |   Tot Profit % |   Avg Duration |   Win  Draw  Loss  Win% |\n",
      "|----------+--------+----------------+----------------+-------------------+----------------+----------------+-------------------------|\n",
      "| BTC/USDT |      1 |          -0.56 |          -0.56 |            -0.084 |          -0.01 |        0:15:00 |     0     0     1     0 |\n",
      "|    TOTAL |      1 |          -0.56 |          -0.56 |            -0.084 |          -0.01 |        0:15:00 |     0     0     1     0 |\n",
      "=============== SUMMARY METRICS ================\n",
      "| Metric                 | Value               |\n",
      "|------------------------+---------------------|\n",
      "| Backtesting from       | 2021-05-01 00:00:00 |\n",
      "| Backtesting to         | 2021-06-01 00:00:00 |\n",
      "| Max open trades        | 1                   |\n",
      "|                        |                     |\n",
      "| Total/Daily Avg Trades | 329 / 10.61         |\n",
      "| Starting balance       | 1000.000 USDT       |\n",
      "| Final balance          | 986.048 USDT        |\n",
      "| Absolute profit        | -13.952 USDT        |\n",
      "| Total profit %         | -1.4%               |\n",
      "| Avg. stake amount      | 15.000 USDT         |\n",
      "| Total trade volume     | 4935.000 USDT       |\n",
      "|                        |                     |\n",
      "| Best Pair              | BTC/USDT -92.92%    |\n",
      "| Worst Pair             | BTC/USDT -92.92%    |\n",
      "| Best trade             | BTC/USDT 2.0%       |\n",
      "| Worst trade            | BTC/USDT -1.2%      |\n",
      "| Best day               | 0.675 USDT          |\n",
      "| Worst day              | -2.492 USDT         |\n",
      "| Days win/draw/lose     | 4 / 0 / 28          |\n",
      "| Avg. Duration Winners  | 0:59:00             |\n",
      "| Avg. Duration Loser    | 0:47:00             |\n",
      "| Zero Duration Trades   | 0.00% (0)           |\n",
      "| Rejected Buy signals   | 0                   |\n",
      "|                        |                     |\n",
      "| Min balance            | 985.272 USDT        |\n",
      "| Max balance            | 999.952 USDT        |\n",
      "| Drawdown               | 97.77%              |\n",
      "| Drawdown               | 14.680 USDT         |\n",
      "| Drawdown high          | -0.048 USDT         |\n",
      "| Drawdown low           | -14.728 USDT        |\n",
      "| Drawdown Start         | 2021-05-01 07:30:00 |\n",
      "| Drawdown End           | 2021-05-30 00:30:00 |\n",
      "| Market change          | -29.66%             |\n",
      "================================================\n",
      "\n",
      "2021-07-02 20:40:37,594 - freqtrade - INFO - EXECUTED: <function start_backtesting at 0x00000256E9313DC0>({'command': 'backtesting', 'verbosity': 0, 'logfile': None, 'config': ['../freqtrade/mount/presets/test_strategy/config-backtesting.json'], 'datadir': '../freqtrade/mount/data/binance', 'user_data_dir': '../freqtrade/mount/presets/test_strategy', 'strategy': 'NotebookStrategy', 'strategy_path': None, 'timeframe': '15m', 'timerange': '20210501-20210601', 'dataformat_ohlcv': None, 'max_open_trades': None, 'stake_amount': None, 'fee': None, 'pairs': None, 'position_stacking': False, 'use_max_market_positions': True, 'enable_protections': False, 'dry_run_wallet': None, 'strategy_list': None, 'export': None, 'exportfilename': None, 'func': <function start_backtesting at 0x00000256E9313DC0>})\n",
      "2021-07-02 20:40:37,596 - freqtrade.configuration.configuration - INFO - Using config: ../freqtrade/mount/presets/test_strategy/config-backtesting.json ...\n",
      "2021-07-02 20:40:37,597 - freqtrade.loggers - INFO - Verbosity set to 0\n",
      "2021-07-02 20:40:37,597 - freqtrade.configuration.configuration - INFO - Parameter -i/--timeframe detected ... Using timeframe: 15m ...\n",
      "2021-07-02 20:40:37,597 - freqtrade.configuration.configuration - INFO - Using max_open_trades: 1000 ...\n",
      "2021-07-02 20:40:37,597 - freqtrade.configuration.configuration - INFO - Parameter --timerange detected: 20210501-20210601 ...\n",
      "2021-07-02 20:40:37,597 - freqtrade.configuration.configuration - INFO - Using user-data directory: ..\\freqtrade\\mount\\presets\\test_strategy ...\n",
      "2021-07-02 20:40:37,598 - freqtrade.configuration.configuration - INFO - Using data directory: ..\\freqtrade\\mount\\data\\binance ...\n",
      "2021-07-02 20:40:37,598 - freqtrade.configuration.configuration - INFO - Overriding timeframe with Command line argument\n",
      "2021-07-02 20:40:37,598 - freqtrade.configuration.check_exchange - INFO - Checking exchange...\n",
      "2021-07-02 20:40:37,603 - freqtrade.configuration.check_exchange - INFO - Exchange \"binance\" is officially supported by the Freqtrade development team.\n",
      "2021-07-02 20:40:37,603 - freqtrade.configuration.configuration - INFO - Using pairlist from configuration.\n",
      "2021-07-02 20:40:37,603 - freqtrade.configuration.config_validation - INFO - Validating configuration ...\n",
      "2021-07-02 20:40:37,604 - freqtrade.commands.optimize_commands - INFO - Starting freqtrade in Backtesting mode\n",
      "2021-07-02 20:40:37,605 - freqtrade.exchange.exchange - INFO - Instance is running with dry_run enabled\n",
      "2021-07-02 20:40:37,605 - freqtrade.exchange.exchange - INFO - Using CCXT 1.51.77\n",
      "2021-07-02 20:40:37,605 - freqtrade.exchange.exchange - INFO - Applying additional ccxt config: {'enableRateLimit': True}\n",
      "2021-07-02 20:40:37,609 - freqtrade.exchange.exchange - INFO - Applying additional ccxt config: {'enableRateLimit': True, 'rateLimit': 200}\n",
      "2021-07-02 20:40:37,615 - freqtrade.exchange.exchange - INFO - Using Exchange \"Binance\"\n",
      "2021-07-02 20:40:38,541 - freqtrade.resolvers.exchange_resolver - INFO - Using resolved exchange 'Binance'...\n",
      "2021-07-02 20:40:38,553 - freqtrade.resolvers.iresolver - INFO - Using resolved strategy NotebookStrategy from 'C:\\CS\\Python\\crypto-collection\\freqtrade\\mount\\presets\\test_strategy\\strategies\\ema_basic.py'...\n",
      "2021-07-02 20:40:38,553 - freqtrade.strategy.hyper - INFO - No params for buy found, using default values.\n",
      "2021-07-02 20:40:38,553 - freqtrade.strategy.hyper - INFO - No params for sell found, using default values.\n",
      "2021-07-02 20:40:38,553 - freqtrade.resolvers.strategy_resolver - INFO - Override strategy 'timeframe' with value in config file: 15m.\n",
      "2021-07-02 20:40:38,553 - freqtrade.resolvers.strategy_resolver - INFO - Override strategy 'stake_currency' with value in config file: USDT.\n",
      "2021-07-02 20:40:38,554 - freqtrade.resolvers.strategy_resolver - INFO - Override strategy 'stake_amount' with value in config file: 15.\n",
      "2021-07-02 20:40:38,554 - freqtrade.resolvers.strategy_resolver - INFO - Override strategy 'unfilledtimeout' with value in config file: {'buy': 10, 'sell': 30, 'unit': 'minutes'}.\n",
      "2021-07-02 20:40:38,554 - freqtrade.resolvers.strategy_resolver - INFO - Override strategy 'use_sell_signal' with value in config file: True.\n",
      "2021-07-02 20:40:38,554 - freqtrade.resolvers.strategy_resolver - INFO - Override strategy 'sell_profit_only' with value in config file: False.\n",
      "2021-07-02 20:40:38,554 - freqtrade.resolvers.strategy_resolver - INFO - Override strategy 'ignore_roi_if_buy_signal' with value in config file: False.\n",
      "2021-07-02 20:40:38,554 - freqtrade.resolvers.strategy_resolver - INFO - Strategy using minimal_roi: {'0': 0.02, '30': 0.01}\n",
      "2021-07-02 20:40:38,554 - freqtrade.resolvers.strategy_resolver - INFO - Strategy using timeframe: 15m\n",
      "2021-07-02 20:40:38,554 - freqtrade.resolvers.strategy_resolver - INFO - Strategy using stoploss: -0.01\n",
      "2021-07-02 20:40:38,554 - freqtrade.resolvers.strategy_resolver - INFO - Strategy using trailing_stop: False\n",
      "2021-07-02 20:40:38,554 - freqtrade.resolvers.strategy_resolver - INFO - Strategy using trailing_stop_positive_offset: 0.0\n",
      "2021-07-02 20:40:38,554 - freqtrade.resolvers.strategy_resolver - INFO - Strategy using trailing_only_offset_is_reached: False\n",
      "2021-07-02 20:40:38,554 - freqtrade.resolvers.strategy_resolver - INFO - Strategy using use_custom_stoploss: False\n",
      "2021-07-02 20:40:38,554 - freqtrade.resolvers.strategy_resolver - INFO - Strategy using process_only_new_candles: False\n",
      "2021-07-02 20:40:38,554 - freqtrade.resolvers.strategy_resolver - INFO - Strategy using order_types: {'buy': 'limit', 'sell': 'limit', 'stoploss': 'market', 'stoploss_on_exchange': False}\n",
      "2021-07-02 20:40:38,554 - freqtrade.resolvers.strategy_resolver - INFO - Strategy using order_time_in_force: {'buy': 'gtc', 'sell': 'gtc'}\n",
      "2021-07-02 20:40:38,554 - freqtrade.resolvers.strategy_resolver - INFO - Strategy using stake_currency: USDT\n",
      "2021-07-02 20:40:38,554 - freqtrade.resolvers.strategy_resolver - INFO - Strategy using stake_amount: 15\n",
      "2021-07-02 20:40:38,554 - freqtrade.resolvers.strategy_resolver - INFO - Strategy using protections: []\n",
      "2021-07-02 20:40:38,554 - freqtrade.resolvers.strategy_resolver - INFO - Strategy using startup_candle_count: 100\n",
      "2021-07-02 20:40:38,554 - freqtrade.resolvers.strategy_resolver - INFO - Strategy using unfilledtimeout: {'buy': 10, 'sell': 30, 'unit': 'minutes'}\n",
      "2021-07-02 20:40:38,554 - freqtrade.resolvers.strategy_resolver - INFO - Strategy using use_sell_signal: True\n",
      "2021-07-02 20:40:38,554 - freqtrade.resolvers.strategy_resolver - INFO - Strategy using sell_profit_only: False\n",
      "2021-07-02 20:40:38,554 - freqtrade.resolvers.strategy_resolver - INFO - Strategy using ignore_roi_if_buy_signal: False\n",
      "2021-07-02 20:40:38,554 - freqtrade.resolvers.strategy_resolver - INFO - Strategy using sell_profit_offset: 0.0\n",
      "2021-07-02 20:40:38,555 - freqtrade.resolvers.strategy_resolver - INFO - Strategy using disable_dataframe_checks: False\n",
      "2021-07-02 20:40:38,555 - freqtrade.resolvers.strategy_resolver - INFO - Strategy using ignore_buying_expired_candle_after: 0\n",
      "2021-07-02 20:40:38,555 - freqtrade.configuration.config_validation - INFO - Validating configuration ...\n",
      "2021-07-02 20:40:38,561 - freqtrade.resolvers.iresolver - INFO - Using resolved pairlist StaticPairList from 'C:\\CS\\Python\\crypto-collection\\freqtrade-futures\\freqtrade\\plugins\\pairlist\\StaticPairList.py'...\n",
      "2021-07-02 20:40:38,565 - freqtrade.data.history.history_utils - INFO - Using indicator startup period: 100 ...\n",
      "2021-07-02 20:40:38,830 - numexpr.utils - INFO - Note: NumExpr detected 16 cores but \"NUMEXPR_MAX_THREADS\" not set, so enforcing safe limit of 8.\n",
      "2021-07-02 20:40:38,830 - numexpr.utils - INFO - NumExpr defaulting to 8 threads.\n",
      "2021-07-02 20:40:38,862 - freqtrade.optimize.backtesting - INFO - Loading data from 2021-04-29 23:00:00 up to 2021-06-01 00:00:00 (32 days).\n",
      "2021-07-02 20:40:38,862 - freqtrade.optimize.backtesting - INFO - Dataload complete. Calculating indicators\n",
      "2021-07-02 20:40:38,862 - freqtrade.optimize.backtesting - INFO - Running backtesting for Strategy NotebookStrategy\n",
      "2021-07-02 20:40:38,864 - freqtrade.optimize.backtesting - INFO - Backtesting with data from 2021-05-01 00:00:00 up to 2021-06-01 00:00:00 (31 days).\n",
      "2021-07-02 20:40:39,068 - freqtrade.misc - INFO - dumping json to \"..\\freqtrade\\mount\\presets\\test_strategy\\backtest_results\\backtest-result-2021-07-02_20-40-39.json\"\n",
      "2021-07-02 20:40:39,074 - freqtrade.misc - INFO - dumping json to \"..\\freqtrade\\mount\\presets\\test_strategy\\backtest_results\\.last_result.json\"\n"
     ]
    }
   ],
   "source": [
    "import os\n",
    "if \"freqtrade\" not in os.listdir():\n",
    "    os.chdir(\"..\")\n",
    "    import nest_asyncio\n",
    "    nest_asyncio.apply()\n",
    "\n",
    "from freqtrade.commands.optimize_commands import start_backtesting\n",
    "\n",
    "# start_backtesting({\n",
    "#     \"datadir\": \"../freqtrade/mount/data/binance\",\n",
    "#     \"userdir\": [\"../freqtrade/mount/presets/test_strategy\"],\n",
    "#     \"config\": [\"../freqtrade/mount/presets/test_strategy/config-backtesting.json\"],\n",
    "#     \"strategy_path\": \"../freqtrade/mount/presets/test_strategy/strategies\",\n",
    "#     \"timeframe\": \"15m\",\n",
    "#     \"timerange\": \"20210501-20210601\",\n",
    "#     \"strategy\": \"NotebookStrategy\",\n",
    "# })\n",
    "\n",
    "!python -m freqtrade backtesting --datadir ../freqtrade/mount/data/binance --userdir ../freqtrade/mount/presets/test_strategy --config ../freqtrade/mount/presets/test_strategy/config-backtesting.json --timeframe 15m --timerange 20210501-20210601 --strategy NotebookStrategy"
   ]
  },
  {
   "cell_type": "code",
   "execution_count": 5,
   "metadata": {},
   "outputs": [
    {
     "data": {
      "text/plain": [
       "'2021-07-08_13:54:08'"
      ]
     },
     "execution_count": 5,
     "metadata": {},
     "output_type": "execute_result"
    }
   ],
   "source": [
    "from freqtrade.nbtools.helper import get_readable_date\n",
    "get_readable_date()"
   ]
  },
  {
   "cell_type": "code",
   "execution_count": 6,
   "metadata": {},
   "outputs": [
    {
     "data": {
      "text/html": [
       "\n",
       "                Tracking run with wandb version 0.10.33<br/>\n",
       "                Syncing run <strong style=\"color:#cdcd00\">fearless-oath-13</strong> to <a href=\"https://wandb.ai\" target=\"_blank\">Weights & Biases</a> <a href=\"https://docs.wandb.com/integrations/jupyter.html\" target=\"_blank\">(Documentation)</a>.<br/>\n",
       "                Project page: <a href=\"https://wandb.ai/jliberooo/test-artifacts\" target=\"_blank\">https://wandb.ai/jliberooo/test-artifacts</a><br/>\n",
       "                Run page: <a href=\"https://wandb.ai/jliberooo/test-artifacts/runs/2p45a9qz\" target=\"_blank\">https://wandb.ai/jliberooo/test-artifacts/runs/2p45a9qz</a><br/>\n",
       "                Run data is saved locally in <code>c:\\CS\\Python\\crypto-collection\\freqtrade-futures\\wandb\\run-20210709_203702-2p45a9qz</code><br/><br/>\n",
       "            "
      ],
      "text/plain": [
       "<IPython.core.display.HTML object>"
      ]
     },
     "metadata": {},
     "output_type": "display_data"
    },
    {
     "data": {
      "text/html": [
       "<br/>Waiting for W&B process to finish, PID 33192<br/>Program failed with code 1.  Press ctrl-c to abort syncing."
      ],
      "text/plain": [
       "<IPython.core.display.HTML object>"
      ]
     },
     "metadata": {},
     "output_type": "display_data"
    },
    {
     "data": {
      "application/vnd.jupyter.widget-view+json": {
       "model_id": "637a17d1f4bd4bed9b5312c68d3dab4a",
       "version_major": 2,
       "version_minor": 0
      },
      "text/plain": [
       "VBox(children=(Label(value=' 0.02MB of 0.02MB uploaded (0.00MB deduped)\\r'), FloatProgress(value=1.0, max=1.0)…"
      ]
     },
     "metadata": {},
     "output_type": "display_data"
    },
    {
     "data": {
      "text/html": [
       "Find user logs for this run at: <code>c:\\CS\\Python\\crypto-collection\\freqtrade-futures\\wandb\\run-20210709_203702-2p45a9qz\\logs\\debug.log</code>"
      ],
      "text/plain": [
       "<IPython.core.display.HTML object>"
      ]
     },
     "metadata": {},
     "output_type": "display_data"
    },
    {
     "data": {
      "text/html": [
       "Find internal logs for this run at: <code>c:\\CS\\Python\\crypto-collection\\freqtrade-futures\\wandb\\run-20210709_203702-2p45a9qz\\logs\\debug-internal.log</code>"
      ],
      "text/plain": [
       "<IPython.core.display.HTML object>"
      ]
     },
     "metadata": {},
     "output_type": "display_data"
    },
    {
     "data": {
      "text/html": [
       "Synced 5 W&B file(s), 0 media file(s), 0 artifact file(s) and 1 other file(s)"
      ],
      "text/plain": [
       "<IPython.core.display.HTML object>"
      ]
     },
     "metadata": {},
     "output_type": "display_data"
    },
    {
     "data": {
      "text/html": [
       "\n",
       "                    <br/>Synced <strong style=\"color:#cdcd00\">fearless-oath-13</strong>: <a href=\"https://wandb.ai/jliberooo/test-artifacts/runs/2p45a9qz\" target=\"_blank\">https://wandb.ai/jliberooo/test-artifacts/runs/2p45a9qz</a><br/>\n",
       "                "
      ],
      "text/plain": [
       "<IPython.core.display.HTML object>"
      ]
     },
     "metadata": {},
     "output_type": "display_data"
    },
    {
     "ename": "TypeError",
     "evalue": "'generator' object is not subscriptable",
     "output_type": "error",
     "traceback": [
      "\u001b[38;5;145mFile \"C:\\Users\\User\\.virtualenvs\\freqtrade-futures\\lib\\site-packages\\IPython\\core\\\u001b[0m\u001b[1;38;5;231minteractiveshell.py\u001b[0m\u001b[38;5;145m\", line 3441, in run_code\n\u001b[0m\u001b[1;38;5;59m    3400  \u001b[38;5;188m\u001b[0m\u001b[1;38;5;188masync\u001b[0m\u001b[38;5;188m \u001b[0m\u001b[1;38;5;188mdef\u001b[0m\u001b[38;5;188m \u001b[0m\u001b[38;5;188mrun_code\u001b[0m\u001b[1;38;5;188m(\u001b[0m\u001b[38;5;40mself\u001b[0m\u001b[1;38;5;188m,\u001b[0m\u001b[38;5;188m \u001b[0m\u001b[1;38;5;76mcode_obj\u001b[0m\u001b[1;38;5;188m,\u001b[0m\u001b[38;5;188m \u001b[0m\u001b[38;5;178mresult\u001b[0m\u001b[1;38;5;188m=\u001b[0m\u001b[1;38;5;188mNone\u001b[0m\u001b[1;38;5;188m,\u001b[0m\u001b[38;5;188m \u001b[0m\u001b[1;38;5;188m*\u001b[0m\u001b[1;38;5;188m,\u001b[0m\u001b[38;5;188m \u001b[0m\u001b[38;5;44masync_\u001b[0m\u001b[1;38;5;188m=\u001b[0m\u001b[1;38;5;188mFalse\u001b[0m\u001b[1;38;5;188m)\u001b[0m\u001b[1;38;5;188m:\u001b[0m\u001b[38;5;188m\n\u001b[0m\u001b[0m\u001b[38;5;102m (...)\n\u001b[0m\u001b[1;38;5;59m    3437  \u001b[38;5;188m                \u001b[0m\u001b[38;5;188mexec\u001b[0m\u001b[1;38;5;188m(\u001b[0m\u001b[38;5;188mcode\u001b[0m\u001b[1;38;5;188m,\u001b[0m\u001b[38;5;188m \u001b[0m\u001b[1;38;5;188m{\u001b[0m\u001b[38;5;188m'last_expr'\u001b[0m\u001b[1;38;5;188m:\u001b[0m\u001b[38;5;188m \u001b[0m\u001b[38;5;188mlast_expr\u001b[0m\u001b[1;38;5;188m}\u001b[0m\u001b[1;38;5;188m)\u001b[0m\u001b[38;5;188m\n\u001b[0m\u001b[0m\u001b[1;38;5;59m    3438  \u001b[38;5;188m            \u001b[0m\u001b[1;38;5;188melif\u001b[0m\u001b[38;5;188m \u001b[0m\u001b[38;5;44masync_\u001b[0m\u001b[38;5;188m \u001b[0m\u001b[1;38;5;188m:\u001b[0m\u001b[38;5;188m\n\u001b[0m\u001b[0m\u001b[1;38;5;59m    3439  \u001b[38;5;188m                \u001b[0m\u001b[1;38;5;188mawait\u001b[0m\u001b[38;5;188m \u001b[0m\u001b[38;5;188meval\u001b[0m\u001b[1;38;5;188m(\u001b[0m\u001b[1;38;5;76mcode_obj\u001b[0m\u001b[1;38;5;188m,\u001b[0m\u001b[38;5;188m \u001b[0m\u001b[1;38;5;166mself.user_global_ns\u001b[0m\u001b[1;38;5;188m,\u001b[0m\u001b[38;5;188m \u001b[0m\u001b[1;38;5;166mself.user_ns\u001b[0m\u001b[1;38;5;188m)\u001b[0m\u001b[38;5;188m\n\u001b[0m\u001b[0m\u001b[1;38;5;59m    3440  \u001b[38;5;188m            \u001b[0m\u001b[1;38;5;188melse\u001b[0m\u001b[1;38;5;188m:\u001b[0m\u001b[38;5;188m\n\u001b[0m\u001b[0m\u001b[1;38;5;188m--> 3441  \u001b[38;5;188m                \u001b[0m\u001b[38;5;188mexec\u001b[0m\u001b[1;38;5;188m(\u001b[0m\u001b[1;38;5;76mcode_obj\u001b[0m\u001b[1;38;5;188m,\u001b[0m\u001b[38;5;188m \u001b[0m\u001b[1;38;5;166mself.user_global_ns\u001b[0m\u001b[1;38;5;188m,\u001b[0m\u001b[38;5;188m \u001b[0m\u001b[1;38;5;166mself.user_ns\u001b[0m\u001b[1;38;5;188m)\u001b[0m\u001b[38;5;188m\n\u001b[0m\u001b[0m\u001b[1;38;5;59m    3442  \u001b[38;5;188m        \u001b[0m\u001b[1;38;5;188mfinally\u001b[0m\u001b[1;38;5;188m:\u001b[0m\u001b[38;5;188m\n\u001b[0m\u001b[0m\u001b[38;5;102m    ..................................................\u001b[0m\n\u001b[38;5;40m     self = <ipykernel.zmqshell.ZMQInteractiveShell object at 0x000001F8\n             E5B21940>\n\u001b[0m\u001b[1;38;5;76m     code_obj = <code object <module> at 0x000001F88E933710, file \"C:\\Users\\\n                 User\\AppData\\Local\\Temp/ipykernel_26912/16223427.py\", line 1\n                 9>\n\u001b[0m\u001b[38;5;178m     result = <ExecutionResult object at 1f88e81eeb0, execution_count=6 er\n               ror_before_exec=None error_in_exec='generator' object is not\n                subscriptable info=<ExecutionInfo object at 1f88e81e730, ra\n               w_cell=\"from pathlib import Path\n              import os\n              import wandb\n              im..\" store_history=True silent=False shell_futures=True> re\n               sult=None>\n\u001b[0m\u001b[38;5;44m     async_ = False\n\u001b[0m\u001b[1;38;5;166m     self.user_global_ns = {'__name__': '__main__',\n                            '__doc__': '\\nPrequisites:\\n- Freqtrade IStrategy that is e\n                            ditable in notebook\\n- Editable config in notebook:\\n  - Pai\n                            rs\\n  - Timeframe\\n  - Timerange\\n  - Max open trades\\n  - S\n                            take amount\\n  - Fee\\n- When backtesting finishes:\\n  - Save\n                             strategy code, backtest result.json, plot, save config to j\n                            son (as backtest-history)\\n  - Upload it to some cloud stora\n                            ge (mount/backtest-history)\\n- After call backtesting, retur\n                            ns:\\n  - Trades DataFrame\\n\\nNew Features:\\n- Get Strat...\n\u001b[0m\u001b[1;38;5;166m     self.user_ns = {'__name__': '__main__',\n                     '__doc__': '\\nPrequisites:\\n- Freqtrade IStrategy that is e\n                     ditable in notebook\\n- Editable config in notebook:\\n  - Pai\n                     rs\\n  - Timeframe\\n  - Timerange\\n  - Max open trades\\n  - S\n                     take amount\\n  - Fee\\n- When backtesting finishes:\\n  - Save\n                      strategy code, backtest result.json, plot, save config to j\n                     son (as backtest-history)\\n  - Upload it to some cloud stora\n                     ge (mount/backtest-history)\\n- After call backtesting, retur\n                     ns:\\n  - Trades DataFrame\\n\\nNew Features:\\n- Get Strat...\n\u001b[0m\u001b[38;5;102m    ..................................................\u001b[0m\n\n\u001b[38;5;145mFile \"C:\\Users\\User\\AppData\\Local\\Temp/ipykernel_26912\\\u001b[0m\u001b[1;38;5;231m16223427.py\u001b[0m\u001b[38;5;145m\", line 19, in <module>\n\u001b[0m\u001b[1;38;5;59m    15   \u001b[38;5;188m        \u001b[0m\u001b[38;5;188mfilepath\u001b[0m\u001b[38;5;188m \u001b[0m\u001b[1;38;5;188m=\u001b[0m\u001b[38;5;188m \u001b[0m\u001b[1;38;5;188m(\u001b[0m\u001b[38;5;188mPath.cwd\u001b[0m\u001b[1;38;5;188m(\u001b[0m\u001b[1;38;5;188m)\u001b[0m\u001b[38;5;188m \u001b[0m\u001b[1;38;5;188m/\u001b[0m\u001b[38;5;188m \u001b[0m\u001b[38;5;188martifact.download\u001b[0m\u001b[1;38;5;188m(\u001b[0m\u001b[1;38;5;188m)\u001b[0m\u001b[1;38;5;188m)\u001b[0m\u001b[1;38;5;188m.\u001b[0m\u001b[38;5;188mglob\u001b[0m\u001b[1;38;5;188m(\u001b[0m\u001b[38;5;188m\"*\"\u001b[0m\u001b[1;38;5;188m)\u001b[0m\u001b[1;38;5;188m[\u001b[0m\u001b[38;5;188m0\u001b[0m\u001b[1;38;5;188m]\u001b[0m\u001b[38;5;188m\n\u001b[0m\u001b[0m\u001b[1;38;5;59m    16   \u001b[38;5;188m        \u001b[0m\u001b[1;38;5;188mwith\u001b[0m\u001b[38;5;188m \u001b[0m\u001b[38;5;188mfilepath.open\u001b[0m\u001b[1;38;5;188m(\u001b[0m\u001b[38;5;188m\"rb\"\u001b[0m\u001b[1;38;5;188m)\u001b[0m\u001b[38;5;188m \u001b[0m\u001b[1;38;5;188mas\u001b[0m\u001b[38;5;188m \u001b[0m\u001b[38;5;188mf\u001b[0m\u001b[1;38;5;188m:\u001b[0m\u001b[38;5;188m\n\u001b[0m\u001b[0m\u001b[1;38;5;59m    17   \u001b[38;5;188m            \u001b[0m\u001b[1;38;5;188mreturn\u001b[0m\u001b[38;5;188m \u001b[0m\u001b[38;5;188mpickle.load\u001b[0m\u001b[1;38;5;188m(\u001b[0m\u001b[38;5;188mf\u001b[0m\u001b[1;38;5;188m)\u001b[0m\u001b[38;5;188m\n\u001b[0m\u001b[0m\u001b[1;38;5;59m    18   \u001b[38;5;188m        \n\u001b[0m\u001b[0m\u001b[1;38;5;188m--> 19   \u001b[38;5;188mretrieve_pickle_object\u001b[0m\u001b[1;38;5;188m(\u001b[0m\u001b[38;5;188m\"test-artifacts\"\u001b[0m\u001b[1;38;5;188m,\u001b[0m\u001b[38;5;188m \"model.pkl\"\u001b[0m\u001b[1;38;5;188m)\u001b[0m\u001b[38;5;188m\n\u001b[0m\u001b[0m\n\u001b[38;5;145mFile \"C:\\Users\\User\\AppData\\Local\\Temp/ipykernel_26912\\\u001b[0m\u001b[1;38;5;231m16223427.py\u001b[0m\u001b[38;5;145m\", line 15, in retrieve_pickle_object\n\u001b[0m\u001b[1;38;5;59m    12   \u001b[1;38;5;188mdef\u001b[0m\u001b[38;5;188m \u001b[0m\u001b[38;5;188mretrieve_pickle_object\u001b[0m\u001b[1;38;5;188m(\u001b[0m\u001b[38;5;38mproject\u001b[0m\u001b[1;38;5;188m,\u001b[0m\u001b[38;5;188m \u001b[0m\u001b[38;5;41masset_name\u001b[0m\u001b[1;38;5;188m)\u001b[0m\u001b[1;38;5;188m:\u001b[0m\u001b[38;5;188m\n\u001b[0m\u001b[0m\u001b[1;38;5;59m    13   \u001b[38;5;188m    \u001b[0m\u001b[1;38;5;188mwith\u001b[0m\u001b[38;5;188m \u001b[0m\u001b[38;5;112mwandb.init\u001b[0m\u001b[1;38;5;188m(\u001b[0m\u001b[38;5;38mproject\u001b[0m\u001b[1;38;5;188m=\u001b[0m\u001b[38;5;38mproject\u001b[0m\u001b[1;38;5;188m)\u001b[0m\u001b[38;5;188m \u001b[0m\u001b[1;38;5;188mas\u001b[0m\u001b[38;5;188m \u001b[0m\u001b[38;5;166mrun\u001b[0m\u001b[1;38;5;188m:\u001b[0m\u001b[38;5;188m\n\u001b[0m\u001b[0m\u001b[1;38;5;59m    14   \u001b[38;5;188m        \u001b[0m\u001b[38;5;172martifact\u001b[0m\u001b[38;5;188m \u001b[0m\u001b[1;38;5;188m=\u001b[0m\u001b[38;5;188m \u001b[0m\u001b[38;5;38mrun.use_artifact\u001b[0m\u001b[1;38;5;188m(\u001b[0m\u001b[38;5;188mf'{asset_name}:latest'\u001b[0m\u001b[1;38;5;188m)\u001b[0m\u001b[38;5;188m\n\u001b[0m\u001b[0m\u001b[1;38;5;188m--> 15   \u001b[38;5;188m        \u001b[0m\u001b[38;5;188mfilepath\u001b[0m\u001b[38;5;188m \u001b[0m\u001b[1;38;5;188m=\u001b[0m\u001b[38;5;188m \u001b[0m\u001b[1;38;5;188m(\u001b[0m\u001b[38;5;188mPath.cwd\u001b[0m\u001b[1;38;5;188m(\u001b[0m\u001b[1;38;5;188m)\u001b[0m\u001b[38;5;188m \u001b[0m\u001b[1;38;5;188m/\u001b[0m\u001b[38;5;188m \u001b[0m\u001b[1;38;5;43martifact.download\u001b[0m\u001b[1;38;5;188m(\u001b[0m\u001b[1;38;5;188m)\u001b[0m\u001b[1;38;5;188m)\u001b[0m\u001b[1;38;5;188m.\u001b[0m\u001b[38;5;188mglob\u001b[0m\u001b[1;38;5;188m(\u001b[0m\u001b[38;5;188m\"*\"\u001b[0m\u001b[1;38;5;188m)\u001b[0m\u001b[1;38;5;188m[\u001b[0m\u001b[38;5;188m0\u001b[0m\u001b[1;38;5;188m]\u001b[0m\u001b[38;5;188m\n\u001b[0m\u001b[0m\u001b[1;38;5;59m    16   \u001b[38;5;188m        \u001b[0m\u001b[1;38;5;188mwith\u001b[0m\u001b[38;5;188m \u001b[0m\u001b[38;5;188mfilepath.open\u001b[0m\u001b[1;38;5;188m(\u001b[0m\u001b[38;5;188m\"rb\"\u001b[0m\u001b[1;38;5;188m)\u001b[0m\u001b[38;5;188m \u001b[0m\u001b[1;38;5;188mas\u001b[0m\u001b[38;5;188m \u001b[0m\u001b[38;5;188mf\u001b[0m\u001b[1;38;5;188m:\u001b[0m\u001b[38;5;188m\n\u001b[0m\u001b[0m\u001b[38;5;102m    ..................................................\u001b[0m\n\u001b[38;5;38m     project = 'test-artifacts'\n\u001b[0m\u001b[38;5;41m     asset_name = 'model.pkl'\n\u001b[0m\u001b[38;5;112m     wandb.init = <function 'init' wandb_init.py:565>\n\u001b[0m\u001b[38;5;166m     run = <wandb.sdk.wandb_run.Run object at 0x000001F888EBF910>\n\u001b[0m\u001b[38;5;172m     artifact = <Artifact QXJ0aWZhY3Q6MTM5NDY5NTk=>\n\u001b[0m\u001b[38;5;38m     run.use_artifact = <method 'Run.use_artifact' of <wandb.sdk.wandb_run.Run objec\n                         t at 0x000001F888EBF910> wandb_run.py:2082>\n\u001b[0m\u001b[1;38;5;43m     artifact.download = <method 'Artifact.download' of <Artifact QXJ0aWZhY3Q6MTM5NDY\n                          5NTk=> public.py:3030>\n\u001b[0m\u001b[38;5;102m    ..................................................\u001b[0m\n\n---- (full traceback above) ----\n\u001b[38;5;145mFile \"C:\\Users\\User\\.virtualenvs\\freqtrade-futures\\lib\\site-packages\\IPython\\core\\\u001b[0m\u001b[1;38;5;231minteractiveshell.py\u001b[0m\u001b[38;5;145m\", line 3441, in run_code\n\u001b[0m    \u001b[38;5;188m\u001b[0m\u001b[38;5;188mexec\u001b[0m\u001b[1;38;5;188m(\u001b[0m\u001b[38;5;188mcode_obj\u001b[0m\u001b[1;38;5;188m,\u001b[0m\u001b[38;5;188m \u001b[0m\u001b[38;5;188mself.user_global_ns\u001b[0m\u001b[1;38;5;188m,\u001b[0m\u001b[38;5;188m \u001b[0m\u001b[38;5;188mself.user_ns\u001b[0m\u001b[1;38;5;188m)\u001b[0m\u001b[38;5;188m\n\u001b[0m\u001b[38;5;145mFile \"C:\\Users\\User\\AppData\\Local\\Temp/ipykernel_26912\\\u001b[0m\u001b[1;38;5;231m16223427.py\u001b[0m\u001b[38;5;145m\", line 19, in <module>\n\u001b[0m    \u001b[38;5;188mretrieve_pickle_object\u001b[0m\u001b[1;38;5;188m(\u001b[0m\u001b[38;5;188m\"test-artifacts\"\u001b[0m\u001b[1;38;5;188m,\u001b[0m\u001b[38;5;188m \"model.pkl\"\u001b[0m\u001b[1;38;5;188m)\u001b[0m\u001b[38;5;188m\n\u001b[0m\u001b[38;5;145mFile \"C:\\Users\\User\\AppData\\Local\\Temp/ipykernel_26912\\\u001b[0m\u001b[1;38;5;231m16223427.py\u001b[0m\u001b[38;5;145m\", line 15, in retrieve_pickle_object\n\u001b[0m    \u001b[38;5;188m\u001b[0m\u001b[38;5;188mfilepath\u001b[0m\u001b[38;5;188m \u001b[0m\u001b[1;38;5;188m=\u001b[0m\u001b[38;5;188m \u001b[0m\u001b[1;38;5;188m(\u001b[0m\u001b[38;5;188mPath.cwd\u001b[0m\u001b[1;38;5;188m(\u001b[0m\u001b[1;38;5;188m)\u001b[0m\u001b[38;5;188m \u001b[0m\u001b[1;38;5;188m/\u001b[0m\u001b[38;5;188m \u001b[0m\u001b[38;5;188martifact.download\u001b[0m\u001b[1;38;5;188m(\u001b[0m\u001b[1;38;5;188m)\u001b[0m\u001b[1;38;5;188m)\u001b[0m\u001b[1;38;5;188m.\u001b[0m\u001b[38;5;188mglob\u001b[0m\u001b[1;38;5;188m(\u001b[0m\u001b[38;5;188m\"*\"\u001b[0m\u001b[1;38;5;188m)\u001b[0m\u001b[1;38;5;188m[\u001b[0m\u001b[38;5;188m0\u001b[0m\u001b[1;38;5;188m]\u001b[0m\u001b[38;5;188m\n\u001b[0m\n\u001b[1;38;5;160mTypeError: \u001b[0m\u001b[1;38;5;160m'generator' object is not subscriptable\u001b[0m"
     ]
    }
   ],
   "source": [
    "from pathlib import Path\n",
    "import os\n",
    "import wandb\n",
    "import pickle\n",
    "\n",
    "def add_single_asset(path, project, asset_name):\n",
    "    with wandb.init(project=project) as run:\n",
    "        artifact = wandb.Artifact(asset_name, type=\"single\")\n",
    "        artifact.add_file(path, name=asset_name)\n",
    "        run.log_artifact(artifact)\n",
    "\n",
    "def retrieve_pickle_object(project, asset_name):\n",
    "    with wandb.init(project=project) as run:\n",
    "        artifact = run.use_artifact(f'{asset_name}:latest')\n",
    "        filepath = (Path.cwd() / artifact.download()).glob(\"*\")[0]\n",
    "        with filepath.open(\"rb\") as f:\n",
    "            return pickle.load(f)\n",
    "        \n",
    "retrieve_pickle_object(\"test-artifacts\", \"model.pkl\")"
   ]
  },
  {
   "cell_type": "code",
   "execution_count": null,
   "metadata": {},
   "outputs": [],
   "source": []
  }
 ],
 "metadata": {
  "interpreter": {
   "hash": "01a71ee6dbb5cd792900cee3209e98c906676fa32abfeb4483902a4a80aaf85b"
  },
  "kernelspec": {
   "display_name": "Python 3 (ipykernel)",
   "language": "python",
   "name": "python3"
  },
  "language_info": {
   "codemirror_mode": {
    "name": "ipython",
    "version": 3
   },
   "file_extension": ".py",
   "mimetype": "text/x-python",
   "name": "python",
   "nbconvert_exporter": "python",
   "pygments_lexer": "ipython3",
   "version": "3.9.5"
  }
 },
 "nbformat": 4,
 "nbformat_minor": 4
}
