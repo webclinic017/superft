{
 "cells": [
  {
   "cell_type": "code",
   "execution_count": 1,
   "metadata": {
    "tags": []
   },
   "outputs": [],
   "source": [
    "%load_ext autoreload\n",
    "%autoreload 2\n",
    "\n",
    "from matplotlib import dates\n",
    "from pandas import DataFrame\n",
    "from pathlib import Path\n",
    "import matplotlib.pyplot as plt\n",
    "import numpy as np\n",
    "import pandas as pd\n",
    "import quantstats as qs\n",
    "import talib.abstract as ta\n",
    "import os\n",
    "import time\n",
    "import inspect\n",
    "import stackprinter\n",
    "\n",
    "stackprinter.set_excepthook(style='darkbg2')  # for jupyter notebooks try style='lightbg'\n",
    "\n",
    "if \"freqtrade\" not in os.listdir():\n",
    "        os.chdir(\"..\")\n",
    "        import nest_asyncio\n",
    "        nest_asyncio.apply()\n",
    "\n",
    "from freqtrade.nbtools.preset import Preset\n",
    "from freqtrade.nbtools import remote_utils\n",
    "\n",
    "qs.extend_pandas()\n",
    "plt.style.use(\"seaborn\")\n",
    "\n",
    "path_mount = Path.cwd().parent / \"mount\""
   ]
  },
  {
   "cell_type": "code",
   "execution_count": 7,
   "metadata": {},
   "outputs": [],
   "source": [
    "# This Notebook is used to edit Table Metadata Columns\n",
    "df: pd.DataFrame = remote_utils.cloud_get_presets_df()\n",
    "df = df.drop(columns=[\"zero_duration_trades\"])"
   ]
  },
  {
   "cell_type": "code",
   "execution_count": 8,
   "metadata": {},
   "outputs": [
    {
     "name": "stdout",
     "output_type": "stream",
     "text": [
      "\n",
      "Creating new table...\n"
     ]
    }
   ],
   "source": [
    "# Commit changes to the table. NOTE: Make sure you sync the code in preset.py after commit!\n",
    "remote_utils.table_update(\n",
    "    df, \n",
    "    remote_utils.constants.PROJECT_NAME_PRESETS, \n",
    "    remote_utils.constants.PRESETS_ARTIFACT_METADATA,\n",
    "    remote_utils.constants.PRESETS_TABLEKEY_METADATA,\n",
    ")"
   ]
  },
  {
   "cell_type": "code",
   "execution_count": 8,
   "metadata": {},
   "outputs": [
    {
     "data": {
      "text/html": [
       "\n",
       "                Tracking run with wandb version 0.10.33<br/>\n",
       "                Syncing run <strong style=\"color:#cdcd00\">deep-wave-18</strong> to <a href=\"https://wandb.ai\" target=\"_blank\">Weights & Biases</a> <a href=\"https://docs.wandb.com/integrations/jupyter.html\" target=\"_blank\">(Documentation)</a>.<br/>\n",
       "                Project page: <a href=\"https://wandb.ai/jliberooo/ft-presets\" target=\"_blank\">https://wandb.ai/jliberooo/ft-presets</a><br/>\n",
       "                Run page: <a href=\"https://wandb.ai/jliberooo/ft-presets/runs/38wbe15e\" target=\"_blank\">https://wandb.ai/jliberooo/ft-presets/runs/38wbe15e</a><br/>\n",
       "                Run data is saved locally in <code>c:\\CS\\Python\\crypto-collection\\freqtrade-futures\\wandb\\run-20210711_191201-38wbe15e</code><br/><br/>\n",
       "            "
      ],
      "text/plain": [
       "<IPython.core.display.HTML object>"
      ]
     },
     "metadata": {},
     "output_type": "display_data"
    },
    {
     "data": {
      "text/html": [
       "<br/>Waiting for W&B process to finish, PID 33516<br/>Program ended successfully."
      ],
      "text/plain": [
       "<IPython.core.display.HTML object>"
      ]
     },
     "metadata": {},
     "output_type": "display_data"
    },
    {
     "data": {
      "application/vnd.jupyter.widget-view+json": {
       "model_id": "2d4fbcbc80bd49acbec10bada0333804",
       "version_major": 2,
       "version_minor": 0
      },
      "text/plain": [
       "VBox(children=(Label(value=' 0.01MB of 0.01MB uploaded (0.00MB deduped)\\r'), FloatProgress(value=1.0, max=1.0)…"
      ]
     },
     "metadata": {},
     "output_type": "display_data"
    },
    {
     "data": {
      "text/html": [
       "Find user logs for this run at: <code>c:\\CS\\Python\\crypto-collection\\freqtrade-futures\\wandb\\run-20210711_191201-38wbe15e\\logs\\debug.log</code>"
      ],
      "text/plain": [
       "<IPython.core.display.HTML object>"
      ]
     },
     "metadata": {},
     "output_type": "display_data"
    },
    {
     "data": {
      "text/html": [
       "Find internal logs for this run at: <code>c:\\CS\\Python\\crypto-collection\\freqtrade-futures\\wandb\\run-20210711_191201-38wbe15e\\logs\\debug-internal.log</code>"
      ],
      "text/plain": [
       "<IPython.core.display.HTML object>"
      ]
     },
     "metadata": {},
     "output_type": "display_data"
    },
    {
     "data": {
      "text/html": [
       "Synced 5 W&B file(s), 0 media file(s), 0 artifact file(s) and 1 other file(s)"
      ],
      "text/plain": [
       "<IPython.core.display.HTML object>"
      ]
     },
     "metadata": {},
     "output_type": "display_data"
    },
    {
     "data": {
      "text/html": [
       "\n",
       "                    <br/>Synced <strong style=\"color:#cdcd00\">deep-wave-18</strong>: <a href=\"https://wandb.ai/jliberooo/ft-presets/runs/38wbe15e\" target=\"_blank\">https://wandb.ai/jliberooo/ft-presets/runs/38wbe15e</a><br/>\n",
       "                "
      ],
      "text/plain": [
       "<IPython.core.display.HTML object>"
      ]
     },
     "metadata": {},
     "output_type": "display_data"
    },
    {
     "name": "stdout",
     "output_type": "stream",
     "text": [
      "<class 'pandas.core.frame.DataFrame'>\n",
      "RangeIndex: 3 entries, 0 to 2\n",
      "Data columns (total 84 columns):\n",
      " #   Column                           Non-Null Count  Dtype  \n",
      "---  ------                           --------------  -----  \n",
      " 0   preset_name                      3 non-null      object \n",
      " 1   backtest_date                    3 non-null      object \n",
      " 2   leverage                         3 non-null      int64  \n",
      " 3   direction                        3 non-null      object \n",
      " 4   is_hedging                       3 non-null      bool   \n",
      " 5   num_pairs                        3 non-null      int64  \n",
      " 6   data_source                      3 non-null      object \n",
      " 7   win_rate                         3 non-null      float64\n",
      " 8   avg_profit_winners_abs           3 non-null      float64\n",
      " 9   avg_profit_losers_abs            3 non-null      float64\n",
      " 10  sum_profit_winners_abs           3 non-null      float64\n",
      " 11  sum_profit_losers_abs            3 non-null      float64\n",
      " 12  profit_factor                    3 non-null      float64\n",
      " 13  profit_per_drawdown              3 non-null      float64\n",
      " 14  expectancy_abs                   3 non-null      float64\n",
      " 15  total_trades                     3 non-null      int64  \n",
      " 16  total_volume                     3 non-null      float64\n",
      " 17  avg_stake_amount                 3 non-null      float64\n",
      " 18  profit_mean                      3 non-null      float64\n",
      " 19  profit_median                    3 non-null      float64\n",
      " 20  profit_total                     3 non-null      float64\n",
      " 21  profit_total_abs                 3 non-null      float64\n",
      " 22  backtest_start                   3 non-null      object \n",
      " 23  backtest_start_ts                3 non-null      int64  \n",
      " 24  backtest_end                     3 non-null      object \n",
      " 25  backtest_end_ts                  3 non-null      int64  \n",
      " 26  backtest_days                    3 non-null      int64  \n",
      " 27  backtest_run_start_ts            3 non-null      int64  \n",
      " 28  backtest_run_end_ts              3 non-null      int64  \n",
      " 29  trades_per_day                   3 non-null      float64\n",
      " 30  market_change                    3 non-null      float64\n",
      " 31  pairlist                         3 non-null      object \n",
      " 32  stake_amount                     3 non-null      int64  \n",
      " 33  stake_currency                   3 non-null      object \n",
      " 34  stake_currency_decimals          3 non-null      int64  \n",
      " 35  starting_balance                 3 non-null      int64  \n",
      " 36  dry_run_wallet                   3 non-null      int64  \n",
      " 37  final_balance                    3 non-null      float64\n",
      " 38  rejected_signals                 3 non-null      int64  \n",
      " 39  max_open_trades                  3 non-null      int64  \n",
      " 40  max_open_trades_setting          3 non-null      int64  \n",
      " 41  timeframe                        3 non-null      object \n",
      " 42  timerange                        3 non-null      object \n",
      " 43  enable_protections               3 non-null      bool   \n",
      " 44  strategy_name                    3 non-null      object \n",
      " 45  stoploss                         3 non-null      float64\n",
      " 46  trailing_stop                    3 non-null      bool   \n",
      " 47  trailing_stop_positive           0 non-null      object \n",
      " 48  trailing_stop_positive_offset    3 non-null      float64\n",
      " 49  trailing_only_offset_is_reached  3 non-null      bool   \n",
      " 50  use_custom_stoploss              3 non-null      bool   \n",
      " 51  minimal_roi                      3 non-null      object \n",
      " 52  use_sell_signal                  3 non-null      bool   \n",
      " 53  sell_profit_only                 3 non-null      bool   \n",
      " 54  sell_profit_offset               3 non-null      float64\n",
      " 55  ignore_roi_if_buy_signal         3 non-null      bool   \n",
      " 56  backtest_best_day                3 non-null      float64\n",
      " 57  backtest_worst_day               3 non-null      float64\n",
      " 58  backtest_best_day_abs            3 non-null      float64\n",
      " 59  backtest_worst_day_abs           3 non-null      float64\n",
      " 60  winning_days                     3 non-null      int64  \n",
      " 61  draw_days                        3 non-null      int64  \n",
      " 62  losing_days                      3 non-null      int64  \n",
      " 63  wins                             3 non-null      int64  \n",
      " 64  losses                           3 non-null      int64  \n",
      " 65  draws                            3 non-null      int64  \n",
      " 66  holding_avg                      3 non-null      object \n",
      " 67  holding_avg_s                    3 non-null      float64\n",
      " 68  winner_holding_avg               3 non-null      object \n",
      " 69  winner_holding_avg_s             3 non-null      float64\n",
      " 70  loser_holding_avg                3 non-null      object \n",
      " 71  loser_holding_avg_s              3 non-null      float64\n",
      " 72  zero_duration_trades             3 non-null      int64  \n",
      " 73  max_drawdown                     3 non-null      float64\n",
      " 74  max_drawdown_abs                 3 non-null      float64\n",
      " 75  drawdown_start                   3 non-null      object \n",
      " 76  drawdown_start_ts                3 non-null      float64\n",
      " 77  drawdown_end                     3 non-null      object \n",
      " 78  drawdown_end_ts                  3 non-null      float64\n",
      " 79  max_drawdown_low                 3 non-null      float64\n",
      " 80  max_drawdown_high                3 non-null      float64\n",
      " 81  csum_min                         3 non-null      float64\n",
      " 82  csum_max                         3 non-null      float64\n",
      " 83  profit_mean_abs                  3 non-null      float64\n",
      "dtypes: bool(8), float64(36), int64(22), object(18)\n",
      "memory usage: 1.9+ KB\n"
     ]
    }
   ],
   "source": [
    "# Make sure the cloud table had changed. See your new column.\n",
    "df = remote_utils.cloud_get_presets_df()\n",
    "df.info()"
   ]
  },
  {
   "cell_type": "code",
   "execution_count": 9,
   "metadata": {},
   "outputs": [
    {
     "data": {
      "text/plain": [
       "0   -0.042408\n",
       "1   -0.042408\n",
       "2    0.199737\n",
       "Name: profit_mean_abs, dtype: float64"
      ]
     },
     "execution_count": 9,
     "metadata": {},
     "output_type": "execute_result"
    }
   ],
   "source": [
    "df[\"profit_mean_abs\"].head()"
   ]
  },
  {
   "cell_type": "code",
   "execution_count": 8,
   "metadata": {},
   "outputs": [
    {
     "data": {
      "text/html": [
       "\n",
       "                Tracking run with wandb version 0.10.33<br/>\n",
       "                Syncing run <strong style=\"color:#cdcd00\">splendid-jazz-58</strong> to <a href=\"https://wandb.ai\" target=\"_blank\">Weights & Biases</a> <a href=\"https://docs.wandb.com/integrations/jupyter.html\" target=\"_blank\">(Documentation)</a>.<br/>\n",
       "                Project page: <a href=\"https://wandb.ai/jliberooo/ft-presets\" target=\"_blank\">https://wandb.ai/jliberooo/ft-presets</a><br/>\n",
       "                Run page: <a href=\"https://wandb.ai/jliberooo/ft-presets/runs/1trqmxk4\" target=\"_blank\">https://wandb.ai/jliberooo/ft-presets/runs/1trqmxk4</a><br/>\n",
       "                Run data is saved locally in <code>c:\\CS\\Python\\crypto-collection\\freqtrade\\superft\\wandb\\run-20210712_224740-1trqmxk4</code><br/><br/>\n",
       "            "
      ],
      "text/plain": [
       "<IPython.core.display.HTML object>"
      ]
     },
     "metadata": {},
     "output_type": "display_data"
    },
    {
     "data": {
      "text/html": [
       "<br/>Waiting for W&B process to finish, PID 15980<br/>Program ended successfully."
      ],
      "text/plain": [
       "<IPython.core.display.HTML object>"
      ]
     },
     "metadata": {},
     "output_type": "display_data"
    },
    {
     "data": {
      "application/vnd.jupyter.widget-view+json": {
       "model_id": "63342424bf674ecbbf9524583cb768b2",
       "version_major": 2,
       "version_minor": 0
      },
      "text/plain": [
       "VBox(children=(Label(value=' 0.02MB of 0.02MB uploaded (0.00MB deduped)\\r'), FloatProgress(value=1.0, max=1.0)…"
      ]
     },
     "metadata": {},
     "output_type": "display_data"
    },
    {
     "data": {
      "text/html": [
       "Find user logs for this run at: <code>c:\\CS\\Python\\crypto-collection\\freqtrade\\superft\\wandb\\run-20210712_224740-1trqmxk4\\logs\\debug.log</code>"
      ],
      "text/plain": [
       "<IPython.core.display.HTML object>"
      ]
     },
     "metadata": {},
     "output_type": "display_data"
    },
    {
     "data": {
      "text/html": [
       "Find internal logs for this run at: <code>c:\\CS\\Python\\crypto-collection\\freqtrade\\superft\\wandb\\run-20210712_224740-1trqmxk4\\logs\\debug-internal.log</code>"
      ],
      "text/plain": [
       "<IPython.core.display.HTML object>"
      ]
     },
     "metadata": {},
     "output_type": "display_data"
    },
    {
     "data": {
      "text/html": [
       "Synced 5 W&B file(s), 0 media file(s), 1 artifact file(s) and 1 other file(s)"
      ],
      "text/plain": [
       "<IPython.core.display.HTML object>"
      ]
     },
     "metadata": {},
     "output_type": "display_data"
    },
    {
     "data": {
      "text/html": [
       "\n",
       "                    <br/>Synced <strong style=\"color:#cdcd00\">splendid-jazz-58</strong>: <a href=\"https://wandb.ai/jliberooo/ft-presets/runs/1trqmxk4\" target=\"_blank\">https://wandb.ai/jliberooo/ft-presets/runs/1trqmxk4</a><br/>\n",
       "                "
      ],
      "text/plain": [
       "<IPython.core.display.HTML object>"
      ]
     },
     "metadata": {},
     "output_type": "display_data"
    }
   ],
   "source": []
  },
  {
   "cell_type": "code",
   "execution_count": null,
   "metadata": {},
   "outputs": [],
   "source": []
  }
 ],
 "metadata": {
  "interpreter": {
   "hash": "01a71ee6dbb5cd792900cee3209e98c906676fa32abfeb4483902a4a80aaf85b"
  },
  "kernelspec": {
   "display_name": "Python 3 (ipykernel)",
   "language": "python",
   "name": "python3"
  },
  "language_info": {
   "codemirror_mode": {
    "name": "ipython",
    "version": 3
   },
   "file_extension": ".py",
   "mimetype": "text/x-python",
   "name": "python",
   "nbconvert_exporter": "python",
   "pygments_lexer": "ipython3",
   "version": "3.9.5"
  }
 },
 "nbformat": 4,
 "nbformat_minor": 4
}
