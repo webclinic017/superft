{
 "cells": [
  {
   "cell_type": "code",
   "execution_count": 1,
   "id": "91f3ba3f-9c41-4d5d-a2de-da812f8aaabb",
   "metadata": {},
   "outputs": [
    {
     "name": "stdout",
     "output_type": "stream",
     "text": [
      "env: WANDB_SILENT=true\n",
      "freqtrade.nbtools.backtest - Initialized DataLoader with 5 max datas.\n"
     ]
    }
   ],
   "source": [
    "# Freqtrade Workspace\n",
    "\n",
    "# Notebook Helpers\n",
    "%load_ext autoreload\n",
    "%autoreload 2\n",
    "%env WANDB_SILENT=true\n",
    "\n",
    "# Standard Imports\n",
    "from pathlib import Path\n",
    "from typing import List, Callable, Tuple, Any\n",
    "from wandb.wandb_run import Run\n",
    "from datetime import datetime, timedelta\n",
    "from copy import deepcopy\n",
    "\n",
    "import attr\n",
    "import gc\n",
    "import os\n",
    "import wandb\n",
    "import nest_asyncio\n",
    "import logging\n",
    "import sys\n",
    "import pandas as pd\n",
    "import numpy as np\n",
    "import qgrid\n",
    "pd.set_option('display.max_rows', 200)\n",
    "\n",
    "# Resolve CWD\n",
    "gc.collect()\n",
    "nest_asyncio.apply()\n",
    "\n",
    "while \"freqtrade\" not in os.listdir():\n",
    "    os.chdir(\"..\")\n",
    "    if \"freqtrade\" in os.listdir():\n",
    "        nest_asyncio.apply()\n",
    "        logger = logging.getLogger(\"freqtrade\")\n",
    "        handler = logging.StreamHandler(stream=sys.stdout)\n",
    "        handler.setFormatter(logging.Formatter(\"%(name)s - %(message)s\"))\n",
    "        logger.addHandler(handler)\n",
    "        logger.setLevel(logging.INFO)\n",
    "        logging.getLogger(\"distributed.utils_perf\").setLevel(logging.ERROR)\n",
    "\n",
    "# Freqtrade Imports\n",
    "from freqtrade.optimize.optimize_reports import text_table_add_metrics\n",
    "from freqtrade.ml.lightning import LightningModule, LightningConfig\n",
    "from freqtrade.ml.trainer import TradingTrainer\n",
    "from freqtrade.ml.container import LightningContainer\n",
    "from freqtrade.ml import loader, lightning_utils\n",
    "from freqtrade.nbtools.preset import LocalPreset, ConfigPreset, FilePreset, CloudPreset\n",
    "from freqtrade.nbtools.backtest import backtest, DataLoader\n",
    "from freqtrade.nbtools import plotting, configs\n",
    "from freqtrade.nbtools.helper import free_mem\n",
    "from freqtrade.nbtools.pairs import PAIRS_HIGHCAP_NONSTABLE\n",
    "\n",
    "# Constants\n",
    "PATH_MOUNT = Path.cwd().parent / \"mount\"\n",
    "PATH_DATA = PATH_MOUNT / \"data\"\n",
    "PATH_PRESETS = PATH_MOUNT / \"presets\"\n",
    "PATH_STRATEGIES = PATH_PRESETS / \".strategy_files\"\n",
    "DATALOADER = DataLoader(max_n_datasets=5)\n",
    "\n",
    "# Define custom functions\n",
    "def foo() -> str:\n",
    "    return \"bar\""
   ]
  },
  {
   "cell_type": "code",
   "execution_count": 15,
   "id": "388b554b-1914-41a0-83e8-41d1341de23d",
   "metadata": {},
   "outputs": [
    {
     "name": "stdout",
     "output_type": "stream",
     "text": [
      "> python -m notebooks.hyperopter --strategy DIY_MACDLongTermHS --timerange 20160101- --pairs BTC/USDT,ETH/USDT --spaces buy --epochs 3 --hyperopt_loss SharpeHyperOptLoss --hyperopt_min_trades 1 --hyperopt_random_state 1 --hyperopt_jobs 12\n",
      "\n",
      "{'strategy': 'DIY_MACDLongTermHS', 'timerange': '20160101-', 'pairs': ['BTC/USDT', 'ETH/USDT'], 'spaces': 'buy', 'epochs': 3, 'hyperopt_loss': 'SharpeHyperOptLoss', 'hyperopt_min_trades': 1, 'hyperopt_random_state': 1, 'hyperopt_jobs': 12}\n",
      "\n",
      "Preset name: DIY_MACDLongTermHS\n",
      "+--------+---------+----------+------------------+--------------+-------------------------------+-----------------+-------------------------------+-------------+\n",
      "|   Best |   Epoch |   Trades |    Win Draw Loss |   Avg profit |                        Profit |    Avg duration |                  Max Drawdown |   Objective |\n",
      "|--------+---------+----------+------------------+--------------+-------------------------------+-----------------+-------------------------------+-------------|\n",
      "| \u001b[32m* Best\u001b[39m |     \u001b[32m1/3\u001b[39m |      \u001b[32m227\u001b[39m |     \u001b[32m90    0  137\u001b[39m |      \u001b[32m  1.57%\u001b[39m | \u001b[32m       53.471 USDT    (5.35%)\u001b[39m | \u001b[32m2 days 04:44:00\u001b[39m | \u001b[32m        7.188 USDT   (47.87%)\u001b[39m |    \u001b[32m-0.63771\u001b[39m |\n",
      "condition_set legth: 871\n",
      "\n",
      "Best result:\n",
      "\n",
      "*    1/3:    227 trades. 90/0/137 Wins/Draws/Losses. Avg profit   1.57%. Median profit  -0.78%. Total profit  53.47078235 USDT (   5.35%). Avg duration 2 days, 4:44:00 min. Objective: -0.63771\n",
      "\n",
      "\n",
      "    # Buy hyperspace params:\n",
      "    buy_params = {\n",
      "        \"buy_macdfast_period\": 37,\n",
      "        \"buy_macdtrend_period\": 104,\n",
      "    }\n",
      "\n",
      "    # ROI table:  # value loaded from strategy\n",
      "    minimal_roi = {\n",
      "        \"0\": 99\n",
      "    }\n",
      "\n",
      "    # Stoploss:\n",
      "    stoploss = -0.99  # value loaded from strategy\n",
      "\n",
      "    # Trailing stop:\n",
      "    trailing_stop = False  # value loaded from strategy\n",
      "    trailing_stop_positive = 0.02  # value loaded from strategy\n",
      "    trailing_stop_positive_offset = 0.04  # value loaded from strategy\n",
      "    trailing_only_offset_is_reached = False  # value loaded from strategy\n",
      "    \n"
     ]
    },
    {
     "name": "stderr",
     "output_type": "stream",
     "text": [
      "C:\\CS\\Python\\crypto-collection\\freqtrade\\mount\\presets\\.strategy_files\\DIY_MACDLongTermHS.py:57: PerformanceWarning: DataFrame is highly fragmented.  This is usually the result of calling `frame.insert` many times, which has poor performance.  Consider using pd.concat instead.  To get a de-fragmented frame, use `newframe = frame.copy()`\n",
      "  dataframe[f\"macd_fast_{val}\"], dataframe[f\"macdsignal_fast_{val}\"], dataframe[\"macdhist_fast\"] = ta.MACD(\n",
      "C:\\CS\\Python\\crypto-collection\\freqtrade\\mount\\presets\\.strategy_files\\DIY_MACDLongTermHS.py:62: PerformanceWarning: DataFrame is highly fragmented.  This is usually the result of calling `frame.insert` many times, which has poor performance.  Consider using pd.concat instead.  To get a de-fragmented frame, use `newframe = frame.copy()`\n",
      "  dataframe[f\"macd_trend_{val}\"], dataframe[f\"macdsignal_trend_{val}\"], dataframe[\"macdhist_trend\"] = ta.MACD(\n",
      "C:\\Users\\User\\.virtualenvs\\freqtrade-futures\\lib\\site-packages\\pandas\\core\\indexing.py:1667: PerformanceWarning: DataFrame is highly fragmented.  This is usually the result of calling `frame.insert` many times, which has poor performance.  Consider using pd.concat instead.  To get a de-fragmented frame, use `newframe = frame.copy()`\n",
      "  self.obj[key] = value\n",
      "C:\\Users\\User\\.virtualenvs\\freqtrade-futures\\lib\\site-packages\\pandas\\core\\indexing.py:1667: PerformanceWarning: DataFrame is highly fragmented.  This is usually the result of calling `frame.insert` many times, which has poor performance.  Consider using pd.concat instead.  To get a de-fragmented frame, use `newframe = frame.copy()`\n",
      "  self.obj[key] = value\n",
      "C:\\Users\\User\\.virtualenvs\\freqtrade-futures\\lib\\site-packages\\pandas\\core\\indexing.py:1667: PerformanceWarning: DataFrame is highly fragmented.  This is usually the result of calling `frame.insert` many times, which has poor performance.  Consider using pd.concat instead.  To get a de-fragmented frame, use `newframe = frame.copy()`\n",
      "  self.obj[key] = value\n",
      "C:\\Users\\User\\.virtualenvs\\freqtrade-futures\\lib\\site-packages\\pandas\\core\\indexing.py:1667: PerformanceWarning: DataFrame is highly fragmented.  This is usually the result of calling `frame.insert` many times, which has poor performance.  Consider using pd.concat instead.  To get a de-fragmented frame, use `newframe = frame.copy()`\n",
      "  self.obj[key] = value\n",
      "C:\\Users\\User\\.virtualenvs\\freqtrade-futures\\lib\\site-packages\\pandas\\core\\indexing.py:1667: PerformanceWarning: DataFrame is highly fragmented.  This is usually the result of calling `frame.insert` many times, which has poor performance.  Consider using pd.concat instead.  To get a de-fragmented frame, use `newframe = frame.copy()`\n",
      "  self.obj[key] = value\n",
      "C:\\Users\\User\\.virtualenvs\\freqtrade-futures\\lib\\site-packages\\pandas\\core\\indexing.py:1667: PerformanceWarning: DataFrame is highly fragmented.  This is usually the result of calling `frame.insert` many times, which has poor performance.  Consider using pd.concat instead.  To get a de-fragmented frame, use `newframe = frame.copy()`\n",
      "  self.obj[key] = value\n",
      "\n",
      " [Epoch 0 of 3 (N/A%)] |\u001b[32m\u001b[39m\u001b[1m/\u001b[0m             | [ETA:  --:--:--, Elapsed Time: 0:00:00]\n",
      " [Epoch 3 of 3 (100%)] ||             | [Time:  0:00:00, Elapsed Time: 0:00:00]\n"
     ]
    }
   ],
   "source": [
    "PAIRLIST = [\"BTC/USDT\", \"ETH/USDT\"]\n",
    "\n",
    "hyperopt_data = {\n",
    "    \"strategy\": \"DIY_MACDLongTermHS\",\n",
    "    \"timerange\": \"20160101-\",\n",
    "    \"pairs\": \",\".join(PAIRLIST),\n",
    "    \"spaces\": \"buy\",\n",
    "    \"epochs\": 3,\n",
    "    \"hyperopt_loss\": \"SharpeHyperOptLoss\",\n",
    "    \"hyperopt_min_trades\": 1,\n",
    "    \"hyperopt_random_state\": 1,\n",
    "    \"hyperopt_jobs\": 12,\n",
    "}\n",
    "\n",
    "args_list = []\n",
    "argparse = [args_list.append(f\"--{opt} {arg}\") for opt, arg in hyperopt_data.items()]\n",
    "args_str = \" \".join(args_list)\n",
    "\n",
    "print(\"> python -m notebooks.hyperopter\", args_str)\n",
    "!C:\\Users\\User\\.virtualenvs\\freqtrade-futures\\Scripts\\python.exe -m notebooks.hyperopter {args_str}"
   ]
  },
  {
   "cell_type": "code",
   "execution_count": 4,
   "id": "112941fe-cfbd-4c33-b454-68f05f54300a",
   "metadata": {},
   "outputs": [
    {
     "name": "stdout",
     "output_type": "stream",
     "text": [
      "C:\\Python\\Python39\\python.exe\n",
      "C:\\Users\\User\\AppData\\Local\\Microsoft\\WindowsApps\\python.exe\n"
     ]
    }
   ],
   "source": []
  }
 ],
 "metadata": {
  "kernelspec": {
   "display_name": "Python 3 (ipykernel)",
   "language": "python",
   "name": "python3"
  },
  "language_info": {
   "codemirror_mode": {
    "name": "ipython",
    "version": 3
   },
   "file_extension": ".py",
   "mimetype": "text/x-python",
   "name": "python",
   "nbconvert_exporter": "python",
   "pygments_lexer": "ipython3",
   "version": "3.9.5"
  },
  "widgets": {
   "application/vnd.jupyter.widget-state+json": {
    "state": {},
    "version_major": 2,
    "version_minor": 0
   }
  }
 },
 "nbformat": 4,
 "nbformat_minor": 5
}
