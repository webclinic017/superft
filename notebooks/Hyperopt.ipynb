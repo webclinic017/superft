{
 "cells": [
  {
   "cell_type": "code",
   "execution_count": 1,
   "id": "4b5a742c-a158-43f7-ae74-f0151721b269",
   "metadata": {
    "tags": []
   },
   "outputs": [
    {
     "name": "stdout",
     "output_type": "stream",
     "text": [
      "env: WANDB_SILENT=true\n",
      "Preset name: DIY_MACDLongTermHS\n",
      "freqtrade.nbtools.preset.base_preset - Overwriting pairs (from 0 to 61 pairs)\n",
      "freqtrade.nbtools.preset.base_preset - Add strategy search path C:\\CS\\Python\\crypto-collection\\freqtrade\\mount\\presets\\.strategy_files\n",
      "freqtrade.nbtools.preset.base_preset - Setting config for DIY_MACDLongTermHS ...\n",
      "freqtrade.nbtools.preset.base_preset - Setting arg `datadir` to C:\\CS\\Python\\crypto-collection\\freqtrade\\mount\\data\\binance\n",
      "freqtrade.nbtools.preset.base_preset - Setting arg `timerange` to 20210101-\n",
      "freqtrade.loggers - Verbosity set to 0\n",
      "freqtrade.configuration.configuration - Using max_open_trades: 6 ...\n",
      "freqtrade.configuration.configuration - Parameter --timerange detected: 20210101- ...\n",
      "freqtrade.configuration.configuration - Using user-data directory: C:\\CS\\Python\\crypto-collection\\freqtrade\\superft\\user_data ...\n",
      "freqtrade.configuration.configuration - Using data directory: C:\\CS\\Python\\crypto-collection\\freqtrade\\mount\\data\\binance ...\n",
      "freqtrade.configuration.configuration - Parameter --epochs detected ... Will run Hyperopt with for 100 epochs ...\n",
      "freqtrade.configuration.configuration - Parameter -s/--spaces detected: buy\n",
      "freqtrade.configuration.configuration - Using Hyperopt loss class name: SharpeHyperOptLoss\n",
      "freqtrade.configuration.check_exchange - Checking exchange...\n",
      "freqtrade.configuration.check_exchange - Exchange \"binance\" is officially supported by the Freqtrade development team.\n",
      "freqtrade.configuration.config_validation - Validating configuration ...\n",
      "freqtrade.strategy.hyper - No params for buy found, using default values.\n",
      "freqtrade.strategy.hyper - Strategy Parameter(default): buy_macdfast_period = 26\n",
      "freqtrade.strategy.hyper - Strategy Parameter(default): buy_macdtrend_period = 160\n",
      "freqtrade.strategy.hyper - No params for sell found, using default values.\n",
      "freqtrade.resolvers.strategy_resolver - Override strategy 'order_types' with value in config file: {'buy': 'limit', 'sell': 'limit', 'forcesell': 'market', 'emergencysell': 'market', 'stoploss': 'market', 'stoploss_on_exchange': False, 'stoploss_on_exchange_interval': 60}.\n",
      "freqtrade.resolvers.strategy_resolver - Override strategy 'stake_currency' with value in config file: USDT.\n",
      "freqtrade.resolvers.strategy_resolver - Override strategy 'stake_amount' with value in config file: 15.\n",
      "freqtrade.resolvers.strategy_resolver - Override strategy 'unfilledtimeout' with value in config file: {'buy': 300, 'sell': 60, 'unit': 'seconds'}.\n",
      "freqtrade.nbtools.helper - Strategy using minimal_roi: {'0': 99}\n",
      "freqtrade.nbtools.helper - Strategy using timeframe: 4h\n",
      "freqtrade.nbtools.helper - Strategy using stoploss: -0.99\n",
      "freqtrade.nbtools.helper - Strategy using trailing_stop: False\n",
      "freqtrade.nbtools.helper - Strategy using trailing_stop_positive: 0.02\n",
      "freqtrade.nbtools.helper - Strategy using trailing_stop_positive_offset: 0.04\n",
      "freqtrade.nbtools.helper - Strategy using trailing_only_offset_is_reached: False\n",
      "freqtrade.nbtools.helper - Strategy using use_custom_stoploss: False\n",
      "freqtrade.nbtools.helper - Strategy using process_only_new_candles: False\n",
      "freqtrade.nbtools.helper - Strategy using order_types: {'buy': 'limit', 'sell': 'limit', 'forcesell': 'market', 'emergencysell': 'market', 'stoploss': 'market', 'stoploss_on_exchange': False, 'stoploss_on_exchange_interval': 60}\n",
      "freqtrade.nbtools.helper - Strategy using order_time_in_force: {'buy': 'gtc', 'sell': 'gtc'}\n",
      "freqtrade.nbtools.helper - Strategy using stake_currency: USDT\n",
      "freqtrade.nbtools.helper - Strategy using stake_amount: 15\n",
      "freqtrade.nbtools.helper - Strategy using protections: []\n",
      "freqtrade.nbtools.helper - Strategy using startup_candle_count: 500\n",
      "freqtrade.nbtools.helper - Strategy using unfilledtimeout: {'buy': 300, 'sell': 60, 'unit': 'seconds'}\n",
      "freqtrade.nbtools.helper - Strategy using use_sell_signal: True\n",
      "freqtrade.nbtools.helper - Strategy using sell_profit_only: False\n",
      "freqtrade.nbtools.helper - Strategy using ignore_roi_if_buy_signal: True\n",
      "freqtrade.nbtools.helper - Strategy using sell_profit_offset: 0.0\n",
      "freqtrade.nbtools.helper - Strategy using disable_dataframe_checks: False\n",
      "freqtrade.nbtools.helper - Strategy using ignore_buying_expired_candle_after: 0\n",
      "freqtrade.exchange.exchange - Instance is running with dry_run enabled\n",
      "freqtrade.exchange.exchange - Using CCXT 1.52.83\n",
      "freqtrade.exchange.exchange - Applying additional ccxt config: {'enableRateLimit': True}\n",
      "freqtrade.exchange.exchange - Applying additional ccxt config: {'enableRateLimit': True, 'rateLimit': 200}\n",
      "freqtrade.exchange.exchange - Using Exchange \"Binance\"\n",
      "freqtrade.resolvers.exchange_resolver - Using resolved exchange 'Binance'...\n",
      "freqtrade.configuration.config_validation - Validating configuration ...\n",
      "freqtrade.resolvers.iresolver - Using resolved pairlist StaticPairList from 'C:\\CS\\Python\\crypto-collection\\freqtrade\\superft\\freqtrade\\plugins\\pairlist\\StaticPairList.py'...\n",
      "freqtrade.resolvers.iresolver - Using resolved hyperoptloss SharpeHyperOptLoss from 'C:\\CS\\Python\\crypto-collection\\freqtrade\\superft\\freqtrade\\optimize\\hyperopt_loss_sharpe.py'...\n",
      "freqtrade.optimize.hyperopt - Removing `C:\\CS\\Python\\crypto-collection\\freqtrade\\superft\\user_data\\hyperopt_results\\hyperopt_tickerdata.pkl`.\n",
      "freqtrade.nbtools.hyperopt - Using optimizer random state: 46711\n",
      "freqtrade.data.history.history_utils - Using indicator startup period: 500 ...\n",
      "freqtrade.data.history.idatahandler - Missing data at start for pair FIL/USDT, data starts at 2020-10-15 16:00:00\n",
      "freqtrade.data.history.idatahandler - Missing data at start for pair AAVE/USDT, data starts at 2020-10-15 00:00:00\n",
      "freqtrade.data.history.idatahandler - Missing data at start for pair XEM/USDT, data starts at 2020-11-24 12:00:00\n",
      "freqtrade.data.history.idatahandler - Missing data at start for pair NEAR/USDT, data starts at 2020-10-14 04:00:00\n",
      "freqtrade.optimize.backtesting - Loading data from 2020-10-09 16:00:00 up to 2021-08-24 20:00:00 (319 days).\n",
      "freqtrade.optimize.hyperopt - Dataload complete. Calculating indicators\n"
     ]
    },
    {
     "name": "stderr",
     "output_type": "stream",
     "text": [
      "<string>:52: PerformanceWarning: DataFrame is highly fragmented.  This is usually the result of calling `frame.insert` many times, which has poor performance.  Consider using pd.concat instead.  To get a de-fragmented frame, use `newframe = frame.copy()`\n",
      "<string>:57: PerformanceWarning: DataFrame is highly fragmented.  This is usually the result of calling `frame.insert` many times, which has poor performance.  Consider using pd.concat instead.  To get a de-fragmented frame, use `newframe = frame.copy()`\n"
     ]
    },
    {
     "name": "stdout",
     "output_type": "stream",
     "text": [
      "freqtrade.optimize.hyperopt - Hyperopting with data from 2021-01-01 00:00:00 up to 2021-08-24 20:00:00 (235 days)..\n",
      "freqtrade.nbtools.hyperopt - Found 16 CPU cores. Let's make them scream!\n",
      "freqtrade.nbtools.hyperopt - Number of parallel jobs set as: -1\n",
      "freqtrade.nbtools.hyperopt - Effective number of parallel workers used: 16\n"
     ]
    },
    {
     "name": "stderr",
     "output_type": "stream",
     "text": [
      "\n"
     ]
    }
   ],
   "source": [
    "# Freqtrade Workspace\n",
    "\n",
    "# Notebook Helpers\n",
    "%load_ext autoreload\n",
    "%autoreload 2\n",
    "%env WANDB_SILENT=true\n",
    "\n",
    "# Standard Imports\n",
    "from pathlib import Path\n",
    "from typing import List, Callable, Tuple, Any\n",
    "from wandb.wandb_run import Run\n",
    "from datetime import datetime, timedelta\n",
    "from copy import deepcopy\n",
    "\n",
    "import attr\n",
    "import gc\n",
    "import os\n",
    "import wandb\n",
    "import nest_asyncio\n",
    "import logging\n",
    "import sys\n",
    "import pandas as pd\n",
    "import numpy as np\n",
    "import qgrid\n",
    "pd.set_option('display.max_rows', 200)\n",
    "\n",
    "# Resolve CWD\n",
    "gc.collect()\n",
    "nest_asyncio.apply()\n",
    "\n",
    "while \"freqtrade\" not in os.listdir():\n",
    "    os.chdir(\"..\")\n",
    "    if \"freqtrade\" in os.listdir():\n",
    "        nest_asyncio.apply()\n",
    "        logger = logging.getLogger(\"freqtrade\")\n",
    "        handler = logging.StreamHandler(stream=sys.stdout)\n",
    "        handler.setFormatter(logging.Formatter(\"%(name)s - %(message)s\"))\n",
    "        logger.addHandler(handler)\n",
    "        logger.setLevel(logging.INFO)\n",
    "        logging.getLogger(\"distributed.utils_perf\").setLevel(logging.ERROR)\n",
    "\n",
    "# Freqtrade Imports\n",
    "from freqtrade.optimize.optimize_reports import text_table_add_metrics\n",
    "from freqtrade.configuration import Configuration\n",
    "from freqtrade.data.btanalysis import load_backtest_data, load_backtest_stats\n",
    "from freqtrade.ml.lightning import LightningModule, LightningConfig\n",
    "from freqtrade.ml.trainer import TradingTrainer\n",
    "from freqtrade.ml.container import LightningContainer\n",
    "from freqtrade.ml import loader, lightning_utils\n",
    "from freqtrade.nbtools.preset import LocalPreset, ConfigPreset, FilePreset, CloudPreset\n",
    "from freqtrade.nbtools.hyperopt import start_hyperopt\n",
    "from freqtrade.nbtools.helper import free_mem\n",
    "from freqtrade.nbtools.pairs import PAIRS_HIGHCAP_NONSTABLE\n",
    "from freqtrade.nbtools import plotting, configs\n",
    "\n",
    "# Constants\n",
    "PATH_MOUNT = Path.cwd().parent / \"mount\"\n",
    "PATH_DATA = PATH_MOUNT / \"data\"\n",
    "PATH_PRESETS = PATH_MOUNT / \"presets\"\n",
    "PATH_STRATEGIES = PATH_PRESETS / \".strategy_files\"\n",
    "\n",
    "# Define custom functions\n",
    "def foo() -> str:\n",
    "    return \"bar\""
   ]
  },
  {
   "cell_type": "code",
   "execution_count": 2,
   "id": "91f3ba3f-9c41-4d5d-a2de-da812f8aaabb",
   "metadata": {},
   "outputs": [
    {
     "data": {
      "application/vnd.jupyter.widget-view+json": {
       "model_id": "5b61ee64af6746cead192c6aec5b91d6",
       "version_major": 2,
       "version_minor": 0
      },
      "text/plain": [
       "Populating Indicators:   0%|          | 0/61 [00:00<?, ?it/s]"
      ]
     },
     "metadata": {},
     "output_type": "display_data"
    },
    {
     "ename": "BrokenProcessPool",
     "evalue": "A task has failed to un-serialize. Please ensure that the arguments of the function are all picklable.",
     "output_type": "error",
     "traceback": [
      "\u001b[1;31m---------------------------------------------------------------------------\u001b[0m",
      "\u001b[1;31m_RemoteTraceback\u001b[0m                          Traceback (most recent call last)",
      "\u001b[1;31m_RemoteTraceback\u001b[0m: \n\"\"\"\nTraceback (most recent call last):\n  File \"C:\\Users\\User\\.virtualenvs\\freqtrade-futures\\lib\\site-packages\\joblib\\externals\\loky\\process_executor.py\", line 404, in _process_worker\n    call_item = call_queue.get(block=True, timeout=timeout)\n  File \"C:\\Python\\Python39\\lib\\multiprocessing\\queues.py\", line 122, in get\n    return _ForkingPickler.loads(res)\n  File \"C:\\Users\\User\\.virtualenvs\\freqtrade-futures\\lib\\site-packages\\joblib\\externals\\loky\\cloudpickle_wrapper.py\", line 48, in _reconstruct_wrapper\n    obj = loads(_pickled_object)\nModuleNotFoundError: No module named 'freqtrade'\n\"\"\"",
      "\nThe above exception was the direct cause of the following exception:\n",
      "\u001b[1;31mBrokenProcessPool\u001b[0m                         Traceback (most recent call last)",
      "\u001b[1;32m~\\AppData\\Local\\Temp/ipykernel_29812/2889069501.py\u001b[0m in \u001b[0;36m<module>\u001b[1;34m\u001b[0m\n\u001b[0;32m     41\u001b[0m \u001b[1;31m# }\u001b[0m\u001b[1;33m\u001b[0m\u001b[1;33m\u001b[0m\u001b[1;33m\u001b[0m\u001b[0m\n\u001b[0;32m     42\u001b[0m \u001b[1;33m\u001b[0m\u001b[0m\n\u001b[1;32m---> 43\u001b[1;33m \u001b[0mstart_hyperopt\u001b[0m\u001b[1;33m(\u001b[0m\u001b[0mpreset\u001b[0m\u001b[1;33m,\u001b[0m \u001b[0mpreset\u001b[0m\u001b[1;33m.\u001b[0m\u001b[0mdefault_strategy_code\u001b[0m\u001b[1;33m,\u001b[0m \u001b[0mhyperopt_args\u001b[0m\u001b[1;33m=\u001b[0m\u001b[0mhyperopt_args\u001b[0m\u001b[1;33m,\u001b[0m \u001b[0mclsname\u001b[0m\u001b[1;33m=\u001b[0m\u001b[0mstrategy_classname\u001b[0m\u001b[1;33m)\u001b[0m\u001b[1;33m\u001b[0m\u001b[1;33m\u001b[0m\u001b[0m\n\u001b[0m",
      "\u001b[1;32mC:\\CS\\Python\\crypto-collection\\freqtrade\\superft\\freqtrade\\nbtools\\hyperopt.py\u001b[0m in \u001b[0;36mstart_hyperopt\u001b[1;34m(preset, strategy, hyperopt_args, clsname)\u001b[0m\n\u001b[0;32m    263\u001b[0m     \u001b[0mstrategy_object\u001b[0m \u001b[1;33m=\u001b[0m \u001b[0mget_strategy_object\u001b[0m\u001b[1;33m(\u001b[0m\u001b[0mparsed_strategy_code\u001b[0m\u001b[1;33m,\u001b[0m \u001b[0mconfig_optimize_hyperopt\u001b[0m\u001b[1;33m,\u001b[0m \u001b[0mclsname\u001b[0m\u001b[1;33m)\u001b[0m\u001b[1;33m\u001b[0m\u001b[1;33m\u001b[0m\u001b[0m\n\u001b[0;32m    264\u001b[0m     \u001b[0mhyperopter\u001b[0m \u001b[1;33m=\u001b[0m \u001b[0mNbHyperopt\u001b[0m\u001b[1;33m(\u001b[0m\u001b[0mconfig_optimize_hyperopt\u001b[0m\u001b[1;33m,\u001b[0m \u001b[0mstrategy_object\u001b[0m\u001b[1;33m)\u001b[0m\u001b[1;33m\u001b[0m\u001b[1;33m\u001b[0m\u001b[0m\n\u001b[1;32m--> 265\u001b[1;33m     \u001b[0mhyperopter\u001b[0m\u001b[1;33m.\u001b[0m\u001b[0mstart_nb_hyperopt\u001b[0m\u001b[1;33m(\u001b[0m\u001b[1;33m)\u001b[0m\u001b[1;33m\u001b[0m\u001b[1;33m\u001b[0m\u001b[0m\n\u001b[0m",
      "\u001b[1;32mC:\\CS\\Python\\crypto-collection\\freqtrade\\superft\\freqtrade\\nbtools\\hyperopt.py\u001b[0m in \u001b[0;36mstart_nb_hyperopt\u001b[1;34m(self)\u001b[0m\n\u001b[0;32m    205\u001b[0m \u001b[1;33m\u001b[0m\u001b[0m\n\u001b[0;32m    206\u001b[0m                         \u001b[0masked\u001b[0m \u001b[1;33m=\u001b[0m \u001b[0mself\u001b[0m\u001b[1;33m.\u001b[0m\u001b[0mopt\u001b[0m\u001b[1;33m.\u001b[0m\u001b[0mask\u001b[0m\u001b[1;33m(\u001b[0m\u001b[0mn_points\u001b[0m\u001b[1;33m=\u001b[0m\u001b[0mcurrent_jobs\u001b[0m\u001b[1;33m)\u001b[0m\u001b[1;33m\u001b[0m\u001b[1;33m\u001b[0m\u001b[0m\n\u001b[1;32m--> 207\u001b[1;33m                         \u001b[0mf_val\u001b[0m \u001b[1;33m=\u001b[0m \u001b[0mself\u001b[0m\u001b[1;33m.\u001b[0m\u001b[0mrun_optimizer_parallel\u001b[0m\u001b[1;33m(\u001b[0m\u001b[0mparallel\u001b[0m\u001b[1;33m,\u001b[0m \u001b[0masked\u001b[0m\u001b[1;33m,\u001b[0m \u001b[0mi\u001b[0m\u001b[1;33m)\u001b[0m\u001b[1;33m\u001b[0m\u001b[1;33m\u001b[0m\u001b[0m\n\u001b[0m\u001b[0;32m    208\u001b[0m                         \u001b[0mself\u001b[0m\u001b[1;33m.\u001b[0m\u001b[0mopt\u001b[0m\u001b[1;33m.\u001b[0m\u001b[0mtell\u001b[0m\u001b[1;33m(\u001b[0m\u001b[0masked\u001b[0m\u001b[1;33m,\u001b[0m \u001b[1;33m[\u001b[0m\u001b[0mv\u001b[0m\u001b[1;33m[\u001b[0m\u001b[1;34m'loss'\u001b[0m\u001b[1;33m]\u001b[0m \u001b[1;32mfor\u001b[0m \u001b[0mv\u001b[0m \u001b[1;32min\u001b[0m \u001b[0mf_val\u001b[0m\u001b[1;33m]\u001b[0m\u001b[1;33m)\u001b[0m\u001b[1;33m\u001b[0m\u001b[1;33m\u001b[0m\u001b[0m\n\u001b[0;32m    209\u001b[0m \u001b[1;33m\u001b[0m\u001b[0m\n",
      "\u001b[1;32mC:\\CS\\Python\\crypto-collection\\freqtrade\\superft\\freqtrade\\optimize\\hyperopt.py\u001b[0m in \u001b[0;36mrun_optimizer_parallel\u001b[1;34m(self, parallel, asked, i)\u001b[0m\n\u001b[0;32m    367\u001b[0m \u001b[1;33m\u001b[0m\u001b[0m\n\u001b[0;32m    368\u001b[0m     \u001b[1;32mdef\u001b[0m \u001b[0mrun_optimizer_parallel\u001b[0m\u001b[1;33m(\u001b[0m\u001b[0mself\u001b[0m\u001b[1;33m,\u001b[0m \u001b[0mparallel\u001b[0m\u001b[1;33m,\u001b[0m \u001b[0masked\u001b[0m\u001b[1;33m,\u001b[0m \u001b[0mi\u001b[0m\u001b[1;33m)\u001b[0m \u001b[1;33m->\u001b[0m \u001b[0mList\u001b[0m\u001b[1;33m:\u001b[0m\u001b[1;33m\u001b[0m\u001b[1;33m\u001b[0m\u001b[0m\n\u001b[1;32m--> 369\u001b[1;33m         return parallel(delayed(\n\u001b[0m\u001b[0;32m    370\u001b[0m                         wrap_non_picklable_objects(self.generate_optimizer))(v, i) for v in asked)\n\u001b[0;32m    371\u001b[0m \u001b[1;33m\u001b[0m\u001b[0m\n",
      "\u001b[1;32m~\\.virtualenvs\\freqtrade-futures\\lib\\site-packages\\joblib\\parallel.py\u001b[0m in \u001b[0;36m__call__\u001b[1;34m(self, iterable)\u001b[0m\n\u001b[0;32m   1052\u001b[0m \u001b[1;33m\u001b[0m\u001b[0m\n\u001b[0;32m   1053\u001b[0m             \u001b[1;32mwith\u001b[0m \u001b[0mself\u001b[0m\u001b[1;33m.\u001b[0m\u001b[0m_backend\u001b[0m\u001b[1;33m.\u001b[0m\u001b[0mretrieval_context\u001b[0m\u001b[1;33m(\u001b[0m\u001b[1;33m)\u001b[0m\u001b[1;33m:\u001b[0m\u001b[1;33m\u001b[0m\u001b[1;33m\u001b[0m\u001b[0m\n\u001b[1;32m-> 1054\u001b[1;33m                 \u001b[0mself\u001b[0m\u001b[1;33m.\u001b[0m\u001b[0mretrieve\u001b[0m\u001b[1;33m(\u001b[0m\u001b[1;33m)\u001b[0m\u001b[1;33m\u001b[0m\u001b[1;33m\u001b[0m\u001b[0m\n\u001b[0m\u001b[0;32m   1055\u001b[0m             \u001b[1;31m# Make sure that we get a last message telling us we are done\u001b[0m\u001b[1;33m\u001b[0m\u001b[1;33m\u001b[0m\u001b[1;33m\u001b[0m\u001b[0m\n\u001b[0;32m   1056\u001b[0m             \u001b[0melapsed_time\u001b[0m \u001b[1;33m=\u001b[0m \u001b[0mtime\u001b[0m\u001b[1;33m.\u001b[0m\u001b[0mtime\u001b[0m\u001b[1;33m(\u001b[0m\u001b[1;33m)\u001b[0m \u001b[1;33m-\u001b[0m \u001b[0mself\u001b[0m\u001b[1;33m.\u001b[0m\u001b[0m_start_time\u001b[0m\u001b[1;33m\u001b[0m\u001b[1;33m\u001b[0m\u001b[0m\n",
      "\u001b[1;32m~\\.virtualenvs\\freqtrade-futures\\lib\\site-packages\\joblib\\parallel.py\u001b[0m in \u001b[0;36mretrieve\u001b[1;34m(self)\u001b[0m\n\u001b[0;32m    931\u001b[0m             \u001b[1;32mtry\u001b[0m\u001b[1;33m:\u001b[0m\u001b[1;33m\u001b[0m\u001b[1;33m\u001b[0m\u001b[0m\n\u001b[0;32m    932\u001b[0m                 \u001b[1;32mif\u001b[0m \u001b[0mgetattr\u001b[0m\u001b[1;33m(\u001b[0m\u001b[0mself\u001b[0m\u001b[1;33m.\u001b[0m\u001b[0m_backend\u001b[0m\u001b[1;33m,\u001b[0m \u001b[1;34m'supports_timeout'\u001b[0m\u001b[1;33m,\u001b[0m \u001b[1;32mFalse\u001b[0m\u001b[1;33m)\u001b[0m\u001b[1;33m:\u001b[0m\u001b[1;33m\u001b[0m\u001b[1;33m\u001b[0m\u001b[0m\n\u001b[1;32m--> 933\u001b[1;33m                     \u001b[0mself\u001b[0m\u001b[1;33m.\u001b[0m\u001b[0m_output\u001b[0m\u001b[1;33m.\u001b[0m\u001b[0mextend\u001b[0m\u001b[1;33m(\u001b[0m\u001b[0mjob\u001b[0m\u001b[1;33m.\u001b[0m\u001b[0mget\u001b[0m\u001b[1;33m(\u001b[0m\u001b[0mtimeout\u001b[0m\u001b[1;33m=\u001b[0m\u001b[0mself\u001b[0m\u001b[1;33m.\u001b[0m\u001b[0mtimeout\u001b[0m\u001b[1;33m)\u001b[0m\u001b[1;33m)\u001b[0m\u001b[1;33m\u001b[0m\u001b[1;33m\u001b[0m\u001b[0m\n\u001b[0m\u001b[0;32m    934\u001b[0m                 \u001b[1;32melse\u001b[0m\u001b[1;33m:\u001b[0m\u001b[1;33m\u001b[0m\u001b[1;33m\u001b[0m\u001b[0m\n\u001b[0;32m    935\u001b[0m                     \u001b[0mself\u001b[0m\u001b[1;33m.\u001b[0m\u001b[0m_output\u001b[0m\u001b[1;33m.\u001b[0m\u001b[0mextend\u001b[0m\u001b[1;33m(\u001b[0m\u001b[0mjob\u001b[0m\u001b[1;33m.\u001b[0m\u001b[0mget\u001b[0m\u001b[1;33m(\u001b[0m\u001b[1;33m)\u001b[0m\u001b[1;33m)\u001b[0m\u001b[1;33m\u001b[0m\u001b[1;33m\u001b[0m\u001b[0m\n",
      "\u001b[1;32m~\\.virtualenvs\\freqtrade-futures\\lib\\site-packages\\joblib\\_parallel_backends.py\u001b[0m in \u001b[0;36mwrap_future_result\u001b[1;34m(future, timeout)\u001b[0m\n\u001b[0;32m    540\u001b[0m         AsyncResults.get from multiprocessing.\"\"\"\n\u001b[0;32m    541\u001b[0m         \u001b[1;32mtry\u001b[0m\u001b[1;33m:\u001b[0m\u001b[1;33m\u001b[0m\u001b[1;33m\u001b[0m\u001b[0m\n\u001b[1;32m--> 542\u001b[1;33m             \u001b[1;32mreturn\u001b[0m \u001b[0mfuture\u001b[0m\u001b[1;33m.\u001b[0m\u001b[0mresult\u001b[0m\u001b[1;33m(\u001b[0m\u001b[0mtimeout\u001b[0m\u001b[1;33m=\u001b[0m\u001b[0mtimeout\u001b[0m\u001b[1;33m)\u001b[0m\u001b[1;33m\u001b[0m\u001b[1;33m\u001b[0m\u001b[0m\n\u001b[0m\u001b[0;32m    543\u001b[0m         \u001b[1;32mexcept\u001b[0m \u001b[0mCfTimeoutError\u001b[0m \u001b[1;32mas\u001b[0m \u001b[0me\u001b[0m\u001b[1;33m:\u001b[0m\u001b[1;33m\u001b[0m\u001b[1;33m\u001b[0m\u001b[0m\n\u001b[0;32m    544\u001b[0m             \u001b[1;32mraise\u001b[0m \u001b[0mTimeoutError\u001b[0m \u001b[1;32mfrom\u001b[0m \u001b[0me\u001b[0m\u001b[1;33m\u001b[0m\u001b[1;33m\u001b[0m\u001b[0m\n",
      "\u001b[1;32mC:\\Python\\Python39\\lib\\concurrent\\futures\\_base.py\u001b[0m in \u001b[0;36mresult\u001b[1;34m(self, timeout)\u001b[0m\n\u001b[0;32m    443\u001b[0m                     \u001b[1;32mraise\u001b[0m \u001b[0mCancelledError\u001b[0m\u001b[1;33m(\u001b[0m\u001b[1;33m)\u001b[0m\u001b[1;33m\u001b[0m\u001b[1;33m\u001b[0m\u001b[0m\n\u001b[0;32m    444\u001b[0m                 \u001b[1;32melif\u001b[0m \u001b[0mself\u001b[0m\u001b[1;33m.\u001b[0m\u001b[0m_state\u001b[0m \u001b[1;33m==\u001b[0m \u001b[0mFINISHED\u001b[0m\u001b[1;33m:\u001b[0m\u001b[1;33m\u001b[0m\u001b[1;33m\u001b[0m\u001b[0m\n\u001b[1;32m--> 445\u001b[1;33m                     \u001b[1;32mreturn\u001b[0m \u001b[0mself\u001b[0m\u001b[1;33m.\u001b[0m\u001b[0m__get_result\u001b[0m\u001b[1;33m(\u001b[0m\u001b[1;33m)\u001b[0m\u001b[1;33m\u001b[0m\u001b[1;33m\u001b[0m\u001b[0m\n\u001b[0m\u001b[0;32m    446\u001b[0m                 \u001b[1;32melse\u001b[0m\u001b[1;33m:\u001b[0m\u001b[1;33m\u001b[0m\u001b[1;33m\u001b[0m\u001b[0m\n\u001b[0;32m    447\u001b[0m                     \u001b[1;32mraise\u001b[0m \u001b[0mTimeoutError\u001b[0m\u001b[1;33m(\u001b[0m\u001b[1;33m)\u001b[0m\u001b[1;33m\u001b[0m\u001b[1;33m\u001b[0m\u001b[0m\n",
      "\u001b[1;32mC:\\Python\\Python39\\lib\\concurrent\\futures\\_base.py\u001b[0m in \u001b[0;36m__get_result\u001b[1;34m(self)\u001b[0m\n\u001b[0;32m    388\u001b[0m         \u001b[1;32mif\u001b[0m \u001b[0mself\u001b[0m\u001b[1;33m.\u001b[0m\u001b[0m_exception\u001b[0m\u001b[1;33m:\u001b[0m\u001b[1;33m\u001b[0m\u001b[1;33m\u001b[0m\u001b[0m\n\u001b[0;32m    389\u001b[0m             \u001b[1;32mtry\u001b[0m\u001b[1;33m:\u001b[0m\u001b[1;33m\u001b[0m\u001b[1;33m\u001b[0m\u001b[0m\n\u001b[1;32m--> 390\u001b[1;33m                 \u001b[1;32mraise\u001b[0m \u001b[0mself\u001b[0m\u001b[1;33m.\u001b[0m\u001b[0m_exception\u001b[0m\u001b[1;33m\u001b[0m\u001b[1;33m\u001b[0m\u001b[0m\n\u001b[0m\u001b[0;32m    391\u001b[0m             \u001b[1;32mfinally\u001b[0m\u001b[1;33m:\u001b[0m\u001b[1;33m\u001b[0m\u001b[1;33m\u001b[0m\u001b[0m\n\u001b[0;32m    392\u001b[0m                 \u001b[1;31m# Break a reference cycle with the exception in self._exception\u001b[0m\u001b[1;33m\u001b[0m\u001b[1;33m\u001b[0m\u001b[1;33m\u001b[0m\u001b[0m\n",
      "\u001b[1;31mBrokenProcessPool\u001b[0m: A task has failed to un-serialize. Please ensure that the arguments of the function are all picklable."
     ]
    }
   ],
   "source": [
    "strategy_classname = \"DIY_MACDLongTermHS\"  # Strategy Filename and Classname must same! \n",
    "timerange          = \"20210101-\"\n",
    "pairs              = PAIRS_HIGHCAP_NONSTABLE\n",
    "\n",
    "# pairs              = [\n",
    "#     \"DOGE/USDT\",\n",
    "#     \"BTC/USDT\", \"ETH/USDT\", \"ADA/USDT\", \"XRP/USDT\", \"BCH/USDT\", \"EOS/USDT\", \"NEO/USDT\", \"NANO/USDT\", \"XMR/USDT\", \"ZEC/USDT\",\n",
    "# ]\n",
    "\n",
    "# Hyperopt Arguments\n",
    "hyperopt_args = {\n",
    "    # spaces: all, buy, sell, roi, stoploss, trailing, default (all exc. trailing)\n",
    "    \"spaces\": \"buy\",\n",
    "    \"epochs\": 100,\n",
    "    # hyperopt-loss: SharpeHyperOptLoss, SortinoHyperOptLoss, OnlyProfitHyperOptLoss, ShortTradeDurHyperOptLoss, or Sharpe/Sortino + Daily\n",
    "    \"hyperopt_loss\": \"SharpeHyperOptLoss\",\n",
    "#     \"min-trades\": 10,\n",
    "#     \"random-state\": 2,\n",
    "}\n",
    "\n",
    "preset = FilePreset(\n",
    "    timerange = timerange,\n",
    "    config_dict = configs.DEFAULT,\n",
    "    path_to_file = PATH_STRATEGIES / f\"{strategy_classname}.py\",\n",
    "    path_data = PATH_DATA,\n",
    ")\n",
    "\n",
    "# Optional override\n",
    "preset.overwrite_config(\n",
    "    strategy_search_path = PATH_STRATEGIES,\n",
    "    pairs                = pairs,\n",
    "#     max_open_trades      = 3,\n",
    "#     starting_balance     = 100,\n",
    "#     stake_amount         = \"unlimited\",\n",
    "#     timeframe            = \"2h\", # 1m, 3m, 5m, 15m, 30m, 1h, 2h, 4h, 6h, 8h, 12h, 1d, 3d, 1w\n",
    ")\n",
    "\n",
    "# preset._config = {\n",
    "#     **preset._config,\n",
    "#     **hyperopt_args,\n",
    "# }\n",
    "\n",
    "start_hyperopt(preset, preset.default_strategy_code, hyperopt_args=hyperopt_args, clsname=strategy_classname)"
   ]
  },
  {
   "cell_type": "code",
   "execution_count": null,
   "id": "550a300a-9e32-4b96-9786-d1696466d023",
   "metadata": {},
   "outputs": [],
   "source": []
  },
  {
   "cell_type": "code",
   "execution_count": null,
   "id": "2292d8b4-1756-4215-93e6-c01ffb14b777",
   "metadata": {},
   "outputs": [],
   "source": []
  }
 ],
 "metadata": {
  "kernelspec": {
   "display_name": "Python 3 (ipykernel)",
   "language": "python",
   "name": "python3"
  },
  "language_info": {
   "codemirror_mode": {
    "name": "ipython",
    "version": 3
   },
   "file_extension": ".py",
   "mimetype": "text/x-python",
   "name": "python",
   "nbconvert_exporter": "python",
   "pygments_lexer": "ipython3",
   "version": "3.9.5"
  },
  "widgets": {
   "application/vnd.jupyter.widget-state+json": {
    "state": {},
    "version_major": 2,
    "version_minor": 0
   }
  }
 },
 "nbformat": 4,
 "nbformat_minor": 5
}
