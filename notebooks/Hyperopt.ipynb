{
 "cells": [
  {
   "cell_type": "code",
   "execution_count": 1,
   "id": "91f3ba3f-9c41-4d5d-a2de-da812f8aaabb",
   "metadata": {},
   "outputs": [
    {
     "name": "stdout",
     "output_type": "stream",
     "text": [
      "env: WANDB_SILENT=true\n",
      "freqtrade.nbtools.backtest - Initialized DataLoader with 5 max datas.\n"
     ]
    }
   ],
   "source": [
    "# Freqtrade Workspace\n",
    "\n",
    "# Notebook Helpers\n",
    "%load_ext autoreload\n",
    "%autoreload 2\n",
    "%env WANDB_SILENT=true\n",
    "\n",
    "# Standard Imports\n",
    "from pathlib import Path\n",
    "from typing import List, Callable, Tuple, Any\n",
    "from wandb.wandb_run import Run\n",
    "from datetime import datetime, timedelta\n",
    "from copy import deepcopy\n",
    "\n",
    "import attr\n",
    "import gc\n",
    "import os\n",
    "import wandb\n",
    "import nest_asyncio\n",
    "import logging\n",
    "import sys\n",
    "import pandas as pd\n",
    "import numpy as np\n",
    "import qgrid\n",
    "pd.set_option('display.max_rows', 200)\n",
    "\n",
    "# Resolve CWD\n",
    "gc.collect()\n",
    "nest_asyncio.apply()\n",
    "\n",
    "while \"freqtrade\" not in os.listdir():\n",
    "    os.chdir(\"..\")\n",
    "    if \"freqtrade\" in os.listdir():\n",
    "        nest_asyncio.apply()\n",
    "        logger = logging.getLogger(\"freqtrade\")\n",
    "        handler = logging.StreamHandler(stream=sys.stdout)\n",
    "        handler.setFormatter(logging.Formatter(\"%(name)s - %(message)s\"))\n",
    "        logger.addHandler(handler)\n",
    "        logger.setLevel(logging.INFO)\n",
    "        logging.getLogger(\"distributed.utils_perf\").setLevel(logging.ERROR)\n",
    "\n",
    "# Freqtrade Imports\n",
    "from freqtrade.optimize.optimize_reports import text_table_add_metrics\n",
    "from freqtrade.ml.lightning import LightningModule, LightningConfig\n",
    "from freqtrade.ml.trainer import TradingTrainer\n",
    "from freqtrade.ml.container import LightningContainer\n",
    "from freqtrade.ml import loader, lightning_utils\n",
    "from freqtrade.nbtools.preset import LocalPreset, ConfigPreset, FilePreset, CloudPreset\n",
    "from freqtrade.nbtools.backtest import backtest, DataLoader\n",
    "from freqtrade.nbtools import plotting, configs\n",
    "from freqtrade.nbtools.helper import free_mem\n",
    "from freqtrade.nbtools.pairs import PAIRS_HIGHCAP_NONSTABLE\n",
    "\n",
    "# Constants\n",
    "PATH_MOUNT = Path.cwd().parent / \"mount\"\n",
    "PATH_DATA = PATH_MOUNT / \"data\"\n",
    "PATH_PRESETS = PATH_MOUNT / \"presets\"\n",
    "PATH_STRATEGIES = PATH_PRESETS / \".strategy_files\"\n",
    "DATALOADER = DataLoader(max_n_datasets=5)\n",
    "\n",
    "# Define custom functions\n",
    "def foo() -> str:\n",
    "    return \"bar\""
   ]
  },
  {
   "cell_type": "code",
   "execution_count": 2,
   "id": "388b554b-1914-41a0-83e8-41d1341de23d",
   "metadata": {},
   "outputs": [
    {
     "name": "stdout",
     "output_type": "stream",
     "text": [
      "> C:\\Users\\User\\.virtualenvs\\freqtrade-futures\\Scripts\\python.exe -m notebooks.hyperopter --strategy DIY_MACDLongTermHS --timerange 20160101-20210101 --spaces buy --epochs 100 --hyperopt_loss SharpeHyperOptLoss --hyperopt_min_trades 20 --hyperopt_random_state 1 --hyperopt_jobs 14 --pairs BTC/USDT,ETH/USDT,ADA/USDT,XRP/USDT,EOS/USDT,XMR/USDT,RVN/USDT,ZEC/USDT,NANO/USDT,NEO/USDT,BCH/USDT,LTC/USDT,ETC/USDT,XLM/USDT,MKR/USDT,DASH/USDT,ICX/USDT,BNB/USDT,LINK/USDT,XEM/USDT\n",
      "^C\n",
      "\n",
      "{'strategy': 'DIY_MACDLongTermHS', 'timerange': '20160101-20210101', 'pairs': ['BTC/USDT', 'ETH/USDT', 'ADA/USDT', 'XRP/USDT', 'EOS/USDT', 'XMR/USDT', 'RVN/USDT', 'ZEC/USDT', 'NANO/USDT', 'NEO/USDT', 'BCH/USDT', 'LTC/USDT', 'ETC/USDT', 'XLM/USDT', 'MKR/USDT', 'DASH/USDT', 'ICX/USDT', 'BNB/USDT', 'LINK/USDT', 'XEM/USDT'], 'spaces': 'buy', 'epochs': 100, 'hyperopt_loss': 'SharpeHyperOptLoss', 'hyperopt_min_trades': 20, 'hyperopt_random_state': 1, 'hyperopt_jobs': 14}\n",
      "\n",
      "Preset name: DIY_MACDLongTermHS\n",
      "Starting HyperOpt\n"
     ]
    }
   ],
   "source": [
    "PAIRLIST = [\n",
    "    \"BTC/USDT\", \"ETH/USDT\", \"ADA/USDT\", \"XRP/USDT\", \"EOS/USDT\", \"XMR/USDT\", \"RVN/USDT\", \"ZEC/USDT\", \"NANO/USDT\", \"NEO/USDT\",\n",
    "    \"BCH/USDT\", \"LTC/USDT\", \"ETC/USDT\", \"XLM/USDT\", \"MKR/USDT\", \"DASH/USDT\", \"ICX/USDT\", \"BNB/USDT\", \"LINK/USDT\", \"XEM/USDT\",\n",
    "]\n",
    "\n",
    "hyperopt_data = {\n",
    "    \"strategy\": \"DIY_MACDLongTermHS\",\n",
    "    \"timerange\": \"20160101-20210101\",\n",
    "    \"spaces\": \"buy\",\n",
    "    \"epochs\": 100,\n",
    "    \"hyperopt_loss\": \"SharpeHyperOptLoss\",\n",
    "    \"hyperopt_min_trades\": 20,\n",
    "    \"hyperopt_random_state\": 1,\n",
    "    \"hyperopt_jobs\": 14,\n",
    "    \"pairs\": \",\".join(PAIRLIST),\n",
    "}\n",
    "\n",
    "args_list = []\n",
    "argparse = [args_list.append(f\"--{opt} {arg}\") for opt, arg in hyperopt_data.items()]\n",
    "args_str = \" \".join(args_list)\n",
    "\n",
    "print(\"> C:\\\\Users\\\\User\\\\.virtualenvs\\\\freqtrade-futures\\\\Scripts\\\\python.exe -m notebooks.hyperopter\", args_str)\n",
    "\n",
    "!C:\\Users\\User\\.virtualenvs\\freqtrade-futures\\Scripts\\python.exe -m notebooks.hyperopter {args_str}"
   ]
  },
  {
   "cell_type": "code",
   "execution_count": 4,
   "id": "112941fe-cfbd-4c33-b454-68f05f54300a",
   "metadata": {},
   "outputs": [
    {
     "name": "stdout",
     "output_type": "stream",
     "text": [
      "C:\\Python\\Python39\\python.exe\n",
      "C:\\Users\\User\\AppData\\Local\\Microsoft\\WindowsApps\\python.exe\n"
     ]
    }
   ],
   "source": [
    "\"\"\" Iterations of Freqtrade Strategy Development\n",
    "\n",
    "1. Conceptualize the strategy\n",
    "    1.1 Indicators Needed\n",
    "    1.2 Buy Logic and Filters\n",
    "    1.3 Sell Logic\n",
    "    1.4 Money Management (ROI Table, TP, SL, TSL, Custom SL?)\n",
    "    \n",
    "2. Code your freqtrade version of that strategy.\n",
    "\n",
    "3. Define the hyperopt model\n",
    "    3.1 Use ROI table? Use stop loss? If use stop loss, is it trailing?\n",
    "    3.2 Hyperparameters that run at on_populate_indicators() -> DON'T USE TOO MANY OF THEM!\n",
    "    3.3 Hyperparameters that used at on_populate_buy_trend() and on_populate_sell_trend() -> CAN USE TOO MANY OF THEM.\n",
    "    \n",
    "4. Code the HyperStrategy (HS) version of that strategy.\n",
    "\"\"\""
   ]
  }
 ],
 "metadata": {
  "kernelspec": {
   "display_name": "Python 3 (ipykernel)",
   "language": "python",
   "name": "python3"
  },
  "language_info": {
   "codemirror_mode": {
    "name": "ipython",
    "version": 3
   },
   "file_extension": ".py",
   "mimetype": "text/x-python",
   "name": "python",
   "nbconvert_exporter": "python",
   "pygments_lexer": "ipython3",
   "version": "3.9.5"
  },
  "widgets": {
   "application/vnd.jupyter.widget-state+json": {
    "state": {},
    "version_major": 2,
    "version_minor": 0
   }
  }
 },
 "nbformat": 4,
 "nbformat_minor": 5
}
