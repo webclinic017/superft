{
 "cells": [
  {
   "cell_type": "code",
   "execution_count": 1,
   "source": [
    "# Freqtrade Workspace\r\n",
    "\r\n",
    "# Notebook Helpers\r\n",
    "%load_ext autoreload\r\n",
    "%autoreload 2\r\n",
    "%env WANDB_SILENT=true\r\n",
    "\r\n",
    "# Standard Imports\r\n",
    "from pathlib import Path\r\n",
    "from typing import List, Callable, Tuple, Any\r\n",
    "from wandb.wandb_run import Run\r\n",
    "from datetime import datetime, timedelta\r\n",
    "from copy import deepcopy\r\n",
    "\r\n",
    "import attr\r\n",
    "import gc\r\n",
    "import os\r\n",
    "import wandb\r\n",
    "import nest_asyncio\r\n",
    "import logging\r\n",
    "import sys\r\n",
    "import pandas as pd\r\n",
    "import numpy as np\r\n",
    "import qgrid\r\n",
    "pd.set_option('display.max_rows', 200)\r\n",
    "\r\n",
    "# Resolve CWD\r\n",
    "gc.collect()\r\n",
    "nest_asyncio.apply()\r\n",
    "\r\n",
    "while \"freqtrade\" not in os.listdir():\r\n",
    "    os.chdir(\"..\")\r\n",
    "    if \"freqtrade\" in os.listdir():\r\n",
    "        nest_asyncio.apply()\r\n",
    "        logger = logging.getLogger(\"freqtrade\")\r\n",
    "        handler = logging.StreamHandler(stream=sys.stdout)\r\n",
    "        handler.setFormatter(logging.Formatter(\"%(name)s - %(message)s\"))\r\n",
    "        logger.addHandler(handler)\r\n",
    "        logger.setLevel(logging.INFO)\r\n",
    "        logging.getLogger(\"distributed.utils_perf\").setLevel(logging.ERROR)\r\n",
    "\r\n",
    "# Freqtrade Imports\r\n",
    "from freqtrade.optimize.optimize_reports import text_table_add_metrics\r\n",
    "from freqtrade.ml.lightning import LightningModule, LightningConfig\r\n",
    "from freqtrade.ml.trainer import TradingTrainer\r\n",
    "from freqtrade.ml.container import LightningContainer\r\n",
    "from freqtrade.ml import loader, lightning_utils\r\n",
    "from freqtrade.nbtools.preset import LocalPreset, ConfigPreset, FilePreset, CloudPreset\r\n",
    "from freqtrade.nbtools.backtest import backtest, DataLoader\r\n",
    "from freqtrade.nbtools import plotting, configs\r\n",
    "from freqtrade.nbtools.helper import free_mem\r\n",
    "from freqtrade.nbtools.pairs import PAIRS_HIGHCAP_NONSTABLE\r\n",
    "\r\n",
    "# Constants\r\n",
    "PATH_MOUNT = Path.cwd().parent / \"mount\"\r\n",
    "PATH_DATA = PATH_MOUNT / \"data\"\r\n",
    "PATH_PRESETS = PATH_MOUNT / \"presets\"\r\n",
    "PATH_STRATEGIES = PATH_PRESETS / \".strategy_files\"\r\n",
    "DATALOADER = DataLoader(max_n_datasets=5)\r\n",
    "\r\n",
    "# Define custom functions\r\n",
    "def foo() -> str:\r\n",
    "    return \"bar\""
   ],
   "outputs": [
    {
     "output_type": "stream",
     "name": "stdout",
     "text": [
      "env: WANDB_SILENT=true\n",
      "freqtrade.nbtools.backtest - Initialized DataLoader with 5 max datas.\n"
     ]
    }
   ],
   "metadata": {}
  },
  {
   "cell_type": "code",
   "execution_count": 2,
   "source": [
    "# NOTE: Notebook Hyperopt may allowed without interacting to CLI\r\n",
    "\r\n",
    "PAIRLIST = [\r\n",
    "    \"BTC/USDT\", \"ETH/USDT\", \"ADA/USDT\", \"XRP/USDT\", \"EOS/USDT\", \"XMR/USDT\", \"RVN/USDT\", \"ZEC/USDT\", \"NANO/USDT\", \"NEO/USDT\",\r\n",
    "    \"BCH/USDT\", \"LTC/USDT\", \"ETC/USDT\", \"XLM/USDT\", \"MKR/USDT\", \"DASH/USDT\", \"ICX/USDT\", \"BNB/USDT\", \"LINK/USDT\", \"XEM/USDT\",\r\n",
    "]\r\n",
    "\r\n",
    "PAIRLIST = PAIRS_HIGHCAP_NONSTABLE\r\n",
    "\r\n",
    "hyperopt_data = {\r\n",
    "    \"strategy\": \"ML_15n30CatBoostEnsembleHS_v2\",\r\n",
    "    \"timerange\": \"20210701-20210901\",\r\n",
    "    \"spaces\": \"buy\",\r\n",
    "    \"epochs\": 200,\r\n",
    "    # OnlyProfitHyperOptLoss, ShortTradeDurHyperOptLoss, SharpeHyperOptLoss, SortinoHyperOptLoss, Sharpe/Sortino + HyperOptLoss + Daily\r\n",
    "    \"hyperopt_loss\": \"OnlyProfitHyperOptLoss\",\r\n",
    "    \"hyperopt_min_trades\": 20,\r\n",
    "    \"hyperopt_random_state\": 1,\r\n",
    "    \"hyperopt_jobs\": 14,\r\n",
    "    \"pairs\": \",\".join(PAIRLIST),\r\n",
    "}\r\n",
    "\r\n",
    "args_list = []\r\n",
    "argparse = [args_list.append(f\"--{opt} {arg}\") for opt, arg in hyperopt_data.items()]\r\n",
    "args_str = \" \".join(args_list)\r\n",
    "\r\n",
    "print(\"> C:\\\\Users\\\\User\\\\.virtualenvs\\\\freqtrade-futures\\\\Scripts\\\\python.exe -m notebooks.hyperopter\", args_str)"
   ],
   "outputs": [
    {
     "output_type": "stream",
     "name": "stdout",
     "text": [
      "> C:\\Users\\User\\.virtualenvs\\freqtrade-futures\\Scripts\\python.exe -m notebooks.hyperopter --strategy ML_15n30CatBoostEnsembleHS_v2 --timerange 20210701-20210901 --spaces buy --epochs 200 --hyperopt_loss OnlyProfitHyperOptLoss --hyperopt_min_trades 20 --hyperopt_random_state 1 --hyperopt_jobs 14 --pairs BTC/USDT,ETH/USDT,BCH/USDT,LTC/USDT,ADA/USDT,XRP/USDT,DOT/USDT,DOGE/USDT,ZEC/USDT,NANO/USDT,UNI/USDT,LINK/USDT,MATIC/USDT,XLM/USDT,SOL/USDT,ETC/USDT,VET/USDT,THETA/USDT,NEO/USDT,EOS/USDT,TRX/USDT,FIL/USDT,XMR/USDT,AAVE/USDT,MKR/USDT,ATOM/USDT,ALGO/USDT,KSM/USDT,TFUEL/USDT,LUNA/USDT,BTT/USDT,AVAX/USDT,COMP/USDT,DASH/USDT,DCR/USDT,EGLD/USDT,WAVES/USDT,YFI/USDT,XEM/USDT,CHZ/USDT,SUSHI/USDT,HOT/USDT,ZIL/USDT,SNX/USDT,MANA/USDT,ENJ/USDT,HNT/USDT,BAT/USDT,NEAR/USDT,QTUM/USDT,ONE/USDT,ONT/USDT,BNT/USDT,ZRX/USDT,FTM/USDT,OMG/USDT,ICX/USDT,ANKR/USDT,RVN/USDT,CRV/USDT,FTT/USDT\n"
     ]
    }
   ],
   "metadata": {}
  },
  {
   "cell_type": "code",
   "execution_count": 4,
   "source": [
    "\"\"\" Iterations of Freqtrade Strategy Development\r\n",
    "\r\n",
    "1. Conceptualize the strategy\r\n",
    "    1.1 Indicators Needed\r\n",
    "    1.2 Buy Logic and Filters\r\n",
    "    1.3 Sell Logic\r\n",
    "    1.4 Money Management (ROI Table, TP, SL, TSL, Custom SL?)\r\n",
    "    \r\n",
    "2. Code your freqtrade version of that strategy.\r\n",
    "\r\n",
    "3. Define the hyperopt model\r\n",
    "    3.1 Use ROI table? Use stop loss? If use stop loss, is it trailing?\r\n",
    "    3.2 Hyperparameters that run at on_populate_indicators() -> DON'T USE TOO MANY OF THEM!\r\n",
    "    3.3 Hyperparameters that used at on_populate_buy_trend() and on_populate_sell_trend() -> CAN USE TOO MANY OF THEM.\r\n",
    "    \r\n",
    "4. Code the HyperStrategy (HS) version of that strategy.\r\n",
    "\"\"\""
   ],
   "outputs": [
    {
     "output_type": "stream",
     "name": "stdout",
     "text": [
      "C:\\Python\\Python39\\python.exe\n",
      "C:\\Users\\User\\AppData\\Local\\Microsoft\\WindowsApps\\python.exe\n"
     ]
    }
   ],
   "metadata": {}
  }
 ],
 "metadata": {
  "kernelspec": {
   "name": "python3",
   "display_name": "Python 3.9.5 64-bit ('freqtrade-futures': virtualenv)"
  },
  "language_info": {
   "codemirror_mode": {
    "name": "ipython",
    "version": 3
   },
   "file_extension": ".py",
   "mimetype": "text/x-python",
   "name": "python",
   "nbconvert_exporter": "python",
   "pygments_lexer": "ipython3",
   "version": "3.9.5"
  },
  "widgets": {
   "application/vnd.jupyter.widget-state+json": {
    "state": {},
    "version_major": 2,
    "version_minor": 0
   }
  },
  "interpreter": {
   "hash": "01a71ee6dbb5cd792900cee3209e98c906676fa32abfeb4483902a4a80aaf85b"
  }
 },
 "nbformat": 4,
 "nbformat_minor": 5
}