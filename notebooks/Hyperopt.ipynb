{
 "cells": [
  {
   "cell_type": "code",
   "execution_count": 1,
   "source": [
    "# Freqtrade Workspace\r\n",
    "\r\n",
    "# Notebook Helpers\r\n",
    "%load_ext autoreload\r\n",
    "%autoreload 2\r\n",
    "%env WANDB_SILENT=true\r\n",
    "\r\n",
    "# Standard Imports\r\n",
    "from pathlib import Path\r\n",
    "from typing import List, Callable, Tuple, Any\r\n",
    "from wandb.wandb_run import Run\r\n",
    "from datetime import datetime, timedelta\r\n",
    "from copy import deepcopy\r\n",
    "\r\n",
    "import attr\r\n",
    "import gc\r\n",
    "import os\r\n",
    "import wandb\r\n",
    "import nest_asyncio\r\n",
    "import logging\r\n",
    "import sys\r\n",
    "import pandas as pd\r\n",
    "import numpy as np\r\n",
    "import qgrid\r\n",
    "pd.set_option('display.max_rows', 200)\r\n",
    "\r\n",
    "# Resolve CWD\r\n",
    "gc.collect()\r\n",
    "nest_asyncio.apply()\r\n",
    "\r\n",
    "while \"freqtrade\" not in os.listdir():\r\n",
    "    os.chdir(\"..\")\r\n",
    "    if \"freqtrade\" in os.listdir():\r\n",
    "        nest_asyncio.apply()\r\n",
    "        logger = logging.getLogger(\"freqtrade\")\r\n",
    "        handler = logging.StreamHandler(stream=sys.stdout)\r\n",
    "        handler.setFormatter(logging.Formatter(\"%(name)s - %(message)s\"))\r\n",
    "        logger.addHandler(handler)\r\n",
    "        logger.setLevel(logging.INFO)\r\n",
    "        logging.getLogger(\"distributed.utils_perf\").setLevel(logging.ERROR)\r\n",
    "        sys.path.append(str(Path(__file__).parent.parent))\r\n",
    "\r\n",
    "# Freqtrade Imports\r\n",
    "from freqtrade.optimize.optimize_reports import text_table_add_metrics\r\n",
    "from freqtrade.ml.lightning import LightningModule, LightningConfig\r\n",
    "from freqtrade.ml.trainer import TradingTrainer\r\n",
    "from freqtrade.ml.container import LightningContainer\r\n",
    "from freqtrade.ml import loader, lightning_utils\r\n",
    "from freqtrade.nbtools.preset import LocalPreset, ConfigPreset, FilePreset, CloudPreset\r\n",
    "from freqtrade.nbtools.backtest import backtest, DataLoader\r\n",
    "from freqtrade.nbtools import plotting, configs\r\n",
    "from freqtrade.nbtools.helper import free_mem\r\n",
    "from freqtrade.nbtools.pairs import PAIRS_HIGHCAP_NONSTABLE\r\n",
    "\r\n",
    "# Constants\r\n",
    "PATH_MOUNT = Path.cwd().parent / \"mount\"\r\n",
    "PATH_DATA = PATH_MOUNT / \"data\"\r\n",
    "PATH_PRESETS = PATH_MOUNT / \"presets\"\r\n",
    "PATH_STRATEGIES = PATH_PRESETS / \".strategy_files\"\r\n",
    "DATALOADER = DataLoader(max_n_datasets=5)\r\n",
    "\r\n",
    "# Define custom functions\r\n",
    "def foo() -> str:\r\n",
    "    return \"bar\""
   ],
   "outputs": [
    {
     "output_type": "stream",
     "name": "stdout",
     "text": [
      "env: WANDB_SILENT=true\n",
      "freqtrade.nbtools.backtest - Initialized DataLoader with 5 max datas.\n"
     ]
    }
   ],
   "metadata": {}
  },
  {
   "cell_type": "code",
   "execution_count": 2,
   "source": [
    "# NOTE: Notebook Hyperopt may allowed without interacting to CLI\r\n",
    "\r\n",
    "PAIRLIST = [\r\n",
    "    \"BTC/USDT\", \"ETH/USDT\", \"ADA/USDT\", \"XRP/USDT\", \"EOS/USDT\", \"XMR/USDT\", \"RVN/USDT\", \"ZEC/USDT\", \"NANO/USDT\", \"NEO/USDT\",\r\n",
    "    \"BCH/USDT\", \"LTC/USDT\", \"ETC/USDT\", \"XLM/USDT\", \"MKR/USDT\", \"DASH/USDT\", \"ICX/USDT\", \"BNB/USDT\", \"LINK/USDT\", \"XEM/USDT\",\r\n",
    "]\r\n",
    "\r\n",
    "hyperopt_data = {\r\n",
    "    \"strategy\": \"DIY_MACDLongTermHS\",\r\n",
    "    \"timerange\": \"20160101-20210101\",\r\n",
    "    \"spaces\": \"buy\",\r\n",
    "    \"epochs\": 100,\r\n",
    "    \"hyperopt_loss\": \"SharpeHyperOptLoss\",\r\n",
    "    \"hyperopt_min_trades\": 20,\r\n",
    "    \"hyperopt_random_state\": 1,\r\n",
    "    \"hyperopt_jobs\": 14,\r\n",
    "    \"pairs\": \",\".join(PAIRLIST),\r\n",
    "}\r\n",
    "\r\n",
    "args_list = []\r\n",
    "argparse = [args_list.append(f\"--{opt} {arg}\") for opt, arg in hyperopt_data.items()]\r\n",
    "args_str = \" \".join(args_list)\r\n",
    "\r\n",
    "print(\"> C:\\\\Users\\\\User\\\\.virtualenvs\\\\freqtrade-futures\\\\Scripts\\\\python.exe -m notebooks.hyperopter\", args_str)\r\n",
    "\r\n",
    "!C:\\Users\\User\\.virtualenvs\\freqtrade-futures\\Scripts\\python.exe -m notebooks.hyperopter {args_str}"
   ],
   "outputs": [
    {
     "output_type": "stream",
     "name": "stdout",
     "text": [
      "> C:\\Users\\User\\.virtualenvs\\freqtrade-futures\\Scripts\\python.exe -m notebooks.hyperopter --strategy DIY_MACDLongTermHS --timerange 20160101-20210101 --spaces buy --epochs 100 --hyperopt_loss SharpeHyperOptLoss --hyperopt_min_trades 20 --hyperopt_random_state 1 --hyperopt_jobs 14 --pairs BTC/USDT,ETH/USDT,ADA/USDT,XRP/USDT,EOS/USDT,XMR/USDT,RVN/USDT,ZEC/USDT,NANO/USDT,NEO/USDT,BCH/USDT,LTC/USDT,ETC/USDT,XLM/USDT,MKR/USDT,DASH/USDT,ICX/USDT,BNB/USDT,LINK/USDT,XEM/USDT\n",
      "^C\n",
      "\n",
      "{'strategy': 'DIY_MACDLongTermHS', 'timerange': '20160101-20210101', 'pairs': ['BTC/USDT', 'ETH/USDT', 'ADA/USDT', 'XRP/USDT', 'EOS/USDT', 'XMR/USDT', 'RVN/USDT', 'ZEC/USDT', 'NANO/USDT', 'NEO/USDT', 'BCH/USDT', 'LTC/USDT', 'ETC/USDT', 'XLM/USDT', 'MKR/USDT', 'DASH/USDT', 'ICX/USDT', 'BNB/USDT', 'LINK/USDT', 'XEM/USDT'], 'spaces': 'buy', 'epochs': 100, 'hyperopt_loss': 'SharpeHyperOptLoss', 'hyperopt_min_trades': 20, 'hyperopt_random_state': 1, 'hyperopt_jobs': 14}\n",
      "\n",
      "Preset name: DIY_MACDLongTermHS\n",
      "Starting HyperOpt\n"
     ]
    }
   ],
   "metadata": {}
  },
  {
   "cell_type": "code",
   "execution_count": 4,
   "source": [
    "\"\"\" Iterations of Freqtrade Strategy Development\n",
    "\n",
    "1. Conceptualize the strategy\n",
    "    1.1 Indicators Needed\n",
    "    1.2 Buy Logic and Filters\n",
    "    1.3 Sell Logic\n",
    "    1.4 Money Management (ROI Table, TP, SL, TSL, Custom SL?)\n",
    "    \n",
    "2. Code your freqtrade version of that strategy.\n",
    "\n",
    "3. Define the hyperopt model\n",
    "    3.1 Use ROI table? Use stop loss? If use stop loss, is it trailing?\n",
    "    3.2 Hyperparameters that run at on_populate_indicators() -> DON'T USE TOO MANY OF THEM!\n",
    "    3.3 Hyperparameters that used at on_populate_buy_trend() and on_populate_sell_trend() -> CAN USE TOO MANY OF THEM.\n",
    "    \n",
    "4. Code the HyperStrategy (HS) version of that strategy.\n",
    "\"\"\""
   ],
   "outputs": [
    {
     "output_type": "stream",
     "name": "stdout",
     "text": [
      "C:\\Python\\Python39\\python.exe\n",
      "C:\\Users\\User\\AppData\\Local\\Microsoft\\WindowsApps\\python.exe\n"
     ]
    }
   ],
   "metadata": {}
  }
 ],
 "metadata": {
  "kernelspec": {
   "display_name": "Python 3 (ipykernel)",
   "language": "python",
   "name": "python3"
  },
  "language_info": {
   "codemirror_mode": {
    "name": "ipython",
    "version": 3
   },
   "file_extension": ".py",
   "mimetype": "text/x-python",
   "name": "python",
   "nbconvert_exporter": "python",
   "pygments_lexer": "ipython3",
   "version": "3.9.5"
  },
  "widgets": {
   "application/vnd.jupyter.widget-state+json": {
    "state": {},
    "version_major": 2,
    "version_minor": 0
   }
  }
 },
 "nbformat": 4,
 "nbformat_minor": 5
}