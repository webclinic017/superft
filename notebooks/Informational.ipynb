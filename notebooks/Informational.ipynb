{
 "cells": [
  {
   "cell_type": "code",
   "execution_count": 1,
   "id": "cdb89ec1-fe6f-4724-bba6-65e0087cdbb7",
   "metadata": {},
   "outputs": [],
   "source": [
    "# List of Cloud Backtest Results"
   ]
  },
  {
   "cell_type": "code",
   "execution_count": 2,
   "id": "a1964584-3a25-415a-ac89-6588ac3a1a8f",
   "metadata": {},
   "outputs": [],
   "source": [
    "# List of Cloud Run History"
   ]
  },
  {
   "cell_type": "code",
   "execution_count": 3,
   "id": "5a20417c-e5f5-4acf-a4e9-cdd4620c23e5",
   "metadata": {},
   "outputs": [],
   "source": [
    "# List of Local Presets"
   ]
  },
  {
   "cell_type": "code",
   "execution_count": null,
   "id": "14a769c5-4d3f-47fa-89c9-5ea05f9891e2",
   "metadata": {},
   "outputs": [],
   "source": []
  }
 ],
 "metadata": {
  "kernelspec": {
   "display_name": "Python 3 (ipykernel)",
   "language": "python",
   "name": "python3"
  },
  "language_info": {
   "codemirror_mode": {
    "name": "ipython",
    "version": 3
   },
   "file_extension": ".py",
   "mimetype": "text/x-python",
   "name": "python",
   "nbconvert_exporter": "python",
   "pygments_lexer": "ipython3",
   "version": "3.9.5"
  }
 },
 "nbformat": 4,
 "nbformat_minor": 5
}
