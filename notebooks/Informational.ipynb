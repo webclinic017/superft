{
 "cells": [
  {
   "cell_type": "code",
   "execution_count": 1,
   "id": "12f73424-80e7-40d9-b092-12b929b7cf3e",
   "metadata": {},
   "outputs": [
    {
     "name": "stdout",
     "output_type": "stream",
     "text": [
      "env: WANDB_SILENT=true\n",
      "Working Directory: C:\\CS\\Python\\crypto-collection\\freqtrade\\superft\n"
     ]
    }
   ],
   "source": [
    "%load_ext autoreload\n",
    "%autoreload 2\n",
    "%env WANDB_SILENT=true\n",
    "\n",
    "from pathlib import Path\n",
    "from copy import deepcopy\n",
    "import matplotlib.pyplot as plt\n",
    "import pandas as pd\n",
    "import quantstats as qs\n",
    "import os\n",
    "import logging\n",
    "import sys\n",
    "\n",
    "qs.extend_pandas()\n",
    "plt.style.use(\"seaborn-whitegrid\")\n",
    "pd.set_option('display.max_rows', 200)\n",
    "\n",
    "if \"freqtrade\" not in os.listdir():\n",
    "    import nest_asyncio\n",
    "    nest_asyncio.apply()\n",
    "    os.chdir(\"..\")\n",
    "    \n",
    "PATH_MOUNT = Path.cwd().parent / \"mount\"\n",
    "print(\"Working Directory:\", os.getcwd())\n",
    "\n",
    "# Freqtrade Imports\n",
    "from freqtrade.nbtools import remote_utils"
   ]
  },
  {
   "cell_type": "markdown",
   "id": "51538437-723b-43af-8ddf-e995067d406f",
   "metadata": {},
   "source": [
    "## Local Section"
   ]
  },
  {
   "cell_type": "code",
   "execution_count": 2,
   "id": "08b49baa-08cc-4676-9aa0-b1cdc3e756e5",
   "metadata": {},
   "outputs": [
    {
     "data": {
      "text/html": [
       "<div>\n",
       "<style scoped>\n",
       "    .dataframe tbody tr th:only-of-type {\n",
       "        vertical-align: middle;\n",
       "    }\n",
       "\n",
       "    .dataframe tbody tr th {\n",
       "        vertical-align: top;\n",
       "    }\n",
       "\n",
       "    .dataframe thead th {\n",
       "        text-align: right;\n",
       "    }\n",
       "</style>\n",
       "<table border=\"1\" class=\"dataframe\">\n",
       "  <thead>\n",
       "    <tr style=\"text-align: right;\">\n",
       "      <th></th>\n",
       "      <th>preset_name</th>\n",
       "    </tr>\n",
       "  </thead>\n",
       "  <tbody>\n",
       "    <tr>\n",
       "      <th>0</th>\n",
       "      <td>15m-next30m-10_06</td>\n",
       "    </tr>\n",
       "    <tr>\n",
       "      <th>1</th>\n",
       "      <td>15m-next30m-combine</td>\n",
       "    </tr>\n",
       "    <tr>\n",
       "      <th>2</th>\n",
       "      <td>bigz04</td>\n",
       "    </tr>\n",
       "    <tr>\n",
       "      <th>3</th>\n",
       "      <td>smaoffset-protect-opt-v1</td>\n",
       "    </tr>\n",
       "  </tbody>\n",
       "</table>\n",
       "</div>"
      ],
      "text/plain": [
       "                preset_name\n",
       "0         15m-next30m-10_06\n",
       "1       15m-next30m-combine\n",
       "2                    bigz04\n",
       "3  smaoffset-protect-opt-v1"
      ]
     },
     "execution_count": 2,
     "metadata": {},
     "output_type": "execute_result"
    }
   ],
   "source": [
    "# Get local presets\n",
    "local = (PATH_MOUNT / \"presets\").glob(\"*\")\n",
    "local = (it.name for it in list(local) if not it.name.startswith(\".\"))\n",
    "local_df = pd.DataFrame({\"preset_name\": local})\n",
    "local_df"
   ]
  },
  {
   "cell_type": "markdown",
   "id": "50a4e6db-470d-4a48-b485-b7e57b7c586b",
   "metadata": {},
   "source": [
    "## Cloud Section"
   ]
  },
  {
   "cell_type": "code",
   "execution_count": 9,
   "id": "cdb89ec1-fe6f-4724-bba6-65e0087cdbb7",
   "metadata": {},
   "outputs": [
    {
     "data": {
      "text/html": [
       "<div>\n",
       "<style scoped>\n",
       "    .dataframe tbody tr th:only-of-type {\n",
       "        vertical-align: middle;\n",
       "    }\n",
       "\n",
       "    .dataframe tbody tr th {\n",
       "        vertical-align: top;\n",
       "    }\n",
       "\n",
       "    .dataframe thead th {\n",
       "        text-align: right;\n",
       "    }\n",
       "</style>\n",
       "<table border=\"1\" class=\"dataframe\">\n",
       "  <thead>\n",
       "    <tr style=\"text-align: right;\">\n",
       "      <th></th>\n",
       "      <th>preset_name</th>\n",
       "      <th>profit_mean_pct</th>\n",
       "      <th>profit_factor</th>\n",
       "    </tr>\n",
       "  </thead>\n",
       "  <tbody>\n",
       "    <tr>\n",
       "      <th>15</th>\n",
       "      <td>nfi-v7__backtest-2021-07-14_21-48-07</td>\n",
       "      <td>3.041271</td>\n",
       "      <td>14.236636</td>\n",
       "    </tr>\n",
       "    <tr>\n",
       "      <th>14</th>\n",
       "      <td>nfi-v6__backtest-2021-07-14_21-37-43</td>\n",
       "      <td>2.816432</td>\n",
       "      <td>9.527897</td>\n",
       "    </tr>\n",
       "    <tr>\n",
       "      <th>16</th>\n",
       "      <td>bigz04__backtest-2021-07-14_21-56-12</td>\n",
       "      <td>1.107367</td>\n",
       "      <td>3.643296</td>\n",
       "    </tr>\n",
       "    <tr>\n",
       "      <th>11</th>\n",
       "      <td>15m-next30m-10_06__backtest-2021-07-14_20-08-57</td>\n",
       "      <td>0.683314</td>\n",
       "      <td>1.942786</td>\n",
       "    </tr>\n",
       "    <tr>\n",
       "      <th>12</th>\n",
       "      <td>15m-next30m-combine__backtest-2021-07-14_20-14-15</td>\n",
       "      <td>0.718306</td>\n",
       "      <td>1.939543</td>\n",
       "    </tr>\n",
       "    <tr>\n",
       "      <th>13</th>\n",
       "      <td>15m-next30m-combine__backtest-2021-07-14_21-33-04</td>\n",
       "      <td>0.718306</td>\n",
       "      <td>1.939543</td>\n",
       "    </tr>\n",
       "    <tr>\n",
       "      <th>5</th>\n",
       "      <td>15m-next30m-combine__backtest-2021-07-14_13-24-43</td>\n",
       "      <td>0.762978</td>\n",
       "      <td>1.916621</td>\n",
       "    </tr>\n",
       "    <tr>\n",
       "      <th>6</th>\n",
       "      <td>15m-next30m-combine__backtest-2021-07-14_19-01-35</td>\n",
       "      <td>0.762978</td>\n",
       "      <td>1.916621</td>\n",
       "    </tr>\n",
       "    <tr>\n",
       "      <th>7</th>\n",
       "      <td>15m-next30m-combine__backtest-2021-07-14_19-52-33</td>\n",
       "      <td>0.762978</td>\n",
       "      <td>1.916621</td>\n",
       "    </tr>\n",
       "    <tr>\n",
       "      <th>8</th>\n",
       "      <td>15m-next30m-combine__backtest-2021-07-14_19-55-03</td>\n",
       "      <td>0.762978</td>\n",
       "      <td>1.916621</td>\n",
       "    </tr>\n",
       "    <tr>\n",
       "      <th>9</th>\n",
       "      <td>15m-next30m-combine__backtest-2021-07-14_19-57-28</td>\n",
       "      <td>0.762978</td>\n",
       "      <td>1.916621</td>\n",
       "    </tr>\n",
       "    <tr>\n",
       "      <th>10</th>\n",
       "      <td>15m-next30m-combine__backtest-2021-07-14_20-04-09</td>\n",
       "      <td>0.762978</td>\n",
       "      <td>1.916621</td>\n",
       "    </tr>\n",
       "  </tbody>\n",
       "</table>\n",
       "</div>"
      ],
      "text/plain": [
       "                                          preset_name  profit_mean_pct  \\\n",
       "15               nfi-v7__backtest-2021-07-14_21-48-07         3.041271   \n",
       "14               nfi-v6__backtest-2021-07-14_21-37-43         2.816432   \n",
       "16               bigz04__backtest-2021-07-14_21-56-12         1.107367   \n",
       "11    15m-next30m-10_06__backtest-2021-07-14_20-08-57         0.683314   \n",
       "12  15m-next30m-combine__backtest-2021-07-14_20-14-15         0.718306   \n",
       "13  15m-next30m-combine__backtest-2021-07-14_21-33-04         0.718306   \n",
       "5   15m-next30m-combine__backtest-2021-07-14_13-24-43         0.762978   \n",
       "6   15m-next30m-combine__backtest-2021-07-14_19-01-35         0.762978   \n",
       "7   15m-next30m-combine__backtest-2021-07-14_19-52-33         0.762978   \n",
       "8   15m-next30m-combine__backtest-2021-07-14_19-55-03         0.762978   \n",
       "9   15m-next30m-combine__backtest-2021-07-14_19-57-28         0.762978   \n",
       "10  15m-next30m-combine__backtest-2021-07-14_20-04-09         0.762978   \n",
       "\n",
       "    profit_factor  \n",
       "15      14.236636  \n",
       "14       9.527897  \n",
       "16       3.643296  \n",
       "11       1.942786  \n",
       "12       1.939543  \n",
       "13       1.939543  \n",
       "5        1.916621  \n",
       "6        1.916621  \n",
       "7        1.916621  \n",
       "8        1.916621  \n",
       "9        1.916621  \n",
       "10       1.916621  "
      ]
     },
     "execution_count": 9,
     "metadata": {},
     "output_type": "execute_result"
    }
   ],
   "source": [
    "# Preset Backtest Results\n",
    "columns = [\"preset_name\", \"profit_mean_pct\", \"profit_factor\"]\n",
    "df = remote_utils.cloud_get_presets_df(from_run_history=False)\n",
    "df[\"profit_mean_pct\"] = df[\"profit_mean\"] * 100\n",
    "df.loc[df[\"profit_mean_pct\"] > 0.25, columns].sort_values(by=[\"profit_factor\"], ascending=False).head(20)"
   ]
  },
  {
   "cell_type": "code",
   "execution_count": 8,
   "id": "a1964584-3a25-415a-ac89-6588ac3a1a8f",
   "metadata": {},
   "outputs": [
    {
     "data": {
      "text/html": [
       "<div>\n",
       "<style scoped>\n",
       "    .dataframe tbody tr th:only-of-type {\n",
       "        vertical-align: middle;\n",
       "    }\n",
       "\n",
       "    .dataframe tbody tr th {\n",
       "        vertical-align: top;\n",
       "    }\n",
       "\n",
       "    .dataframe thead th {\n",
       "        text-align: right;\n",
       "    }\n",
       "</style>\n",
       "<table border=\"1\" class=\"dataframe\">\n",
       "  <thead>\n",
       "    <tr style=\"text-align: right;\">\n",
       "      <th></th>\n",
       "      <th>preset_name</th>\n",
       "      <th>profit_mean_pct</th>\n",
       "      <th>profit_factor</th>\n",
       "    </tr>\n",
       "  </thead>\n",
       "  <tbody>\n",
       "  </tbody>\n",
       "</table>\n",
       "</div>"
      ],
      "text/plain": [
       "Empty DataFrame\n",
       "Columns: [preset_name, profit_mean_pct, profit_factor]\n",
       "Index: []"
      ]
     },
     "execution_count": 8,
     "metadata": {},
     "output_type": "execute_result"
    }
   ],
   "source": [
    "# Preset Run History\n",
    "columns = [\"preset_name\", \"profit_mean_pct\", \"profit_factor\"]\n",
    "df = remote_utils.cloud_get_presets_df(from_run_history=True)\n",
    "df[\"profit_mean_pct\"] = df[\"profit_mean\"] * 100\n",
    "df.loc[df[\"profit_mean_pct\"] > 0.25, columns].sort_values(by=[\"profit_factor\"], ascending=False).head(20)"
   ]
  }
 ],
 "metadata": {
  "kernelspec": {
   "display_name": "Python 3 (ipykernel)",
   "language": "python",
   "name": "python3"
  },
  "language_info": {
   "codemirror_mode": {
    "name": "ipython",
    "version": 3
   },
   "file_extension": ".py",
   "mimetype": "text/x-python",
   "name": "python",
   "nbconvert_exporter": "python",
   "pygments_lexer": "ipython3",
   "version": "3.9.5"
  }
 },
 "nbformat": 4,
 "nbformat_minor": 5
}
