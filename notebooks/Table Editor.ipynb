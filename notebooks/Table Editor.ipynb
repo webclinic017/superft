{
 "cells": [
  {
   "cell_type": "code",
   "execution_count": 1,
   "metadata": {
    "tags": []
   },
   "outputs": [
    {
     "output_type": "stream",
     "name": "stderr",
     "text": [
      "Failed to detect the name of this notebook, you can set it manually with the WANDB_NOTEBOOK_NAME environment variable to enable code saving.\n",
      "\u001b[34m\u001b[1mwandb\u001b[0m: Currently logged in as: \u001b[33mjliberooo\u001b[0m (use `wandb login --relogin` to force relogin)\n"
     ]
    }
   ],
   "source": [
    "%load_ext autoreload\n",
    "%autoreload 2\n",
    "\n",
    "from matplotlib import dates\n",
    "from pandas import DataFrame\n",
    "from pathlib import Path\n",
    "import matplotlib.pyplot as plt\n",
    "import numpy as np\n",
    "import pandas as pd\n",
    "import quantstats as qs\n",
    "import talib.abstract as ta\n",
    "import os\n",
    "import time\n",
    "import inspect\n",
    "import stackprinter\n",
    "\n",
    "stackprinter.set_excepthook(style='darkbg2')  # for jupyter notebooks try style='lightbg'\n",
    "\n",
    "if \"freqtrade\" not in os.listdir():\n",
    "        os.chdir(\"..\")\n",
    "        import nest_asyncio\n",
    "        nest_asyncio.apply()\n",
    "\n",
    "from freqtrade.nbtools.preset import Preset\n",
    "from freqtrade.nbtools import remote_utils\n",
    "\n",
    "qs.extend_pandas()\n",
    "plt.style.use(\"seaborn\")\n",
    "\n",
    "path_mount = Path.cwd().parent / \"mount\""
   ]
  },
  {
   "cell_type": "code",
   "execution_count": 6,
   "metadata": {},
   "outputs": [
    {
     "output_type": "display_data",
     "data": {
      "text/plain": "<IPython.core.display.HTML object>",
      "text/html": "\n                Tracking run with wandb version 0.10.33<br/>\n                Syncing run <strong style=\"color:#cdcd00\">sweet-shape-75</strong> to <a href=\"https://wandb.ai\" target=\"_blank\">Weights & Biases</a> <a href=\"https://docs.wandb.com/integrations/jupyter.html\" target=\"_blank\">(Documentation)</a>.<br/>\n                Project page: <a href=\"https://wandb.ai/jliberooo/ft-presets\" target=\"_blank\">https://wandb.ai/jliberooo/ft-presets</a><br/>\n                Run page: <a href=\"https://wandb.ai/jliberooo/ft-presets/runs/1xwu3wep\" target=\"_blank\">https://wandb.ai/jliberooo/ft-presets/runs/1xwu3wep</a><br/>\n                Run data is saved locally in <code>c:\\CS\\Python\\crypto-collection\\freqtrade\\superft\\wandb\\run-20210712_230813-1xwu3wep</code><br/><br/>\n            "
     },
     "metadata": {}
    },
    {
     "output_type": "display_data",
     "data": {
      "text/plain": "<IPython.core.display.HTML object>",
      "text/html": "<br/>Waiting for W&B process to finish, PID 17616<br/>Program ended successfully."
     },
     "metadata": {}
    },
    {
     "output_type": "display_data",
     "data": {
      "text/plain": "VBox(children=(Label(value=' 0.03MB of 0.03MB uploaded (0.00MB deduped)\\r'), FloatProgress(value=1.0, max=1.0)…",
      "application/vnd.jupyter.widget-view+json": {
       "version_major": 2,
       "version_minor": 0,
       "model_id": "b2348e5722e04153abc289aa55259ee3"
      }
     },
     "metadata": {}
    },
    {
     "output_type": "display_data",
     "data": {
      "text/plain": "<IPython.core.display.HTML object>",
      "text/html": "Find user logs for this run at: <code>c:\\CS\\Python\\crypto-collection\\freqtrade\\superft\\wandb\\run-20210712_230813-1xwu3wep\\logs\\debug.log</code>"
     },
     "metadata": {}
    },
    {
     "output_type": "display_data",
     "data": {
      "text/plain": "<IPython.core.display.HTML object>",
      "text/html": "Find internal logs for this run at: <code>c:\\CS\\Python\\crypto-collection\\freqtrade\\superft\\wandb\\run-20210712_230813-1xwu3wep\\logs\\debug-internal.log</code>"
     },
     "metadata": {}
    },
    {
     "output_type": "display_data",
     "data": {
      "text/plain": "<IPython.core.display.HTML object>",
      "text/html": "Synced 5 W&B file(s), 0 media file(s), 0 artifact file(s) and 0 other file(s)"
     },
     "metadata": {}
    },
    {
     "output_type": "display_data",
     "data": {
      "text/plain": "<IPython.core.display.HTML object>",
      "text/html": "\n                    <br/>Synced <strong style=\"color:#cdcd00\">sweet-shape-75</strong>: <a href=\"https://wandb.ai/jliberooo/ft-presets/runs/1xwu3wep\" target=\"_blank\">https://wandb.ai/jliberooo/ft-presets/runs/1xwu3wep</a><br/>\n                "
     },
     "metadata": {}
    },
    {
     "output_type": "execute_result",
     "data": {
      "text/plain": [
       "                                  preset_name        backtest_date  leverage  \\\n",
       "0  ma_crossover__backtest-2021-07-12_22-50-00  2021-07-12 22:50:00         1   \n",
       "1  ma_crossover__backtest-2021-07-12_22-50-00  2021-07-12 22:50:00         1   \n",
       "2  ma_crossover__backtest-2021-07-12_22-55-41  2021-07-12 22:55:41         1   \n",
       "3  ma_crossover__backtest-2021-07-12_22-55-41  2021-07-12 22:55:41         1   \n",
       "\n",
       "  direction  is_hedging  num_pairs data_source  win_rate  \\\n",
       "0      long       False          1     binance  0.355623   \n",
       "1      long       False          1     binance  0.355623   \n",
       "2      long       False          1     binance  0.355623   \n",
       "3      long       False          1     binance  0.355623   \n",
       "\n",
       "   avg_profit_winners_abs  avg_profit_losers_abs  ...  max_drawdown_abs  \\\n",
       "0                0.175973               -0.16293  ...         14.679861   \n",
       "1                0.175973               -0.16293  ...         14.679861   \n",
       "2                0.175973               -0.16293  ...         14.679861   \n",
       "3                0.175973               -0.16293  ...         14.679861   \n",
       "\n",
       "        drawdown_start  drawdown_start_ts         drawdown_end  \\\n",
       "0  2021-05-01 07:30:00       1.619854e+12  2021-05-30 00:30:00   \n",
       "1  2021-05-01 07:30:00       1.619854e+12  2021-05-30 00:30:00   \n",
       "2  2021-05-01 07:30:00       1.619854e+12  2021-05-30 00:30:00   \n",
       "3  2021-05-01 07:30:00       1.619854e+12  2021-05-30 00:30:00   \n",
       "\n",
       "   drawdown_end_ts  max_drawdown_low  max_drawdown_high    csum_min  \\\n",
       "0     1.622335e+12        -14.728091          -0.048229  985.271909   \n",
       "1     1.622335e+12        -14.728091          -0.048229  985.271909   \n",
       "2     1.622335e+12        -14.728091          -0.048229  985.271909   \n",
       "3     1.622335e+12        -14.728091          -0.048229  985.271909   \n",
       "\n",
       "     csum_max  profit_mean_abs  \n",
       "0  999.951771        -0.042408  \n",
       "1  999.951771        -0.042408  \n",
       "2  999.951771        -0.042408  \n",
       "3  999.951771        -0.042408  \n",
       "\n",
       "[4 rows x 84 columns]"
      ],
      "text/html": "<div>\n<style scoped>\n    .dataframe tbody tr th:only-of-type {\n        vertical-align: middle;\n    }\n\n    .dataframe tbody tr th {\n        vertical-align: top;\n    }\n\n    .dataframe thead th {\n        text-align: right;\n    }\n</style>\n<table border=\"1\" class=\"dataframe\">\n  <thead>\n    <tr style=\"text-align: right;\">\n      <th></th>\n      <th>preset_name</th>\n      <th>backtest_date</th>\n      <th>leverage</th>\n      <th>direction</th>\n      <th>is_hedging</th>\n      <th>num_pairs</th>\n      <th>data_source</th>\n      <th>win_rate</th>\n      <th>avg_profit_winners_abs</th>\n      <th>avg_profit_losers_abs</th>\n      <th>...</th>\n      <th>max_drawdown_abs</th>\n      <th>drawdown_start</th>\n      <th>drawdown_start_ts</th>\n      <th>drawdown_end</th>\n      <th>drawdown_end_ts</th>\n      <th>max_drawdown_low</th>\n      <th>max_drawdown_high</th>\n      <th>csum_min</th>\n      <th>csum_max</th>\n      <th>profit_mean_abs</th>\n    </tr>\n  </thead>\n  <tbody>\n    <tr>\n      <th>0</th>\n      <td>ma_crossover__backtest-2021-07-12_22-50-00</td>\n      <td>2021-07-12 22:50:00</td>\n      <td>1</td>\n      <td>long</td>\n      <td>False</td>\n      <td>1</td>\n      <td>binance</td>\n      <td>0.355623</td>\n      <td>0.175973</td>\n      <td>-0.16293</td>\n      <td>...</td>\n      <td>14.679861</td>\n      <td>2021-05-01 07:30:00</td>\n      <td>1.619854e+12</td>\n      <td>2021-05-30 00:30:00</td>\n      <td>1.622335e+12</td>\n      <td>-14.728091</td>\n      <td>-0.048229</td>\n      <td>985.271909</td>\n      <td>999.951771</td>\n      <td>-0.042408</td>\n    </tr>\n    <tr>\n      <th>1</th>\n      <td>ma_crossover__backtest-2021-07-12_22-50-00</td>\n      <td>2021-07-12 22:50:00</td>\n      <td>1</td>\n      <td>long</td>\n      <td>False</td>\n      <td>1</td>\n      <td>binance</td>\n      <td>0.355623</td>\n      <td>0.175973</td>\n      <td>-0.16293</td>\n      <td>...</td>\n      <td>14.679861</td>\n      <td>2021-05-01 07:30:00</td>\n      <td>1.619854e+12</td>\n      <td>2021-05-30 00:30:00</td>\n      <td>1.622335e+12</td>\n      <td>-14.728091</td>\n      <td>-0.048229</td>\n      <td>985.271909</td>\n      <td>999.951771</td>\n      <td>-0.042408</td>\n    </tr>\n    <tr>\n      <th>2</th>\n      <td>ma_crossover__backtest-2021-07-12_22-55-41</td>\n      <td>2021-07-12 22:55:41</td>\n      <td>1</td>\n      <td>long</td>\n      <td>False</td>\n      <td>1</td>\n      <td>binance</td>\n      <td>0.355623</td>\n      <td>0.175973</td>\n      <td>-0.16293</td>\n      <td>...</td>\n      <td>14.679861</td>\n      <td>2021-05-01 07:30:00</td>\n      <td>1.619854e+12</td>\n      <td>2021-05-30 00:30:00</td>\n      <td>1.622335e+12</td>\n      <td>-14.728091</td>\n      <td>-0.048229</td>\n      <td>985.271909</td>\n      <td>999.951771</td>\n      <td>-0.042408</td>\n    </tr>\n    <tr>\n      <th>3</th>\n      <td>ma_crossover__backtest-2021-07-12_22-55-41</td>\n      <td>2021-07-12 22:55:41</td>\n      <td>1</td>\n      <td>long</td>\n      <td>False</td>\n      <td>1</td>\n      <td>binance</td>\n      <td>0.355623</td>\n      <td>0.175973</td>\n      <td>-0.16293</td>\n      <td>...</td>\n      <td>14.679861</td>\n      <td>2021-05-01 07:30:00</td>\n      <td>1.619854e+12</td>\n      <td>2021-05-30 00:30:00</td>\n      <td>1.622335e+12</td>\n      <td>-14.728091</td>\n      <td>-0.048229</td>\n      <td>985.271909</td>\n      <td>999.951771</td>\n      <td>-0.042408</td>\n    </tr>\n  </tbody>\n</table>\n<p>4 rows × 84 columns</p>\n</div>"
     },
     "metadata": {},
     "execution_count": 6
    }
   ],
   "source": [
    "# This Notebook is used to edit Table Metadata Columns\n",
    "df = remote_utils.cloud_get_presets_df()\n",
    "df[\"backtest_date\"] = df[\"backtest_date\"].map(lambda s: s.split(\"_\")[0] + \" \" + s.split(\"_\")[1].replace(\"-\", \":\"))\n",
    "df"
   ]
  },
  {
   "cell_type": "code",
   "execution_count": 7,
   "metadata": {},
   "outputs": [
    {
     "output_type": "display_data",
     "data": {
      "text/plain": "<IPython.core.display.HTML object>",
      "text/html": "\n                Tracking run with wandb version 0.10.33<br/>\n                Syncing run <strong style=\"color:#cdcd00\">true-spaceship-17</strong> to <a href=\"https://wandb.ai\" target=\"_blank\">Weights & Biases</a> <a href=\"https://docs.wandb.com/integrations/jupyter.html\" target=\"_blank\">(Documentation)</a>.<br/>\n                Project page: <a href=\"https://wandb.ai/jliberooo/ft-presets\" target=\"_blank\">https://wandb.ai/jliberooo/ft-presets</a><br/>\n                Run page: <a href=\"https://wandb.ai/jliberooo/ft-presets/runs/1ordnmoe\" target=\"_blank\">https://wandb.ai/jliberooo/ft-presets/runs/1ordnmoe</a><br/>\n                Run data is saved locally in <code>c:\\CS\\Python\\crypto-collection\\freqtrade-futures\\wandb\\run-20210711_191116-1ordnmoe</code><br/><br/>\n            "
     },
     "metadata": {}
    },
    {
     "output_type": "stream",
     "name": "stdout",
     "text": [
      "\nCreating new table...\n"
     ]
    },
    {
     "output_type": "display_data",
     "data": {
      "text/plain": "<IPython.core.display.HTML object>",
      "text/html": "<br/>Waiting for W&B process to finish, PID 11080<br/>Program ended successfully."
     },
     "metadata": {}
    },
    {
     "output_type": "display_data",
     "data": {
      "text/plain": "VBox(children=(Label(value=' 0.03MB of 0.03MB uploaded (0.00MB deduped)\\r'), FloatProgress(value=1.0, max=1.0)…",
      "application/vnd.jupyter.widget-view+json": {
       "version_major": 2,
       "version_minor": 0,
       "model_id": "7ea2b4db81ab4f0692c965d5c57a7c38"
      }
     },
     "metadata": {}
    },
    {
     "output_type": "display_data",
     "data": {
      "text/plain": "<IPython.core.display.HTML object>",
      "text/html": "Find user logs for this run at: <code>c:\\CS\\Python\\crypto-collection\\freqtrade-futures\\wandb\\run-20210711_191116-1ordnmoe\\logs\\debug.log</code>"
     },
     "metadata": {}
    },
    {
     "output_type": "display_data",
     "data": {
      "text/plain": "<IPython.core.display.HTML object>",
      "text/html": "Find internal logs for this run at: <code>c:\\CS\\Python\\crypto-collection\\freqtrade-futures\\wandb\\run-20210711_191116-1ordnmoe\\logs\\debug-internal.log</code>"
     },
     "metadata": {}
    },
    {
     "output_type": "display_data",
     "data": {
      "text/plain": "<IPython.core.display.HTML object>",
      "text/html": "Synced 6 W&B file(s), 0 media file(s), 1 artifact file(s) and 1 other file(s)"
     },
     "metadata": {}
    },
    {
     "output_type": "display_data",
     "data": {
      "text/plain": "<IPython.core.display.HTML object>",
      "text/html": "\n                    <br/>Synced <strong style=\"color:#cdcd00\">true-spaceship-17</strong>: <a href=\"https://wandb.ai/jliberooo/ft-presets/runs/1ordnmoe\" target=\"_blank\">https://wandb.ai/jliberooo/ft-presets/runs/1ordnmoe</a><br/>\n                "
     },
     "metadata": {}
    }
   ],
   "source": [
    "# Commit changes to the table. NOTE: Make sure you sync the code in preset.py after commit!\n",
    "remote_utils.table_update(\n",
    "    df, \n",
    "    remote_utils.constants.PROJECT_NAME_PRESETS, \n",
    "    remote_utils.constants.PRESETS_ARTIFACT_METADATA,\n",
    "    remote_utils.constants.PRESETS_TABLEKEY_METADATA,\n",
    ")"
   ]
  },
  {
   "cell_type": "code",
   "execution_count": 8,
   "metadata": {},
   "outputs": [
    {
     "output_type": "display_data",
     "data": {
      "text/plain": "<IPython.core.display.HTML object>",
      "text/html": "\n                Tracking run with wandb version 0.10.33<br/>\n                Syncing run <strong style=\"color:#cdcd00\">deep-wave-18</strong> to <a href=\"https://wandb.ai\" target=\"_blank\">Weights & Biases</a> <a href=\"https://docs.wandb.com/integrations/jupyter.html\" target=\"_blank\">(Documentation)</a>.<br/>\n                Project page: <a href=\"https://wandb.ai/jliberooo/ft-presets\" target=\"_blank\">https://wandb.ai/jliberooo/ft-presets</a><br/>\n                Run page: <a href=\"https://wandb.ai/jliberooo/ft-presets/runs/38wbe15e\" target=\"_blank\">https://wandb.ai/jliberooo/ft-presets/runs/38wbe15e</a><br/>\n                Run data is saved locally in <code>c:\\CS\\Python\\crypto-collection\\freqtrade-futures\\wandb\\run-20210711_191201-38wbe15e</code><br/><br/>\n            "
     },
     "metadata": {}
    },
    {
     "output_type": "display_data",
     "data": {
      "text/plain": "<IPython.core.display.HTML object>",
      "text/html": "<br/>Waiting for W&B process to finish, PID 33516<br/>Program ended successfully."
     },
     "metadata": {}
    },
    {
     "output_type": "display_data",
     "data": {
      "text/plain": "VBox(children=(Label(value=' 0.01MB of 0.01MB uploaded (0.00MB deduped)\\r'), FloatProgress(value=1.0, max=1.0)…",
      "application/vnd.jupyter.widget-view+json": {
       "version_major": 2,
       "version_minor": 0,
       "model_id": "2d4fbcbc80bd49acbec10bada0333804"
      }
     },
     "metadata": {}
    },
    {
     "output_type": "display_data",
     "data": {
      "text/plain": "<IPython.core.display.HTML object>",
      "text/html": "Find user logs for this run at: <code>c:\\CS\\Python\\crypto-collection\\freqtrade-futures\\wandb\\run-20210711_191201-38wbe15e\\logs\\debug.log</code>"
     },
     "metadata": {}
    },
    {
     "output_type": "display_data",
     "data": {
      "text/plain": "<IPython.core.display.HTML object>",
      "text/html": "Find internal logs for this run at: <code>c:\\CS\\Python\\crypto-collection\\freqtrade-futures\\wandb\\run-20210711_191201-38wbe15e\\logs\\debug-internal.log</code>"
     },
     "metadata": {}
    },
    {
     "output_type": "display_data",
     "data": {
      "text/plain": "<IPython.core.display.HTML object>",
      "text/html": "Synced 5 W&B file(s), 0 media file(s), 0 artifact file(s) and 1 other file(s)"
     },
     "metadata": {}
    },
    {
     "output_type": "display_data",
     "data": {
      "text/plain": "<IPython.core.display.HTML object>",
      "text/html": "\n                    <br/>Synced <strong style=\"color:#cdcd00\">deep-wave-18</strong>: <a href=\"https://wandb.ai/jliberooo/ft-presets/runs/38wbe15e\" target=\"_blank\">https://wandb.ai/jliberooo/ft-presets/runs/38wbe15e</a><br/>\n                "
     },
     "metadata": {}
    },
    {
     "output_type": "stream",
     "name": "stdout",
     "text": [
      "<class 'pandas.core.frame.DataFrame'>\nRangeIndex: 3 entries, 0 to 2\nData columns (total 84 columns):\n #   Column                           Non-Null Count  Dtype  \n---  ------                           --------------  -----  \n 0   preset_name                      3 non-null      object \n 1   backtest_date                    3 non-null      object \n 2   leverage                         3 non-null      int64  \n 3   direction                        3 non-null      object \n 4   is_hedging                       3 non-null      bool   \n 5   num_pairs                        3 non-null      int64  \n 6   data_source                      3 non-null      object \n 7   win_rate                         3 non-null      float64\n 8   avg_profit_winners_abs           3 non-null      float64\n 9   avg_profit_losers_abs            3 non-null      float64\n 10  sum_profit_winners_abs           3 non-null      float64\n 11  sum_profit_losers_abs            3 non-null      float64\n 12  profit_factor                    3 non-null      float64\n 13  profit_per_drawdown              3 non-null      float64\n 14  expectancy_abs                   3 non-null      float64\n 15  total_trades                     3 non-null      int64  \n 16  total_volume                     3 non-null      float64\n 17  avg_stake_amount                 3 non-null      float64\n 18  profit_mean                      3 non-null      float64\n 19  profit_median                    3 non-null      float64\n 20  profit_total                     3 non-null      float64\n 21  profit_total_abs                 3 non-null      float64\n 22  backtest_start                   3 non-null      object \n 23  backtest_start_ts                3 non-null      int64  \n 24  backtest_end                     3 non-null      object \n 25  backtest_end_ts                  3 non-null      int64  \n 26  backtest_days                    3 non-null      int64  \n 27  backtest_run_start_ts            3 non-null      int64  \n 28  backtest_run_end_ts              3 non-null      int64  \n 29  trades_per_day                   3 non-null      float64\n 30  market_change                    3 non-null      float64\n 31  pairlist                         3 non-null      object \n 32  stake_amount                     3 non-null      int64  \n 33  stake_currency                   3 non-null      object \n 34  stake_currency_decimals          3 non-null      int64  \n 35  starting_balance                 3 non-null      int64  \n 36  dry_run_wallet                   3 non-null      int64  \n 37  final_balance                    3 non-null      float64\n 38  rejected_signals                 3 non-null      int64  \n 39  max_open_trades                  3 non-null      int64  \n 40  max_open_trades_setting          3 non-null      int64  \n 41  timeframe                        3 non-null      object \n 42  timerange                        3 non-null      object \n 43  enable_protections               3 non-null      bool   \n 44  strategy_name                    3 non-null      object \n 45  stoploss                         3 non-null      float64\n 46  trailing_stop                    3 non-null      bool   \n 47  trailing_stop_positive           0 non-null      object \n 48  trailing_stop_positive_offset    3 non-null      float64\n 49  trailing_only_offset_is_reached  3 non-null      bool   \n 50  use_custom_stoploss              3 non-null      bool   \n 51  minimal_roi                      3 non-null      object \n 52  use_sell_signal                  3 non-null      bool   \n 53  sell_profit_only                 3 non-null      bool   \n 54  sell_profit_offset               3 non-null      float64\n 55  ignore_roi_if_buy_signal         3 non-null      bool   \n 56  backtest_best_day                3 non-null      float64\n 57  backtest_worst_day               3 non-null      float64\n 58  backtest_best_day_abs            3 non-null      float64\n 59  backtest_worst_day_abs           3 non-null      float64\n 60  winning_days                     3 non-null      int64  \n 61  draw_days                        3 non-null      int64  \n 62  losing_days                      3 non-null      int64  \n 63  wins                             3 non-null      int64  \n 64  losses                           3 non-null      int64  \n 65  draws                            3 non-null      int64  \n 66  holding_avg                      3 non-null      object \n 67  holding_avg_s                    3 non-null      float64\n 68  winner_holding_avg               3 non-null      object \n 69  winner_holding_avg_s             3 non-null      float64\n 70  loser_holding_avg                3 non-null      object \n 71  loser_holding_avg_s              3 non-null      float64\n 72  zero_duration_trades             3 non-null      int64  \n 73  max_drawdown                     3 non-null      float64\n 74  max_drawdown_abs                 3 non-null      float64\n 75  drawdown_start                   3 non-null      object \n 76  drawdown_start_ts                3 non-null      float64\n 77  drawdown_end                     3 non-null      object \n 78  drawdown_end_ts                  3 non-null      float64\n 79  max_drawdown_low                 3 non-null      float64\n 80  max_drawdown_high                3 non-null      float64\n 81  csum_min                         3 non-null      float64\n 82  csum_max                         3 non-null      float64\n 83  profit_mean_abs                  3 non-null      float64\ndtypes: bool(8), float64(36), int64(22), object(18)\nmemory usage: 1.9+ KB\n"
     ]
    }
   ],
   "source": [
    "# Make sure the cloud table had changed. See your new column.\n",
    "df = remote_utils.cloud_get_presets_df()\n",
    "df.info()"
   ]
  },
  {
   "cell_type": "code",
   "execution_count": 9,
   "metadata": {},
   "outputs": [
    {
     "output_type": "execute_result",
     "data": {
      "text/plain": [
       "0   -0.042408\n",
       "1   -0.042408\n",
       "2    0.199737\n",
       "Name: profit_mean_abs, dtype: float64"
      ]
     },
     "metadata": {},
     "execution_count": 9
    }
   ],
   "source": [
    "df[\"profit_mean_abs\"].head()"
   ]
  },
  {
   "cell_type": "code",
   "execution_count": 8,
   "metadata": {},
   "outputs": [
    {
     "output_type": "display_data",
     "data": {
      "text/plain": "<IPython.core.display.HTML object>",
      "text/html": "\n                Tracking run with wandb version 0.10.33<br/>\n                Syncing run <strong style=\"color:#cdcd00\">splendid-jazz-58</strong> to <a href=\"https://wandb.ai\" target=\"_blank\">Weights & Biases</a> <a href=\"https://docs.wandb.com/integrations/jupyter.html\" target=\"_blank\">(Documentation)</a>.<br/>\n                Project page: <a href=\"https://wandb.ai/jliberooo/ft-presets\" target=\"_blank\">https://wandb.ai/jliberooo/ft-presets</a><br/>\n                Run page: <a href=\"https://wandb.ai/jliberooo/ft-presets/runs/1trqmxk4\" target=\"_blank\">https://wandb.ai/jliberooo/ft-presets/runs/1trqmxk4</a><br/>\n                Run data is saved locally in <code>c:\\CS\\Python\\crypto-collection\\freqtrade\\superft\\wandb\\run-20210712_224740-1trqmxk4</code><br/><br/>\n            "
     },
     "metadata": {}
    },
    {
     "output_type": "display_data",
     "data": {
      "text/plain": "<IPython.core.display.HTML object>",
      "text/html": "<br/>Waiting for W&B process to finish, PID 15980<br/>Program ended successfully."
     },
     "metadata": {}
    },
    {
     "output_type": "display_data",
     "data": {
      "text/plain": "VBox(children=(Label(value=' 0.02MB of 0.02MB uploaded (0.00MB deduped)\\r'), FloatProgress(value=1.0, max=1.0)…",
      "application/vnd.jupyter.widget-view+json": {
       "version_major": 2,
       "version_minor": 0,
       "model_id": "63342424bf674ecbbf9524583cb768b2"
      }
     },
     "metadata": {}
    },
    {
     "output_type": "display_data",
     "data": {
      "text/plain": "<IPython.core.display.HTML object>",
      "text/html": "Find user logs for this run at: <code>c:\\CS\\Python\\crypto-collection\\freqtrade\\superft\\wandb\\run-20210712_224740-1trqmxk4\\logs\\debug.log</code>"
     },
     "metadata": {}
    },
    {
     "output_type": "display_data",
     "data": {
      "text/plain": "<IPython.core.display.HTML object>",
      "text/html": "Find internal logs for this run at: <code>c:\\CS\\Python\\crypto-collection\\freqtrade\\superft\\wandb\\run-20210712_224740-1trqmxk4\\logs\\debug-internal.log</code>"
     },
     "metadata": {}
    },
    {
     "output_type": "display_data",
     "data": {
      "text/plain": "<IPython.core.display.HTML object>",
      "text/html": "Synced 5 W&B file(s), 0 media file(s), 1 artifact file(s) and 1 other file(s)"
     },
     "metadata": {}
    },
    {
     "output_type": "display_data",
     "data": {
      "text/plain": "<IPython.core.display.HTML object>",
      "text/html": "\n                    <br/>Synced <strong style=\"color:#cdcd00\">splendid-jazz-58</strong>: <a href=\"https://wandb.ai/jliberooo/ft-presets/runs/1trqmxk4\" target=\"_blank\">https://wandb.ai/jliberooo/ft-presets/runs/1trqmxk4</a><br/>\n                "
     },
     "metadata": {}
    }
   ],
   "source": [
    "# Doing below will remove all results\n",
    "\n",
    "# df = df.drop(index=[0,1,2,3,4,5])\n",
    "df\n",
    "remote_utils.table_update(\n",
    "    df, \n",
    "    remote_utils.constants.PROJECT_NAME_PRESETS, \n",
    "    remote_utils.constants.PRESETS_ARTIFACT_METADATA,\n",
    "    remote_utils.constants.PRESETS_TABLEKEY_METADATA,\n",
    ")"
   ]
  },
  {
   "cell_type": "code",
   "execution_count": null,
   "metadata": {},
   "outputs": [],
   "source": []
  }
 ],
 "metadata": {
  "kernelspec": {
   "name": "python3",
   "display_name": "Python 3.9.5 64-bit ('freqtrade-futures': virtualenvwrapper)"
  },
  "language_info": {
   "codemirror_mode": {
    "name": "ipython",
    "version": 3
   },
   "file_extension": ".py",
   "mimetype": "text/x-python",
   "name": "python",
   "nbconvert_exporter": "python",
   "pygments_lexer": "ipython3",
   "version": "3.9.5"
  },
  "interpreter": {
   "hash": "01a71ee6dbb5cd792900cee3209e98c906676fa32abfeb4483902a4a80aaf85b"
  }
 },
 "nbformat": 4,
 "nbformat_minor": 4
}