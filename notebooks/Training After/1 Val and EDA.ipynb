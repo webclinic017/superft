{
 "cells": [
  {
   "cell_type": "markdown",
   "id": "0192a1a9-f48e-4ea2-9f64-c70f0215ea96",
   "metadata": {},
   "source": [
    "# Make Sure the ML Model Fitted Correctly"
   ]
  },
  {
   "cell_type": "code",
   "execution_count": null,
   "id": "474577b4-b38b-4fea-897e-75182bb20af6",
   "metadata": {},
   "outputs": [],
   "source": [
    "# Create a strategy using the trained model\n",
    "# Backtest using timerange TRAINVAL, and pairs of trained model\n",
    "# Make sure the profit graph is upwards (ofc coz we BT'ed in train and val date)"
   ]
  }
 ],
 "metadata": {
  "kernelspec": {
   "display_name": "Python 3 (ipykernel)",
   "language": "python",
   "name": "python3"
  },
  "language_info": {
   "codemirror_mode": {
    "name": "ipython",
    "version": 3
   },
   "file_extension": ".py",
   "mimetype": "text/x-python",
   "name": "python",
   "nbconvert_exporter": "python",
   "pygments_lexer": "ipython3",
   "version": "3.9.5"
  }
 },
 "nbformat": 4,
 "nbformat_minor": 5
}
