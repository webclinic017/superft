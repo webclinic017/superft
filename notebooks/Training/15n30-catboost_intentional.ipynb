{
 "cells": [
  {
   "cell_type": "markdown",
   "source": [
    "# Imports"
   ],
   "metadata": {}
  },
  {
   "cell_type": "code",
   "execution_count": 1,
   "source": [
    "%load_ext autoreload\r\n",
    "%autoreload 2\r\n",
    "\r\n",
    "from pathlib import Path\r\n",
    "from typing import List, Callable, Tuple, Any\r\n",
    "from wandb.wandb_run import Run\r\n",
    "from datetime import datetime, timedelta\r\n",
    "\r\n",
    "from sklearn.model_selection import train_test_split\r\n",
    "from catboost import CatBoostClassifier, Pool, metrics, cv\r\n",
    "\r\n",
    "import attr\r\n",
    "import pandas as pd\r\n",
    "import gc\r\n",
    "import os\r\n",
    "import wandb\r\n",
    "import nest_asyncio\r\n",
    "import logging\r\n",
    "import sys\r\n",
    "import numpy as np\r\n",
    "\r\n",
    "nest_asyncio.apply()\r\n",
    "\r\n",
    "while \"freqtrade\" not in os.listdir():\r\n",
    "    os.chdir(\"..\")\r\n",
    "    if \"freqtrade\" in os.listdir():\r\n",
    "        nest_asyncio.apply()\r\n",
    "        logger = logging.getLogger(\"freqtrade.ml\")\r\n",
    "        handler = logging.StreamHandler(stream=sys.stdout)\r\n",
    "        handler.setFormatter(logging.Formatter(\"%(name)s - %(message)s\"))\r\n",
    "        logger.addHandler(handler)\r\n",
    "        logger.setLevel(logging.DEBUG)\r\n",
    "    \r\n",
    "from freqtrade.ml.lightning import LightningModule, LightningConfig\r\n",
    "from freqtrade.ml.trainer import TradingTrainer\r\n",
    "from freqtrade.ml.container import LightningContainer\r\n",
    "from freqtrade.ml import loader, lightning_utils\r\n",
    "\r\n",
    "from freqtrade.nbtools.helper import free_mem\r\n",
    "from freqtrade.nbtools.pairs import PAIRS_HIGHCAP_NONSTABLE\r\n",
    "\r\n",
    "container = None\r\n",
    "\r\n",
    "if container is not None:\r\n",
    "    print(\"Deleting container\")\r\n",
    "    free_mem(container)\r\n",
    "    \r\n",
    "gc.collect()"
   ],
   "outputs": [
    {
     "output_type": "execute_result",
     "data": {
      "text/plain": [
       "0"
      ]
     },
     "metadata": {},
     "execution_count": 1
    }
   ],
   "metadata": {}
  },
  {
   "cell_type": "markdown",
   "source": [
    "# Lightning Module"
   ],
   "metadata": {}
  },
  {
   "cell_type": "code",
   "execution_count": 2,
   "source": [
    "MINI_DATA = True  # True if used for testing purposes\r\n",
    "\r\n",
    "attr.s(repr=False)\r\n",
    "class CatBoost(LightningModule):\r\n",
    "    \"\"\" Template for LightningModule \"\"\"\r\n",
    "        \r\n",
    "    def on_configure(self) -> LightningConfig:\r\n",
    "        \r\n",
    "        # This datetime can be replaced with datetime.now()\r\n",
    "        now = datetime(2021, 8, 20)\r\n",
    "        \r\n",
    "        # Lighting Configuration\r\n",
    "        config = LightningConfig(\r\n",
    "            \r\n",
    "            # Basic info\r\n",
    "            name        = \"15n30-catboost_intentional\",\r\n",
    "            timeframe   = \"15m\",\r\n",
    "            exchange    = \"binance\",\r\n",
    "            \r\n",
    "            # Train and validation datetime\r\n",
    "            trainval_start  = now - timedelta(days=365 * 5),\r\n",
    "            trainval_end    = now - timedelta(days=61),\r\n",
    "            \r\n",
    "            # Backtest Optimization datetime\r\n",
    "            opt_start = now - timedelta(days=60),\r\n",
    "            opt_end   = now - timedelta(days=31),\r\n",
    "            \r\n",
    "            # Unbiased Backtest datetime\r\n",
    "            test_start = now - timedelta(days=30),\r\n",
    "            test_end   = now,\r\n",
    "            \r\n",
    "            # Num training epochs\r\n",
    "            num_training_epochs = 100,\r\n",
    "        )\r\n",
    "        \r\n",
    "        # Optional custom config attributes\r\n",
    "        config.add_custom(\"num_future_candles\", 2)\r\n",
    "        config.add_custom(\"num_classification_classes\", 5)\r\n",
    "        config.add_custom(\"hardware\", \"CPU\")\r\n",
    "        config.add_custom(\"learning_rate\", 0.002)\r\n",
    "        \r\n",
    "        return config\r\n",
    "        \r\n",
    "    def on_get_data_paths(self, cwd: Path, timeframe: str, exchange: str) -> List[Path]:\r\n",
    "        \"\"\" Where your data is stored\r\n",
    "        \"\"\"\r\n",
    "        path_data_exchange = cwd.parent / \"mount\" / \"data\" / exchange\r\n",
    "        maximum_data = 999 if not MINI_DATA else 5\r\n",
    "        \r\n",
    "        return [\r\n",
    "            datapath\r\n",
    "            for datapath in list(path_data_exchange.glob(f\"*-{timeframe}.json\"))\r\n",
    "            if datapath.name.split(\"-\")[0].replace(\"_\", \"/\")\r\n",
    "            in PAIRS_HIGHCAP_NONSTABLE[:maximum_data]\r\n",
    "        ]\r\n",
    "    \r\n",
    "    def on_add_features(self, df_onepair: pd.DataFrame) -> pd.DataFrame:\r\n",
    "        \"\"\" On Add Features will be used in inference\r\n",
    "        \"\"\"\r\n",
    "        future_price = df_onepair['close'].shift(-self.config.num_future_candles)\r\n",
    "        df_onepair['ml_next_close'] = (future_price - df_onepair['close']) / df_onepair['close']\r\n",
    "        return df_onepair\r\n",
    "    \r\n",
    "    def on_add_labels(self, df_onepair: pd.DataFrame) -> pd.DataFrame:\r\n",
    "        \"\"\" Define the labels\r\n",
    "        \"\"\"\r\n",
    "        future_price = df_onepair['close'].shift(-self.config.num_future_candles)\r\n",
    "        ml_label = (future_price - df_onepair['close']) / df_onepair['close']\r\n",
    "        df_onepair[self.config.column_y] = pd.qcut(ml_label, self.config.num_classification_classes, labels=False)\r\n",
    "        return df_onepair\r\n",
    "    \r\n",
    "    def on_final_processing(self, df_allpairs: pd.DataFrame) -> Tuple[Any, Any, Any, Any]:\r\n",
    "        \"\"\" Define the data to X_train, X_val, y_train, y_val\r\n",
    "        \"\"\"\r\n",
    "        val_split_date = pd.to_datetime(self.config.trainval_end - timedelta(days=60), utc=True, infer_datetime_format=True)\r\n",
    "        \r\n",
    "        train = df_allpairs[df_allpairs[\"date\"] < val_split_date]\r\n",
    "        val = df_allpairs[df_allpairs[\"date\"] >= val_split_date]\r\n",
    "        \r\n",
    "        X_train = train[self.config.columns_x]\r\n",
    "        X_val = val[self.config.columns_x]\r\n",
    "        y_train = train[self.config.column_y]\r\n",
    "        y_val = val[self.config.column_y]\r\n",
    "        \r\n",
    "        return X_train, X_val, y_train, y_val\r\n",
    "    \r\n",
    "    def on_define_model(self, run: Run, X_train, X_val, y_train, y_val) -> Any:\r\n",
    "        \"\"\" Define your model!\r\n",
    "        \"\"\"\r\n",
    "        return CatBoostClassifier(\r\n",
    "            custom_loss=[metrics.Accuracy()],\r\n",
    "            iterations=self.config.num_training_epochs, \r\n",
    "            task_type=self.config.hardware,\r\n",
    "            learning_rate=self.config.learning_rate,\r\n",
    "         )\r\n",
    "    \r\n",
    "    def on_start_training(self, run: Run, X_train, X_val, y_train, y_val):\r\n",
    "        \"\"\" Training / model fit code\r\n",
    "        \"\"\"\r\n",
    "        print(\"Start Training...\")\r\n",
    "        self.model: CatBoostClassifier\r\n",
    "        self.model.fit(\r\n",
    "            X_train, y_train,\r\n",
    "            eval_set=(X_val, y_val),\r\n",
    "            plot=True,\r\n",
    "            verbose=25,\r\n",
    "        )\r\n",
    "        print(\"Accuracy: %.2f\" % self.model.score(X_val, y_val))\r\n",
    "    \r\n",
    "    def on_predict(self, df_input_onepair: pd.DataFrame) -> pd.DataFrame:\r\n",
    "        \"\"\" Inference, used in freqtrade\r\n",
    "        \"\"\"\r\n",
    "        df_input_np = df_input_onepair.to_numpy()\r\n",
    "        preds = self.model.predict_proba(df_input_np)\r\n",
    "        df_preds = pd.DataFrame(preds)\r\n",
    "        return df_preds\r\n",
    "    \r\n",
    "    def on_training_step(self, run: Run, data: dict):\r\n",
    "        raise NotImplementedError()\r\n",
    "\r\n",
    "\r\n",
    "module = CatBoost()"
   ],
   "outputs": [],
   "metadata": {}
  },
  {
   "cell_type": "markdown",
   "source": [
    "# Dataset EDA Before Training"
   ],
   "metadata": {
    "tags": []
   }
  },
  {
   "cell_type": "code",
   "execution_count": 3,
   "source": [
    "df_: pd.DataFrame = lightning_utils.get_dataset_df(module)\r\n",
    "dates = df_[\"date\"]\r\n",
    "df_ = df_[module.config.columns_x + [module.config.column_y]]\r\n",
    "df_.tail()"
   ],
   "outputs": [
    {
     "output_type": "display_data",
     "data": {
      "application/vnd.jupyter.widget-view+json": {
       "version_major": 2,
       "version_minor": 0,
       "model_id": "3f6bd70a87fa4a64a15d8750e828a506"
      },
      "text/plain": [
       "Load and preprocess data:   0%|          | 0/5 [00:00<?, ?it/s]"
      ]
     },
     "metadata": {}
    },
    {
     "output_type": "execute_result",
     "data": {
      "text/html": [
       "<div>\n",
       "<style scoped>\n",
       "    .dataframe tbody tr th:only-of-type {\n",
       "        vertical-align: middle;\n",
       "    }\n",
       "\n",
       "    .dataframe tbody tr th {\n",
       "        vertical-align: top;\n",
       "    }\n",
       "\n",
       "    .dataframe thead th {\n",
       "        text-align: right;\n",
       "    }\n",
       "</style>\n",
       "<table border=\"1\" class=\"dataframe\">\n",
       "  <thead>\n",
       "    <tr style=\"text-align: right;\">\n",
       "      <th></th>\n",
       "      <th>ml_next_close</th>\n",
       "      <th>ml_label</th>\n",
       "    </tr>\n",
       "  </thead>\n",
       "  <tbody>\n",
       "    <tr>\n",
       "      <th>123338</th>\n",
       "      <td>-0.003629</td>\n",
       "      <td>1.0</td>\n",
       "    </tr>\n",
       "    <tr>\n",
       "      <th>123339</th>\n",
       "      <td>-0.004145</td>\n",
       "      <td>1.0</td>\n",
       "    </tr>\n",
       "    <tr>\n",
       "      <th>123340</th>\n",
       "      <td>0.000650</td>\n",
       "      <td>2.0</td>\n",
       "    </tr>\n",
       "    <tr>\n",
       "      <th>123341</th>\n",
       "      <td>-0.000260</td>\n",
       "      <td>2.0</td>\n",
       "    </tr>\n",
       "    <tr>\n",
       "      <th>123342</th>\n",
       "      <td>-0.006045</td>\n",
       "      <td>0.0</td>\n",
       "    </tr>\n",
       "  </tbody>\n",
       "</table>\n",
       "</div>"
      ],
      "text/plain": [
       "        ml_next_close  ml_label\n",
       "123338      -0.003629       1.0\n",
       "123339      -0.004145       1.0\n",
       "123340       0.000650       2.0\n",
       "123341      -0.000260       2.0\n",
       "123342      -0.006045       0.0"
      ]
     },
     "metadata": {},
     "execution_count": 3
    }
   ],
   "metadata": {
    "tags": []
   }
  },
  {
   "cell_type": "code",
   "execution_count": 4,
   "source": [
    "def dataframe_statistics(df_: pd.DataFrame):\r\n",
    "    # Detect nan, infinity, and too large values in dataset\r\n",
    "    print(\"N rows na:\", str(df_.shape[0] - df_.dropna().shape[0]))\r\n",
    "    print(\"N rows inf:\", str(df_.shape[0] - df_.replace([np.inf, -np.inf], np.nan).dropna().shape[0]))\r\n",
    "    print(\"Cols na:\", str(df_.columns[df_.isna().any()].tolist()))\r\n",
    "    print(\"Cols inf:\", str(list(df_.columns.to_series()[np.isinf(df_).any()])))\r\n",
    "\r\n",
    "    # Detect columns with irregular datatypes\r\n",
    "    supported_datatypes = [\"float32\"]\r\n",
    "    print(\"Irregular (col, dtypes):\", str([(it, df_[it].dtype) for it in df_.columns if df_[it].dtype not in supported_datatypes]))\r\n",
    "\r\n",
    "    # Dataset statistics\r\n",
    "    print(\"Dataset Length: %s\" % len(df_))\r\n",
    "    print(\"Date Min: %s\" % dates.min())\r\n",
    "    print(\"Date Max: %s\" % dates.max())\r\n",
    "    \r\n",
    "dataframe_statistics(df_)"
   ],
   "outputs": [
    {
     "output_type": "stream",
     "name": "stdout",
     "text": [
      "N rows na: 0\n",
      "N rows inf: 0\n",
      "Cols na: []\n",
      "Cols inf: []\n",
      "Irregular (col, dtypes): []\n",
      "Dataset Length: 558699\n",
      "Date Min: 2017-08-17 04:00:00+00:00\n",
      "Date Max: 2021-06-19 23:00:00+00:00\n"
     ]
    }
   ],
   "metadata": {
    "tags": []
   }
  },
  {
   "cell_type": "code",
   "execution_count": 5,
   "source": [
    "df_[\"ml_label\"].hist()"
   ],
   "outputs": [
    {
     "output_type": "execute_result",
     "data": {
      "text/plain": [
       "<AxesSubplot:>"
      ]
     },
     "metadata": {},
     "execution_count": 5
    },
    {
     "output_type": "display_data",
     "data": {
      "image/png": "[encoded data removed]",
      "text/plain": [
       "<Figure size 432x288 with 1 Axes>"
      ]
     },
     "metadata": {
      "needs_background": "light"
     }
    }
   ],
   "metadata": {
    "tags": []
   }
  },
  {
   "cell_type": "code",
   "execution_count": 8,
   "source": [
    "df_.info()"
   ],
   "outputs": [
    {
     "output_type": "stream",
     "name": "stdout",
     "text": [
      "<class 'pandas.core.frame.DataFrame'>\n",
      "Int64Index: 558699 entries, 0 to 123342\n",
      "Data columns (total 2 columns):\n",
      " #   Column         Non-Null Count   Dtype  \n",
      "---  ------         --------------   -----  \n",
      " 0   ml_next_close  558699 non-null  float32\n",
      " 1   ml_label       558699 non-null  float32\n",
      "dtypes: float32(2)\n",
      "memory usage: 8.5 MB\n"
     ]
    }
   ],
   "metadata": {}
  },
  {
   "cell_type": "code",
   "execution_count": 7,
   "source": [
    "# Unload dataset after EDA to save memory\r\n",
    "free_mem(df_)"
   ],
   "outputs": [],
   "metadata": {
    "tags": []
   }
  },
  {
   "cell_type": "markdown",
   "source": [
    "# [-Start Training-]"
   ],
   "metadata": {
    "tags": []
   }
  },
  {
   "cell_type": "code",
   "execution_count": 9,
   "source": [
    "with wandb.init(project=module.config.name) as run:\r\n",
    "    trainer = TradingTrainer()\r\n",
    "    container = trainer.fit(module, run, True)"
   ],
   "outputs": [
    {
     "output_type": "stream",
     "name": "stderr",
     "text": [
      "Failed to detect the name of this notebook, you can set it manually with the WANDB_NOTEBOOK_NAME environment variable to enable code saving.\n",
      "wandb: Currently logged in as: jliberooo (use `wandb login --relogin` to force relogin)\n"
     ]
    },
    {
     "output_type": "display_data",
     "data": {
      "text/html": [
       "\n",
       "                Tracking run with wandb version 0.12.1<br/>\n",
       "                Syncing run <strong style=\"color:#cdcd00\">unique-glade-31</strong> to <a href=\"https://wandb.ai\" target=\"_blank\">Weights & Biases</a> <a href=\"https://docs.wandb.com/integrations/jupyter.html\" target=\"_blank\">(Documentation)</a>.<br/>\n",
       "                Project page: <a href=\"https://wandb.ai/jliberooo/15n30-catboost_intentional\" target=\"_blank\">https://wandb.ai/jliberooo/15n30-catboost_intentional</a><br/>\n",
       "                Run page: <a href=\"https://wandb.ai/jliberooo/15n30-catboost_intentional/runs/grzsul5f\" target=\"_blank\">https://wandb.ai/jliberooo/15n30-catboost_intentional/runs/grzsul5f</a><br/>\n",
       "                Run data is saved locally in <code>c:\\CS\\Python\\crypto-collection\\freqtrade\\superft\\wandb\\run-20210902_214436-grzsul5f</code><br/><br/>\n",
       "            "
      ],
      "text/plain": [
       "<IPython.core.display.HTML object>"
      ]
     },
     "metadata": {}
    },
    {
     "output_type": "stream",
     "name": "stdout",
     "text": [
      "freqtrade.ml.trainer - Validating model using mini training...\n"
     ]
    },
    {
     "output_type": "display_data",
     "data": {
      "application/vnd.jupyter.widget-view+json": {
       "version_major": 2,
       "version_minor": 0,
       "model_id": "040e2d6830984341ba49dfcfb316a3eb"
      },
      "text/plain": [
       "Load and preprocess data:   0%|          | 0/1 [00:00<?, ?it/s]"
      ]
     },
     "metadata": {}
    },
    {
     "output_type": "stream",
     "name": "stdout",
     "text": [
      "Start Training...\n"
     ]
    },
    {
     "output_type": "display_data",
     "data": {
      "application/vnd.jupyter.widget-view+json": {
       "version_major": 2,
       "version_minor": 0,
       "model_id": "67fe0aed829a4af39a1f4d48e048b988"
      },
      "text/plain": [
       "MetricVisualizer(layout=Layout(align_self='stretch', height='500px'))"
      ]
     },
     "metadata": {}
    },
    {
     "output_type": "stream",
     "name": "stdout",
     "text": [
      "0:\tlearn: 1.6015000\ttest: 1.6014842\tbest: 1.6014842 (0)\ttotal: 191ms\tremaining: 1.72s\n",
      "9:\tlearn: 1.5337239\ttest: 1.5335041\tbest: 1.5335041 (9)\ttotal: 457ms\tremaining: 0us\n",
      "\n",
      "bestTest = 1.533504108\n",
      "bestIteration = 9\n",
      "\n",
      "Accuracy: 1.00\n",
      "freqtrade.ml.container - Not dropping X columns in predict because it doesn't exist in predict columns\n",
      "freqtrade.ml.container - Returned new columns from df_preds: ['ml_0', 'ml_1', 'ml_2', 'ml_3', 'ml_4']\n",
      "\n",
      "PASSED: The model passed the validation test!\n",
      "freqtrade.ml.trainer - Validate model OK!\n"
     ]
    },
    {
     "output_type": "display_data",
     "data": {
      "application/vnd.jupyter.widget-view+json": {
       "version_major": 2,
       "version_minor": 0,
       "model_id": "6a9fb9d7c16e4d01a0cd20e726e08ad9"
      },
      "text/plain": [
       "Load and preprocess data:   0%|          | 0/5 [00:00<?, ?it/s]"
      ]
     },
     "metadata": {}
    },
    {
     "output_type": "stream",
     "name": "stderr",
     "text": [
      "WARNING:root:ERROR on validating predict function: `There is no trained model to use predict_proba(). Use fit() to train model. Then use this method.`\n",
      "WARNING:root:Please run `trainer.validate_predict()` after training finished!\n",
      "WARNING:root:Otherwise, future runtime errors may occur.\n"
     ]
    },
    {
     "output_type": "stream",
     "name": "stdout",
     "text": [
      "Start Training...\n"
     ]
    },
    {
     "output_type": "display_data",
     "data": {
      "application/vnd.jupyter.widget-view+json": {
       "version_major": 2,
       "version_minor": 0,
       "model_id": "57575841267f48808871f6412d117b45"
      },
      "text/plain": [
       "MetricVisualizer(layout=Layout(align_self='stretch', height='500px'))"
      ]
     },
     "metadata": {}
    },
    {
     "output_type": "stream",
     "name": "stdout",
     "text": [
      "0:\tlearn: 1.6028460\ttest: 1.6025409\tbest: 1.6025409 (0)\ttotal: 122ms\tremaining: 12.1s\n",
      "25:\tlearn: 1.4556983\ttest: 1.4490812\tbest: 1.4490812 (25)\ttotal: 2.97s\tremaining: 8.46s\n",
      "50:\tlearn: 1.3348622\ttest: 1.3234887\tbest: 1.3234887 (50)\ttotal: 5.82s\tremaining: 5.59s\n",
      "75:\tlearn: 1.2330793\ttest: 1.2180198\tbest: 1.2180198 (75)\ttotal: 8.68s\tremaining: 2.74s\n",
      "99:\tlearn: 1.1489356\ttest: 1.1308014\tbest: 1.1308014 (99)\ttotal: 11.4s\tremaining: 0us\n",
      "\n",
      "bestTest = 1.130801379\n",
      "bestIteration = 99\n",
      "\n",
      "Accuracy: 0.94\n"
     ]
    },
    {
     "output_type": "stream",
     "name": "stderr",
     "text": [
      "wandb: Adding directory to artifact (c:\\CS\\Python\\crypto-collection\\freqtrade\\superft\\.temp\\lightning_15n30-catboost_intentional_2021-09-02_21-45-01)... Done. 0.0s\n"
     ]
    },
    {
     "output_type": "display_data",
     "data": {
      "text/html": [
       "<br/>Waiting for W&B process to finish, PID 14632<br/>Program ended successfully."
      ],
      "text/plain": [
       "<IPython.core.display.HTML object>"
      ]
     },
     "metadata": {}
    },
    {
     "output_type": "display_data",
     "data": {
      "application/vnd.jupyter.widget-view+json": {
       "version_major": 2,
       "version_minor": 0,
       "model_id": "363dc5d0cc95481ba7e0fdd01bebe4a4"
      },
      "text/plain": [
       "VBox(children=(Label(value=' 1.73MB of 1.73MB uploaded (0.00MB deduped)\\r'), FloatProgress(value=1.0, max=1.0)…"
      ]
     },
     "metadata": {}
    },
    {
     "output_type": "display_data",
     "data": {
      "text/html": [
       "Find user logs for this run at: <code>c:\\CS\\Python\\crypto-collection\\freqtrade\\superft\\wandb\\run-20210902_214436-grzsul5f\\logs\\debug.log</code>"
      ],
      "text/plain": [
       "<IPython.core.display.HTML object>"
      ]
     },
     "metadata": {}
    },
    {
     "output_type": "display_data",
     "data": {
      "text/html": [
       "Find internal logs for this run at: <code>c:\\CS\\Python\\crypto-collection\\freqtrade\\superft\\wandb\\run-20210902_214436-grzsul5f\\logs\\debug-internal.log</code>"
      ],
      "text/plain": [
       "<IPython.core.display.HTML object>"
      ]
     },
     "metadata": {}
    },
    {
     "output_type": "display_data",
     "data": {
      "text/html": [
       "Synced 6 W&B file(s), 0 media file(s), 2 artifact file(s) and 1 other file(s)"
      ],
      "text/plain": [
       "<IPython.core.display.HTML object>"
      ]
     },
     "metadata": {}
    },
    {
     "output_type": "display_data",
     "data": {
      "text/html": [
       "\n",
       "                    <br/>Synced <strong style=\"color:#cdcd00\">unique-glade-31</strong>: <a href=\"https://wandb.ai/jliberooo/15n30-catboost_intentional/runs/grzsul5f\" target=\"_blank\">https://wandb.ai/jliberooo/15n30-catboost_intentional/runs/grzsul5f</a><br/>\n",
       "                "
      ],
      "text/plain": [
       "<IPython.core.display.HTML object>"
      ]
     },
     "metadata": {}
    }
   ],
   "metadata": {
    "tags": []
   }
  },
  {
   "cell_type": "markdown",
   "source": [
    "# Predictions EDA"
   ],
   "metadata": {}
  },
  {
   "cell_type": "code",
   "execution_count": 5,
   "source": [
    "# Validate prediction function by simulate inserting freqtrade data into predict function\r\n",
    "df_val_preds = trainer.validate_predict(container)\r\n",
    "df_val_preds"
   ],
   "outputs": [
    {
     "output_type": "stream",
     "name": "stdout",
     "text": [
      "freqtrade.ml.container - Not dropping X columns in predict because it doesn't exist in predict columns\n"
     ]
    },
    {
     "output_type": "stream",
     "name": "stderr",
     "text": [
      "INFO:freqtrade.ml.container:Not dropping X columns in predict because it doesn't exist in predict columns\n"
     ]
    },
    {
     "output_type": "stream",
     "name": "stdout",
     "text": [
      "freqtrade.ml.container - Returned new columns from df_preds: ['ml_0', 'ml_1', 'ml_2', 'ml_3', 'ml_4']\n"
     ]
    },
    {
     "output_type": "stream",
     "name": "stderr",
     "text": [
      "INFO:freqtrade.ml.container:Returned new columns from df_preds: ['ml_0', 'ml_1', 'ml_2', 'ml_3', 'ml_4']\n"
     ]
    },
    {
     "output_type": "stream",
     "name": "stdout",
     "text": [
      "\n",
      "Dataset: Binance BTC/USDT 15m iloc[-10000:] (Freqtrade Regularized)\n",
      "\n",
      "\n",
      "DF WITH PREDICTIONS INFO\n",
      "----------\n",
      "<class 'pandas.core.frame.DataFrame'>\n",
      "Int64Index: 10000 entries, 131026 to 141025\n",
      "Data columns (total 11 columns):\n",
      " #   Column  Non-Null Count  Dtype              \n",
      "---  ------  --------------  -----              \n",
      " 0   date    10000 non-null  datetime64[ns, UTC]\n",
      " 1   open    10000 non-null  float64            \n",
      " 2   high    10000 non-null  float64            \n",
      " 3   low     10000 non-null  float64            \n",
      " 4   close   10000 non-null  float64            \n",
      " 5   volume  10000 non-null  float64            \n",
      " 6   ml_0    9998 non-null   float64            \n",
      " 7   ml_1    9998 non-null   float64            \n",
      " 8   ml_2    9998 non-null   float64            \n",
      " 9   ml_3    9998 non-null   float64            \n",
      " 10  ml_4    9998 non-null   float64            \n",
      "dtypes: datetime64[ns, UTC](1), float64(10)\n",
      "memory usage: 937.5 KB\n",
      "None\n",
      "\n",
      "\n",
      "DF Original\n",
      "----------\n",
      "                            date      open      high       low     close  \\\n",
      "131026 2021-05-13 00:30:00+00:00  49711.83  50630.00  49578.94  49896.61   \n",
      "131027 2021-05-13 00:45:00+00:00  49896.15  50324.72  49581.44  49666.99   \n",
      "131028 2021-05-13 01:00:00+00:00  49661.12  50600.00  49305.43  50191.47   \n",
      "131029 2021-05-13 01:15:00+00:00  50191.47  50437.86  49972.44  50324.12   \n",
      "131030 2021-05-13 01:30:00+00:00  50314.99  50374.48  49665.94  49889.82   \n",
      "...                          ...       ...       ...       ...       ...   \n",
      "141021 2021-08-25 03:15:00+00:00  48135.89  48274.85  48117.73  48250.65   \n",
      "141022 2021-08-25 03:30:00+00:00  48250.65  48275.00  48132.05  48191.09   \n",
      "141023 2021-08-25 03:45:00+00:00  48191.08  48248.23  47965.00  47975.93   \n",
      "141024 2021-08-25 04:00:00+00:00  47975.93  48245.00  47940.02  48155.56   \n",
      "141025 2021-08-25 04:15:00+00:00  48155.56  48230.00  47964.34  47978.77   \n",
      "\n",
      "             volume  \n",
      "131026  5110.913916  \n",
      "131027  2389.969100  \n",
      "131028  3869.211034  \n",
      "131029  2755.398561  \n",
      "131030  2116.566505  \n",
      "...             ...  \n",
      "141021   211.447645  \n",
      "141022   194.839454  \n",
      "141023   344.786940  \n",
      "141024   275.930495  \n",
      "141025   304.607179  \n",
      "\n",
      "[10000 rows x 6 columns]\n",
      "\n",
      "\n",
      "DF + Preds\n",
      "----------\n",
      "                            date      open      high       low     close  \\\n",
      "131026 2021-05-13 00:30:00+00:00  49711.83  50630.00  49578.94  49896.61   \n",
      "131027 2021-05-13 00:45:00+00:00  49896.15  50324.72  49581.44  49666.99   \n",
      "131028 2021-05-13 01:00:00+00:00  49661.12  50600.00  49305.43  50191.47   \n",
      "131029 2021-05-13 01:15:00+00:00  50191.47  50437.86  49972.44  50324.12   \n",
      "131030 2021-05-13 01:30:00+00:00  50314.99  50374.48  49665.94  49889.82   \n",
      "...                          ...       ...       ...       ...       ...   \n",
      "141021 2021-08-25 03:15:00+00:00  48135.89  48274.85  48117.73  48250.65   \n",
      "141022 2021-08-25 03:30:00+00:00  48250.65  48275.00  48132.05  48191.09   \n",
      "141023 2021-08-25 03:45:00+00:00  48191.08  48248.23  47965.00  47975.93   \n",
      "141024 2021-08-25 04:00:00+00:00  47975.93  48245.00  47940.02  48155.56   \n",
      "141025 2021-08-25 04:15:00+00:00  48155.56  48230.00  47964.34  47978.77   \n",
      "\n",
      "             volume      ml_0      ml_1      ml_2      ml_3      ml_4  \n",
      "131026  5110.913916  0.163629  0.163629  0.163628  0.175082  0.334032  \n",
      "131027  2389.969100  0.163499  0.163499  0.163498  0.173767  0.335738  \n",
      "131028  3869.211034  0.333124  0.176003  0.163624  0.163624  0.163624  \n",
      "131029  2755.398561  0.165340  0.165340  0.167072  0.269613  0.232636  \n",
      "131030  2116.566505  0.163499  0.163499  0.163498  0.173767  0.335738  \n",
      "...             ...       ...       ...       ...       ...       ...  \n",
      "141021   211.447645  0.333124  0.176003  0.163624  0.163624  0.163624  \n",
      "141022   194.839454  0.163916  0.189612  0.316306  0.166248  0.163918  \n",
      "141023   344.786940  0.163456  0.169008  0.336713  0.167368  0.163455  \n",
      "141024   275.930495       NaN       NaN       NaN       NaN       NaN  \n",
      "141025   304.607179       NaN       NaN       NaN       NaN       NaN  \n",
      "\n",
      "[10000 rows x 11 columns]\n",
      "\n",
      "\n",
      "Vanilla Prediction [MAKE SURE SAME WITH PREDICTION DF!]\n",
      "----------\n",
      "             0         1         2         3         4\n",
      "0     0.163629  0.163629  0.163628  0.175082  0.334032\n",
      "1     0.163499  0.163499  0.163498  0.173767  0.335738\n",
      "2     0.333124  0.176003  0.163624  0.163624  0.163624\n",
      "3     0.165340  0.165340  0.167072  0.269613  0.232636\n",
      "4     0.163499  0.163499  0.163498  0.173767  0.335738\n",
      "...        ...       ...       ...       ...       ...\n",
      "9993  0.164758  0.165179  0.200350  0.300793  0.168920\n",
      "9994  0.163743  0.163742  0.179276  0.323578  0.169661\n",
      "9995  0.333124  0.176003  0.163624  0.163624  0.163624\n",
      "9996  0.163916  0.189612  0.316306  0.166248  0.163918\n",
      "9997  0.163456  0.169008  0.336713  0.167368  0.163455\n",
      "\n",
      "[9998 rows x 5 columns]\n",
      "\n",
      "LEN VANILLA PREDS: 9998\n",
      "LEN DF + PREDS NON NAN: 9998\n",
      "\n",
      "PASSED: The model passed the validation test!\n"
     ]
    },
    {
     "output_type": "execute_result",
     "data": {
      "text/html": [
       "<div>\n",
       "<style scoped>\n",
       "    .dataframe tbody tr th:only-of-type {\n",
       "        vertical-align: middle;\n",
       "    }\n",
       "\n",
       "    .dataframe tbody tr th {\n",
       "        vertical-align: top;\n",
       "    }\n",
       "\n",
       "    .dataframe thead th {\n",
       "        text-align: right;\n",
       "    }\n",
       "</style>\n",
       "<table border=\"1\" class=\"dataframe\">\n",
       "  <thead>\n",
       "    <tr style=\"text-align: right;\">\n",
       "      <th></th>\n",
       "      <th>date</th>\n",
       "      <th>open</th>\n",
       "      <th>high</th>\n",
       "      <th>low</th>\n",
       "      <th>close</th>\n",
       "      <th>volume</th>\n",
       "      <th>ml_0</th>\n",
       "      <th>ml_1</th>\n",
       "      <th>ml_2</th>\n",
       "      <th>ml_3</th>\n",
       "      <th>ml_4</th>\n",
       "    </tr>\n",
       "  </thead>\n",
       "  <tbody>\n",
       "    <tr>\n",
       "      <th>131026</th>\n",
       "      <td>2021-05-13 00:30:00+00:00</td>\n",
       "      <td>49711.83</td>\n",
       "      <td>50630.00</td>\n",
       "      <td>49578.94</td>\n",
       "      <td>49896.61</td>\n",
       "      <td>5110.913916</td>\n",
       "      <td>0.163629</td>\n",
       "      <td>0.163629</td>\n",
       "      <td>0.163628</td>\n",
       "      <td>0.175082</td>\n",
       "      <td>0.334032</td>\n",
       "    </tr>\n",
       "    <tr>\n",
       "      <th>131027</th>\n",
       "      <td>2021-05-13 00:45:00+00:00</td>\n",
       "      <td>49896.15</td>\n",
       "      <td>50324.72</td>\n",
       "      <td>49581.44</td>\n",
       "      <td>49666.99</td>\n",
       "      <td>2389.969100</td>\n",
       "      <td>0.163499</td>\n",
       "      <td>0.163499</td>\n",
       "      <td>0.163498</td>\n",
       "      <td>0.173767</td>\n",
       "      <td>0.335738</td>\n",
       "    </tr>\n",
       "    <tr>\n",
       "      <th>131028</th>\n",
       "      <td>2021-05-13 01:00:00+00:00</td>\n",
       "      <td>49661.12</td>\n",
       "      <td>50600.00</td>\n",
       "      <td>49305.43</td>\n",
       "      <td>50191.47</td>\n",
       "      <td>3869.211034</td>\n",
       "      <td>0.333124</td>\n",
       "      <td>0.176003</td>\n",
       "      <td>0.163624</td>\n",
       "      <td>0.163624</td>\n",
       "      <td>0.163624</td>\n",
       "    </tr>\n",
       "    <tr>\n",
       "      <th>131029</th>\n",
       "      <td>2021-05-13 01:15:00+00:00</td>\n",
       "      <td>50191.47</td>\n",
       "      <td>50437.86</td>\n",
       "      <td>49972.44</td>\n",
       "      <td>50324.12</td>\n",
       "      <td>2755.398561</td>\n",
       "      <td>0.165340</td>\n",
       "      <td>0.165340</td>\n",
       "      <td>0.167072</td>\n",
       "      <td>0.269613</td>\n",
       "      <td>0.232636</td>\n",
       "    </tr>\n",
       "    <tr>\n",
       "      <th>131030</th>\n",
       "      <td>2021-05-13 01:30:00+00:00</td>\n",
       "      <td>50314.99</td>\n",
       "      <td>50374.48</td>\n",
       "      <td>49665.94</td>\n",
       "      <td>49889.82</td>\n",
       "      <td>2116.566505</td>\n",
       "      <td>0.163499</td>\n",
       "      <td>0.163499</td>\n",
       "      <td>0.163498</td>\n",
       "      <td>0.173767</td>\n",
       "      <td>0.335738</td>\n",
       "    </tr>\n",
       "    <tr>\n",
       "      <th>...</th>\n",
       "      <td>...</td>\n",
       "      <td>...</td>\n",
       "      <td>...</td>\n",
       "      <td>...</td>\n",
       "      <td>...</td>\n",
       "      <td>...</td>\n",
       "      <td>...</td>\n",
       "      <td>...</td>\n",
       "      <td>...</td>\n",
       "      <td>...</td>\n",
       "      <td>...</td>\n",
       "    </tr>\n",
       "    <tr>\n",
       "      <th>141021</th>\n",
       "      <td>2021-08-25 03:15:00+00:00</td>\n",
       "      <td>48135.89</td>\n",
       "      <td>48274.85</td>\n",
       "      <td>48117.73</td>\n",
       "      <td>48250.65</td>\n",
       "      <td>211.447645</td>\n",
       "      <td>0.333124</td>\n",
       "      <td>0.176003</td>\n",
       "      <td>0.163624</td>\n",
       "      <td>0.163624</td>\n",
       "      <td>0.163624</td>\n",
       "    </tr>\n",
       "    <tr>\n",
       "      <th>141022</th>\n",
       "      <td>2021-08-25 03:30:00+00:00</td>\n",
       "      <td>48250.65</td>\n",
       "      <td>48275.00</td>\n",
       "      <td>48132.05</td>\n",
       "      <td>48191.09</td>\n",
       "      <td>194.839454</td>\n",
       "      <td>0.163916</td>\n",
       "      <td>0.189612</td>\n",
       "      <td>0.316306</td>\n",
       "      <td>0.166248</td>\n",
       "      <td>0.163918</td>\n",
       "    </tr>\n",
       "    <tr>\n",
       "      <th>141023</th>\n",
       "      <td>2021-08-25 03:45:00+00:00</td>\n",
       "      <td>48191.08</td>\n",
       "      <td>48248.23</td>\n",
       "      <td>47965.00</td>\n",
       "      <td>47975.93</td>\n",
       "      <td>344.786940</td>\n",
       "      <td>0.163456</td>\n",
       "      <td>0.169008</td>\n",
       "      <td>0.336713</td>\n",
       "      <td>0.167368</td>\n",
       "      <td>0.163455</td>\n",
       "    </tr>\n",
       "    <tr>\n",
       "      <th>141024</th>\n",
       "      <td>2021-08-25 04:00:00+00:00</td>\n",
       "      <td>47975.93</td>\n",
       "      <td>48245.00</td>\n",
       "      <td>47940.02</td>\n",
       "      <td>48155.56</td>\n",
       "      <td>275.930495</td>\n",
       "      <td>NaN</td>\n",
       "      <td>NaN</td>\n",
       "      <td>NaN</td>\n",
       "      <td>NaN</td>\n",
       "      <td>NaN</td>\n",
       "    </tr>\n",
       "    <tr>\n",
       "      <th>141025</th>\n",
       "      <td>2021-08-25 04:15:00+00:00</td>\n",
       "      <td>48155.56</td>\n",
       "      <td>48230.00</td>\n",
       "      <td>47964.34</td>\n",
       "      <td>47978.77</td>\n",
       "      <td>304.607179</td>\n",
       "      <td>NaN</td>\n",
       "      <td>NaN</td>\n",
       "      <td>NaN</td>\n",
       "      <td>NaN</td>\n",
       "      <td>NaN</td>\n",
       "    </tr>\n",
       "  </tbody>\n",
       "</table>\n",
       "<p>10000 rows × 11 columns</p>\n",
       "</div>"
      ],
      "text/plain": [
       "                            date      open      high       low     close  \\\n",
       "131026 2021-05-13 00:30:00+00:00  49711.83  50630.00  49578.94  49896.61   \n",
       "131027 2021-05-13 00:45:00+00:00  49896.15  50324.72  49581.44  49666.99   \n",
       "131028 2021-05-13 01:00:00+00:00  49661.12  50600.00  49305.43  50191.47   \n",
       "131029 2021-05-13 01:15:00+00:00  50191.47  50437.86  49972.44  50324.12   \n",
       "131030 2021-05-13 01:30:00+00:00  50314.99  50374.48  49665.94  49889.82   \n",
       "...                          ...       ...       ...       ...       ...   \n",
       "141021 2021-08-25 03:15:00+00:00  48135.89  48274.85  48117.73  48250.65   \n",
       "141022 2021-08-25 03:30:00+00:00  48250.65  48275.00  48132.05  48191.09   \n",
       "141023 2021-08-25 03:45:00+00:00  48191.08  48248.23  47965.00  47975.93   \n",
       "141024 2021-08-25 04:00:00+00:00  47975.93  48245.00  47940.02  48155.56   \n",
       "141025 2021-08-25 04:15:00+00:00  48155.56  48230.00  47964.34  47978.77   \n",
       "\n",
       "             volume      ml_0      ml_1      ml_2      ml_3      ml_4  \n",
       "131026  5110.913916  0.163629  0.163629  0.163628  0.175082  0.334032  \n",
       "131027  2389.969100  0.163499  0.163499  0.163498  0.173767  0.335738  \n",
       "131028  3869.211034  0.333124  0.176003  0.163624  0.163624  0.163624  \n",
       "131029  2755.398561  0.165340  0.165340  0.167072  0.269613  0.232636  \n",
       "131030  2116.566505  0.163499  0.163499  0.163498  0.173767  0.335738  \n",
       "...             ...       ...       ...       ...       ...       ...  \n",
       "141021   211.447645  0.333124  0.176003  0.163624  0.163624  0.163624  \n",
       "141022   194.839454  0.163916  0.189612  0.316306  0.166248  0.163918  \n",
       "141023   344.786940  0.163456  0.169008  0.336713  0.167368  0.163455  \n",
       "141024   275.930495       NaN       NaN       NaN       NaN       NaN  \n",
       "141025   304.607179       NaN       NaN       NaN       NaN       NaN  \n",
       "\n",
       "[10000 rows x 11 columns]"
      ]
     },
     "metadata": {},
     "execution_count": 5
    }
   ],
   "metadata": {
    "tags": []
   }
  },
  {
   "cell_type": "code",
   "execution_count": 11,
   "source": [
    "def plot_feature_importance(importance,names,model_type):\r\n",
    "    import matplotlib.pyplot as plt\r\n",
    "    #Create arrays from feature importance and feature names\r\n",
    "    feature_importance = np.array(importance)\r\n",
    "    feature_names = np.array(names)\r\n",
    "    \r\n",
    "    #Create a DataFrame using a Dictionary\r\n",
    "    data={'feature_names':feature_names,'feature_importance':feature_importance}\r\n",
    "    fi_df = pd.DataFrame(data)\r\n",
    "    \r\n",
    "    #Sort the DataFrame in order decreasing feature importance\r\n",
    "    fi_df.sort_values(by=['feature_importance'], ascending=False,inplace=True)\r\n",
    "    \r\n",
    "    #Define size of bar plot\r\n",
    "    plt.figure(figsize=(10,14))\r\n",
    "    #Plot Searborn bar chart\r\n",
    "    plt.barh(width=fi_df['feature_importance'], y=fi_df['feature_names'])\r\n",
    "    #Add chart labels\r\n",
    "    plt.title(model_type + ' FEATURE IMPORTANCE')\r\n",
    "    plt.xlabel('FEATURE IMPORTANCE')\r\n",
    "    plt.ylabel('FEATURE NAMES')\r\n",
    "    \r\n",
    "plot_feature_importance(container.module.model.get_feature_importance(), container.config.columns_x, 'CATBOOST')"
   ],
   "outputs": [
    {
     "output_type": "display_data",
     "data": {
      "image/png": "[encoded data removed]",
      "text/plain": [
       "<Figure size 720x1008 with 1 Axes>"
      ]
     },
     "metadata": {
      "needs_background": "light"
     }
    }
   ],
   "metadata": {}
  },
  {
   "cell_type": "markdown",
   "source": [
    "# Simple Statistics & Backtesting"
   ],
   "metadata": {}
  },
  {
   "cell_type": "code",
   "execution_count": 20,
   "source": [
    "df_dataset = container._load_df_allpairs()\n",
    "df_dataset[\"real_close\"] = (df_dataset[\"close\"].shift(-2) - df_dataset[\"close\"]) / df_dataset[\"close\"]\n",
    "df_dataset.loc[df_dataset[\"ml_label\"] == 4].tail()"
   ],
   "outputs": [
    {
     "output_type": "execute_result",
     "data": {
      "text/html": [
       "<div>\n",
       "<style scoped>\n",
       "    .dataframe tbody tr th:only-of-type {\n",
       "        vertical-align: middle;\n",
       "    }\n",
       "\n",
       "    .dataframe tbody tr th {\n",
       "        vertical-align: top;\n",
       "    }\n",
       "\n",
       "    .dataframe thead th {\n",
       "        text-align: right;\n",
       "    }\n",
       "</style>\n",
       "<table border=\"1\" class=\"dataframe\">\n",
       "  <thead>\n",
       "    <tr style=\"text-align: right;\">\n",
       "      <th></th>\n",
       "      <th>date</th>\n",
       "      <th>open</th>\n",
       "      <th>high</th>\n",
       "      <th>low</th>\n",
       "      <th>close</th>\n",
       "      <th>volume</th>\n",
       "      <th>pair</th>\n",
       "      <th>ml_next_close</th>\n",
       "      <th>ml_label</th>\n",
       "      <th>real_close</th>\n",
       "    </tr>\n",
       "  </thead>\n",
       "  <tbody>\n",
       "    <tr>\n",
       "      <th>109655</th>\n",
       "      <td>2021-06-19 13:45:00+00:00</td>\n",
       "      <td>0.7888</td>\n",
       "      <td>0.7895</td>\n",
       "      <td>0.7863</td>\n",
       "      <td>0.7891</td>\n",
       "      <td>2827095.500</td>\n",
       "      <td>XRP/USDT</td>\n",
       "      <td>0.004055</td>\n",
       "      <td>4.0</td>\n",
       "      <td>0.004055</td>\n",
       "    </tr>\n",
       "    <tr>\n",
       "      <th>109656</th>\n",
       "      <td>2021-06-19 14:00:00+00:00</td>\n",
       "      <td>0.7892</td>\n",
       "      <td>0.7930</td>\n",
       "      <td>0.7890</td>\n",
       "      <td>0.7903</td>\n",
       "      <td>2622069.750</td>\n",
       "      <td>XRP/USDT</td>\n",
       "      <td>0.006706</td>\n",
       "      <td>4.0</td>\n",
       "      <td>0.006706</td>\n",
       "    </tr>\n",
       "    <tr>\n",
       "      <th>109657</th>\n",
       "      <td>2021-06-19 14:15:00+00:00</td>\n",
       "      <td>0.7903</td>\n",
       "      <td>0.7931</td>\n",
       "      <td>0.7903</td>\n",
       "      <td>0.7923</td>\n",
       "      <td>1890240.125</td>\n",
       "      <td>XRP/USDT</td>\n",
       "      <td>0.006185</td>\n",
       "      <td>4.0</td>\n",
       "      <td>0.006185</td>\n",
       "    </tr>\n",
       "    <tr>\n",
       "      <th>109675</th>\n",
       "      <td>2021-06-19 18:45:00+00:00</td>\n",
       "      <td>0.7790</td>\n",
       "      <td>0.7823</td>\n",
       "      <td>0.7789</td>\n",
       "      <td>0.7802</td>\n",
       "      <td>2696326.500</td>\n",
       "      <td>XRP/USDT</td>\n",
       "      <td>0.005255</td>\n",
       "      <td>4.0</td>\n",
       "      <td>0.005255</td>\n",
       "    </tr>\n",
       "    <tr>\n",
       "      <th>109676</th>\n",
       "      <td>2021-06-19 19:00:00+00:00</td>\n",
       "      <td>0.7804</td>\n",
       "      <td>0.7810</td>\n",
       "      <td>0.7790</td>\n",
       "      <td>0.7806</td>\n",
       "      <td>2119528.500</td>\n",
       "      <td>XRP/USDT</td>\n",
       "      <td>0.004996</td>\n",
       "      <td>4.0</td>\n",
       "      <td>0.004996</td>\n",
       "    </tr>\n",
       "  </tbody>\n",
       "</table>\n",
       "</div>"
      ],
      "text/plain": [
       "                            date    open    high     low   close       volume  \\\n",
       "109655 2021-06-19 13:45:00+00:00  0.7888  0.7895  0.7863  0.7891  2827095.500   \n",
       "109656 2021-06-19 14:00:00+00:00  0.7892  0.7930  0.7890  0.7903  2622069.750   \n",
       "109657 2021-06-19 14:15:00+00:00  0.7903  0.7931  0.7903  0.7923  1890240.125   \n",
       "109675 2021-06-19 18:45:00+00:00  0.7790  0.7823  0.7789  0.7802  2696326.500   \n",
       "109676 2021-06-19 19:00:00+00:00  0.7804  0.7810  0.7790  0.7806  2119528.500   \n",
       "\n",
       "            pair  ml_next_close  ml_label  real_close  \n",
       "109655  XRP/USDT       0.004055       4.0    0.004055  \n",
       "109656  XRP/USDT       0.006706       4.0    0.006706  \n",
       "109657  XRP/USDT       0.006185       4.0    0.006185  \n",
       "109675  XRP/USDT       0.005255       4.0    0.005255  \n",
       "109676  XRP/USDT       0.004996       4.0    0.004996  "
      ]
     },
     "metadata": {},
     "execution_count": 20
    }
   ],
   "metadata": {
    "tags": []
   }
  },
  {
   "cell_type": "code",
   "execution_count": 21,
   "source": [
    "preds = container.module.model.predict_proba(df_dataset[container.config.columns_x])\n",
    "preds = pd.DataFrame(preds)\n",
    "preds.columns = [f\"ml_{i}\" for i in range(5)]\n",
    "df_with_preds = pd.concat([df_dataset.reset_index(drop=True), preds], axis=1)\n",
    "df_with_preds.tail()"
   ],
   "outputs": [
    {
     "output_type": "execute_result",
     "data": {
      "text/html": [
       "<div>\n",
       "<style scoped>\n",
       "    .dataframe tbody tr th:only-of-type {\n",
       "        vertical-align: middle;\n",
       "    }\n",
       "\n",
       "    .dataframe tbody tr th {\n",
       "        vertical-align: top;\n",
       "    }\n",
       "\n",
       "    .dataframe thead th {\n",
       "        text-align: right;\n",
       "    }\n",
       "</style>\n",
       "<table border=\"1\" class=\"dataframe\">\n",
       "  <thead>\n",
       "    <tr style=\"text-align: right;\">\n",
       "      <th></th>\n",
       "      <th>date</th>\n",
       "      <th>open</th>\n",
       "      <th>high</th>\n",
       "      <th>low</th>\n",
       "      <th>close</th>\n",
       "      <th>volume</th>\n",
       "      <th>pair</th>\n",
       "      <th>ml_next_close</th>\n",
       "      <th>ml_label</th>\n",
       "      <th>real_close</th>\n",
       "      <th>ml_0</th>\n",
       "      <th>ml_1</th>\n",
       "      <th>ml_2</th>\n",
       "      <th>ml_3</th>\n",
       "      <th>ml_4</th>\n",
       "    </tr>\n",
       "  </thead>\n",
       "  <tbody>\n",
       "    <tr>\n",
       "      <th>519648</th>\n",
       "      <td>2021-06-19 22:00:00+00:00</td>\n",
       "      <td>0.7839</td>\n",
       "      <td>0.7839</td>\n",
       "      <td>0.7769</td>\n",
       "      <td>0.7786</td>\n",
       "      <td>3941359.25</td>\n",
       "      <td>XRP/USDT</td>\n",
       "      <td>-0.007963</td>\n",
       "      <td>0.0</td>\n",
       "      <td>-0.007963</td>\n",
       "      <td>0.334792</td>\n",
       "      <td>0.174676</td>\n",
       "      <td>0.163510</td>\n",
       "      <td>0.163511</td>\n",
       "      <td>0.163511</td>\n",
       "    </tr>\n",
       "    <tr>\n",
       "      <th>519649</th>\n",
       "      <td>2021-06-19 22:15:00+00:00</td>\n",
       "      <td>0.7785</td>\n",
       "      <td>0.7790</td>\n",
       "      <td>0.7763</td>\n",
       "      <td>0.7784</td>\n",
       "      <td>2686081.00</td>\n",
       "      <td>XRP/USDT</td>\n",
       "      <td>-0.015673</td>\n",
       "      <td>0.0</td>\n",
       "      <td>-0.015673</td>\n",
       "      <td>0.334792</td>\n",
       "      <td>0.174676</td>\n",
       "      <td>0.163510</td>\n",
       "      <td>0.163511</td>\n",
       "      <td>0.163511</td>\n",
       "    </tr>\n",
       "    <tr>\n",
       "      <th>519650</th>\n",
       "      <td>2021-06-19 22:30:00+00:00</td>\n",
       "      <td>0.7786</td>\n",
       "      <td>0.7788</td>\n",
       "      <td>0.7705</td>\n",
       "      <td>0.7724</td>\n",
       "      <td>3667547.00</td>\n",
       "      <td>XRP/USDT</td>\n",
       "      <td>-0.011264</td>\n",
       "      <td>0.0</td>\n",
       "      <td>-0.011264</td>\n",
       "      <td>0.334792</td>\n",
       "      <td>0.174676</td>\n",
       "      <td>0.163510</td>\n",
       "      <td>0.163511</td>\n",
       "      <td>0.163511</td>\n",
       "    </tr>\n",
       "    <tr>\n",
       "      <th>519651</th>\n",
       "      <td>2021-06-19 22:45:00+00:00</td>\n",
       "      <td>0.7725</td>\n",
       "      <td>0.7725</td>\n",
       "      <td>0.7606</td>\n",
       "      <td>0.7662</td>\n",
       "      <td>8737225.00</td>\n",
       "      <td>XRP/USDT</td>\n",
       "      <td>-0.003524</td>\n",
       "      <td>1.0</td>\n",
       "      <td>NaN</td>\n",
       "      <td>0.181662</td>\n",
       "      <td>0.320236</td>\n",
       "      <td>0.170614</td>\n",
       "      <td>0.163744</td>\n",
       "      <td>0.163744</td>\n",
       "    </tr>\n",
       "    <tr>\n",
       "      <th>519652</th>\n",
       "      <td>2021-06-19 23:00:00+00:00</td>\n",
       "      <td>0.7661</td>\n",
       "      <td>0.7663</td>\n",
       "      <td>0.7574</td>\n",
       "      <td>0.7637</td>\n",
       "      <td>8876527.00</td>\n",
       "      <td>XRP/USDT</td>\n",
       "      <td>-0.003797</td>\n",
       "      <td>1.0</td>\n",
       "      <td>NaN</td>\n",
       "      <td>0.210817</td>\n",
       "      <td>0.287778</td>\n",
       "      <td>0.170293</td>\n",
       "      <td>0.165555</td>\n",
       "      <td>0.165556</td>\n",
       "    </tr>\n",
       "  </tbody>\n",
       "</table>\n",
       "</div>"
      ],
      "text/plain": [
       "                            date    open    high     low   close      volume  \\\n",
       "519648 2021-06-19 22:00:00+00:00  0.7839  0.7839  0.7769  0.7786  3941359.25   \n",
       "519649 2021-06-19 22:15:00+00:00  0.7785  0.7790  0.7763  0.7784  2686081.00   \n",
       "519650 2021-06-19 22:30:00+00:00  0.7786  0.7788  0.7705  0.7724  3667547.00   \n",
       "519651 2021-06-19 22:45:00+00:00  0.7725  0.7725  0.7606  0.7662  8737225.00   \n",
       "519652 2021-06-19 23:00:00+00:00  0.7661  0.7663  0.7574  0.7637  8876527.00   \n",
       "\n",
       "            pair  ml_next_close  ml_label  real_close      ml_0      ml_1  \\\n",
       "519648  XRP/USDT      -0.007963       0.0   -0.007963  0.334792  0.174676   \n",
       "519649  XRP/USDT      -0.015673       0.0   -0.015673  0.334792  0.174676   \n",
       "519650  XRP/USDT      -0.011264       0.0   -0.011264  0.334792  0.174676   \n",
       "519651  XRP/USDT      -0.003524       1.0         NaN  0.181662  0.320236   \n",
       "519652  XRP/USDT      -0.003797       1.0         NaN  0.210817  0.287778   \n",
       "\n",
       "            ml_2      ml_3      ml_4  \n",
       "519648  0.163510  0.163511  0.163511  \n",
       "519649  0.163510  0.163511  0.163511  \n",
       "519650  0.163510  0.163511  0.163511  \n",
       "519651  0.170614  0.163744  0.163744  \n",
       "519652  0.170293  0.165555  0.165556  "
      ]
     },
     "metadata": {},
     "execution_count": 21
    }
   ],
   "metadata": {
    "tags": []
   }
  },
  {
   "cell_type": "code",
   "execution_count": 22,
   "source": [
    "df_with_preds[\"argmax_ml\"] = df_with_preds[[f\"ml_{x}\"for x in range(5)]].idxmax(axis=1)\n",
    "df_with_preds.loc[(df_with_preds[\"argmax_ml\"] == \"ml_4\")].tail()"
   ],
   "outputs": [
    {
     "output_type": "execute_result",
     "data": {
      "text/html": [
       "<div>\n",
       "<style scoped>\n",
       "    .dataframe tbody tr th:only-of-type {\n",
       "        vertical-align: middle;\n",
       "    }\n",
       "\n",
       "    .dataframe tbody tr th {\n",
       "        vertical-align: top;\n",
       "    }\n",
       "\n",
       "    .dataframe thead th {\n",
       "        text-align: right;\n",
       "    }\n",
       "</style>\n",
       "<table border=\"1\" class=\"dataframe\">\n",
       "  <thead>\n",
       "    <tr style=\"text-align: right;\">\n",
       "      <th></th>\n",
       "      <th>date</th>\n",
       "      <th>open</th>\n",
       "      <th>high</th>\n",
       "      <th>low</th>\n",
       "      <th>close</th>\n",
       "      <th>volume</th>\n",
       "      <th>pair</th>\n",
       "      <th>ml_next_close</th>\n",
       "      <th>ml_label</th>\n",
       "      <th>real_close</th>\n",
       "      <th>ml_0</th>\n",
       "      <th>ml_1</th>\n",
       "      <th>ml_2</th>\n",
       "      <th>ml_3</th>\n",
       "      <th>ml_4</th>\n",
       "      <th>argmax_ml</th>\n",
       "    </tr>\n",
       "  </thead>\n",
       "  <tbody>\n",
       "    <tr>\n",
       "      <th>519615</th>\n",
       "      <td>2021-06-19 13:45:00+00:00</td>\n",
       "      <td>0.7888</td>\n",
       "      <td>0.7895</td>\n",
       "      <td>0.7863</td>\n",
       "      <td>0.7891</td>\n",
       "      <td>2827095.500</td>\n",
       "      <td>XRP/USDT</td>\n",
       "      <td>0.004055</td>\n",
       "      <td>4.0</td>\n",
       "      <td>0.004055</td>\n",
       "      <td>0.165495</td>\n",
       "      <td>0.165495</td>\n",
       "      <td>0.166198</td>\n",
       "      <td>0.232047</td>\n",
       "      <td>0.270766</td>\n",
       "      <td>ml_4</td>\n",
       "    </tr>\n",
       "    <tr>\n",
       "      <th>519616</th>\n",
       "      <td>2021-06-19 14:00:00+00:00</td>\n",
       "      <td>0.7892</td>\n",
       "      <td>0.7930</td>\n",
       "      <td>0.7890</td>\n",
       "      <td>0.7903</td>\n",
       "      <td>2622069.750</td>\n",
       "      <td>XRP/USDT</td>\n",
       "      <td>0.006706</td>\n",
       "      <td>4.0</td>\n",
       "      <td>0.006706</td>\n",
       "      <td>0.163523</td>\n",
       "      <td>0.163523</td>\n",
       "      <td>0.163523</td>\n",
       "      <td>0.174000</td>\n",
       "      <td>0.335431</td>\n",
       "      <td>ml_4</td>\n",
       "    </tr>\n",
       "    <tr>\n",
       "      <th>519617</th>\n",
       "      <td>2021-06-19 14:15:00+00:00</td>\n",
       "      <td>0.7903</td>\n",
       "      <td>0.7931</td>\n",
       "      <td>0.7903</td>\n",
       "      <td>0.7923</td>\n",
       "      <td>1890240.125</td>\n",
       "      <td>XRP/USDT</td>\n",
       "      <td>0.006185</td>\n",
       "      <td>4.0</td>\n",
       "      <td>0.006185</td>\n",
       "      <td>0.163533</td>\n",
       "      <td>0.163533</td>\n",
       "      <td>0.163533</td>\n",
       "      <td>0.174289</td>\n",
       "      <td>0.335112</td>\n",
       "      <td>ml_4</td>\n",
       "    </tr>\n",
       "    <tr>\n",
       "      <th>519635</th>\n",
       "      <td>2021-06-19 18:45:00+00:00</td>\n",
       "      <td>0.7790</td>\n",
       "      <td>0.7823</td>\n",
       "      <td>0.7789</td>\n",
       "      <td>0.7802</td>\n",
       "      <td>2696326.500</td>\n",
       "      <td>XRP/USDT</td>\n",
       "      <td>0.005255</td>\n",
       "      <td>4.0</td>\n",
       "      <td>0.005255</td>\n",
       "      <td>0.163741</td>\n",
       "      <td>0.163741</td>\n",
       "      <td>0.163741</td>\n",
       "      <td>0.178718</td>\n",
       "      <td>0.330058</td>\n",
       "      <td>ml_4</td>\n",
       "    </tr>\n",
       "    <tr>\n",
       "      <th>519636</th>\n",
       "      <td>2021-06-19 19:00:00+00:00</td>\n",
       "      <td>0.7804</td>\n",
       "      <td>0.7810</td>\n",
       "      <td>0.7790</td>\n",
       "      <td>0.7806</td>\n",
       "      <td>2119528.500</td>\n",
       "      <td>XRP/USDT</td>\n",
       "      <td>0.004996</td>\n",
       "      <td>4.0</td>\n",
       "      <td>0.004996</td>\n",
       "      <td>0.163899</td>\n",
       "      <td>0.163899</td>\n",
       "      <td>0.163899</td>\n",
       "      <td>0.185367</td>\n",
       "      <td>0.322936</td>\n",
       "      <td>ml_4</td>\n",
       "    </tr>\n",
       "  </tbody>\n",
       "</table>\n",
       "</div>"
      ],
      "text/plain": [
       "                            date    open    high     low   close       volume  \\\n",
       "519615 2021-06-19 13:45:00+00:00  0.7888  0.7895  0.7863  0.7891  2827095.500   \n",
       "519616 2021-06-19 14:00:00+00:00  0.7892  0.7930  0.7890  0.7903  2622069.750   \n",
       "519617 2021-06-19 14:15:00+00:00  0.7903  0.7931  0.7903  0.7923  1890240.125   \n",
       "519635 2021-06-19 18:45:00+00:00  0.7790  0.7823  0.7789  0.7802  2696326.500   \n",
       "519636 2021-06-19 19:00:00+00:00  0.7804  0.7810  0.7790  0.7806  2119528.500   \n",
       "\n",
       "            pair  ml_next_close  ml_label  real_close      ml_0      ml_1  \\\n",
       "519615  XRP/USDT       0.004055       4.0    0.004055  0.165495  0.165495   \n",
       "519616  XRP/USDT       0.006706       4.0    0.006706  0.163523  0.163523   \n",
       "519617  XRP/USDT       0.006185       4.0    0.006185  0.163533  0.163533   \n",
       "519635  XRP/USDT       0.005255       4.0    0.005255  0.163741  0.163741   \n",
       "519636  XRP/USDT       0.004996       4.0    0.004996  0.163899  0.163899   \n",
       "\n",
       "            ml_2      ml_3      ml_4 argmax_ml  \n",
       "519615  0.166198  0.232047  0.270766      ml_4  \n",
       "519616  0.163523  0.174000  0.335431      ml_4  \n",
       "519617  0.163533  0.174289  0.335112      ml_4  \n",
       "519635  0.163741  0.178718  0.330058      ml_4  \n",
       "519636  0.163899  0.185367  0.322936      ml_4  "
      ]
     },
     "metadata": {},
     "execution_count": 22
    }
   ],
   "metadata": {
    "tags": []
   }
  },
  {
   "cell_type": "code",
   "execution_count": 14,
   "source": [
    "df_val_preds[\"return\"] = (df_val_preds[\"close\"].shift(-2) - df_val_preds[\"close\"]) / df_val_preds[\"close\"]\n",
    "df_val_preds[\"argmax_ml\"] = df_val_preds[[f\"ml_{x}\"for x in range(5)]].idxmax(axis=1)\n",
    "df_val_preds.loc[(df_val_preds[\"argmax_ml\"] == \"ml_4\")].tail()"
   ],
   "outputs": [
    {
     "output_type": "execute_result",
     "data": {
      "text/html": [
       "<div>\n",
       "<style scoped>\n",
       "    .dataframe tbody tr th:only-of-type {\n",
       "        vertical-align: middle;\n",
       "    }\n",
       "\n",
       "    .dataframe tbody tr th {\n",
       "        vertical-align: top;\n",
       "    }\n",
       "\n",
       "    .dataframe thead th {\n",
       "        text-align: right;\n",
       "    }\n",
       "</style>\n",
       "<table border=\"1\" class=\"dataframe\">\n",
       "  <thead>\n",
       "    <tr style=\"text-align: right;\">\n",
       "      <th></th>\n",
       "      <th>date</th>\n",
       "      <th>open</th>\n",
       "      <th>high</th>\n",
       "      <th>low</th>\n",
       "      <th>close</th>\n",
       "      <th>volume</th>\n",
       "      <th>ml_0</th>\n",
       "      <th>ml_1</th>\n",
       "      <th>ml_2</th>\n",
       "      <th>ml_3</th>\n",
       "      <th>ml_4</th>\n",
       "      <th>return</th>\n",
       "      <th>argmax_ml</th>\n",
       "    </tr>\n",
       "  </thead>\n",
       "  <tbody>\n",
       "    <tr>\n",
       "      <th>140989</th>\n",
       "      <td>2021-08-24 19:15:00+00:00</td>\n",
       "      <td>48137.97</td>\n",
       "      <td>48137.97</td>\n",
       "      <td>47904.61</td>\n",
       "      <td>47954.13</td>\n",
       "      <td>354.085567</td>\n",
       "      <td>0.163629</td>\n",
       "      <td>0.163629</td>\n",
       "      <td>0.163628</td>\n",
       "      <td>0.175082</td>\n",
       "      <td>0.334032</td>\n",
       "      <td>0.006028</td>\n",
       "      <td>ml_4</td>\n",
       "    </tr>\n",
       "    <tr>\n",
       "      <th>140990</th>\n",
       "      <td>2021-08-24 19:30:00+00:00</td>\n",
       "      <td>47954.14</td>\n",
       "      <td>48129.99</td>\n",
       "      <td>47906.00</td>\n",
       "      <td>47977.03</td>\n",
       "      <td>284.235138</td>\n",
       "      <td>0.163523</td>\n",
       "      <td>0.163523</td>\n",
       "      <td>0.163523</td>\n",
       "      <td>0.174000</td>\n",
       "      <td>0.335431</td>\n",
       "      <td>0.006838</td>\n",
       "      <td>ml_4</td>\n",
       "    </tr>\n",
       "    <tr>\n",
       "      <th>141009</th>\n",
       "      <td>2021-08-25 00:15:00+00:00</td>\n",
       "      <td>47945.22</td>\n",
       "      <td>48123.70</td>\n",
       "      <td>47772.56</td>\n",
       "      <td>47808.54</td>\n",
       "      <td>533.009081</td>\n",
       "      <td>0.164397</td>\n",
       "      <td>0.164397</td>\n",
       "      <td>0.164512</td>\n",
       "      <td>0.196498</td>\n",
       "      <td>0.310196</td>\n",
       "      <td>0.004169</td>\n",
       "      <td>ml_4</td>\n",
       "    </tr>\n",
       "    <tr>\n",
       "      <th>141012</th>\n",
       "      <td>2021-08-25 01:00:00+00:00</td>\n",
       "      <td>48007.87</td>\n",
       "      <td>48009.22</td>\n",
       "      <td>47718.16</td>\n",
       "      <td>47813.26</td>\n",
       "      <td>308.271922</td>\n",
       "      <td>0.164045</td>\n",
       "      <td>0.164045</td>\n",
       "      <td>0.164044</td>\n",
       "      <td>0.191169</td>\n",
       "      <td>0.316698</td>\n",
       "      <td>0.004528</td>\n",
       "      <td>ml_4</td>\n",
       "    </tr>\n",
       "    <tr>\n",
       "      <th>141013</th>\n",
       "      <td>2021-08-25 01:15:00+00:00</td>\n",
       "      <td>47813.26</td>\n",
       "      <td>47908.69</td>\n",
       "      <td>47739.45</td>\n",
       "      <td>47823.60</td>\n",
       "      <td>367.466489</td>\n",
       "      <td>0.163523</td>\n",
       "      <td>0.163523</td>\n",
       "      <td>0.163523</td>\n",
       "      <td>0.174000</td>\n",
       "      <td>0.335431</td>\n",
       "      <td>0.006954</td>\n",
       "      <td>ml_4</td>\n",
       "    </tr>\n",
       "  </tbody>\n",
       "</table>\n",
       "</div>"
      ],
      "text/plain": [
       "                            date      open      high       low     close  \\\n",
       "140989 2021-08-24 19:15:00+00:00  48137.97  48137.97  47904.61  47954.13   \n",
       "140990 2021-08-24 19:30:00+00:00  47954.14  48129.99  47906.00  47977.03   \n",
       "141009 2021-08-25 00:15:00+00:00  47945.22  48123.70  47772.56  47808.54   \n",
       "141012 2021-08-25 01:00:00+00:00  48007.87  48009.22  47718.16  47813.26   \n",
       "141013 2021-08-25 01:15:00+00:00  47813.26  47908.69  47739.45  47823.60   \n",
       "\n",
       "            volume      ml_0      ml_1      ml_2      ml_3      ml_4  \\\n",
       "140989  354.085567  0.163629  0.163629  0.163628  0.175082  0.334032   \n",
       "140990  284.235138  0.163523  0.163523  0.163523  0.174000  0.335431   \n",
       "141009  533.009081  0.164397  0.164397  0.164512  0.196498  0.310196   \n",
       "141012  308.271922  0.164045  0.164045  0.164044  0.191169  0.316698   \n",
       "141013  367.466489  0.163523  0.163523  0.163523  0.174000  0.335431   \n",
       "\n",
       "          return argmax_ml  \n",
       "140989  0.006028      ml_4  \n",
       "140990  0.006838      ml_4  \n",
       "141009  0.004169      ml_4  \n",
       "141012  0.004528      ml_4  \n",
       "141013  0.006954      ml_4  "
      ]
     },
     "metadata": {},
     "execution_count": 14
    }
   ],
   "metadata": {}
  },
  {
   "cell_type": "code",
   "execution_count": 15,
   "source": [
    "df_val_preds_features = container.add_features(df_val_preds)\n",
    "df_val_preds_features_preds = container.module.model.predict_proba(df_val_preds_features[container.config.columns_x])\n",
    "df_val_preds_features_preds = pd.DataFrame(df_val_preds_features_preds)\n",
    "df_val_preds_features_preds.columns = [f\"ml_{i}\" for i in range(5)]\n",
    "df_val_preds_features_with_preds = pd.concat([df_val_preds_features.reset_index(drop=True), df_val_preds_features_preds], axis=1)\n",
    "df_val_preds_features_with_preds"
   ],
   "outputs": [
    {
     "output_type": "execute_result",
     "data": {
      "text/html": [
       "<div>\n",
       "<style scoped>\n",
       "    .dataframe tbody tr th:only-of-type {\n",
       "        vertical-align: middle;\n",
       "    }\n",
       "\n",
       "    .dataframe tbody tr th {\n",
       "        vertical-align: top;\n",
       "    }\n",
       "\n",
       "    .dataframe thead th {\n",
       "        text-align: right;\n",
       "    }\n",
       "</style>\n",
       "<table border=\"1\" class=\"dataframe\">\n",
       "  <thead>\n",
       "    <tr style=\"text-align: right;\">\n",
       "      <th></th>\n",
       "      <th>date</th>\n",
       "      <th>open</th>\n",
       "      <th>high</th>\n",
       "      <th>low</th>\n",
       "      <th>close</th>\n",
       "      <th>volume</th>\n",
       "      <th>ml_0</th>\n",
       "      <th>ml_1</th>\n",
       "      <th>ml_2</th>\n",
       "      <th>ml_3</th>\n",
       "      <th>ml_4</th>\n",
       "      <th>return</th>\n",
       "      <th>argmax_ml</th>\n",
       "      <th>ml_next_close</th>\n",
       "      <th>ml_0</th>\n",
       "      <th>ml_1</th>\n",
       "      <th>ml_2</th>\n",
       "      <th>ml_3</th>\n",
       "      <th>ml_4</th>\n",
       "    </tr>\n",
       "  </thead>\n",
       "  <tbody>\n",
       "    <tr>\n",
       "      <th>0</th>\n",
       "      <td>2021-05-13 00:30:00+00:00</td>\n",
       "      <td>49711.828125</td>\n",
       "      <td>50630.000000</td>\n",
       "      <td>49578.941406</td>\n",
       "      <td>49896.609375</td>\n",
       "      <td>5110.914062</td>\n",
       "      <td>0.163629</td>\n",
       "      <td>0.163629</td>\n",
       "      <td>0.163628</td>\n",
       "      <td>0.175082</td>\n",
       "      <td>0.334032</td>\n",
       "      <td>0.005909</td>\n",
       "      <td>ml_4</td>\n",
       "      <td>0.005909</td>\n",
       "      <td>0.163629</td>\n",
       "      <td>0.163629</td>\n",
       "      <td>0.163628</td>\n",
       "      <td>0.175082</td>\n",
       "      <td>0.334032</td>\n",
       "    </tr>\n",
       "    <tr>\n",
       "      <th>1</th>\n",
       "      <td>2021-05-13 00:45:00+00:00</td>\n",
       "      <td>49896.148438</td>\n",
       "      <td>50324.718750</td>\n",
       "      <td>49581.441406</td>\n",
       "      <td>49666.988281</td>\n",
       "      <td>2389.968994</td>\n",
       "      <td>0.163499</td>\n",
       "      <td>0.163499</td>\n",
       "      <td>0.163498</td>\n",
       "      <td>0.173767</td>\n",
       "      <td>0.335737</td>\n",
       "      <td>0.013231</td>\n",
       "      <td>ml_4</td>\n",
       "      <td>0.013231</td>\n",
       "      <td>0.163499</td>\n",
       "      <td>0.163499</td>\n",
       "      <td>0.163498</td>\n",
       "      <td>0.173767</td>\n",
       "      <td>0.335738</td>\n",
       "    </tr>\n",
       "    <tr>\n",
       "      <th>2</th>\n",
       "      <td>2021-05-13 01:00:00+00:00</td>\n",
       "      <td>49661.121094</td>\n",
       "      <td>50600.000000</td>\n",
       "      <td>49305.429688</td>\n",
       "      <td>50191.468750</td>\n",
       "      <td>3869.210938</td>\n",
       "      <td>0.333124</td>\n",
       "      <td>0.176003</td>\n",
       "      <td>0.163624</td>\n",
       "      <td>0.163624</td>\n",
       "      <td>0.163624</td>\n",
       "      <td>-0.006010</td>\n",
       "      <td>ml_0</td>\n",
       "      <td>-0.006010</td>\n",
       "      <td>0.333124</td>\n",
       "      <td>0.176003</td>\n",
       "      <td>0.163624</td>\n",
       "      <td>0.163624</td>\n",
       "      <td>0.163624</td>\n",
       "    </tr>\n",
       "    <tr>\n",
       "      <th>3</th>\n",
       "      <td>2021-05-13 01:15:00+00:00</td>\n",
       "      <td>50191.468750</td>\n",
       "      <td>50437.859375</td>\n",
       "      <td>49972.441406</td>\n",
       "      <td>50324.121094</td>\n",
       "      <td>2755.398682</td>\n",
       "      <td>0.165340</td>\n",
       "      <td>0.165340</td>\n",
       "      <td>0.167072</td>\n",
       "      <td>0.269613</td>\n",
       "      <td>0.232636</td>\n",
       "      <td>0.003942</td>\n",
       "      <td>ml_3</td>\n",
       "      <td>0.003942</td>\n",
       "      <td>0.165340</td>\n",
       "      <td>0.165340</td>\n",
       "      <td>0.167072</td>\n",
       "      <td>0.269613</td>\n",
       "      <td>0.232636</td>\n",
       "    </tr>\n",
       "    <tr>\n",
       "      <th>4</th>\n",
       "      <td>2021-05-13 01:30:00+00:00</td>\n",
       "      <td>50314.988281</td>\n",
       "      <td>50374.480469</td>\n",
       "      <td>49665.941406</td>\n",
       "      <td>49889.820312</td>\n",
       "      <td>2116.566406</td>\n",
       "      <td>0.163499</td>\n",
       "      <td>0.163499</td>\n",
       "      <td>0.163498</td>\n",
       "      <td>0.173767</td>\n",
       "      <td>0.335737</td>\n",
       "      <td>0.015732</td>\n",
       "      <td>ml_4</td>\n",
       "      <td>0.015732</td>\n",
       "      <td>0.163499</td>\n",
       "      <td>0.163499</td>\n",
       "      <td>0.163498</td>\n",
       "      <td>0.173767</td>\n",
       "      <td>0.335738</td>\n",
       "    </tr>\n",
       "    <tr>\n",
       "      <th>...</th>\n",
       "      <td>...</td>\n",
       "      <td>...</td>\n",
       "      <td>...</td>\n",
       "      <td>...</td>\n",
       "      <td>...</td>\n",
       "      <td>...</td>\n",
       "      <td>...</td>\n",
       "      <td>...</td>\n",
       "      <td>...</td>\n",
       "      <td>...</td>\n",
       "      <td>...</td>\n",
       "      <td>...</td>\n",
       "      <td>...</td>\n",
       "      <td>...</td>\n",
       "      <td>...</td>\n",
       "      <td>...</td>\n",
       "      <td>...</td>\n",
       "      <td>...</td>\n",
       "      <td>...</td>\n",
       "    </tr>\n",
       "    <tr>\n",
       "      <th>9993</th>\n",
       "      <td>2021-08-25 02:45:00+00:00</td>\n",
       "      <td>48246.570312</td>\n",
       "      <td>48290.199219</td>\n",
       "      <td>48184.410156</td>\n",
       "      <td>48201.230469</td>\n",
       "      <td>258.589996</td>\n",
       "      <td>0.164758</td>\n",
       "      <td>0.165179</td>\n",
       "      <td>0.200350</td>\n",
       "      <td>0.300793</td>\n",
       "      <td>0.168920</td>\n",
       "      <td>0.001025</td>\n",
       "      <td>ml_3</td>\n",
       "      <td>0.001025</td>\n",
       "      <td>0.164758</td>\n",
       "      <td>0.165179</td>\n",
       "      <td>0.200350</td>\n",
       "      <td>0.300793</td>\n",
       "      <td>0.168920</td>\n",
       "    </tr>\n",
       "    <tr>\n",
       "      <th>9994</th>\n",
       "      <td>2021-08-25 03:00:00+00:00</td>\n",
       "      <td>48201.238281</td>\n",
       "      <td>48248.238281</td>\n",
       "      <td>48120.000000</td>\n",
       "      <td>48135.898438</td>\n",
       "      <td>270.206665</td>\n",
       "      <td>0.163743</td>\n",
       "      <td>0.163742</td>\n",
       "      <td>0.179276</td>\n",
       "      <td>0.323578</td>\n",
       "      <td>0.169661</td>\n",
       "      <td>0.001147</td>\n",
       "      <td>ml_3</td>\n",
       "      <td>0.001147</td>\n",
       "      <td>0.163743</td>\n",
       "      <td>0.163742</td>\n",
       "      <td>0.179276</td>\n",
       "      <td>0.323578</td>\n",
       "      <td>0.169661</td>\n",
       "    </tr>\n",
       "    <tr>\n",
       "      <th>9995</th>\n",
       "      <td>2021-08-25 03:15:00+00:00</td>\n",
       "      <td>48135.890625</td>\n",
       "      <td>48274.851562</td>\n",
       "      <td>48117.730469</td>\n",
       "      <td>48250.648438</td>\n",
       "      <td>211.447647</td>\n",
       "      <td>0.333124</td>\n",
       "      <td>0.176003</td>\n",
       "      <td>0.163624</td>\n",
       "      <td>0.163624</td>\n",
       "      <td>0.163624</td>\n",
       "      <td>-0.005694</td>\n",
       "      <td>ml_0</td>\n",
       "      <td>-0.005694</td>\n",
       "      <td>0.333124</td>\n",
       "      <td>0.176003</td>\n",
       "      <td>0.163624</td>\n",
       "      <td>0.163624</td>\n",
       "      <td>0.163624</td>\n",
       "    </tr>\n",
       "    <tr>\n",
       "      <th>9996</th>\n",
       "      <td>2021-08-25 03:30:00+00:00</td>\n",
       "      <td>48250.648438</td>\n",
       "      <td>48275.000000</td>\n",
       "      <td>48132.050781</td>\n",
       "      <td>48191.089844</td>\n",
       "      <td>194.839447</td>\n",
       "      <td>0.163916</td>\n",
       "      <td>0.189612</td>\n",
       "      <td>0.316306</td>\n",
       "      <td>0.166248</td>\n",
       "      <td>0.163918</td>\n",
       "      <td>-0.000737</td>\n",
       "      <td>ml_2</td>\n",
       "      <td>-0.000737</td>\n",
       "      <td>0.163916</td>\n",
       "      <td>0.189612</td>\n",
       "      <td>0.316306</td>\n",
       "      <td>0.166248</td>\n",
       "      <td>0.163918</td>\n",
       "    </tr>\n",
       "    <tr>\n",
       "      <th>9997</th>\n",
       "      <td>2021-08-25 03:45:00+00:00</td>\n",
       "      <td>48191.078125</td>\n",
       "      <td>48248.230469</td>\n",
       "      <td>47965.000000</td>\n",
       "      <td>47975.929688</td>\n",
       "      <td>344.786926</td>\n",
       "      <td>0.163456</td>\n",
       "      <td>0.169008</td>\n",
       "      <td>0.336713</td>\n",
       "      <td>0.167368</td>\n",
       "      <td>0.163455</td>\n",
       "      <td>0.000059</td>\n",
       "      <td>ml_2</td>\n",
       "      <td>0.000059</td>\n",
       "      <td>0.163456</td>\n",
       "      <td>0.169008</td>\n",
       "      <td>0.336713</td>\n",
       "      <td>0.167368</td>\n",
       "      <td>0.163455</td>\n",
       "    </tr>\n",
       "  </tbody>\n",
       "</table>\n",
       "<p>9998 rows × 19 columns</p>\n",
       "</div>"
      ],
      "text/plain": [
       "                          date          open          high           low  \\\n",
       "0    2021-05-13 00:30:00+00:00  49711.828125  50630.000000  49578.941406   \n",
       "1    2021-05-13 00:45:00+00:00  49896.148438  50324.718750  49581.441406   \n",
       "2    2021-05-13 01:00:00+00:00  49661.121094  50600.000000  49305.429688   \n",
       "3    2021-05-13 01:15:00+00:00  50191.468750  50437.859375  49972.441406   \n",
       "4    2021-05-13 01:30:00+00:00  50314.988281  50374.480469  49665.941406   \n",
       "...                        ...           ...           ...           ...   \n",
       "9993 2021-08-25 02:45:00+00:00  48246.570312  48290.199219  48184.410156   \n",
       "9994 2021-08-25 03:00:00+00:00  48201.238281  48248.238281  48120.000000   \n",
       "9995 2021-08-25 03:15:00+00:00  48135.890625  48274.851562  48117.730469   \n",
       "9996 2021-08-25 03:30:00+00:00  48250.648438  48275.000000  48132.050781   \n",
       "9997 2021-08-25 03:45:00+00:00  48191.078125  48248.230469  47965.000000   \n",
       "\n",
       "             close       volume      ml_0      ml_1      ml_2      ml_3  \\\n",
       "0     49896.609375  5110.914062  0.163629  0.163629  0.163628  0.175082   \n",
       "1     49666.988281  2389.968994  0.163499  0.163499  0.163498  0.173767   \n",
       "2     50191.468750  3869.210938  0.333124  0.176003  0.163624  0.163624   \n",
       "3     50324.121094  2755.398682  0.165340  0.165340  0.167072  0.269613   \n",
       "4     49889.820312  2116.566406  0.163499  0.163499  0.163498  0.173767   \n",
       "...            ...          ...       ...       ...       ...       ...   \n",
       "9993  48201.230469   258.589996  0.164758  0.165179  0.200350  0.300793   \n",
       "9994  48135.898438   270.206665  0.163743  0.163742  0.179276  0.323578   \n",
       "9995  48250.648438   211.447647  0.333124  0.176003  0.163624  0.163624   \n",
       "9996  48191.089844   194.839447  0.163916  0.189612  0.316306  0.166248   \n",
       "9997  47975.929688   344.786926  0.163456  0.169008  0.336713  0.167368   \n",
       "\n",
       "          ml_4    return argmax_ml  ml_next_close      ml_0      ml_1  \\\n",
       "0     0.334032  0.005909      ml_4       0.005909  0.163629  0.163629   \n",
       "1     0.335737  0.013231      ml_4       0.013231  0.163499  0.163499   \n",
       "2     0.163624 -0.006010      ml_0      -0.006010  0.333124  0.176003   \n",
       "3     0.232636  0.003942      ml_3       0.003942  0.165340  0.165340   \n",
       "4     0.335737  0.015732      ml_4       0.015732  0.163499  0.163499   \n",
       "...        ...       ...       ...            ...       ...       ...   \n",
       "9993  0.168920  0.001025      ml_3       0.001025  0.164758  0.165179   \n",
       "9994  0.169661  0.001147      ml_3       0.001147  0.163743  0.163742   \n",
       "9995  0.163624 -0.005694      ml_0      -0.005694  0.333124  0.176003   \n",
       "9996  0.163918 -0.000737      ml_2      -0.000737  0.163916  0.189612   \n",
       "9997  0.163455  0.000059      ml_2       0.000059  0.163456  0.169008   \n",
       "\n",
       "          ml_2      ml_3      ml_4  \n",
       "0     0.163628  0.175082  0.334032  \n",
       "1     0.163498  0.173767  0.335738  \n",
       "2     0.163624  0.163624  0.163624  \n",
       "3     0.167072  0.269613  0.232636  \n",
       "4     0.163498  0.173767  0.335738  \n",
       "...        ...       ...       ...  \n",
       "9993  0.200350  0.300793  0.168920  \n",
       "9994  0.179276  0.323578  0.169661  \n",
       "9995  0.163624  0.163624  0.163624  \n",
       "9996  0.316306  0.166248  0.163918  \n",
       "9997  0.336713  0.167368  0.163455  \n",
       "\n",
       "[9998 rows x 19 columns]"
      ]
     },
     "metadata": {},
     "execution_count": 15
    }
   ],
   "metadata": {}
  },
  {
   "cell_type": "code",
   "execution_count": 21,
   "source": [
    "df_val_preds_features_with_preds[\"return\"] = (df_val_preds_features_with_preds[\"close\"].shift(-2) - df_val_preds_features_with_preds[\"close\"]) / df_val_preds_features_with_preds[\"close\"]\n",
    "df_val_preds_features_with_preds[\"argmax_ml\"] = df_val_preds_features_with_preds[[f\"ml_{x}\"for x in range(5)]].idxmax(axis=1)\n",
    "df_val_preds_features_with_preds.loc[(df_val_preds_features_with_preds[\"argmax_ml\"] == \"ml_4\")].tail()"
   ],
   "outputs": [
    {
     "output_type": "execute_result",
     "data": {
      "text/html": [
       "<div>\n",
       "<style scoped>\n",
       "    .dataframe tbody tr th:only-of-type {\n",
       "        vertical-align: middle;\n",
       "    }\n",
       "\n",
       "    .dataframe tbody tr th {\n",
       "        vertical-align: top;\n",
       "    }\n",
       "\n",
       "    .dataframe thead th {\n",
       "        text-align: right;\n",
       "    }\n",
       "</style>\n",
       "<table border=\"1\" class=\"dataframe\">\n",
       "  <thead>\n",
       "    <tr style=\"text-align: right;\">\n",
       "      <th></th>\n",
       "      <th>date</th>\n",
       "      <th>open</th>\n",
       "      <th>high</th>\n",
       "      <th>low</th>\n",
       "      <th>close</th>\n",
       "      <th>volume</th>\n",
       "      <th>ml_0</th>\n",
       "      <th>ml_1</th>\n",
       "      <th>ml_2</th>\n",
       "      <th>ml_3</th>\n",
       "      <th>ml_4</th>\n",
       "      <th>return</th>\n",
       "      <th>argmax_ml</th>\n",
       "      <th>ml_next_close</th>\n",
       "      <th>ml_0</th>\n",
       "      <th>ml_1</th>\n",
       "      <th>ml_2</th>\n",
       "      <th>ml_3</th>\n",
       "      <th>ml_4</th>\n",
       "    </tr>\n",
       "  </thead>\n",
       "  <tbody>\n",
       "    <tr>\n",
       "      <th>140989</th>\n",
       "      <td>2021-08-24 19:45:00+00:00</td>\n",
       "      <td>47977.031250</td>\n",
       "      <td>48422.121094</td>\n",
       "      <td>47977.031250</td>\n",
       "      <td>48243.199219</td>\n",
       "      <td>803.434326</td>\n",
       "      <td>0.163629</td>\n",
       "      <td>0.163629</td>\n",
       "      <td>0.163628</td>\n",
       "      <td>0.175082</td>\n",
       "      <td>0.334032</td>\n",
       "      <td>0.001953</td>\n",
       "      <td>ml_4</td>\n",
       "      <td>0.001953</td>\n",
       "      <td>0.163365</td>\n",
       "      <td>0.163365</td>\n",
       "      <td>0.171838</td>\n",
       "      <td>0.331003</td>\n",
       "      <td>0.170429</td>\n",
       "    </tr>\n",
       "    <tr>\n",
       "      <th>141009</th>\n",
       "      <td>2021-08-25 00:45:00+00:00</td>\n",
       "      <td>47953.828125</td>\n",
       "      <td>48099.468750</td>\n",
       "      <td>47928.578125</td>\n",
       "      <td>48007.859375</td>\n",
       "      <td>202.902527</td>\n",
       "      <td>0.164397</td>\n",
       "      <td>0.164397</td>\n",
       "      <td>0.164512</td>\n",
       "      <td>0.196498</td>\n",
       "      <td>0.310196</td>\n",
       "      <td>-0.003838</td>\n",
       "      <td>ml_4</td>\n",
       "      <td>-0.003838</td>\n",
       "      <td>0.210817</td>\n",
       "      <td>0.287778</td>\n",
       "      <td>0.170293</td>\n",
       "      <td>0.165555</td>\n",
       "      <td>0.165556</td>\n",
       "    </tr>\n",
       "    <tr>\n",
       "      <th>141011</th>\n",
       "      <td>2021-08-25 01:15:00+00:00</td>\n",
       "      <td>47813.261719</td>\n",
       "      <td>47908.691406</td>\n",
       "      <td>47739.449219</td>\n",
       "      <td>47823.601562</td>\n",
       "      <td>367.466492</td>\n",
       "      <td>0.210817</td>\n",
       "      <td>0.287778</td>\n",
       "      <td>0.170293</td>\n",
       "      <td>0.165555</td>\n",
       "      <td>0.165556</td>\n",
       "      <td>0.006954</td>\n",
       "      <td>ml_4</td>\n",
       "      <td>0.006954</td>\n",
       "      <td>0.163523</td>\n",
       "      <td>0.163523</td>\n",
       "      <td>0.163523</td>\n",
       "      <td>0.174000</td>\n",
       "      <td>0.335431</td>\n",
       "    </tr>\n",
       "    <tr>\n",
       "      <th>141012</th>\n",
       "      <td>2021-08-25 01:30:00+00:00</td>\n",
       "      <td>47823.589844</td>\n",
       "      <td>48035.980469</td>\n",
       "      <td>47793.269531</td>\n",
       "      <td>48029.738281</td>\n",
       "      <td>274.782837</td>\n",
       "      <td>0.164045</td>\n",
       "      <td>0.164045</td>\n",
       "      <td>0.164044</td>\n",
       "      <td>0.191169</td>\n",
       "      <td>0.316698</td>\n",
       "      <td>0.003722</td>\n",
       "      <td>ml_4</td>\n",
       "      <td>0.003722</td>\n",
       "      <td>0.164095</td>\n",
       "      <td>0.164095</td>\n",
       "      <td>0.168023</td>\n",
       "      <td>0.307615</td>\n",
       "      <td>0.196171</td>\n",
       "    </tr>\n",
       "    <tr>\n",
       "      <th>141013</th>\n",
       "      <td>2021-08-25 01:45:00+00:00</td>\n",
       "      <td>48029.738281</td>\n",
       "      <td>48169.558594</td>\n",
       "      <td>47988.269531</td>\n",
       "      <td>48156.171875</td>\n",
       "      <td>509.956879</td>\n",
       "      <td>0.163523</td>\n",
       "      <td>0.163523</td>\n",
       "      <td>0.163523</td>\n",
       "      <td>0.174000</td>\n",
       "      <td>0.335431</td>\n",
       "      <td>-0.001166</td>\n",
       "      <td>ml_4</td>\n",
       "      <td>-0.001166</td>\n",
       "      <td>0.173461</td>\n",
       "      <td>0.326757</td>\n",
       "      <td>0.172629</td>\n",
       "      <td>0.163576</td>\n",
       "      <td>0.163576</td>\n",
       "    </tr>\n",
       "  </tbody>\n",
       "</table>\n",
       "</div>"
      ],
      "text/plain": [
       "                            date          open          high           low  \\\n",
       "140989 2021-08-24 19:45:00+00:00  47977.031250  48422.121094  47977.031250   \n",
       "141009 2021-08-25 00:45:00+00:00  47953.828125  48099.468750  47928.578125   \n",
       "141011 2021-08-25 01:15:00+00:00  47813.261719  47908.691406  47739.449219   \n",
       "141012 2021-08-25 01:30:00+00:00  47823.589844  48035.980469  47793.269531   \n",
       "141013 2021-08-25 01:45:00+00:00  48029.738281  48169.558594  47988.269531   \n",
       "\n",
       "               close      volume      ml_0      ml_1      ml_2      ml_3  \\\n",
       "140989  48243.199219  803.434326  0.163629  0.163629  0.163628  0.175082   \n",
       "141009  48007.859375  202.902527  0.164397  0.164397  0.164512  0.196498   \n",
       "141011  47823.601562  367.466492  0.210817  0.287778  0.170293  0.165555   \n",
       "141012  48029.738281  274.782837  0.164045  0.164045  0.164044  0.191169   \n",
       "141013  48156.171875  509.956879  0.163523  0.163523  0.163523  0.174000   \n",
       "\n",
       "            ml_4    return argmax_ml  ml_next_close      ml_0      ml_1  \\\n",
       "140989  0.334032  0.001953      ml_4       0.001953  0.163365  0.163365   \n",
       "141009  0.310196 -0.003838      ml_4      -0.003838  0.210817  0.287778   \n",
       "141011  0.165556  0.006954      ml_4       0.006954  0.163523  0.163523   \n",
       "141012  0.316698  0.003722      ml_4       0.003722  0.164095  0.164095   \n",
       "141013  0.335431 -0.001166      ml_4      -0.001166  0.173461  0.326757   \n",
       "\n",
       "            ml_2      ml_3      ml_4  \n",
       "140989  0.171838  0.331003  0.170429  \n",
       "141009  0.170293  0.165555  0.165556  \n",
       "141011  0.163523  0.174000  0.335431  \n",
       "141012  0.168023  0.307615  0.196171  \n",
       "141013  0.172629  0.163576  0.163576  "
      ]
     },
     "metadata": {},
     "execution_count": 21
    }
   ],
   "metadata": {}
  },
  {
   "cell_type": "code",
   "execution_count": 16,
   "source": [
    "model = container.module.model\n",
    "df = pd.DataFrame({\"ml_next_close\": [0.005]})\n",
    "model.predict_proba(df)"
   ],
   "outputs": [
    {
     "output_type": "execute_result",
     "data": {
      "text/plain": [
       "array([[0.1638991 , 0.1638991 , 0.16389873, 0.18536746, 0.32293561]])"
      ]
     },
     "metadata": {},
     "execution_count": 16
    }
   ],
   "metadata": {}
  },
  {
   "cell_type": "code",
   "execution_count": 6,
   "source": [
    "df.describe()"
   ],
   "outputs": [
    {
     "output_type": "error",
     "ename": "NameError",
     "evalue": "name 'df' is not defined",
     "traceback": [
      "\u001b[1;31m---------------------------------------------------------------------------\u001b[0m",
      "\u001b[1;31mNameError\u001b[0m                                 Traceback (most recent call last)",
      "\u001b[1;32m~\\AppData\\Local\\Temp/ipykernel_24064/3627053830.py\u001b[0m in \u001b[0;36m<module>\u001b[1;34m\u001b[0m\n\u001b[1;32m----> 1\u001b[1;33m \u001b[0mdf\u001b[0m\u001b[1;33m.\u001b[0m\u001b[0mdescribe\u001b[0m\u001b[1;33m(\u001b[0m\u001b[1;33m)\u001b[0m\u001b[1;33m\u001b[0m\u001b[1;33m\u001b[0m\u001b[0m\n\u001b[0m",
      "\u001b[1;31mNameError\u001b[0m: name 'df' is not defined"
     ]
    }
   ],
   "metadata": {}
  },
  {
   "cell_type": "code",
   "execution_count": null,
   "source": [],
   "outputs": [],
   "metadata": {}
  }
 ],
 "metadata": {
  "kernelspec": {
   "name": "python3",
   "display_name": "Python 3.9.5 64-bit ('freqtrade-futures': virtualenv)"
  },
  "language_info": {
   "codemirror_mode": {
    "name": "ipython",
    "version": 3
   },
   "file_extension": ".py",
   "mimetype": "text/x-python",
   "name": "python",
   "nbconvert_exporter": "python",
   "pygments_lexer": "ipython3",
   "version": "3.9.5"
  },
  "widgets": {
   "application/vnd.jupyter.widget-state+json": {
    "state": {
     "0740ce9948b64dc0a64f4c7893ed85ca": {
      "model_module": "catboost-widget",
      "model_module_version": "^1.0.0",
      "model_name": "CatboostWidgetModel",
      "state": {
       "_model_module_version": "^1.0.0",
       "_view_module_version": "^1.0.0",
       "data": {
        "catboost_info": {
         "content": {
          "data": {
           "iterations": [
            {
             "iteration": 0,
             "learn": [
              1.60312193,
              0.903674715
             ],
             "passed_time": 0.1049346446,
             "remaining_time": 10.38852982,
             "test": [
              1.603122505,
              0.8874066354
             ]
            },
            {
             "iteration": 1,
             "learn": [
              1.596823826,
              0.9062741918
             ],
             "passed_time": 0.2059358008,
             "remaining_time": 10.09085424,
             "test": [
              1.596932284,
              0.8892826125
             ]
            },
            {
             "iteration": 2,
             "learn": [
              1.590608718,
              0.9068262751
             ],
             "passed_time": 0.3026390603,
             "remaining_time": 9.785329617,
             "test": [
              1.59082622,
              0.8897689769
             ]
            },
            {
             "iteration": 3,
             "learn": [
              1.584417085,
              0.9068262751
             ],
             "passed_time": 0.3976452774,
             "remaining_time": 9.543486658,
             "test": [
              1.584597125,
              0.8897689769
             ]
            },
            {
             "iteration": 4,
             "learn": [
              1.57828763,
              0.9067773821
             ],
             "passed_time": 0.5004950423,
             "remaining_time": 9.509405804,
             "test": [
              1.578506779,
              0.8893173528
             ]
            },
            {
             "iteration": 5,
             "learn": [
              1.572168271,
              0.9068262751
             ],
             "passed_time": 0.6039482035,
             "remaining_time": 9.461855188,
             "test": [
              1.572523916,
              0.8897689769
             ]
            },
            {
             "iteration": 6,
             "learn": [
              1.566152004,
              0.9067773821
             ],
             "passed_time": 0.7055776502,
             "remaining_time": 9.374103067,
             "test": [
              1.566638285,
              0.8893173528
             ]
            },
            {
             "iteration": 7,
             "learn": [
              1.560158805,
              0.9067142287
             ],
             "passed_time": 0.8062778659,
             "remaining_time": 9.272195458,
             "test": [
              1.560701371,
              0.8895257947
             ]
            },
            {
             "iteration": 8,
             "learn": [
              1.554222902,
              0.9067142287
             ],
             "passed_time": 0.9142516989,
             "remaining_time": 9.244100511,
             "test": [
              1.554919754,
              0.8895257947
             ]
            },
            {
             "iteration": 9,
             "learn": [
              1.548334499,
              0.9067142287
             ],
             "passed_time": 1.016353287,
             "remaining_time": 9.147179587,
             "test": [
              1.549157218,
              0.8895257947
             ]
            },
            {
             "iteration": 10,
             "learn": [
              1.542513098,
              0.9067631217
             ],
             "passed_time": 1.116406316,
             "remaining_time": 9.032742011,
             "test": [
              1.543423317,
              0.8899774188
             ]
            },
            {
             "iteration": 11,
             "learn": [
              1.536753818,
              0.9068262751
             ],
             "passed_time": 1.213839305,
             "remaining_time": 8.901488239,
             "test": [
              1.537701902,
              0.8897689769
             ]
            },
            {
             "iteration": 12,
             "learn": [
              1.531022276,
              0.9068262751
             ],
             "passed_time": 1.314549389,
             "remaining_time": 8.797368991,
             "test": [
              1.532020282,
              0.8897689769
             ]
            },
            {
             "iteration": 13,
             "learn": [
              1.525351136,
              0.9068262751
             ],
             "passed_time": 1.414512217,
             "remaining_time": 8.689146478,
             "test": [
              1.526414864,
              0.8897689769
             ]
            },
            {
             "iteration": 14,
             "learn": [
              1.519716253,
              0.9068262751
             ],
             "passed_time": 1.513996671,
             "remaining_time": 8.579314466,
             "test": [
              1.520831885,
              0.8897689769
             ]
            },
            {
             "iteration": 15,
             "learn": [
              1.514161562,
              0.9068262751
             ],
             "passed_time": 1.615576087,
             "remaining_time": 8.481774456,
             "test": [
              1.515377831,
              0.8897689769
             ]
            },
            {
             "iteration": 16,
             "learn": [
              1.508621389,
              0.9068262751
             ],
             "passed_time": 1.713068493,
             "remaining_time": 8.363804997,
             "test": [
              1.509864855,
              0.8897689769
             ]
            },
            {
             "iteration": 17,
             "learn": [
              1.503137439,
              0.9068262751
             ],
             "passed_time": 1.816800044,
             "remaining_time": 8.276533535,
             "test": [
              1.504487213,
              0.8897689769
             ]
            },
            {
             "iteration": 18,
             "learn": [
              1.497713684,
              0.9068262751
             ],
             "passed_time": 1.922094863,
             "remaining_time": 8.19419389,
             "test": [
              1.49914764,
              0.8897689769
             ]
            },
            {
             "iteration": 19,
             "learn": [
              1.492299444,
              0.9068262751
             ],
             "passed_time": 2.020575804,
             "remaining_time": 8.082303216,
             "test": [
              1.493792474,
              0.8897689769
             ]
            },
            {
             "iteration": 20,
             "learn": [
              1.486959893,
              0.9068262751
             ],
             "passed_time": 2.11847046,
             "remaining_time": 7.969484112,
             "test": [
              1.488558098,
              0.8897689769
             ]
            },
            {
             "iteration": 21,
             "learn": [
              1.481645485,
              0.9068262751
             ],
             "passed_time": 2.21993526,
             "remaining_time": 7.870679558,
             "test": [
              1.483370051,
              0.8897689769
             ]
            },
            {
             "iteration": 22,
             "learn": [
              1.476377196,
              0.9068262751
             ],
             "passed_time": 2.316772094,
             "remaining_time": 7.756150055,
             "test": [
              1.478150947,
              0.8897689769
             ]
            },
            {
             "iteration": 23,
             "learn": [
              1.471135179,
              0.9068262751
             ],
             "passed_time": 2.414704735,
             "remaining_time": 7.646564995,
             "test": [
              1.472963079,
              0.8897689769
             ]
            },
            {
             "iteration": 24,
             "learn": [
              1.465950147,
              0.9068262751
             ],
             "passed_time": 2.51170742,
             "remaining_time": 7.53512226,
             "test": [
              1.467836675,
              0.8897689769
             ]
            },
            {
             "iteration": 25,
             "learn": [
              1.460782477,
              0.9068262751
             ],
             "passed_time": 2.613569914,
             "remaining_time": 7.438622063,
             "test": [
              1.462665855,
              0.8897689769
             ]
            },
            {
             "iteration": 26,
             "learn": [
              1.455671294,
              0.9068262751
             ],
             "passed_time": 2.710538293,
             "remaining_time": 7.328492421,
             "test": [
              1.457591838,
              0.8897689769
             ]
            },
            {
             "iteration": 27,
             "learn": [
              1.450594826,
              0.9068262751
             ],
             "passed_time": 2.812917028,
             "remaining_time": 7.233215214,
             "test": [
              1.452489741,
              0.8897689769
             ]
            },
            {
             "iteration": 28,
             "learn": [
              1.445559278,
              0.9068262751
             ],
             "passed_time": 2.914403596,
             "remaining_time": 7.135263977,
             "test": [
              1.447505409,
              0.8897689769
             ]
            },
            {
             "iteration": 29,
             "learn": [
              1.440561656,
              0.9068262751
             ],
             "passed_time": 3.026759472,
             "remaining_time": 7.062438769,
             "test": [
              1.442537501,
              0.8897689769
             ]
            },
            {
             "iteration": 30,
             "learn": [
              1.435609326,
              0.9068262751
             ],
             "passed_time": 3.125792866,
             "remaining_time": 6.957409927,
             "test": [
              1.437628623,
              0.8897689769
             ]
            },
            {
             "iteration": 31,
             "learn": [
              1.430666493,
              0.9068262751
             ],
             "passed_time": 3.225172812,
             "remaining_time": 6.853492227,
             "test": [
              1.432755259,
              0.8897689769
             ]
            },
            {
             "iteration": 32,
             "learn": [
              1.425782485,
              0.9068262751
             ],
             "passed_time": 3.3184483,
             "remaining_time": 6.737455639,
             "test": [
              1.427932409,
              0.8897689769
             ]
            },
            {
             "iteration": 33,
             "learn": [
              1.420918846,
              0.9068262751
             ],
             "passed_time": 3.419855796,
             "remaining_time": 6.638543604,
             "test": [
              1.423194698,
              0.8897689769
             ]
            },
            {
             "iteration": 34,
             "learn": [
              1.416082447,
              0.9068262751
             ],
             "passed_time": 3.51605205,
             "remaining_time": 6.529810949,
             "test": [
              1.41848136,
              0.8897689769
             ]
            },
            {
             "iteration": 35,
             "learn": [
              1.411310312,
              0.9067631217
             ],
             "passed_time": 3.612177419,
             "remaining_time": 6.421648745,
             "test": [
              1.413765948,
              0.8899774188
             ]
            },
            {
             "iteration": 36,
             "learn": [
              1.406565846,
              0.9067631217
             ],
             "passed_time": 3.712220849,
             "remaining_time": 6.320808473,
             "test": [
              1.409006524,
              0.8899774188
             ]
            },
            {
             "iteration": 37,
             "learn": [
              1.401858732,
              0.9067142287
             ],
             "passed_time": 3.813633498,
             "remaining_time": 6.222244129,
             "test": [
              1.404372359,
              0.8895257947
             ]
            },
            {
             "iteration": 38,
             "learn": [
              1.397212855,
              0.9067631217
             ],
             "passed_time": 3.908914023,
             "remaining_time": 6.113942446,
             "test": [
              1.39975896,
              0.8899774188
             ]
            },
            {
             "iteration": 39,
             "learn": [
              1.392568034,
              0.9067631217
             ],
             "passed_time": 4.011532869,
             "remaining_time": 6.017299304,
             "test": [
              1.395235682,
              0.8899774188
             ]
            },
            {
             "iteration": 40,
             "learn": [
              1.387965426,
              0.9067631217
             ],
             "passed_time": 4.111154995,
             "remaining_time": 5.91605231,
             "test": [
              1.390736815,
              0.8899774188
             ]
            },
            {
             "iteration": 41,
             "learn": [
              1.383370144,
              0.9067631217
             ],
             "passed_time": 4.212356437,
             "remaining_time": 5.817063652,
             "test": [
              1.386198223,
              0.8899774188
             ]
            },
            {
             "iteration": 42,
             "learn": [
              1.378831954,
              0.9068262751
             ],
             "passed_time": 4.308473717,
             "remaining_time": 5.711232602,
             "test": [
              1.381768296,
              0.8897689769
             ]
            },
            {
             "iteration": 43,
             "learn": [
              1.374342556,
              0.9068262751
             ],
             "passed_time": 4.407881227,
             "remaining_time": 5.610030652,
             "test": [
              1.377393503,
              0.8897689769
             ]
            },
            {
             "iteration": 44,
             "learn": [
              1.369852507,
              0.9068262751
             ],
             "passed_time": 4.511644834,
             "remaining_time": 5.514232575,
             "test": [
              1.373022158,
              0.8897689769
             ]
            },
            {
             "iteration": 45,
             "learn": [
              1.365398284,
              0.9068262751
             ],
             "passed_time": 4.616379004,
             "remaining_time": 5.419227526,
             "test": [
              1.36867846,
              0.8897689769
             ]
            },
            {
             "iteration": 46,
             "learn": [
              1.360972833,
              0.9068262751
             ],
             "passed_time": 4.718208433,
             "remaining_time": 5.320532914,
             "test": [
              1.36435188,
              0.8897689769
             ]
            },
            {
             "iteration": 47,
             "learn": [
              1.356616287,
              0.9067773821
             ],
             "passed_time": 4.820199403,
             "remaining_time": 5.221882686,
             "test": [
              1.360024534,
              0.8893173528
             ]
            },
            {
             "iteration": 48,
             "learn": [
              1.352239157,
              0.9068262751
             ],
             "passed_time": 4.918362949,
             "remaining_time": 5.119112457,
             "test": [
              1.355713345,
              0.8897689769
             ]
            },
            {
             "iteration": 49,
             "learn": [
              1.347933318,
              0.9067773821
             ],
             "passed_time": 5.020398592,
             "remaining_time": 5.020398592,
             "test": [
              1.351410987,
              0.8893173528
             ]
            },
            {
             "iteration": 50,
             "learn": [
              1.343636972,
              0.9067773821
             ],
             "passed_time": 5.125012873,
             "remaining_time": 4.924031976,
             "test": [
              1.347234223,
              0.8893173528
             ]
            },
            {
             "iteration": 51,
             "learn": [
              1.339355323,
              0.9067773821
             ],
             "passed_time": 5.219652377,
             "remaining_time": 4.818140655,
             "test": [
              1.34299846,
              0.8893173528
             ]
            },
            {
             "iteration": 52,
             "learn": [
              1.335139363,
              0.9067773821
             ],
             "passed_time": 5.320242693,
             "remaining_time": 4.717951068,
             "test": [
              1.338884393,
              0.8893173528
             ]
            },
            {
             "iteration": 53,
             "learn": [
              1.330935607,
              0.9068262751
             ],
             "passed_time": 5.423457873,
             "remaining_time": 4.619982633,
             "test": [
              1.334798435,
              0.8897689769
             ]
            },
            {
             "iteration": 54,
             "learn": [
              1.326730607,
              0.9068262751
             ],
             "passed_time": 5.524088003,
             "remaining_time": 4.519708366,
             "test": [
              1.330712842,
              0.8897689769
             ]
            },
            {
             "iteration": 55,
             "learn": [
              1.322564379,
              0.9067631217
             ],
             "passed_time": 5.62803486,
             "remaining_time": 4.42202739,
             "test": [
              1.326659148,
              0.8899774188
             ]
            },
            {
             "iteration": 56,
             "learn": [
              1.31843669,
              0.9067631217
             ],
             "passed_time": 5.733792961,
             "remaining_time": 4.325492935,
             "test": [
              1.322649115,
              0.8899774188
             ]
            },
            {
             "iteration": 57,
             "learn": [
              1.314332823,
              0.9067631217
             ],
             "passed_time": 5.837341859,
             "remaining_time": 4.227040656,
             "test": [
              1.318663816,
              0.8899774188
             ]
            },
            {
             "iteration": 58,
             "learn": [
              1.310242501,
              0.9067631217
             ],
             "passed_time": 5.938318701,
             "remaining_time": 4.12662825,
             "test": [
              1.314682409,
              0.8899774188
             ]
            },
            {
             "iteration": 59,
             "learn": [
              1.30619148,
              0.9067631217
             ],
             "passed_time": 6.037705247,
             "remaining_time": 4.025136831,
             "test": [
              1.310736616,
              0.8899774188
             ]
            },
            {
             "iteration": 60,
             "learn": [
              1.302151988,
              0.9068262751
             ],
             "passed_time": 6.136573383,
             "remaining_time": 3.923382983,
             "test": [
              1.306750828,
              0.8897689769
             ]
            },
            {
             "iteration": 61,
             "learn": [
              1.298150301,
              0.9068262751
             ],
             "passed_time": 6.237599102,
             "remaining_time": 3.823044611,
             "test": [
              1.302799432,
              0.8897689769
             ]
            },
            {
             "iteration": 62,
             "learn": [
              1.294165969,
              0.9068262751
             ],
             "passed_time": 6.341108645,
             "remaining_time": 3.724143172,
             "test": [
              1.298926922,
              0.8897689769
             ]
            },
            {
             "iteration": 63,
             "learn": [
              1.290246446,
              0.9068262751
             ],
             "passed_time": 6.446140679,
             "remaining_time": 3.625954132,
             "test": [
              1.295112276,
              0.8897689769
             ]
            },
            {
             "iteration": 64,
             "learn": [
              1.286330133,
              0.9068262751
             ],
             "passed_time": 6.545239076,
             "remaining_time": 3.524359502,
             "test": [
              1.291200835,
              0.8897689769
             ]
            },
            {
             "iteration": 65,
             "learn": [
              1.282415592,
              0.9068262751
             ],
             "passed_time": 6.646912239,
             "remaining_time": 3.424166911,
             "test": [
              1.287404677,
              0.8897689769
             ]
            },
            {
             "iteration": 66,
             "learn": [
              1.278545682,
              0.9068262751
             ],
             "passed_time": 6.745565557,
             "remaining_time": 3.322442737,
             "test": [
              1.283639878,
              0.8897689769
             ]
            },
            {
             "iteration": 67,
             "learn": [
              1.274689356,
              0.9068262751
             ],
             "passed_time": 6.852124037,
             "remaining_time": 3.224528959,
             "test": [
              1.27985745,
              0.8897689769
             ]
            },
            {
             "iteration": 68,
             "learn": [
              1.270866857,
              0.9068262751
             ],
             "passed_time": 6.965163858,
             "remaining_time": 3.129276516,
             "test": [
              1.276143012,
              0.8897689769
             ]
            },
            {
             "iteration": 69,
             "learn": [
              1.267049263,
              0.9068262751
             ],
             "passed_time": 7.067967278,
             "remaining_time": 3.029128834,
             "test": [
              1.272332545,
              0.8897689769
             ]
            },
            {
             "iteration": 70,
             "learn": [
              1.263276191,
              0.9068262751
             ],
             "passed_time": 7.169095365,
             "remaining_time": 2.92822205,
             "test": [
              1.268658833,
              0.8897689769
             ]
            },
            {
             "iteration": 71,
             "learn": [
              1.259528747,
              0.9068262751
             ],
             "passed_time": 7.270337425,
             "remaining_time": 2.827353443,
             "test": [
              1.265031339,
              0.8897689769
             ]
            },
            {
             "iteration": 72,
             "learn": [
              1.255794036,
              0.9068262751
             ],
             "passed_time": 7.372894882,
             "remaining_time": 2.726961121,
             "test": [
              1.261353345,
              0.8897689769
             ]
            },
            {
             "iteration": 73,
             "learn": [
              1.252092167,
              0.9068262751
             ],
             "passed_time": 7.473990231,
             "remaining_time": 2.625996568,
             "test": [
              1.257706093,
              0.8897689769
             ]
            },
            {
             "iteration": 74,
             "learn": [
              1.248416023,
              0.9068262751
             ],
             "passed_time": 7.572680799,
             "remaining_time": 2.524226933,
             "test": [
              1.254130182,
              0.8897689769
             ]
            },
            {
             "iteration": 75,
             "learn": [
              1.244751063,
              0.9068262751
             ],
             "passed_time": 7.676337265,
             "remaining_time": 2.424106505,
             "test": [
              1.250585268,
              0.8897689769
             ]
            },
            {
             "iteration": 76,
             "learn": [
              1.241124686,
              0.9068262751
             ],
             "passed_time": 7.780609907,
             "remaining_time": 2.324078284,
             "test": [
              1.247006683,
              0.8897689769
             ]
            },
            {
             "iteration": 77,
             "learn": [
              1.237496084,
              0.9068262751
             ],
             "passed_time": 7.881719501,
             "remaining_time": 2.22304909,
             "test": [
              1.243392166,
              0.8897689769
             ]
            },
            {
             "iteration": 78,
             "learn": [
              1.233904357,
              0.9068262751
             ],
             "passed_time": 7.992188932,
             "remaining_time": 2.124505919,
             "test": [
              1.239852865,
              0.8897689769
             ]
            },
            {
             "iteration": 79,
             "learn": [
              1.23032476,
              0.9068262751
             ],
             "passed_time": 8.100624415,
             "remaining_time": 2.025156104,
             "test": [
              1.236332877,
              0.8897689769
             ]
            },
            {
             "iteration": 80,
             "learn": [
              1.226776373,
              0.9068262751
             ],
             "passed_time": 8.209001838,
             "remaining_time": 1.925568332,
             "test": [
              1.232845972,
              0.8897689769
             ]
            },
            {
             "iteration": 81,
             "learn": [
              1.223265907,
              0.9068262751
             ],
             "passed_time": 8.310011566,
             "remaining_time": 1.82414888,
             "test": [
              1.229392285,
              0.8897689769
             ]
            },
            {
             "iteration": 82,
             "learn": [
              1.219765053,
              0.9068262751
             ],
             "passed_time": 8.411250084,
             "remaining_time": 1.722786162,
             "test": [
              1.2259852,
              0.8897689769
             ]
            },
            {
             "iteration": 83,
             "learn": [
              1.216281668,
              0.9068262751
             ],
             "passed_time": 8.511328901,
             "remaining_time": 1.621205505,
             "test": [
              1.222602185,
              0.8897689769
             ]
            },
            {
             "iteration": 84,
             "learn": [
              1.212797111,
              0.9068262751
             ],
             "passed_time": 8.618868149,
             "remaining_time": 1.520976732,
             "test": [
              1.219246433,
              0.8897689769
             ]
            },
            {
             "iteration": 85,
             "learn": [
              1.209362241,
              0.9068262751
             ],
             "passed_time": 8.718483266,
             "remaining_time": 1.419287974,
             "test": [
              1.215862507,
              0.8897689769
             ]
            },
            {
             "iteration": 86,
             "learn": [
              1.205917567,
              0.9068262751
             ],
             "passed_time": 8.826386457,
             "remaining_time": 1.318885333,
             "test": [
              1.212533472,
              0.8897689769
             ]
            },
            {
             "iteration": 87,
             "learn": [
              1.202496443,
              0.9068262751
             ],
             "passed_time": 8.925627498,
             "remaining_time": 1.217131022,
             "test": [
              1.209121771,
              0.8897689769
             ]
            },
            {
             "iteration": 88,
             "learn": [
              1.199103274,
              0.9068262751
             ],
             "passed_time": 9.027768532,
             "remaining_time": 1.115791616,
             "test": [
              1.205823902,
              0.8897689769
             ]
            },
            {
             "iteration": 89,
             "learn": [
              1.195728688,
              0.9068262751
             ],
             "passed_time": 9.131015087,
             "remaining_time": 1.014557232,
             "test": [
              1.202554256,
              0.8897689769
             ]
            },
            {
             "iteration": 90,
             "learn": [
              1.192369469,
              0.9068262751
             ],
             "passed_time": 9.236331011,
             "remaining_time": 0.9134832868,
             "test": [
              1.199306998,
              0.8897689769
             ]
            },
            {
             "iteration": 91,
             "learn": [
              1.189029357,
              0.9068262751
             ],
             "passed_time": 9.337258596,
             "remaining_time": 0.8119355301,
             "test": [
              1.196027157,
              0.8897689769
             ]
            },
            {
             "iteration": 92,
             "learn": [
              1.185731055,
              0.9068262751
             ],
             "passed_time": 9.435695557,
             "remaining_time": 0.710213644,
             "test": [
              1.192829497,
              0.8897689769
             ]
            },
            {
             "iteration": 93,
             "learn": [
              1.18244455,
              0.9068262751
             ],
             "passed_time": 9.540559782,
             "remaining_time": 0.608971901,
             "test": [
              1.189599163,
              0.8897689769
             ]
            },
            {
             "iteration": 94,
             "learn": [
              1.179189171,
              0.9068262751
             ],
             "passed_time": 9.641753142,
             "remaining_time": 0.5074606917,
             "test": [
              1.186338685,
              0.8897689769
             ]
            },
            {
             "iteration": 95,
             "learn": [
              1.175948457,
              0.9068262751
             ],
             "passed_time": 9.750446611,
             "remaining_time": 0.4062686088,
             "test": [
              1.18319944,
              0.8897689769
             ]
            },
            {
             "iteration": 96,
             "learn": [
              1.172709741,
              0.9068262751
             ],
             "passed_time": 9.858987736,
             "remaining_time": 0.3049171465,
             "test": [
              1.180068104,
              0.8897689769
             ]
            },
            {
             "iteration": 97,
             "learn": [
              1.169497998,
              0.9068262751
             ],
             "passed_time": 9.962150468,
             "remaining_time": 0.2033091932,
             "test": [
              1.176861527,
              0.8897689769
             ]
            },
            {
             "iteration": 98,
             "learn": [
              1.166285647,
              0.9068262751
             ],
             "passed_time": 10.06796559,
             "remaining_time": 0.1016966221,
             "test": [
              1.173760469,
              0.8897689769
             ]
            },
            {
             "iteration": 99,
             "learn": [
              1.163139839,
              0.9068262751
             ],
             "passed_time": 10.16672926,
             "remaining_time": 0,
             "test": [
              1.170647921,
              0.8897689769
             ]
            }
           ],
           "meta": {
            "iteration_count": 100,
            "launch_mode": "Train",
            "learn_metrics": [
             {
              "best_value": "Min",
              "name": "MultiClass"
             },
             {
              "best_value": "Max",
              "name": "Accuracy"
             }
            ],
            "learn_sets": [
             "learn"
            ],
            "name": "experiment",
            "parameters": "",
            "test_metrics": [
             {
              "best_value": "Min",
              "name": "MultiClass"
             },
             {
              "best_value": "Max",
              "name": "Accuracy"
             }
            ],
            "test_sets": [
             "test"
            ]
           }
          },
          "passed_iterations": 99,
          "total_iterations": 100
         },
         "name": "catboost_info",
         "path": "catboost_info"
        }
       },
       "layout": "IPY_MODEL_3747512026434c68961b1e19251d5f78"
      }
     },
     "2e92d37fea234a5a8f8fe079eb23cda4": {
      "model_module": "@jupyter-widgets/base",
      "model_module_version": "1.2.0",
      "model_name": "LayoutModel",
      "state": {}
     },
     "32ebd734e96a4e95833724f53eeaf499": {
      "model_module": "@jupyter-widgets/base",
      "model_module_version": "1.2.0",
      "model_name": "LayoutModel",
      "state": {}
     },
     "3747512026434c68961b1e19251d5f78": {
      "model_module": "@jupyter-widgets/base",
      "model_module_version": "1.2.0",
      "model_name": "LayoutModel",
      "state": {
       "align_self": "stretch",
       "height": "500px"
      }
     },
     "490546b13a904d8b9f119c697aeb760d": {
      "model_module": "@jupyter-widgets/base",
      "model_module_version": "1.2.0",
      "model_name": "LayoutModel",
      "state": {
       "align_self": "stretch",
       "height": "500px"
      }
     },
     "70990faba06149e1bdf5c91c84cb79ba": {
      "model_module": "catboost-widget",
      "model_module_version": "^1.0.0",
      "model_name": "CatboostWidgetModel",
      "state": {
       "_model_module_version": "^1.0.0",
       "_view_module_version": "^1.0.0",
       "data": {
        "catboost_info": {
         "content": {
          "data": {
           "iterations": [
            {
             "iteration": 0,
             "learn": [
              1.601499989,
              0.9975332009
             ],
             "passed_time": 0.1673247335,
             "remaining_time": 1.505922601,
             "test": [
              1.601484175,
              0.9984366858
             ]
            },
            {
             "iteration": 1,
             "learn": [
              1.593670946,
              0.9975332009
             ],
             "passed_time": 0.1941112563,
             "remaining_time": 0.7764450251,
             "test": [
              1.593630414,
              0.9984366858
             ]
            },
            {
             "iteration": 2,
             "learn": [
              1.585889875,
              0.9975332009
             ],
             "passed_time": 0.2198100908,
             "remaining_time": 0.5128902119,
             "test": [
              1.585839035,
              0.9984366858
             ]
            },
            {
             "iteration": 3,
             "learn": [
              1.578184805,
              0.9975332009
             ],
             "passed_time": 0.2448078636,
             "remaining_time": 0.3672117954,
             "test": [
              1.578120752,
              0.9984366858
             ]
            },
            {
             "iteration": 4,
             "learn": [
              1.570646967,
              0.9975332009
             ],
             "passed_time": 0.2694945908,
             "remaining_time": 0.2694945908,
             "test": [
              1.570538417,
              0.9984366858
             ]
            },
            {
             "iteration": 5,
             "learn": [
              1.563184779,
              0.9975332009
             ],
             "passed_time": 0.2949805982,
             "remaining_time": 0.1966537321,
             "test": [
              1.563013845,
              0.9984366858
             ]
            },
            {
             "iteration": 6,
             "learn": [
              1.555769154,
              0.9960282984
             ],
             "passed_time": 0.3179690844,
             "remaining_time": 0.1362724647,
             "test": [
              1.555577497,
              0.9973944763
             ]
            },
            {
             "iteration": 7,
             "learn": [
              1.548350021,
              0.9975332009
             ],
             "passed_time": 0.3416520593,
             "remaining_time": 0.08541301481,
             "test": [
              1.548150213,
              0.9984366858
             ]
            },
            {
             "iteration": 8,
             "learn": [
              1.541002673,
              0.9975332009
             ],
             "passed_time": 0.3657974426,
             "remaining_time": 0.04064416029,
             "test": [
              1.540793292,
              0.9984366858
             ]
            },
            {
             "iteration": 9,
             "learn": [
              1.533723895,
              0.9975332009
             ],
             "passed_time": 0.3918999885,
             "remaining_time": 0,
             "test": [
              1.533504108,
              0.9984366858
             ]
            }
           ],
           "meta": {
            "iteration_count": 10,
            "launch_mode": "Train",
            "learn_metrics": [
             {
              "best_value": "Min",
              "name": "MultiClass"
             },
             {
              "best_value": "Max",
              "name": "Accuracy"
             }
            ],
            "learn_sets": [
             "learn"
            ],
            "name": "experiment",
            "parameters": "",
            "test_metrics": [
             {
              "best_value": "Min",
              "name": "MultiClass"
             },
             {
              "best_value": "Max",
              "name": "Accuracy"
             }
            ],
            "test_sets": [
             "test"
            ]
           }
          },
          "passed_iterations": 9,
          "total_iterations": 10
         },
         "name": "catboost_info",
         "path": "catboost_info"
        }
       },
       "layout": "IPY_MODEL_490546b13a904d8b9f119c697aeb760d"
      }
     },
     "764fc8f7eb654e35b88b82e163da7a42": {
      "model_module": "@jupyter-widgets/base",
      "model_module_version": "1.2.0",
      "model_name": "LayoutModel",
      "state": {}
     },
     "8988165d646547cc94e961790c814012": {
      "model_module": "@jupyter-widgets/controls",
      "model_module_version": "1.5.0",
      "model_name": "LabelModel",
      "state": {
       "layout": "IPY_MODEL_764fc8f7eb654e35b88b82e163da7a42",
       "style": "IPY_MODEL_eafd8ba449cd47cf9d3b90ea00b33846",
       "value": " 25.99MB of 25.99MB uploaded (0.00MB deduped)\r"
      }
     },
     "9dcd1772f1374c2eb9fea0e68dfcf671": {
      "model_module": "@jupyter-widgets/controls",
      "model_module_version": "1.5.0",
      "model_name": "ProgressStyleModel",
      "state": {
       "description_width": ""
      }
     },
     "e073607740664c5083446c5e368b9545": {
      "model_module": "@jupyter-widgets/controls",
      "model_module_version": "1.5.0",
      "model_name": "FloatProgressModel",
      "state": {
       "layout": "IPY_MODEL_32ebd734e96a4e95833724f53eeaf499",
       "max": 1,
       "style": "IPY_MODEL_9dcd1772f1374c2eb9fea0e68dfcf671",
       "value": 1
      }
     },
     "eafd8ba449cd47cf9d3b90ea00b33846": {
      "model_module": "@jupyter-widgets/controls",
      "model_module_version": "1.5.0",
      "model_name": "DescriptionStyleModel",
      "state": {
       "description_width": ""
      }
     }
    },
    "version_major": 2,
    "version_minor": 0
   }
  },
  "interpreter": {
   "hash": "01a71ee6dbb5cd792900cee3209e98c906676fa32abfeb4483902a4a80aaf85b"
  }
 },
 "nbformat": 4,
 "nbformat_minor": 5
}