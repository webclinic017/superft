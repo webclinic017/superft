{
 "cells": [
  {
   "cell_type": "markdown",
   "source": [
    "# Imports"
   ],
   "metadata": {}
  },
  {
   "cell_type": "code",
   "execution_count": 2,
   "source": [
    "%load_ext autoreload\r\n",
    "%autoreload 2\r\n",
    "\r\n",
    "from pathlib import Path\r\n",
    "from typing import List, Callable, Tuple, Any\r\n",
    "from wandb.wandb_run import Run\r\n",
    "from datetime import datetime, timedelta\r\n",
    "\r\n",
    "from sklearn.model_selection import train_test_split\r\n",
    "from catboost import CatBoostClassifier, Pool, metrics, cv\r\n",
    "\r\n",
    "import attr\r\n",
    "import pandas as pd\r\n",
    "import gc\r\n",
    "import os\r\n",
    "import wandb\r\n",
    "import nest_asyncio\r\n",
    "import logging\r\n",
    "import sys\r\n",
    "import numpy as np\r\n",
    "\r\n",
    "nest_asyncio.apply()\r\n",
    "\r\n",
    "while \"freqtrade\" not in os.listdir():\r\n",
    "    os.chdir(\"..\")\r\n",
    "    if \"freqtrade\" in os.listdir():\r\n",
    "        nest_asyncio.apply()\r\n",
    "        logger = logging.getLogger(\"freqtrade.ml\")\r\n",
    "        handler = logging.StreamHandler(stream=sys.stdout)\r\n",
    "        handler.setFormatter(logging.Formatter(\"%(name)s - %(message)s\"))\r\n",
    "        logger.addHandler(handler)\r\n",
    "        logger.setLevel(logging.DEBUG)\r\n",
    "    \r\n",
    "from freqtrade.ml.lightning import LightningModule, LightningConfig\r\n",
    "from freqtrade.ml.trainer import TradingTrainer\r\n",
    "from freqtrade.ml.container import LightningContainer\r\n",
    "from freqtrade.ml import loader, lightning_utils\r\n",
    "\r\n",
    "from freqtrade.nbtools.helper import free_mem\r\n",
    "from freqtrade.nbtools.pairs import PAIRS_HIGHCAP_NONSTABLE\r\n",
    "\r\n",
    "container = None\r\n",
    "\r\n",
    "if container is not None:\r\n",
    "    print(\"Deleting container\")\r\n",
    "    free_mem(container)\r\n",
    "    \r\n",
    "gc.collect()"
   ],
   "outputs": [
    {
     "output_type": "stream",
     "name": "stdout",
     "text": [
      "The autoreload extension is already loaded. To reload it, use:\n",
      "  %reload_ext autoreload\n"
     ]
    },
    {
     "output_type": "execute_result",
     "data": {
      "text/plain": [
       "7"
      ]
     },
     "metadata": {},
     "execution_count": 2
    }
   ],
   "metadata": {}
  },
  {
   "cell_type": "markdown",
   "source": [
    "# Lightning Module"
   ],
   "metadata": {}
  },
  {
   "cell_type": "code",
   "execution_count": 4,
   "source": [
    "MINI_DATA = False  # True if used for testing purposes\r\n",
    "\r\n",
    "attr.s(repr=False)\r\n",
    "class CatBoostModule(LightningModule):\r\n",
    "    \"\"\" Template for LightningModule \"\"\"\r\n",
    "        \r\n",
    "    def on_configure(self) -> LightningConfig:\r\n",
    "        \r\n",
    "        # This datetime can be replaced with datetime.now()\r\n",
    "        now = datetime(2021, 8, 20)\r\n",
    "\r\n",
    "        opt_start = datetime(2021, 1, 1)\r\n",
    "        opt_end = now - timedelta(days=60)\r\n",
    "        \r\n",
    "        # Lighting Configuration\r\n",
    "        config = LightningConfig(\r\n",
    "            \r\n",
    "            # Basic info\r\n",
    "            name        = \"15n30-catboost_l2\",\r\n",
    "            timeframe   = \"15m\",\r\n",
    "            exchange    = \"binance\",\r\n",
    "            \r\n",
    "            # Train and validation datetime\r\n",
    "            trainval_start  = datetime(2016, 1, 1),\r\n",
    "            trainval_end    = datetime(2021, 1, 1),\r\n",
    "            \r\n",
    "            # Backtest Optimization datetime\r\n",
    "            opt_start = opt_start,\r\n",
    "            opt_end   = opt_end,\r\n",
    "            \r\n",
    "            # Unbiased Backtest datetime\r\n",
    "            test_start = opt_end + timedelta(days=1),\r\n",
    "            test_end   = now,\r\n",
    "            \r\n",
    "            # Num training epochs\r\n",
    "            num_training_epochs = 12000,\r\n",
    "        )\r\n",
    "        \r\n",
    "        # Optional custom config attributes\r\n",
    "        config.add_custom(\"num_future_candles\", 2)\r\n",
    "        config.add_custom(\"num_classification_classes\", 5)\r\n",
    "        config.add_custom(\"hardware\", \"GPU\")\r\n",
    "        config.add_custom(\"learning_rate\", 0.005)\r\n",
    "        \r\n",
    "        return config\r\n",
    "        \r\n",
    "    def on_get_data_paths(self, cwd: Path, timeframe: str, exchange: str) -> List[Path]:\r\n",
    "        \"\"\" Where your data is stored\r\n",
    "        \"\"\"\r\n",
    "        path_data_exchange = cwd.parent / \"mount\" / \"data\" / exchange\r\n",
    "        maximum_data = 999 if not MINI_DATA else 5\r\n",
    "        \r\n",
    "        return [\r\n",
    "            datapath\r\n",
    "            for datapath in list(path_data_exchange.glob(f\"*-{timeframe}.json\"))\r\n",
    "            if datapath.name.split(\"-\")[0].replace(\"_\", \"/\")\r\n",
    "            in PAIRS_HIGHCAP_NONSTABLE[:maximum_data]\r\n",
    "        ]\r\n",
    "    \r\n",
    "    def on_add_features(self, df_onepair: pd.DataFrame) -> pd.DataFrame:\r\n",
    "        \"\"\" On Add Features will be used in inference\r\n",
    "        \"\"\"\r\n",
    "        # Start add features\r\n",
    "        spaces = [3, 5, 9, 15, 25, 50, 100, 200]\r\n",
    "        \r\n",
    "        for i in spaces:\r\n",
    "            df_onepair[f\"ml_smadiff_{i}\"] = (df_onepair['close'].rolling(i).mean() - df_onepair['close'])\r\n",
    "            df_onepair[f\"ml_maxdiff_{i}\"] = (df_onepair['close'].rolling(i).max() - df_onepair['close'])\r\n",
    "            df_onepair[f\"ml_mindiff_{i}\"] = (df_onepair['close'].rolling(i).min() - df_onepair['close'])\r\n",
    "            df_onepair[f\"ml_std_{i}\"] = df_onepair['close'].rolling(i).std()\r\n",
    "            df_onepair[f\"ml_ma_{i}\"] = df_onepair['close'].pct_change(i).rolling(i).mean()\r\n",
    "            # Volume\r\n",
    "            df_onepair[f\"ml_volmaxdiff_{i}\"] = (df_onepair['volume'].rolling(i).max() - df_onepair['volume'])\r\n",
    "            df_onepair[f\"ml_volmindiff_{i}\"] = (df_onepair['volume'].rolling(i).min() - df_onepair['volume'])\r\n",
    "            df_onepair[f\"ml_volsmadiff_{i}\"] = (df_onepair['volume'].rolling(i).mean() - df_onepair['volume'])\r\n",
    "            df_onepair[f\"ml_volstd_{i}\"] = df_onepair['volume'].rolling(i).std()\r\n",
    "            df_onepair[f\"ml_volma_{i}\"] = df_onepair['volume'].pct_change(i).rolling(i).mean()\r\n",
    "\r\n",
    "        previous_prices = 15\r\n",
    "        for i in range(previous_prices):\r\n",
    "            df_onepair[f\"ml_prevclose_{i}\"] = (df_onepair[\"close\"].shift(i) - df_onepair[\"close\"]) / df_onepair[\"close\"]\r\n",
    "            \r\n",
    "        df_onepair[\"ml_volume_pctchange\"] = df_onepair['volume'].pct_change()\r\n",
    "        df_onepair['ml_z_score_120'] = ((df_onepair[\"ml_ma_15\"] - df_onepair[\"ml_ma_15\"].rolling(21).mean() + 1e-9) \r\n",
    "                             / (df_onepair[\"ml_ma_15\"].rolling(21).std() + 1e-9))\r\n",
    "        \r\n",
    "        return df_onepair\r\n",
    "    \r\n",
    "    def on_add_labels(self, df_onepair: pd.DataFrame) -> pd.DataFrame:\r\n",
    "        \"\"\" Define the labels\r\n",
    "        \"\"\"\r\n",
    "        future_price = df_onepair['close'].shift(-self.config.num_future_candles)\r\n",
    "        ml_label = (future_price - df_onepair['close']) / df_onepair['close']\r\n",
    "        df_onepair[self.config.column_y] = pd.qcut(ml_label, self.config.num_classification_classes, labels=False)\r\n",
    "        return df_onepair\r\n",
    "    \r\n",
    "    def on_final_processing(self, df_allpairs: pd.DataFrame) -> Tuple[Any, Any, Any, Any]:\r\n",
    "        \"\"\" Define the data to X_train, X_val, y_train, y_val\r\n",
    "        \"\"\"\r\n",
    "        val_split_date = pd.to_datetime(self.config.trainval_end - timedelta(days=60), utc=True, infer_datetime_format=True)\r\n",
    "        \r\n",
    "        train = df_allpairs[df_allpairs[\"date\"] < val_split_date]\r\n",
    "        val = df_allpairs[df_allpairs[\"date\"] >= val_split_date]\r\n",
    "        \r\n",
    "        X_train = train[self.config.columns_x]\r\n",
    "        X_val = val[self.config.columns_x]\r\n",
    "        y_train = train[self.config.column_y]\r\n",
    "        y_val = val[self.config.column_y]\r\n",
    "    \r\n",
    "        print(\"Num train datas:\", len(train))\r\n",
    "        print(\"Num val datas:\", len(val))\r\n",
    "\r\n",
    "        return X_train, X_val, y_train, y_val\r\n",
    "    \r\n",
    "    def on_define_model(self, run: Run, X_train, X_val, y_train, y_val) -> Any:\r\n",
    "        \"\"\" Define your model!\r\n",
    "        \"\"\"\r\n",
    "        return CatBoostClassifier(\r\n",
    "            custom_loss=[metrics.Accuracy()],\r\n",
    "            iterations=self.config.num_training_epochs, \r\n",
    "            task_type=self.config.hardware,\r\n",
    "            learning_rate=self.config.learning_rate,\r\n",
    "         )\r\n",
    "    \r\n",
    "    def on_start_training(self, run: Run, X_train, X_val, y_train, y_val):\r\n",
    "        \"\"\" Training / model fit code\r\n",
    "        \"\"\"\r\n",
    "        print(\"Start Training...\")\r\n",
    "        self.model: CatBoostClassifier\r\n",
    "        self.model.fit(\r\n",
    "            X_train, y_train,\r\n",
    "            eval_set=(X_val, y_val),\r\n",
    "            plot=True,\r\n",
    "            verbose=500,\r\n",
    "        )\r\n",
    "        print(\"Accuracy: %.2f\" % self.model.score(X_val, y_val))\r\n",
    "    \r\n",
    "    def on_predict(self, df_input_onepair: pd.DataFrame) -> pd.DataFrame:\r\n",
    "        \"\"\" Inference, used in freqtrade\r\n",
    "        \"\"\"\r\n",
    "        df_input_np = df_input_onepair.to_numpy()\r\n",
    "        preds = self.model.predict_proba(df_input_np)\r\n",
    "        df_preds = pd.DataFrame(preds)\r\n",
    "        return df_preds\r\n",
    "    \r\n",
    "    def on_training_step(self, run: Run, data: dict):\r\n",
    "        raise NotImplementedError()\r\n",
    "\r\n",
    "\r\n",
    "module = CatBoostModule()"
   ],
   "outputs": [],
   "metadata": {}
  },
  {
   "cell_type": "markdown",
   "source": [
    "# Dataset EDA Before Training"
   ],
   "metadata": {
    "tags": []
   }
  },
  {
   "cell_type": "code",
   "execution_count": 7,
   "source": [
    "df_: pd.DataFrame = lightning_utils.get_dataset_df(module)\r\n",
    "dates = df_[\"date\"]\r\n",
    "df_ = df_[module.config.columns_x + [module.config.column_y]]\r\n",
    "df_.tail()"
   ],
   "outputs": [
    {
     "output_type": "execute_result",
     "data": {
      "text/html": [
       "<div>\n",
       "<style scoped>\n",
       "    .dataframe tbody tr th:only-of-type {\n",
       "        vertical-align: middle;\n",
       "    }\n",
       "\n",
       "    .dataframe tbody tr th {\n",
       "        vertical-align: top;\n",
       "    }\n",
       "\n",
       "    .dataframe thead th {\n",
       "        text-align: right;\n",
       "    }\n",
       "</style>\n",
       "<table border=\"1\" class=\"dataframe\">\n",
       "  <thead>\n",
       "    <tr style=\"text-align: right;\">\n",
       "      <th></th>\n",
       "      <th>ml_smadiff_3</th>\n",
       "      <th>ml_maxdiff_3</th>\n",
       "      <th>ml_mindiff_3</th>\n",
       "      <th>ml_std_3</th>\n",
       "      <th>ml_ma_3</th>\n",
       "      <th>ml_volmaxdiff_3</th>\n",
       "      <th>ml_volmindiff_3</th>\n",
       "      <th>ml_volsmadiff_3</th>\n",
       "      <th>ml_volstd_3</th>\n",
       "      <th>ml_volma_3</th>\n",
       "      <th>...</th>\n",
       "      <th>ml_prevclose_8</th>\n",
       "      <th>ml_prevclose_9</th>\n",
       "      <th>ml_prevclose_10</th>\n",
       "      <th>ml_prevclose_11</th>\n",
       "      <th>ml_prevclose_12</th>\n",
       "      <th>ml_prevclose_13</th>\n",
       "      <th>ml_prevclose_14</th>\n",
       "      <th>ml_volume_pctchange</th>\n",
       "      <th>ml_z_score_120</th>\n",
       "      <th>ml_label</th>\n",
       "    </tr>\n",
       "  </thead>\n",
       "  <tbody>\n",
       "    <tr>\n",
       "      <th>64586</th>\n",
       "      <td>-0.000833</td>\n",
       "      <td>0.0000</td>\n",
       "      <td>-0.0015</td>\n",
       "      <td>0.000764</td>\n",
       "      <td>0.000951</td>\n",
       "      <td>4085.929688</td>\n",
       "      <td>-4427.160156</td>\n",
       "      <td>-113.743492</td>\n",
       "      <td>4257.684570</td>\n",
       "      <td>-0.250991</td>\n",
       "      <td>...</td>\n",
       "      <td>0.005682</td>\n",
       "      <td>0.005966</td>\n",
       "      <td>0.006250</td>\n",
       "      <td>0.006534</td>\n",
       "      <td>0.005966</td>\n",
       "      <td>0.006534</td>\n",
       "      <td>0.008523</td>\n",
       "      <td>0.354831</td>\n",
       "      <td>-1.296467</td>\n",
       "      <td>3.0</td>\n",
       "    </tr>\n",
       "    <tr>\n",
       "      <th>64587</th>\n",
       "      <td>0.000167</td>\n",
       "      <td>0.0010</td>\n",
       "      <td>-0.0005</td>\n",
       "      <td>0.000764</td>\n",
       "      <td>0.000951</td>\n",
       "      <td>9630.380859</td>\n",
       "      <td>0.000000</td>\n",
       "      <td>4944.533691</td>\n",
       "      <td>4820.398926</td>\n",
       "      <td>-0.430540</td>\n",
       "      <td>...</td>\n",
       "      <td>0.002279</td>\n",
       "      <td>0.008547</td>\n",
       "      <td>0.008832</td>\n",
       "      <td>0.009117</td>\n",
       "      <td>0.009402</td>\n",
       "      <td>0.008832</td>\n",
       "      <td>0.009402</td>\n",
       "      <td>-0.569711</td>\n",
       "      <td>-1.608102</td>\n",
       "      <td>3.0</td>\n",
       "    </tr>\n",
       "    <tr>\n",
       "      <th>64588</th>\n",
       "      <td>-0.001200</td>\n",
       "      <td>0.0000</td>\n",
       "      <td>-0.0023</td>\n",
       "      <td>0.001153</td>\n",
       "      <td>0.003899</td>\n",
       "      <td>0.000000</td>\n",
       "      <td>-66958.937500</td>\n",
       "      <td>-41429.164062</td>\n",
       "      <td>36200.386719</td>\n",
       "      <td>1.333979</td>\n",
       "      <td>...</td>\n",
       "      <td>-0.005944</td>\n",
       "      <td>-0.004246</td>\n",
       "      <td>0.001981</td>\n",
       "      <td>0.002264</td>\n",
       "      <td>0.002547</td>\n",
       "      <td>0.002830</td>\n",
       "      <td>0.002264</td>\n",
       "      <td>9.205750</td>\n",
       "      <td>-1.613874</td>\n",
       "      <td>1.0</td>\n",
       "    </tr>\n",
       "    <tr>\n",
       "      <th>64589</th>\n",
       "      <td>-0.000500</td>\n",
       "      <td>0.0004</td>\n",
       "      <td>-0.0019</td>\n",
       "      <td>0.001229</td>\n",
       "      <td>0.003515</td>\n",
       "      <td>51752.628906</td>\n",
       "      <td>-15206.310547</td>\n",
       "      <td>12182.106445</td>\n",
       "      <td>35102.386719</td>\n",
       "      <td>1.542008</td>\n",
       "      <td>...</td>\n",
       "      <td>-0.005384</td>\n",
       "      <td>-0.004817</td>\n",
       "      <td>-0.003117</td>\n",
       "      <td>0.003117</td>\n",
       "      <td>0.003400</td>\n",
       "      <td>0.003684</td>\n",
       "      <td>0.003967</td>\n",
       "      <td>-0.697169</td>\n",
       "      <td>-1.552076</td>\n",
       "      <td>3.0</td>\n",
       "    </tr>\n",
       "    <tr>\n",
       "      <th>64590</th>\n",
       "      <td>0.000533</td>\n",
       "      <td>0.0010</td>\n",
       "      <td>0.0000</td>\n",
       "      <td>0.000503</td>\n",
       "      <td>0.004750</td>\n",
       "      <td>63842.648438</td>\n",
       "      <td>0.000000</td>\n",
       "      <td>25310.890625</td>\n",
       "      <td>33912.601562</td>\n",
       "      <td>1.902645</td>\n",
       "      <td>...</td>\n",
       "      <td>-0.004258</td>\n",
       "      <td>-0.003690</td>\n",
       "      <td>-0.003122</td>\n",
       "      <td>-0.001419</td>\n",
       "      <td>0.004825</td>\n",
       "      <td>0.005109</td>\n",
       "      <td>0.005393</td>\n",
       "      <td>-0.537814</td>\n",
       "      <td>-1.441383</td>\n",
       "      <td>2.0</td>\n",
       "    </tr>\n",
       "  </tbody>\n",
       "</table>\n",
       "<p>5 rows × 98 columns</p>\n",
       "</div>"
      ],
      "text/plain": [
       "       ml_smadiff_3  ml_maxdiff_3  ml_mindiff_3  ml_std_3   ml_ma_3  \\\n",
       "64586     -0.000833        0.0000       -0.0015  0.000764  0.000951   \n",
       "64587      0.000167        0.0010       -0.0005  0.000764  0.000951   \n",
       "64588     -0.001200        0.0000       -0.0023  0.001153  0.003899   \n",
       "64589     -0.000500        0.0004       -0.0019  0.001229  0.003515   \n",
       "64590      0.000533        0.0010        0.0000  0.000503  0.004750   \n",
       "\n",
       "       ml_volmaxdiff_3  ml_volmindiff_3  ml_volsmadiff_3   ml_volstd_3  \\\n",
       "64586      4085.929688     -4427.160156      -113.743492   4257.684570   \n",
       "64587      9630.380859         0.000000      4944.533691   4820.398926   \n",
       "64588         0.000000    -66958.937500    -41429.164062  36200.386719   \n",
       "64589     51752.628906    -15206.310547     12182.106445  35102.386719   \n",
       "64590     63842.648438         0.000000     25310.890625  33912.601562   \n",
       "\n",
       "       ml_volma_3  ...  ml_prevclose_8  ml_prevclose_9  ml_prevclose_10  \\\n",
       "64586   -0.250991  ...        0.005682        0.005966         0.006250   \n",
       "64587   -0.430540  ...        0.002279        0.008547         0.008832   \n",
       "64588    1.333979  ...       -0.005944       -0.004246         0.001981   \n",
       "64589    1.542008  ...       -0.005384       -0.004817        -0.003117   \n",
       "64590    1.902645  ...       -0.004258       -0.003690        -0.003122   \n",
       "\n",
       "       ml_prevclose_11  ml_prevclose_12  ml_prevclose_13  ml_prevclose_14  \\\n",
       "64586         0.006534         0.005966         0.006534         0.008523   \n",
       "64587         0.009117         0.009402         0.008832         0.009402   \n",
       "64588         0.002264         0.002547         0.002830         0.002264   \n",
       "64589         0.003117         0.003400         0.003684         0.003967   \n",
       "64590        -0.001419         0.004825         0.005109         0.005393   \n",
       "\n",
       "       ml_volume_pctchange  ml_z_score_120  ml_label  \n",
       "64586             0.354831       -1.296467       3.0  \n",
       "64587            -0.569711       -1.608102       3.0  \n",
       "64588             9.205750       -1.613874       1.0  \n",
       "64589            -0.697169       -1.552076       3.0  \n",
       "64590            -0.537814       -1.441383       2.0  \n",
       "\n",
       "[5 rows x 98 columns]"
      ]
     },
     "metadata": {},
     "execution_count": 7
    }
   ],
   "metadata": {
    "tags": []
   }
  },
  {
   "cell_type": "code",
   "execution_count": 8,
   "source": [
    "def dataframe_statistics(df_: pd.DataFrame):\r\n",
    "    # Detect nan, infinity, and too large values in dataset\r\n",
    "    print(\"N rows na:\", str(df_.shape[0] - df_.dropna().shape[0]))\r\n",
    "    print(\"N rows inf:\", str(df_.shape[0] - df_.replace([np.inf, -np.inf], np.nan).dropna().shape[0]))\r\n",
    "    print(\"Cols na:\", str(df_.columns[df_.isna().any()].tolist()))\r\n",
    "    print(\"Cols inf:\", str(list(df_.columns.to_series()[np.isinf(df_).any()])))\r\n",
    "\r\n",
    "    # Detect columns with irregular datatypes\r\n",
    "    supported_datatypes = [\"float32\"]\r\n",
    "    print(\"Irregular (col, dtypes):\", str([(it, df_[it].dtype) for it in df_.columns if df_[it].dtype not in supported_datatypes]))\r\n",
    "\r\n",
    "    # Dataset statistics\r\n",
    "    print(\"Dataset Length: %s\" % len(df_))\r\n",
    "    print(\"Date Min: %s\" % dates.min())\r\n",
    "    print(\"Date Max: %s\" % dates.max())\r\n",
    "    \r\n",
    "dataframe_statistics(df_)"
   ],
   "outputs": [
    {
     "output_type": "stream",
     "name": "stdout",
     "text": [
      "N rows na: 0\n",
      "N rows inf: 0\n",
      "Cols na: []\n",
      "Cols inf: []\n",
      "Irregular (col, dtypes): []\n",
      "Dataset Length: 2182400\n",
      "Date Min: 2017-08-26 09:45:00+00:00\n",
      "Date Max: 2020-12-31 23:30:00+00:00\n"
     ]
    }
   ],
   "metadata": {
    "tags": []
   }
  },
  {
   "cell_type": "code",
   "execution_count": 9,
   "source": [
    "df_[\"ml_label\"].hist()"
   ],
   "outputs": [
    {
     "output_type": "execute_result",
     "data": {
      "text/plain": [
       "<AxesSubplot:>"
      ]
     },
     "metadata": {},
     "execution_count": 9
    },
    {
     "output_type": "display_data",
     "data": {
      "image/png": "[encoded data removed]",
      "text/plain": [
       "<Figure size 432x288 with 1 Axes>"
      ]
     },
     "metadata": {
      "needs_background": "light"
     }
    }
   ],
   "metadata": {
    "tags": []
   }
  },
  {
   "cell_type": "code",
   "execution_count": 10,
   "source": [
    "df_.info()"
   ],
   "outputs": [
    {
     "output_type": "stream",
     "name": "stdout",
     "text": [
      "<class 'pandas.core.frame.DataFrame'>\n",
      "Int64Index: 2182400 entries, 399 to 64590\n",
      "Data columns (total 98 columns):\n",
      " #   Column               Dtype  \n",
      "---  ------               -----  \n",
      " 0   ml_smadiff_3         float32\n",
      " 1   ml_maxdiff_3         float32\n",
      " 2   ml_mindiff_3         float32\n",
      " 3   ml_std_3             float32\n",
      " 4   ml_ma_3              float32\n",
      " 5   ml_volmaxdiff_3      float32\n",
      " 6   ml_volmindiff_3      float32\n",
      " 7   ml_volsmadiff_3      float32\n",
      " 8   ml_volstd_3          float32\n",
      " 9   ml_volma_3           float32\n",
      " 10  ml_smadiff_5         float32\n",
      " 11  ml_maxdiff_5         float32\n",
      " 12  ml_mindiff_5         float32\n",
      " 13  ml_std_5             float32\n",
      " 14  ml_ma_5              float32\n",
      " 15  ml_volmaxdiff_5      float32\n",
      " 16  ml_volmindiff_5      float32\n",
      " 17  ml_volsmadiff_5      float32\n",
      " 18  ml_volstd_5          float32\n",
      " 19  ml_volma_5           float32\n",
      " 20  ml_smadiff_9         float32\n",
      " 21  ml_maxdiff_9         float32\n",
      " 22  ml_mindiff_9         float32\n",
      " 23  ml_std_9             float32\n",
      " 24  ml_ma_9              float32\n",
      " 25  ml_volmaxdiff_9      float32\n",
      " 26  ml_volmindiff_9      float32\n",
      " 27  ml_volsmadiff_9      float32\n",
      " 28  ml_volstd_9          float32\n",
      " 29  ml_volma_9           float32\n",
      " 30  ml_smadiff_15        float32\n",
      " 31  ml_maxdiff_15        float32\n",
      " 32  ml_mindiff_15        float32\n",
      " 33  ml_std_15            float32\n",
      " 34  ml_ma_15             float32\n",
      " 35  ml_volmaxdiff_15     float32\n",
      " 36  ml_volmindiff_15     float32\n",
      " 37  ml_volsmadiff_15     float32\n",
      " 38  ml_volstd_15         float32\n",
      " 39  ml_volma_15          float32\n",
      " 40  ml_smadiff_25        float32\n",
      " 41  ml_maxdiff_25        float32\n",
      " 42  ml_mindiff_25        float32\n",
      " 43  ml_std_25            float32\n",
      " 44  ml_ma_25             float32\n",
      " 45  ml_volmaxdiff_25     float32\n",
      " 46  ml_volmindiff_25     float32\n",
      " 47  ml_volsmadiff_25     float32\n",
      " 48  ml_volstd_25         float32\n",
      " 49  ml_volma_25          float32\n",
      " 50  ml_smadiff_50        float32\n",
      " 51  ml_maxdiff_50        float32\n",
      " 52  ml_mindiff_50        float32\n",
      " 53  ml_std_50            float32\n",
      " 54  ml_ma_50             float32\n",
      " 55  ml_volmaxdiff_50     float32\n",
      " 56  ml_volmindiff_50     float32\n",
      " 57  ml_volsmadiff_50     float32\n",
      " 58  ml_volstd_50         float32\n",
      " 59  ml_volma_50          float32\n",
      " 60  ml_smadiff_100       float32\n",
      " 61  ml_maxdiff_100       float32\n",
      " 62  ml_mindiff_100       float32\n",
      " 63  ml_std_100           float32\n",
      " 64  ml_ma_100            float32\n",
      " 65  ml_volmaxdiff_100    float32\n",
      " 66  ml_volmindiff_100    float32\n",
      " 67  ml_volsmadiff_100    float32\n",
      " 68  ml_volstd_100        float32\n",
      " 69  ml_volma_100         float32\n",
      " 70  ml_smadiff_200       float32\n",
      " 71  ml_maxdiff_200       float32\n",
      " 72  ml_mindiff_200       float32\n",
      " 73  ml_std_200           float32\n",
      " 74  ml_ma_200            float32\n",
      " 75  ml_volmaxdiff_200    float32\n",
      " 76  ml_volmindiff_200    float32\n",
      " 77  ml_volsmadiff_200    float32\n",
      " 78  ml_volstd_200        float32\n",
      " 79  ml_volma_200         float32\n",
      " 80  ml_prevclose_0       float32\n",
      " 81  ml_prevclose_1       float32\n",
      " 82  ml_prevclose_2       float32\n",
      " 83  ml_prevclose_3       float32\n",
      " 84  ml_prevclose_4       float32\n",
      " 85  ml_prevclose_5       float32\n",
      " 86  ml_prevclose_6       float32\n",
      " 87  ml_prevclose_7       float32\n",
      " 88  ml_prevclose_8       float32\n",
      " 89  ml_prevclose_9       float32\n",
      " 90  ml_prevclose_10      float32\n",
      " 91  ml_prevclose_11      float32\n",
      " 92  ml_prevclose_12      float32\n",
      " 93  ml_prevclose_13      float32\n",
      " 94  ml_prevclose_14      float32\n",
      " 95  ml_volume_pctchange  float32\n",
      " 96  ml_z_score_120       float32\n",
      " 97  ml_label             float32\n",
      "dtypes: float32(98)\n",
      "memory usage: 832.5 MB\n"
     ]
    }
   ],
   "metadata": {}
  },
  {
   "cell_type": "code",
   "execution_count": 14,
   "source": [
    "# Unload dataset after EDA to save memory\r\n",
    "free_mem(df_)"
   ],
   "outputs": [],
   "metadata": {
    "tags": []
   }
  },
  {
   "cell_type": "markdown",
   "source": [
    "# [-Start Training-]"
   ],
   "metadata": {
    "tags": []
   }
  },
  {
   "cell_type": "code",
   "execution_count": 5,
   "source": [
    "with wandb.init(project=module.config.name) as run:\r\n",
    "    trainer = TradingTrainer()\r\n",
    "    container = trainer.fit(module, run, True)"
   ],
   "outputs": [
    {
     "output_type": "stream",
     "name": "stderr",
     "text": [
      "Failed to detect the name of this notebook, you can set it manually with the WANDB_NOTEBOOK_NAME environment variable to enable code saving.\n",
      "wandb: Currently logged in as: jliberooo (use `wandb login --relogin` to force relogin)\n"
     ]
    },
    {
     "output_type": "display_data",
     "data": {
      "text/html": [
       "\n",
       "                Tracking run with wandb version 0.12.1<br/>\n",
       "                Syncing run <strong style=\"color:#cdcd00\">expert-dust-1</strong> to <a href=\"https://wandb.ai\" target=\"_blank\">Weights & Biases</a> <a href=\"https://docs.wandb.com/integrations/jupyter.html\" target=\"_blank\">(Documentation)</a>.<br/>\n",
       "                Project page: <a href=\"https://wandb.ai/jliberooo/15n30-catboost_l2\" target=\"_blank\">https://wandb.ai/jliberooo/15n30-catboost_l2</a><br/>\n",
       "                Run page: <a href=\"https://wandb.ai/jliberooo/15n30-catboost_l2/runs/39twtcw6\" target=\"_blank\">https://wandb.ai/jliberooo/15n30-catboost_l2/runs/39twtcw6</a><br/>\n",
       "                Run data is saved locally in <code>c:\\CS\\Python\\crypto-collection\\freqtrade\\superft\\wandb\\run-20210902_155027-39twtcw6</code><br/><br/>\n",
       "            "
      ],
      "text/plain": [
       "<IPython.core.display.HTML object>"
      ]
     },
     "metadata": {}
    },
    {
     "output_type": "stream",
     "name": "stdout",
     "text": [
      "freqtrade.ml.trainer - Validating model using mini training...\n",
      "Num train datas: 99563\n",
      "Num val datas: 4617\n",
      "Start Training...\n"
     ]
    },
    {
     "output_type": "display_data",
     "data": {
      "application/vnd.jupyter.widget-view+json": {
       "version_major": 2,
       "version_minor": 0,
       "model_id": "f14ad31ec4f94838ab4bc6563f291f7a"
      },
      "text/plain": [
       "MetricVisualizer(layout=Layout(align_self='stretch', height='500px'))"
      ]
     },
     "metadata": {}
    },
    {
     "output_type": "stream",
     "name": "stdout",
     "text": [
      "0:\tlearn: 1.6059279\ttest: 1.6064446\tbest: 1.6064446 (0)\ttotal: 17.8ms\tremaining: 160ms\n",
      "9:\tlearn: 1.5791128\ttest: 1.5883714\tbest: 1.5883714 (9)\ttotal: 155ms\tremaining: 0us\n",
      "bestTest = 1.588371397\n",
      "bestIteration = 9\n",
      "Accuracy: 0.27\n",
      "freqtrade.ml.container - Not dropping X columns in predict because it doesn't exist in predict columns\n",
      "freqtrade.ml.container - Returned new columns from df_preds: ['ml_0', 'ml_1', 'ml_2', 'ml_3', 'ml_4']\n",
      "\n",
      "PASSED: The model passed the validation test!\n",
      "freqtrade.ml.trainer - Validate model OK!\n",
      "Num train datas: 1933552\n",
      "Num val datas: 248848\n"
     ]
    },
    {
     "output_type": "stream",
     "name": "stderr",
     "text": [
      "WARNING:root:ERROR on validating predict function: `There is no trained model to use predict_proba(). Use fit() to train model. Then use this method.`\n",
      "WARNING:root:Please run `trainer.validate_predict()` after training finished!\n",
      "WARNING:root:Otherwise, future runtime errors may occur.\n"
     ]
    },
    {
     "output_type": "stream",
     "name": "stdout",
     "text": [
      "Start Training...\n"
     ]
    },
    {
     "output_type": "display_data",
     "data": {
      "application/vnd.jupyter.widget-view+json": {
       "version_major": 2,
       "version_minor": 0,
       "model_id": "6dd97f6a82924c138916a8b221113c46"
      },
      "text/plain": [
       "MetricVisualizer(layout=Layout(align_self='stretch', height='500px'))"
      ]
     },
     "metadata": {}
    },
    {
     "output_type": "stream",
     "name": "stdout",
     "text": [
      "0:\tlearn: 1.6078956\ttest: 1.6081344\tbest: 1.6081344 (0)\ttotal: 41.3ms\tremaining: 8m 16s\n",
      "250:\tlearn: 1.5423957\ttest: 1.5662603\tbest: 1.5662603 (250)\ttotal: 10.8s\tremaining: 8m 23s\n",
      "500:\tlearn: 1.5368040\ttest: 1.5637801\tbest: 1.5637801 (500)\ttotal: 21.6s\tremaining: 8m 15s\n",
      "750:\tlearn: 1.5337922\ttest: 1.5625510\tbest: 1.5625476 (747)\ttotal: 32.3s\tremaining: 8m 4s\n",
      "1000:\tlearn: 1.5314551\ttest: 1.5617721\tbest: 1.5617691 (999)\ttotal: 43.1s\tremaining: 7m 54s\n",
      "1250:\tlearn: 1.5295357\ttest: 1.5612593\tbest: 1.5612593 (1250)\ttotal: 54s\tremaining: 7m 43s\n",
      "1500:\tlearn: 1.5278537\ttest: 1.5608992\tbest: 1.5608992 (1500)\ttotal: 1m 4s\tremaining: 7m 32s\n",
      "1750:\tlearn: 1.5263397\ttest: 1.5606417\tbest: 1.5606414 (1749)\ttotal: 1m 15s\tremaining: 7m 21s\n",
      "2000:\tlearn: 1.5249236\ttest: 1.5604528\tbest: 1.5604516 (1999)\ttotal: 1m 26s\tremaining: 7m 10s\n",
      "2250:\tlearn: 1.5236003\ttest: 1.5602935\tbest: 1.5602935 (2250)\ttotal: 1m 36s\tremaining: 6m 59s\n",
      "2500:\tlearn: 1.5223528\ttest: 1.5601602\tbest: 1.5601602 (2500)\ttotal: 1m 47s\tremaining: 6m 48s\n",
      "2750:\tlearn: 1.5211751\ttest: 1.5600925\tbest: 1.5600879 (2726)\ttotal: 1m 58s\tremaining: 6m 38s\n",
      "3000:\tlearn: 1.5200280\ttest: 1.5600292\tbest: 1.5600237 (2998)\ttotal: 2m 9s\tremaining: 6m 27s\n",
      "3250:\tlearn: 1.5189288\ttest: 1.5599662\tbest: 1.5599580 (3197)\ttotal: 2m 19s\tremaining: 6m 16s\n",
      "3500:\tlearn: 1.5178367\ttest: 1.5599279\tbest: 1.5599215 (3469)\ttotal: 2m 30s\tremaining: 6m 5s\n",
      "3750:\tlearn: 1.5168202\ttest: 1.5599299\tbest: 1.5599215 (3469)\ttotal: 2m 40s\tremaining: 5m 53s\n",
      "4000:\tlearn: 1.5158395\ttest: 1.5599194\tbest: 1.5599086 (3954)\ttotal: 2m 51s\tremaining: 5m 42s\n",
      "4250:\tlearn: 1.5148647\ttest: 1.5599224\tbest: 1.5598998 (4145)\ttotal: 3m 1s\tremaining: 5m 31s\n",
      "4500:\tlearn: 1.5138875\ttest: 1.5599087\tbest: 1.5598998 (4145)\ttotal: 3m 12s\tremaining: 5m 20s\n",
      "4750:\tlearn: 1.5129239\ttest: 1.5599047\tbest: 1.5598917 (4702)\ttotal: 3m 23s\tremaining: 5m 10s\n",
      "5000:\tlearn: 1.5119973\ttest: 1.5599096\tbest: 1.5598917 (4702)\ttotal: 3m 33s\tremaining: 4m 59s\n",
      "5250:\tlearn: 1.5110920\ttest: 1.5599341\tbest: 1.5598917 (4702)\ttotal: 3m 44s\tremaining: 4m 48s\n",
      "5500:\tlearn: 1.5101929\ttest: 1.5599588\tbest: 1.5598917 (4702)\ttotal: 3m 54s\tremaining: 4m 37s\n",
      "5750:\tlearn: 1.5093083\ttest: 1.5599540\tbest: 1.5598917 (4702)\ttotal: 4m 5s\tremaining: 4m 26s\n",
      "6000:\tlearn: 1.5084371\ttest: 1.5600016\tbest: 1.5598917 (4702)\ttotal: 4m 16s\tremaining: 4m 16s\n",
      "6250:\tlearn: 1.5075877\ttest: 1.5600199\tbest: 1.5598917 (4702)\ttotal: 4m 27s\tremaining: 4m 5s\n",
      "6500:\tlearn: 1.5067381\ttest: 1.5600074\tbest: 1.5598917 (4702)\ttotal: 4m 37s\tremaining: 3m 55s\n",
      "6750:\tlearn: 1.5059000\ttest: 1.5600518\tbest: 1.5598917 (4702)\ttotal: 4m 48s\tremaining: 3m 44s\n",
      "7000:\tlearn: 1.5050783\ttest: 1.5600742\tbest: 1.5598917 (4702)\ttotal: 4m 58s\tremaining: 3m 33s\n",
      "7250:\tlearn: 1.5042635\ttest: 1.5601081\tbest: 1.5598917 (4702)\ttotal: 5m 9s\tremaining: 3m 22s\n",
      "7500:\tlearn: 1.5034504\ttest: 1.5601318\tbest: 1.5598917 (4702)\ttotal: 5m 20s\tremaining: 3m 12s\n",
      "7750:\tlearn: 1.5026627\ttest: 1.5601685\tbest: 1.5598917 (4702)\ttotal: 5m 30s\tremaining: 3m 1s\n",
      "8000:\tlearn: 1.5018757\ttest: 1.5602050\tbest: 1.5598917 (4702)\ttotal: 5m 41s\tremaining: 2m 50s\n",
      "8250:\tlearn: 1.5010928\ttest: 1.5602479\tbest: 1.5598917 (4702)\ttotal: 5m 51s\tremaining: 2m 39s\n",
      "8500:\tlearn: 1.5003265\ttest: 1.5602587\tbest: 1.5598917 (4702)\ttotal: 6m 2s\tremaining: 2m 29s\n",
      "8750:\tlearn: 1.4995449\ttest: 1.5602829\tbest: 1.5598917 (4702)\ttotal: 6m 12s\tremaining: 2m 18s\n",
      "9000:\tlearn: 1.4987816\ttest: 1.5603275\tbest: 1.5598917 (4702)\ttotal: 6m 23s\tremaining: 2m 7s\n",
      "9250:\tlearn: 1.4980143\ttest: 1.5603770\tbest: 1.5598917 (4702)\ttotal: 6m 33s\tremaining: 1m 57s\n",
      "9500:\tlearn: 1.4972575\ttest: 1.5604459\tbest: 1.5598917 (4702)\ttotal: 6m 44s\tremaining: 1m 46s\n",
      "9750:\tlearn: 1.4965088\ttest: 1.5604724\tbest: 1.5598917 (4702)\ttotal: 6m 55s\tremaining: 1m 35s\n",
      "10000:\tlearn: 1.4957788\ttest: 1.5605170\tbest: 1.5598917 (4702)\ttotal: 7m 6s\tremaining: 1m 25s\n",
      "10250:\tlearn: 1.4950400\ttest: 1.5605689\tbest: 1.5598917 (4702)\ttotal: 7m 17s\tremaining: 1m 14s\n",
      "10500:\tlearn: 1.4943036\ttest: 1.5606158\tbest: 1.5598917 (4702)\ttotal: 7m 28s\tremaining: 1m 3s\n",
      "10750:\tlearn: 1.4935891\ttest: 1.5606752\tbest: 1.5598917 (4702)\ttotal: 7m 38s\tremaining: 53.3s\n",
      "11000:\tlearn: 1.4928534\ttest: 1.5607188\tbest: 1.5598917 (4702)\ttotal: 7m 49s\tremaining: 42.6s\n",
      "11250:\tlearn: 1.4921444\ttest: 1.5607784\tbest: 1.5598917 (4702)\ttotal: 8m\tremaining: 32s\n",
      "11500:\tlearn: 1.4914247\ttest: 1.5608313\tbest: 1.5598917 (4702)\ttotal: 8m 10s\tremaining: 21.3s\n",
      "11750:\tlearn: 1.4907342\ttest: 1.5608758\tbest: 1.5598917 (4702)\ttotal: 8m 21s\tremaining: 10.6s\n",
      "11999:\tlearn: 1.4900219\ttest: 1.5609313\tbest: 1.5598917 (4702)\ttotal: 8m 32s\tremaining: 0us\n",
      "bestTest = 1.559891731\n",
      "bestIteration = 4702\n",
      "Shrink model to first 4703 iterations.\n",
      "Accuracy: 0.27\n"
     ]
    },
    {
     "output_type": "stream",
     "name": "stderr",
     "text": [
      "wandb: Adding directory to artifact (c:\\CS\\Python\\crypto-collection\\freqtrade\\superft\\.temp\\lightning_15n30-catboost_l2_2021-09-02_16-01-20)... Done. 0.1s\n"
     ]
    },
    {
     "output_type": "display_data",
     "data": {
      "text/html": [
       "<br/>Waiting for W&B process to finish, PID 7808<br/>Program ended successfully."
      ],
      "text/plain": [
       "<IPython.core.display.HTML object>"
      ]
     },
     "metadata": {}
    },
    {
     "output_type": "display_data",
     "data": {
      "application/vnd.jupyter.widget-view+json": {
       "version_major": 2,
       "version_minor": 0,
       "model_id": "abce6c0c37654ef0908a81d95c7b2892"
      },
      "text/plain": [
       "VBox(children=(Label(value=' 27.89MB of 27.89MB uploaded (0.00MB deduped)\\r'), FloatProgress(value=1.0, max=1.…"
      ]
     },
     "metadata": {}
    },
    {
     "output_type": "display_data",
     "data": {
      "text/html": [
       "Find user logs for this run at: <code>c:\\CS\\Python\\crypto-collection\\freqtrade\\superft\\wandb\\run-20210902_155027-39twtcw6\\logs\\debug.log</code>"
      ],
      "text/plain": [
       "<IPython.core.display.HTML object>"
      ]
     },
     "metadata": {}
    },
    {
     "output_type": "display_data",
     "data": {
      "text/html": [
       "Find internal logs for this run at: <code>c:\\CS\\Python\\crypto-collection\\freqtrade\\superft\\wandb\\run-20210902_155027-39twtcw6\\logs\\debug-internal.log</code>"
      ],
      "text/plain": [
       "<IPython.core.display.HTML object>"
      ]
     },
     "metadata": {}
    },
    {
     "output_type": "display_data",
     "data": {
      "text/html": [
       "Synced 6 W&B file(s), 0 media file(s), 2 artifact file(s) and 1 other file(s)"
      ],
      "text/plain": [
       "<IPython.core.display.HTML object>"
      ]
     },
     "metadata": {}
    },
    {
     "output_type": "display_data",
     "data": {
      "text/html": [
       "\n",
       "                    <br/>Synced <strong style=\"color:#cdcd00\">expert-dust-1</strong>: <a href=\"https://wandb.ai/jliberooo/15n30-catboost_l2/runs/39twtcw6\" target=\"_blank\">https://wandb.ai/jliberooo/15n30-catboost_l2/runs/39twtcw6</a><br/>\n",
       "                "
      ],
      "text/plain": [
       "<IPython.core.display.HTML object>"
      ]
     },
     "metadata": {}
    }
   ],
   "metadata": {
    "tags": []
   }
  },
  {
   "cell_type": "markdown",
   "source": [
    "# Predictions EDA"
   ],
   "metadata": {}
  },
  {
   "cell_type": "code",
   "execution_count": 5,
   "source": [
    "# Validate prediction function by simulate inserting freqtrade data into predict function\r\n",
    "df_val_preds = trainer.validate_predict(container)\r\n",
    "df_val_preds"
   ],
   "outputs": [
    {
     "output_type": "stream",
     "name": "stdout",
     "text": [
      "freqtrade.ml.container - Not dropping X columns in predict because it doesn't exist in predict columns\n"
     ]
    },
    {
     "output_type": "stream",
     "name": "stderr",
     "text": [
      "INFO:freqtrade.ml.container:Not dropping X columns in predict because it doesn't exist in predict columns\n"
     ]
    },
    {
     "output_type": "stream",
     "name": "stdout",
     "text": [
      "freqtrade.ml.container - Returned new columns from df_preds: ['ml_0', 'ml_1', 'ml_2', 'ml_3', 'ml_4']\n"
     ]
    },
    {
     "output_type": "stream",
     "name": "stderr",
     "text": [
      "INFO:freqtrade.ml.container:Returned new columns from df_preds: ['ml_0', 'ml_1', 'ml_2', 'ml_3', 'ml_4']\n"
     ]
    },
    {
     "output_type": "stream",
     "name": "stdout",
     "text": [
      "\n",
      "Dataset: Binance BTC/USDT 15m iloc[-10000:] (Freqtrade Regularized)\n",
      "\n",
      "\n",
      "DF WITH PREDICTIONS INFO\n",
      "----------\n",
      "<class 'pandas.core.frame.DataFrame'>\n",
      "Int64Index: 10000 entries, 131026 to 141025\n",
      "Data columns (total 11 columns):\n",
      " #   Column  Non-Null Count  Dtype              \n",
      "---  ------  --------------  -----              \n",
      " 0   date    10000 non-null  datetime64[ns, UTC]\n",
      " 1   open    10000 non-null  float64            \n",
      " 2   high    10000 non-null  float64            \n",
      " 3   low     10000 non-null  float64            \n",
      " 4   close   10000 non-null  float64            \n",
      " 5   volume  10000 non-null  float64            \n",
      " 6   ml_0    9998 non-null   float64            \n",
      " 7   ml_1    9998 non-null   float64            \n",
      " 8   ml_2    9998 non-null   float64            \n",
      " 9   ml_3    9998 non-null   float64            \n",
      " 10  ml_4    9998 non-null   float64            \n",
      "dtypes: datetime64[ns, UTC](1), float64(10)\n",
      "memory usage: 937.5 KB\n",
      "None\n",
      "\n",
      "\n",
      "DF Original\n",
      "----------\n",
      "                            date      open      high       low     close  \\\n",
      "131026 2021-05-13 00:30:00+00:00  49711.83  50630.00  49578.94  49896.61   \n",
      "131027 2021-05-13 00:45:00+00:00  49896.15  50324.72  49581.44  49666.99   \n",
      "131028 2021-05-13 01:00:00+00:00  49661.12  50600.00  49305.43  50191.47   \n",
      "131029 2021-05-13 01:15:00+00:00  50191.47  50437.86  49972.44  50324.12   \n",
      "131030 2021-05-13 01:30:00+00:00  50314.99  50374.48  49665.94  49889.82   \n",
      "...                          ...       ...       ...       ...       ...   \n",
      "141021 2021-08-25 03:15:00+00:00  48135.89  48274.85  48117.73  48250.65   \n",
      "141022 2021-08-25 03:30:00+00:00  48250.65  48275.00  48132.05  48191.09   \n",
      "141023 2021-08-25 03:45:00+00:00  48191.08  48248.23  47965.00  47975.93   \n",
      "141024 2021-08-25 04:00:00+00:00  47975.93  48245.00  47940.02  48155.56   \n",
      "141025 2021-08-25 04:15:00+00:00  48155.56  48230.00  47964.34  47978.77   \n",
      "\n",
      "             volume  \n",
      "131026  5110.913916  \n",
      "131027  2389.969100  \n",
      "131028  3869.211034  \n",
      "131029  2755.398561  \n",
      "131030  2116.566505  \n",
      "...             ...  \n",
      "141021   211.447645  \n",
      "141022   194.839454  \n",
      "141023   344.786940  \n",
      "141024   275.930495  \n",
      "141025   304.607179  \n",
      "\n",
      "[10000 rows x 6 columns]\n",
      "\n",
      "\n",
      "DF + Preds\n",
      "----------\n",
      "                            date      open      high       low     close  \\\n",
      "131026 2021-05-13 00:30:00+00:00  49711.83  50630.00  49578.94  49896.61   \n",
      "131027 2021-05-13 00:45:00+00:00  49896.15  50324.72  49581.44  49666.99   \n",
      "131028 2021-05-13 01:00:00+00:00  49661.12  50600.00  49305.43  50191.47   \n",
      "131029 2021-05-13 01:15:00+00:00  50191.47  50437.86  49972.44  50324.12   \n",
      "131030 2021-05-13 01:30:00+00:00  50314.99  50374.48  49665.94  49889.82   \n",
      "...                          ...       ...       ...       ...       ...   \n",
      "141021 2021-08-25 03:15:00+00:00  48135.89  48274.85  48117.73  48250.65   \n",
      "141022 2021-08-25 03:30:00+00:00  48250.65  48275.00  48132.05  48191.09   \n",
      "141023 2021-08-25 03:45:00+00:00  48191.08  48248.23  47965.00  47975.93   \n",
      "141024 2021-08-25 04:00:00+00:00  47975.93  48245.00  47940.02  48155.56   \n",
      "141025 2021-08-25 04:15:00+00:00  48155.56  48230.00  47964.34  47978.77   \n",
      "\n",
      "             volume      ml_0      ml_1      ml_2      ml_3      ml_4  \n",
      "131026  5110.913916  0.163629  0.163629  0.163628  0.175082  0.334032  \n",
      "131027  2389.969100  0.163499  0.163499  0.163498  0.173767  0.335738  \n",
      "131028  3869.211034  0.333124  0.176003  0.163624  0.163624  0.163624  \n",
      "131029  2755.398561  0.165340  0.165340  0.167072  0.269613  0.232636  \n",
      "131030  2116.566505  0.163499  0.163499  0.163498  0.173767  0.335738  \n",
      "...             ...       ...       ...       ...       ...       ...  \n",
      "141021   211.447645  0.333124  0.176003  0.163624  0.163624  0.163624  \n",
      "141022   194.839454  0.163916  0.189612  0.316306  0.166248  0.163918  \n",
      "141023   344.786940  0.163456  0.169008  0.336713  0.167368  0.163455  \n",
      "141024   275.930495       NaN       NaN       NaN       NaN       NaN  \n",
      "141025   304.607179       NaN       NaN       NaN       NaN       NaN  \n",
      "\n",
      "[10000 rows x 11 columns]\n",
      "\n",
      "\n",
      "Vanilla Prediction [MAKE SURE SAME WITH PREDICTION DF!]\n",
      "----------\n",
      "             0         1         2         3         4\n",
      "0     0.163629  0.163629  0.163628  0.175082  0.334032\n",
      "1     0.163499  0.163499  0.163498  0.173767  0.335738\n",
      "2     0.333124  0.176003  0.163624  0.163624  0.163624\n",
      "3     0.165340  0.165340  0.167072  0.269613  0.232636\n",
      "4     0.163499  0.163499  0.163498  0.173767  0.335738\n",
      "...        ...       ...       ...       ...       ...\n",
      "9993  0.164758  0.165179  0.200350  0.300793  0.168920\n",
      "9994  0.163743  0.163742  0.179276  0.323578  0.169661\n",
      "9995  0.333124  0.176003  0.163624  0.163624  0.163624\n",
      "9996  0.163916  0.189612  0.316306  0.166248  0.163918\n",
      "9997  0.163456  0.169008  0.336713  0.167368  0.163455\n",
      "\n",
      "[9998 rows x 5 columns]\n",
      "\n",
      "LEN VANILLA PREDS: 9998\n",
      "LEN DF + PREDS NON NAN: 9998\n",
      "\n",
      "PASSED: The model passed the validation test!\n"
     ]
    },
    {
     "output_type": "execute_result",
     "data": {
      "text/html": [
       "<div>\n",
       "<style scoped>\n",
       "    .dataframe tbody tr th:only-of-type {\n",
       "        vertical-align: middle;\n",
       "    }\n",
       "\n",
       "    .dataframe tbody tr th {\n",
       "        vertical-align: top;\n",
       "    }\n",
       "\n",
       "    .dataframe thead th {\n",
       "        text-align: right;\n",
       "    }\n",
       "</style>\n",
       "<table border=\"1\" class=\"dataframe\">\n",
       "  <thead>\n",
       "    <tr style=\"text-align: right;\">\n",
       "      <th></th>\n",
       "      <th>date</th>\n",
       "      <th>open</th>\n",
       "      <th>high</th>\n",
       "      <th>low</th>\n",
       "      <th>close</th>\n",
       "      <th>volume</th>\n",
       "      <th>ml_0</th>\n",
       "      <th>ml_1</th>\n",
       "      <th>ml_2</th>\n",
       "      <th>ml_3</th>\n",
       "      <th>ml_4</th>\n",
       "    </tr>\n",
       "  </thead>\n",
       "  <tbody>\n",
       "    <tr>\n",
       "      <th>131026</th>\n",
       "      <td>2021-05-13 00:30:00+00:00</td>\n",
       "      <td>49711.83</td>\n",
       "      <td>50630.00</td>\n",
       "      <td>49578.94</td>\n",
       "      <td>49896.61</td>\n",
       "      <td>5110.913916</td>\n",
       "      <td>0.163629</td>\n",
       "      <td>0.163629</td>\n",
       "      <td>0.163628</td>\n",
       "      <td>0.175082</td>\n",
       "      <td>0.334032</td>\n",
       "    </tr>\n",
       "    <tr>\n",
       "      <th>131027</th>\n",
       "      <td>2021-05-13 00:45:00+00:00</td>\n",
       "      <td>49896.15</td>\n",
       "      <td>50324.72</td>\n",
       "      <td>49581.44</td>\n",
       "      <td>49666.99</td>\n",
       "      <td>2389.969100</td>\n",
       "      <td>0.163499</td>\n",
       "      <td>0.163499</td>\n",
       "      <td>0.163498</td>\n",
       "      <td>0.173767</td>\n",
       "      <td>0.335738</td>\n",
       "    </tr>\n",
       "    <tr>\n",
       "      <th>131028</th>\n",
       "      <td>2021-05-13 01:00:00+00:00</td>\n",
       "      <td>49661.12</td>\n",
       "      <td>50600.00</td>\n",
       "      <td>49305.43</td>\n",
       "      <td>50191.47</td>\n",
       "      <td>3869.211034</td>\n",
       "      <td>0.333124</td>\n",
       "      <td>0.176003</td>\n",
       "      <td>0.163624</td>\n",
       "      <td>0.163624</td>\n",
       "      <td>0.163624</td>\n",
       "    </tr>\n",
       "    <tr>\n",
       "      <th>131029</th>\n",
       "      <td>2021-05-13 01:15:00+00:00</td>\n",
       "      <td>50191.47</td>\n",
       "      <td>50437.86</td>\n",
       "      <td>49972.44</td>\n",
       "      <td>50324.12</td>\n",
       "      <td>2755.398561</td>\n",
       "      <td>0.165340</td>\n",
       "      <td>0.165340</td>\n",
       "      <td>0.167072</td>\n",
       "      <td>0.269613</td>\n",
       "      <td>0.232636</td>\n",
       "    </tr>\n",
       "    <tr>\n",
       "      <th>131030</th>\n",
       "      <td>2021-05-13 01:30:00+00:00</td>\n",
       "      <td>50314.99</td>\n",
       "      <td>50374.48</td>\n",
       "      <td>49665.94</td>\n",
       "      <td>49889.82</td>\n",
       "      <td>2116.566505</td>\n",
       "      <td>0.163499</td>\n",
       "      <td>0.163499</td>\n",
       "      <td>0.163498</td>\n",
       "      <td>0.173767</td>\n",
       "      <td>0.335738</td>\n",
       "    </tr>\n",
       "    <tr>\n",
       "      <th>...</th>\n",
       "      <td>...</td>\n",
       "      <td>...</td>\n",
       "      <td>...</td>\n",
       "      <td>...</td>\n",
       "      <td>...</td>\n",
       "      <td>...</td>\n",
       "      <td>...</td>\n",
       "      <td>...</td>\n",
       "      <td>...</td>\n",
       "      <td>...</td>\n",
       "      <td>...</td>\n",
       "    </tr>\n",
       "    <tr>\n",
       "      <th>141021</th>\n",
       "      <td>2021-08-25 03:15:00+00:00</td>\n",
       "      <td>48135.89</td>\n",
       "      <td>48274.85</td>\n",
       "      <td>48117.73</td>\n",
       "      <td>48250.65</td>\n",
       "      <td>211.447645</td>\n",
       "      <td>0.333124</td>\n",
       "      <td>0.176003</td>\n",
       "      <td>0.163624</td>\n",
       "      <td>0.163624</td>\n",
       "      <td>0.163624</td>\n",
       "    </tr>\n",
       "    <tr>\n",
       "      <th>141022</th>\n",
       "      <td>2021-08-25 03:30:00+00:00</td>\n",
       "      <td>48250.65</td>\n",
       "      <td>48275.00</td>\n",
       "      <td>48132.05</td>\n",
       "      <td>48191.09</td>\n",
       "      <td>194.839454</td>\n",
       "      <td>0.163916</td>\n",
       "      <td>0.189612</td>\n",
       "      <td>0.316306</td>\n",
       "      <td>0.166248</td>\n",
       "      <td>0.163918</td>\n",
       "    </tr>\n",
       "    <tr>\n",
       "      <th>141023</th>\n",
       "      <td>2021-08-25 03:45:00+00:00</td>\n",
       "      <td>48191.08</td>\n",
       "      <td>48248.23</td>\n",
       "      <td>47965.00</td>\n",
       "      <td>47975.93</td>\n",
       "      <td>344.786940</td>\n",
       "      <td>0.163456</td>\n",
       "      <td>0.169008</td>\n",
       "      <td>0.336713</td>\n",
       "      <td>0.167368</td>\n",
       "      <td>0.163455</td>\n",
       "    </tr>\n",
       "    <tr>\n",
       "      <th>141024</th>\n",
       "      <td>2021-08-25 04:00:00+00:00</td>\n",
       "      <td>47975.93</td>\n",
       "      <td>48245.00</td>\n",
       "      <td>47940.02</td>\n",
       "      <td>48155.56</td>\n",
       "      <td>275.930495</td>\n",
       "      <td>NaN</td>\n",
       "      <td>NaN</td>\n",
       "      <td>NaN</td>\n",
       "      <td>NaN</td>\n",
       "      <td>NaN</td>\n",
       "    </tr>\n",
       "    <tr>\n",
       "      <th>141025</th>\n",
       "      <td>2021-08-25 04:15:00+00:00</td>\n",
       "      <td>48155.56</td>\n",
       "      <td>48230.00</td>\n",
       "      <td>47964.34</td>\n",
       "      <td>47978.77</td>\n",
       "      <td>304.607179</td>\n",
       "      <td>NaN</td>\n",
       "      <td>NaN</td>\n",
       "      <td>NaN</td>\n",
       "      <td>NaN</td>\n",
       "      <td>NaN</td>\n",
       "    </tr>\n",
       "  </tbody>\n",
       "</table>\n",
       "<p>10000 rows × 11 columns</p>\n",
       "</div>"
      ],
      "text/plain": [
       "                            date      open      high       low     close  \\\n",
       "131026 2021-05-13 00:30:00+00:00  49711.83  50630.00  49578.94  49896.61   \n",
       "131027 2021-05-13 00:45:00+00:00  49896.15  50324.72  49581.44  49666.99   \n",
       "131028 2021-05-13 01:00:00+00:00  49661.12  50600.00  49305.43  50191.47   \n",
       "131029 2021-05-13 01:15:00+00:00  50191.47  50437.86  49972.44  50324.12   \n",
       "131030 2021-05-13 01:30:00+00:00  50314.99  50374.48  49665.94  49889.82   \n",
       "...                          ...       ...       ...       ...       ...   \n",
       "141021 2021-08-25 03:15:00+00:00  48135.89  48274.85  48117.73  48250.65   \n",
       "141022 2021-08-25 03:30:00+00:00  48250.65  48275.00  48132.05  48191.09   \n",
       "141023 2021-08-25 03:45:00+00:00  48191.08  48248.23  47965.00  47975.93   \n",
       "141024 2021-08-25 04:00:00+00:00  47975.93  48245.00  47940.02  48155.56   \n",
       "141025 2021-08-25 04:15:00+00:00  48155.56  48230.00  47964.34  47978.77   \n",
       "\n",
       "             volume      ml_0      ml_1      ml_2      ml_3      ml_4  \n",
       "131026  5110.913916  0.163629  0.163629  0.163628  0.175082  0.334032  \n",
       "131027  2389.969100  0.163499  0.163499  0.163498  0.173767  0.335738  \n",
       "131028  3869.211034  0.333124  0.176003  0.163624  0.163624  0.163624  \n",
       "131029  2755.398561  0.165340  0.165340  0.167072  0.269613  0.232636  \n",
       "131030  2116.566505  0.163499  0.163499  0.163498  0.173767  0.335738  \n",
       "...             ...       ...       ...       ...       ...       ...  \n",
       "141021   211.447645  0.333124  0.176003  0.163624  0.163624  0.163624  \n",
       "141022   194.839454  0.163916  0.189612  0.316306  0.166248  0.163918  \n",
       "141023   344.786940  0.163456  0.169008  0.336713  0.167368  0.163455  \n",
       "141024   275.930495       NaN       NaN       NaN       NaN       NaN  \n",
       "141025   304.607179       NaN       NaN       NaN       NaN       NaN  \n",
       "\n",
       "[10000 rows x 11 columns]"
      ]
     },
     "metadata": {},
     "execution_count": 5
    }
   ],
   "metadata": {
    "tags": []
   }
  },
  {
   "cell_type": "code",
   "execution_count": 6,
   "source": [
    "def plot_feature_importance(importance,names,model_type):\r\n",
    "    import matplotlib.pyplot as plt\r\n",
    "    #Create arrays from feature importance and feature names\r\n",
    "    feature_importance = np.array(importance)\r\n",
    "    feature_names = np.array(names)\r\n",
    "    \r\n",
    "    #Create a DataFrame using a Dictionary\r\n",
    "    data={'feature_names':feature_names,'feature_importance':feature_importance}\r\n",
    "    fi_df = pd.DataFrame(data)\r\n",
    "    \r\n",
    "    #Sort the DataFrame in order decreasing feature importance\r\n",
    "    fi_df.sort_values(by=['feature_importance'], ascending=False,inplace=True)\r\n",
    "    \r\n",
    "    #Define size of bar plot\r\n",
    "    plt.figure(figsize=(10,14))\r\n",
    "    #Plot Searborn bar chart\r\n",
    "    plt.barh(width=fi_df['feature_importance'], y=fi_df['feature_names'])\r\n",
    "    #Add chart labels\r\n",
    "    plt.title(model_type + ' FEATURE IMPORTANCE')\r\n",
    "    plt.xlabel('FEATURE IMPORTANCE')\r\n",
    "    plt.ylabel('FEATURE NAMES')\r\n",
    "    \r\n",
    "plot_feature_importance(container.module.model.get_feature_importance(), container.config.columns_x, 'CATBOOST')"
   ],
   "outputs": [
    {
     "output_type": "display_data",
     "data": {
      "image/png": "[encoded data removed]",
      "text/plain": [
       "<Figure size 720x1008 with 1 Axes>"
      ]
     },
     "metadata": {
      "needs_background": "light"
     }
    }
   ],
   "metadata": {}
  },
  {
   "cell_type": "markdown",
   "source": [
    "# Quick Takeaway from \"15n30-catboost_l2\"\r\n",
    "- Model version: v0\r\n",
    "- Mini training: False\r\n",
    "\r\n",
    "Very good results in Model x Strategy Optimization using strategy:\r\n",
    "\r\n",
    "Buy when:\r\n",
    "- Close above 200 EMA\r\n",
    "- Argmax is ml_4\r\n",
    "- ml_4 > 0.6\r\n",
    "\r\n",
    "But not good in Unbiased Testing phase.\r\n",
    "\r\n",
    "Conclusion:\r\n",
    "- Training using data to the present may affect performance in forward test\r\n",
    "- Performance degraded when tested with data that is distant from trainval data"
   ],
   "metadata": {}
  },
  {
   "cell_type": "markdown",
   "source": [],
   "metadata": {}
  }
 ],
 "metadata": {
  "kernelspec": {
   "name": "python3",
   "display_name": "Python 3.9.5 64-bit ('freqtrade-futures': virtualenv)"
  },
  "language_info": {
   "codemirror_mode": {
    "name": "ipython",
    "version": 3
   },
   "file_extension": ".py",
   "mimetype": "text/x-python",
   "name": "python",
   "nbconvert_exporter": "python",
   "pygments_lexer": "ipython3",
   "version": "3.9.5"
  },
  "widgets": {
   "application/vnd.jupyter.widget-state+json": {
    "state": {},
    "version_major": 2,
    "version_minor": 0
   }
  },
  "interpreter": {
   "hash": "01a71ee6dbb5cd792900cee3209e98c906676fa32abfeb4483902a4a80aaf85b"
  }
 },
 "nbformat": 4,
 "nbformat_minor": 5
}