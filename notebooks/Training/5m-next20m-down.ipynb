{
 "cells": [
  {
   "cell_type": "code",
   "execution_count": 3,
   "id": "0f705f1c-a7d6-4be4-8c91-2b8914805721",
   "metadata": {},
   "outputs": [],
   "source": [
    "from pathlib import Path\n",
    "\n",
    "import os\n",
    "import wandb\n",
    "import nest_asyncio\n",
    "\n",
    "nest_asyncio.apply()\n",
    "\n",
    "while \"freqtrade\" not in os.listdir():\n",
    "    os.chdir(\"..\")\n",
    "\n",
    "PATH_MOUNT = Path.cwd().parent / \"mount\"\n",
    "PATH_DATA = PATH_MOUNT / \"data\"\n",
    "BINANCE = PATH_DATA / \"binance\""
   ]
  },
  {
   "cell_type": "code",
   "execution_count": 4,
   "id": "dae71984-56a2-451e-b22a-cbbbac5dc36b",
   "metadata": {},
   "outputs": [],
   "source": [
    "\"\"\"\n",
    "Date <= Last 2 months: Train and Val (Shuffled val data)\n",
    "Date <= Last month   : Strategy optimization\n",
    "Last Month to Present: Unbiased backtesting\n",
    "\"\"\"\n",
    "TRAINVAL_START, TRAINVAL_END = \"2021-01-01\", \"2021-05-15\"\n",
    "OPT_START, OPT_END           = \"2021-05-16\", \"2021-06-15\"\n",
    "TEST_START, TEST_END         = \"2021-06-16\", \"2021-07-15\"\n",
    "\n",
    "\"\"\" \n",
    "Configuration\n",
    "\"\"\"\n",
    "NAME = \"5m-next20m-down\"\n",
    "TIMEFRAME = \"5m\"\n",
    "DATASET = BINANCE.glob(f\"*DOWN_USDT-{TIMEFRAME}.json\")\n",
    "COLUMNS_NOT_USE = []"
   ]
  },
  {
   "cell_type": "code",
   "execution_count": null,
   "id": "f8a080cf-c7f1-4206-9b88-55aab7f9a218",
   "metadata": {},
   "outputs": [],
   "source": []
  }
 ],
 "metadata": {
  "kernelspec": {
   "display_name": "Python 3 (ipykernel)",
   "language": "python",
   "name": "python3"
  },
  "language_info": {
   "codemirror_mode": {
    "name": "ipython",
    "version": 3
   },
   "file_extension": ".py",
   "mimetype": "text/x-python",
   "name": "python",
   "nbconvert_exporter": "python",
   "pygments_lexer": "ipython3",
   "version": "3.9.5"
  }
 },
 "nbformat": 4,
 "nbformat_minor": 5
}
