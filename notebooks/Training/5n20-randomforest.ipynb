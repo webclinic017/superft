{
 "cells": [
  {
   "cell_type": "code",
   "execution_count": 1,
   "id": "9822edac-3a0f-427b-9868-d1fcd2bcbe4f",
   "metadata": {},
   "outputs": [],
   "source": [
    "%load_ext autoreload\n",
    "%autoreload 2\n",
    "\n",
    "from pathlib import Path\n",
    "from typing import List, Callable, Tuple, Any\n",
    "from wandb.wandb_run import Run\n",
    "from datetime import datetime, timedelta\n",
    "\n",
    "from sklearn.model_selection import train_test_split\n",
    "from sklearn.ensemble import RandomForestClassifier\n",
    "\n",
    "import attr\n",
    "import pandas as pd\n",
    "import gc\n",
    "import os\n",
    "import wandb\n",
    "import nest_asyncio\n",
    "\n",
    "nest_asyncio.apply()\n",
    "\n",
    "while \"freqtrade\" not in os.listdir():\n",
    "    os.chdir(\"..\")\n",
    "    \n",
    "from freqtrade.ml.lightning import LightningModule, LightningConfig\n",
    "from freqtrade.ml.trainer import TradingTrainer\n",
    "from freqtrade.ml.container import LightningContainer\n",
    "from freqtrade.ml import loader\n",
    "\n",
    "\n",
    "from freqtrade.nbtools.helper import free_mem\n",
    "from freqtrade.nbtools.pairs import PAIRS_HIGHCAP_NONSTABLE\n",
    "\n",
    "container = None"
   ]
  },
  {
   "cell_type": "code",
   "execution_count": 2,
   "id": "ac13e5b5-8b87-4ed9-a48d-532b1b2c4a26",
   "metadata": {},
   "outputs": [],
   "source": [
    "attr.s(repr=False)\n",
    "class RandomForest(LightningModule):\n",
    "    \"\"\" Template for LightningModule \"\"\"\n",
    "        \n",
    "    def on_configure(self) -> LightningConfig:\n",
    "        \n",
    "        # This datetime can be replaced with datetime.now()\n",
    "        now = datetime(2021, 7, 26)\n",
    "        \n",
    "        # Lighting Configuration\n",
    "        config = LightningConfig(\n",
    "            \n",
    "            # Basic info\n",
    "            name        = \"5n20-randomforest\",\n",
    "            timeframe   = \"5m\",\n",
    "            exchange    = \"binance\",\n",
    "            \n",
    "            # Train and validation datetime\n",
    "            trainval_start  = now - timedelta(days=120),\n",
    "            trainval_end    = now - timedelta(days=60),\n",
    "            \n",
    "            # Backtest Optimization datetime\n",
    "            opt_start = now - timedelta(days=59),\n",
    "            opt_end   = now - timedelta(days=30),\n",
    "            \n",
    "            # Unbiased Backtest datetime\n",
    "            test_start = now - timedelta(days=29),\n",
    "            test_end   = now,\n",
    "        )\n",
    "        \n",
    "        # Optional custom config attributes\n",
    "        config.add_custom(\"num_epochs\", 1000)\n",
    "        config.add_custom(\"num_future_candles\", 4)\n",
    "        config.add_custom(\"num_classification_classes\", 3)\n",
    "        \n",
    "        return config\n",
    "        \n",
    "    def on_get_data_paths(self, cwd: Path, timeframe: str, exchange: str) -> List[Path]:\n",
    "        path_data_exchange = cwd.parent / \"mount\" / \"data\" / exchange\n",
    "\n",
    "        return [\n",
    "            datapath\n",
    "            for datapath in list(path_data_exchange.glob(f\"*-{timeframe}.json\"))\n",
    "            if datapath.name.split(\"-\")[0].replace(\"_\", \"/\")\n",
    "            in PAIRS_HIGHCAP_NONSTABLE[:5]\n",
    "        ]\n",
    "    \n",
    "    def on_add_features(self, df_onepair: pd.DataFrame) -> pd.DataFrame:\n",
    "        import talib.abstract as ta\n",
    "\n",
    "        # Start add features\n",
    "        spaces = [3, 5, 9, 15, 25, 50, 100, 200]\n",
    "        for i in spaces:\n",
    "            df_onepair[f\"ml_smadiff_{i}\"] = (df_onepair['close'].rolling(i).mean() - df_onepair['close'])\n",
    "            df_onepair[f\"ml_maxdiff_{i}\"] = (df_onepair['close'].rolling(i).max() - df_onepair['close'])\n",
    "            df_onepair[f\"ml_mindiff_{i}\"] = (df_onepair['close'].rolling(i).min() - df_onepair['close'])\n",
    "            df_onepair[f\"ml_std_{i}\"] = df_onepair['close'].rolling(i).std()\n",
    "            df_onepair[f\"ml_ma_{i}\"] = df_onepair['close'].pct_change(i).rolling(i).mean()\n",
    "            df_onepair[f\"ml_rsi_{i}\"] = ta.RSI(df_onepair[\"close\"], timeperiod=i)\n",
    "\n",
    "        df_onepair['ml_bop'] = ta.BOP(df_onepair['open'], df_onepair['high'], df_onepair['low'], df_onepair['close'])\n",
    "        df_onepair[\"ml_volume_pctchange\"] = df_onepair['volume'].pct_change()\n",
    "        df_onepair['ml_z_score_120'] = ((df_onepair[\"ml_ma_15\"] - df_onepair[\"ml_ma_15\"].rolling(21).mean() + 1e-9) \n",
    "                             / (df_onepair[\"ml_ma_15\"].rolling(21).std() + 1e-9))\n",
    "\n",
    "        return df_onepair\n",
    "    \n",
    "    def on_add_labels(self, df_onepair: pd.DataFrame) -> pd.DataFrame:\n",
    "        # Create labels for classification task\n",
    "        future_price = df_onepair['close'].shift(-self.config.num_future_candles)\n",
    "        ml_label = (future_price - df_onepair['close']) / df_onepair['close']\n",
    "        df_onepair[self.config.column_y] = pd.qcut(ml_label, self.config.num_classification_classes, labels=False)\n",
    "        return df_onepair\n",
    "    \n",
    "    def on_final_processing(self, df_allpairs: pd.DataFrame) -> Tuple[Any, Any, Any, Any]:\n",
    "        df_allpairs = self._balance_class_dataset(df_allpairs)\n",
    "        X = df_allpairs[self.config.columns_x]\n",
    "        y = df_allpairs[self.config.column_y]\n",
    "        X_train, X_val, y_train, y_val = train_test_split(X, y, test_size=0.2, random_state=1)\n",
    "        return X_train, X_val, y_train, y_val\n",
    "    \n",
    "    def _balance_class_dataset(self, df_allpairs: pd.DataFrame) -> pd.DataFrame:\n",
    "        \"\"\"Balance num of datas in every class\"\"\"\n",
    "        lengths_every_class = list(df_allpairs.groupby(by=[\"ml_label\"]).count()[\"date\"])\n",
    "        df_allpairs_copy = pd.DataFrame()\n",
    "\n",
    "        for classname in df_allpairs[\"ml_label\"].unique():\n",
    "            minimum_of_all = min(lengths_every_class)\n",
    "            df_allpairs_copy = df_allpairs_copy.append(df_allpairs.loc[df_allpairs[\"ml_label\"] == classname, :].iloc[:minimum_of_all])\n",
    "\n",
    "        # Performance improvements\n",
    "        df_allpairs_copy = df_allpairs_copy.astype(\n",
    "            {col: \"float32\" for col in df_allpairs_copy.columns if \"float\" in str(df_allpairs_copy[col].dtype)}\n",
    "        )\n",
    "        free_mem(df_allpairs)\n",
    "        return df_allpairs_copy\n",
    "    \n",
    "    def on_define_model(self, run: Run, X_train, X_val, y_train, y_val) -> Any:\n",
    "        return RandomForestClassifier(max_depth=2, random_state=0)\n",
    "    \n",
    "    def on_start_training(self, run: Run, X_train, X_val, y_train, y_val):\n",
    "        print(\"Start Training...\")\n",
    "        self.model: RandomForestClassifier\n",
    "        self.model.fit(X_train, y_train)\n",
    "    \n",
    "    def on_predict(self, df_input_onepair: pd.DataFrame) -> pd.DataFrame:\n",
    "        preds = self.model.predict_proba(df_input_onepair)\n",
    "        df_preds = pd.DataFrame(preds)\n",
    "        return df_preds\n",
    "    \n",
    "    def on_training_step(self, run: Run, data: dict):\n",
    "        raise NotImplementedError()\n",
    "        "
   ]
  },
  {
   "cell_type": "markdown",
   "id": "3f7f7f04-d4bd-4f75-bf4d-cd47cd04c986",
   "metadata": {},
   "source": [
    "### Start Training"
   ]
  },
  {
   "cell_type": "code",
   "execution_count": 3,
   "id": "dbb80e5f-aae7-4c20-80f5-22b7dcfa9400",
   "metadata": {},
   "outputs": [
    {
     "name": "stderr",
     "output_type": "stream",
     "text": [
      "\u001b[34m\u001b[1mwandb\u001b[0m: Currently logged in as: \u001b[33mjliberooo\u001b[0m (use `wandb login --relogin` to force relogin)\n",
      "\u001b[34m\u001b[1mwandb\u001b[0m: wandb version 0.11.1 is available!  To upgrade, please run:\n",
      "\u001b[34m\u001b[1mwandb\u001b[0m:  $ pip install wandb --upgrade\n"
     ]
    },
    {
     "data": {
      "text/html": [
       "\n",
       "                Tracking run with wandb version 0.10.33<br/>\n",
       "                Syncing run <strong style=\"color:#cdcd00\">amber-night-12</strong> to <a href=\"https://wandb.ai\" target=\"_blank\">Weights & Biases</a> <a href=\"https://docs.wandb.com/integrations/jupyter.html\" target=\"_blank\">(Documentation)</a>.<br/>\n",
       "                Project page: <a href=\"https://wandb.ai/jliberooo/5n20-randomforest\" target=\"_blank\">https://wandb.ai/jliberooo/5n20-randomforest</a><br/>\n",
       "                Run page: <a href=\"https://wandb.ai/jliberooo/5n20-randomforest/runs/25kwest2\" target=\"_blank\">https://wandb.ai/jliberooo/5n20-randomforest/runs/25kwest2</a><br/>\n",
       "                Run data is saved locally in <code>C:\\CS\\Python\\crypto-collection\\freqtrade\\superft\\wandb\\run-20210731_165644-25kwest2</code><br/><br/>\n",
       "            "
      ],
      "text/plain": [
       "<IPython.core.display.HTML object>"
      ]
     },
     "metadata": {},
     "output_type": "display_data"
    },
    {
     "name": "stdout",
     "output_type": "stream",
     "text": [
      "Start Training...\n"
     ]
    },
    {
     "name": "stderr",
     "output_type": "stream",
     "text": [
      "\u001b[34m\u001b[1mwandb\u001b[0m: Adding directory to artifact (C:\\CS\\Python\\crypto-collection\\freqtrade\\superft\\.temp\\lightning_5n20-randomforest_2021-07-31_16-57-01)... Done. 0.0s\n"
     ]
    },
    {
     "data": {
      "text/html": [
       "<br/>Waiting for W&B process to finish, PID 26580<br/>Program ended successfully."
      ],
      "text/plain": [
       "<IPython.core.display.HTML object>"
      ]
     },
     "metadata": {},
     "output_type": "display_data"
    },
    {
     "data": {
      "application/vnd.jupyter.widget-view+json": {
       "model_id": "",
       "version_major": 2,
       "version_minor": 0
      },
      "text/plain": [
       "VBox(children=(Label(value=' 1.30MB of 1.30MB uploaded (0.00MB deduped)\\r'), FloatProgress(value=1.0, max=1.0)…"
      ]
     },
     "metadata": {},
     "output_type": "display_data"
    },
    {
     "data": {
      "text/html": [
       "Find user logs for this run at: <code>C:\\CS\\Python\\crypto-collection\\freqtrade\\superft\\wandb\\run-20210731_165644-25kwest2\\logs\\debug.log</code>"
      ],
      "text/plain": [
       "<IPython.core.display.HTML object>"
      ]
     },
     "metadata": {},
     "output_type": "display_data"
    },
    {
     "data": {
      "text/html": [
       "Find internal logs for this run at: <code>C:\\CS\\Python\\crypto-collection\\freqtrade\\superft\\wandb\\run-20210731_165644-25kwest2\\logs\\debug-internal.log</code>"
      ],
      "text/plain": [
       "<IPython.core.display.HTML object>"
      ]
     },
     "metadata": {},
     "output_type": "display_data"
    },
    {
     "data": {
      "text/html": [
       "Synced 6 W&B file(s), 0 media file(s), 4 artifact file(s) and 1 other file(s)"
      ],
      "text/plain": [
       "<IPython.core.display.HTML object>"
      ]
     },
     "metadata": {},
     "output_type": "display_data"
    },
    {
     "data": {
      "text/html": [
       "\n",
       "                    <br/>Synced <strong style=\"color:#cdcd00\">amber-night-12</strong>: <a href=\"https://wandb.ai/jliberooo/5n20-randomforest/runs/25kwest2\" target=\"_blank\">https://wandb.ai/jliberooo/5n20-randomforest/runs/25kwest2</a><br/>\n",
       "                "
      ],
      "text/plain": [
       "<IPython.core.display.HTML object>"
      ]
     },
     "metadata": {},
     "output_type": "display_data"
    }
   ],
   "source": [
    "module = RandomForest()\n",
    "\n",
    "with wandb.init(project=module.config.name) as run:\n",
    "    trainer = TradingTrainer()\n",
    "    container = trainer.fit(module, run)"
   ]
  },
  {
   "cell_type": "markdown",
   "id": "f1fb3374-96b9-436b-a391-74fc574c781d",
   "metadata": {},
   "source": [
    "### Dataset EDA"
   ]
  },
  {
   "cell_type": "code",
   "execution_count": 4,
   "id": "e2b0fa02-7db7-4084-a808-73be271a5bf2",
   "metadata": {},
   "outputs": [
    {
     "data": {
      "text/html": [
       "<div>\n",
       "<style scoped>\n",
       "    .dataframe tbody tr th:only-of-type {\n",
       "        vertical-align: middle;\n",
       "    }\n",
       "\n",
       "    .dataframe tbody tr th {\n",
       "        vertical-align: top;\n",
       "    }\n",
       "\n",
       "    .dataframe thead th {\n",
       "        text-align: right;\n",
       "    }\n",
       "</style>\n",
       "<table border=\"1\" class=\"dataframe\">\n",
       "  <thead>\n",
       "    <tr style=\"text-align: right;\">\n",
       "      <th></th>\n",
       "      <th>date</th>\n",
       "      <th>open</th>\n",
       "      <th>high</th>\n",
       "      <th>low</th>\n",
       "      <th>close</th>\n",
       "      <th>volume</th>\n",
       "      <th>pair</th>\n",
       "      <th>ml_smadiff_3</th>\n",
       "      <th>ml_maxdiff_3</th>\n",
       "      <th>ml_mindiff_3</th>\n",
       "      <th>...</th>\n",
       "      <th>ml_smadiff_200</th>\n",
       "      <th>ml_maxdiff_200</th>\n",
       "      <th>ml_mindiff_200</th>\n",
       "      <th>ml_std_200</th>\n",
       "      <th>ml_ma_200</th>\n",
       "      <th>ml_rsi_200</th>\n",
       "      <th>ml_bop</th>\n",
       "      <th>ml_volume_pctchange</th>\n",
       "      <th>ml_z_score_120</th>\n",
       "      <th>ml_label</th>\n",
       "    </tr>\n",
       "  </thead>\n",
       "  <tbody>\n",
       "    <tr>\n",
       "      <th>309247</th>\n",
       "      <td>2021-03-29 09:15:00</td>\n",
       "      <td>1.21278</td>\n",
       "      <td>1.21788</td>\n",
       "      <td>1.21278</td>\n",
       "      <td>1.21585</td>\n",
       "      <td>1671711.750</td>\n",
       "      <td>ADA/USDT</td>\n",
       "      <td>-0.002193</td>\n",
       "      <td>0.00000</td>\n",
       "      <td>-0.00353</td>\n",
       "      <td>...</td>\n",
       "      <td>-0.028321</td>\n",
       "      <td>0.00000</td>\n",
       "      <td>-0.04285</td>\n",
       "      <td>0.009410</td>\n",
       "      <td>-0.000970</td>\n",
       "      <td>54.502419</td>\n",
       "      <td>0.601959</td>\n",
       "      <td>0.219201</td>\n",
       "      <td>-0.906313</td>\n",
       "      <td>2.0</td>\n",
       "    </tr>\n",
       "    <tr>\n",
       "      <th>309248</th>\n",
       "      <td>2021-03-29 09:20:00</td>\n",
       "      <td>1.21579</td>\n",
       "      <td>1.22410</td>\n",
       "      <td>1.21566</td>\n",
       "      <td>1.22308</td>\n",
       "      <td>2904280.750</td>\n",
       "      <td>ADA/USDT</td>\n",
       "      <td>-0.005837</td>\n",
       "      <td>0.00000</td>\n",
       "      <td>-0.01028</td>\n",
       "      <td>...</td>\n",
       "      <td>-0.035375</td>\n",
       "      <td>0.00000</td>\n",
       "      <td>-0.05008</td>\n",
       "      <td>0.009740</td>\n",
       "      <td>-0.000881</td>\n",
       "      <td>55.407448</td>\n",
       "      <td>0.863743</td>\n",
       "      <td>0.737310</td>\n",
       "      <td>-0.800306</td>\n",
       "      <td>2.0</td>\n",
       "    </tr>\n",
       "    <tr>\n",
       "      <th>309249</th>\n",
       "      <td>2021-03-29 09:25:00</td>\n",
       "      <td>1.22308</td>\n",
       "      <td>1.22446</td>\n",
       "      <td>1.21774</td>\n",
       "      <td>1.22350</td>\n",
       "      <td>1897667.625</td>\n",
       "      <td>ADA/USDT</td>\n",
       "      <td>-0.002690</td>\n",
       "      <td>0.00000</td>\n",
       "      <td>-0.00765</td>\n",
       "      <td>...</td>\n",
       "      <td>-0.035606</td>\n",
       "      <td>0.00000</td>\n",
       "      <td>-0.05050</td>\n",
       "      <td>0.010062</td>\n",
       "      <td>-0.000787</td>\n",
       "      <td>55.459171</td>\n",
       "      <td>0.062497</td>\n",
       "      <td>-0.346596</td>\n",
       "      <td>-0.575933</td>\n",
       "      <td>1.0</td>\n",
       "    </tr>\n",
       "    <tr>\n",
       "      <th>309250</th>\n",
       "      <td>2021-03-29 09:30:00</td>\n",
       "      <td>1.22349</td>\n",
       "      <td>1.22562</td>\n",
       "      <td>1.21966</td>\n",
       "      <td>1.22029</td>\n",
       "      <td>2518210.000</td>\n",
       "      <td>ADA/USDT</td>\n",
       "      <td>0.002000</td>\n",
       "      <td>0.00321</td>\n",
       "      <td>0.00000</td>\n",
       "      <td>...</td>\n",
       "      <td>-0.032221</td>\n",
       "      <td>0.00321</td>\n",
       "      <td>-0.04729</td>\n",
       "      <td>0.010318</td>\n",
       "      <td>-0.000691</td>\n",
       "      <td>54.969372</td>\n",
       "      <td>-0.536923</td>\n",
       "      <td>0.327003</td>\n",
       "      <td>-0.309143</td>\n",
       "      <td>2.0</td>\n",
       "    </tr>\n",
       "    <tr>\n",
       "      <th>309251</th>\n",
       "      <td>2021-03-29 09:35:00</td>\n",
       "      <td>1.22030</td>\n",
       "      <td>1.22600</td>\n",
       "      <td>1.21866</td>\n",
       "      <td>1.22575</td>\n",
       "      <td>1680297.625</td>\n",
       "      <td>ADA/USDT</td>\n",
       "      <td>-0.002570</td>\n",
       "      <td>0.00000</td>\n",
       "      <td>-0.00546</td>\n",
       "      <td>...</td>\n",
       "      <td>-0.037479</td>\n",
       "      <td>0.00000</td>\n",
       "      <td>-0.05275</td>\n",
       "      <td>0.010654</td>\n",
       "      <td>-0.000565</td>\n",
       "      <td>55.639103</td>\n",
       "      <td>0.742513</td>\n",
       "      <td>-0.332741</td>\n",
       "      <td>0.260539</td>\n",
       "      <td>0.0</td>\n",
       "    </tr>\n",
       "  </tbody>\n",
       "</table>\n",
       "<p>5 rows × 59 columns</p>\n",
       "</div>"
      ],
      "text/plain": [
       "                      date     open     high      low    close       volume  \\\n",
       "309247 2021-03-29 09:15:00  1.21278  1.21788  1.21278  1.21585  1671711.750   \n",
       "309248 2021-03-29 09:20:00  1.21579  1.22410  1.21566  1.22308  2904280.750   \n",
       "309249 2021-03-29 09:25:00  1.22308  1.22446  1.21774  1.22350  1897667.625   \n",
       "309250 2021-03-29 09:30:00  1.22349  1.22562  1.21966  1.22029  2518210.000   \n",
       "309251 2021-03-29 09:35:00  1.22030  1.22600  1.21866  1.22575  1680297.625   \n",
       "\n",
       "            pair  ml_smadiff_3  ml_maxdiff_3  ml_mindiff_3  ...  \\\n",
       "309247  ADA/USDT     -0.002193       0.00000      -0.00353  ...   \n",
       "309248  ADA/USDT     -0.005837       0.00000      -0.01028  ...   \n",
       "309249  ADA/USDT     -0.002690       0.00000      -0.00765  ...   \n",
       "309250  ADA/USDT      0.002000       0.00321       0.00000  ...   \n",
       "309251  ADA/USDT     -0.002570       0.00000      -0.00546  ...   \n",
       "\n",
       "        ml_smadiff_200  ml_maxdiff_200  ml_mindiff_200  ml_std_200  ml_ma_200  \\\n",
       "309247       -0.028321         0.00000        -0.04285    0.009410  -0.000970   \n",
       "309248       -0.035375         0.00000        -0.05008    0.009740  -0.000881   \n",
       "309249       -0.035606         0.00000        -0.05050    0.010062  -0.000787   \n",
       "309250       -0.032221         0.00321        -0.04729    0.010318  -0.000691   \n",
       "309251       -0.037479         0.00000        -0.05275    0.010654  -0.000565   \n",
       "\n",
       "        ml_rsi_200    ml_bop  ml_volume_pctchange  ml_z_score_120  ml_label  \n",
       "309247   54.502419  0.601959             0.219201       -0.906313       2.0  \n",
       "309248   55.407448  0.863743             0.737310       -0.800306       2.0  \n",
       "309249   55.459171  0.062497            -0.346596       -0.575933       1.0  \n",
       "309250   54.969372 -0.536923             0.327003       -0.309143       2.0  \n",
       "309251   55.639103  0.742513            -0.332741        0.260539       0.0  \n",
       "\n",
       "[5 rows x 59 columns]"
      ]
     },
     "execution_count": 4,
     "metadata": {},
     "output_type": "execute_result"
    }
   ],
   "source": [
    "if container is None:\n",
    "    container = LightningContainer(module)\n",
    "    \n",
    "df = container._load_df_allpairs()\n",
    "df.head()"
   ]
  },
  {
   "cell_type": "markdown",
   "id": "0db38a00-fa24-49d8-aae7-b6c6cebf9d52",
   "metadata": {},
   "source": [
    "### Model EDA"
   ]
  },
  {
   "cell_type": "code",
   "execution_count": null,
   "id": "6da5a018-7cd9-40a6-aa3b-598dc45818af",
   "metadata": {},
   "outputs": [],
   "source": []
  }
 ],
 "metadata": {
  "kernelspec": {
   "display_name": "Python 3 (ipykernel)",
   "language": "python",
   "name": "python3"
  },
  "language_info": {
   "codemirror_mode": {
    "name": "ipython",
    "version": 3
   },
   "file_extension": ".py",
   "mimetype": "text/x-python",
   "name": "python",
   "nbconvert_exporter": "python",
   "pygments_lexer": "ipython3",
   "version": "3.9.5"
  }
 },
 "nbformat": 4,
 "nbformat_minor": 5
}
