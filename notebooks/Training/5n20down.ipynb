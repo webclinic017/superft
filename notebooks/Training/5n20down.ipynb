{
 "cells": [
  {
   "cell_type": "code",
   "execution_count": 16,
   "id": "0f705f1c-a7d6-4be4-8c91-2b8914805721",
   "metadata": {},
   "outputs": [
    {
     "name": "stdout",
     "output_type": "stream",
     "text": [
      "The autoreload extension is already loaded. To reload it, use:\n",
      "  %reload_ext autoreload\n"
     ]
    }
   ],
   "source": [
    "%load_ext autoreload\n",
    "%autoreload 2\n",
    "\n",
    "from pathlib import Path\n",
    "\n",
    "import os\n",
    "import wandb\n",
    "import nest_asyncio\n",
    "\n",
    "nest_asyncio.apply()\n",
    "\n",
    "while \"freqtrade\" not in os.listdir():\n",
    "    os.chdir(\"..\")\n",
    "    \n",
    "    \n",
    "from freqtrade.nbtools.dataloader import load_dataset\n",
    "\n",
    "PATH_MOUNT = Path.cwd().parent / \"mount\"\n",
    "PATH_DATA = PATH_MOUNT / \"data\"\n",
    "BINANCE = PATH_DATA / \"binance\""
   ]
  },
  {
   "cell_type": "code",
   "execution_count": 17,
   "id": "dae71984-56a2-451e-b22a-cbbbac5dc36b",
   "metadata": {},
   "outputs": [],
   "source": [
    "\"\"\" \n",
    "Configuration\n",
    "\"\"\"\n",
    "NAME = \"5m-next20m-down\"\n",
    "TIMEFRAME = \"5m\"\n",
    "DATASET = BINANCE.glob(f\"*DOWN_USDT-{TIMEFRAME}.json\")\n",
    "COLUMNS_NOT_USE = []\n",
    "\n",
    "\"\"\"\n",
    "Date <= Last 2 months: Train and Val (Shuffled val data)\n",
    "Date <= Last month   : Strategy optimization\n",
    "Last Month to Present: Unbiased backtesting\n",
    "\"\"\"\n",
    "TRAINVAL_START, TRAINVAL_END = \"2021-01-01\", \"2021-05-15\"\n",
    "OPT_START, OPT_END           = \"2021-05-16\", \"2021-06-15\"\n",
    "TEST_START, TEST_END         = \"2021-06-16\", \"2021-07-15\""
   ]
  },
  {
   "cell_type": "code",
   "execution_count": 14,
   "id": "169b822a-f1d3-42b6-84d4-682a23421284",
   "metadata": {},
   "outputs": [],
   "source": [
    "def FEATURE_FUNCTION(dataframe):\n",
    "    import talib.abstract as ta\n",
    "    import gc\n",
    "    new_dataframe = dataframe.copy()\n",
    "    \n",
    "    del dataframe\n",
    "    gc.collect()\n",
    "    \n",
    "    # Start adding features...\n",
    "    new_dataframe[\"ma_5\"] = new_dataframe[\"close\"].rolling(5).mean()\n",
    "    \n",
    "    return new_dataframe"
   ]
  },
  {
   "cell_type": "code",
   "execution_count": 18,
   "id": "f8a080cf-c7f1-4206-9b88-55aab7f9a218",
   "metadata": {},
   "outputs": [
    {
     "name": "stdout",
     "output_type": "stream",
     "text": [
      "Loading: 1INCHDOWN_USDT-5m.json\n",
      "Loading: AAVEDOWN_USDT-5m.json\n",
      "Loading: ADADOWN_USDT-5m.json\n",
      "Loading: BCHDOWN_USDT-5m.json\n",
      "Loading: BNBDOWN_USDT-5m.json\n",
      "Loading: BTCDOWN_USDT-5m.json\n",
      "Loading: DOTDOWN_USDT-5m.json\n",
      "Loading: EOSDOWN_USDT-5m.json\n",
      "Loading: ETHDOWN_USDT-5m.json\n",
      "Loading: FILDOWN_USDT-5m.json\n",
      "Loading: LINKDOWN_USDT-5m.json\n",
      "Loading: LTCDOWN_USDT-5m.json\n",
      "Loading: SUSHIDOWN_USDT-5m.json\n",
      "Loading: SXPDOWN_USDT-5m.json\n",
      "Loading: TRXDOWN_USDT-5m.json\n",
      "Loading: UNIDOWN_USDT-5m.json\n",
      "Loading: XLMDOWN_USDT-5m.json\n",
      "Loading: XRPDOWN_USDT-5m.json\n",
      "Loading: XTZDOWN_USDT-5m.json\n",
      "Loading: YFIDOWN_USDT-5m.json\n",
      "Finished loading\n"
     ]
    }
   ],
   "source": [
    "df_main = load_dataset(DATASET, FEATURE_FUNCTION, TRAINVAL_START, TRAINVAL_END)\n",
    "\n",
    "# NOTE: THE *DOWN DATASET IS VERY MESSY WHEN REDENOMINATION! PLEASE DROP ABNORMAL CHANGES THEN IMPUTE.\n",
    "# NOTE: THE *DOWN DATASET IS VERY MESSY WHEN REDENOMINATION! PLEASE DROP ABNORMAL CHANGES THEN IMPUTE.\n",
    "# NOTE: THE *DOWN DATASET IS VERY MESSY WHEN REDENOMINATION! PLEASE DROP ABNORMAL CHANGES THEN IMPUTE."
   ]
  },
  {
   "cell_type": "code",
   "execution_count": 22,
   "id": "04c33301-2d15-4a0e-9ead-6d8d463fd45e",
   "metadata": {},
   "outputs": [
    {
     "name": "stdout",
     "output_type": "stream",
     "text": [
      "Dataframe Rows: 706798\n"
     ]
    },
    {
     "data": {
      "text/html": [
       "<div>\n",
       "<style scoped>\n",
       "    .dataframe tbody tr th:only-of-type {\n",
       "        vertical-align: middle;\n",
       "    }\n",
       "\n",
       "    .dataframe tbody tr th {\n",
       "        vertical-align: top;\n",
       "    }\n",
       "\n",
       "    .dataframe thead th {\n",
       "        text-align: right;\n",
       "    }\n",
       "</style>\n",
       "<table border=\"1\" class=\"dataframe\">\n",
       "  <thead>\n",
       "    <tr style=\"text-align: right;\">\n",
       "      <th></th>\n",
       "      <th>date</th>\n",
       "      <th>open</th>\n",
       "      <th>high</th>\n",
       "      <th>low</th>\n",
       "      <th>close</th>\n",
       "      <th>volume</th>\n",
       "      <th>pair</th>\n",
       "      <th>ma_5</th>\n",
       "    </tr>\n",
       "  </thead>\n",
       "  <tbody>\n",
       "    <tr>\n",
       "      <th>4</th>\n",
       "      <td>2021-04-15 07:40:00</td>\n",
       "      <td>10.22</td>\n",
       "      <td>10.25</td>\n",
       "      <td>10.20</td>\n",
       "      <td>10.25</td>\n",
       "      <td>158.92</td>\n",
       "      <td>1INCHDOWN/USDT</td>\n",
       "      <td>10.216</td>\n",
       "    </tr>\n",
       "    <tr>\n",
       "      <th>5</th>\n",
       "      <td>2021-04-15 07:45:00</td>\n",
       "      <td>10.25</td>\n",
       "      <td>10.25</td>\n",
       "      <td>10.07</td>\n",
       "      <td>10.17</td>\n",
       "      <td>1153.58</td>\n",
       "      <td>1INCHDOWN/USDT</td>\n",
       "      <td>10.204</td>\n",
       "    </tr>\n",
       "    <tr>\n",
       "      <th>6</th>\n",
       "      <td>2021-04-15 07:50:00</td>\n",
       "      <td>10.17</td>\n",
       "      <td>10.17</td>\n",
       "      <td>10.01</td>\n",
       "      <td>10.01</td>\n",
       "      <td>392.02</td>\n",
       "      <td>1INCHDOWN/USDT</td>\n",
       "      <td>10.178</td>\n",
       "    </tr>\n",
       "    <tr>\n",
       "      <th>7</th>\n",
       "      <td>2021-04-15 07:55:00</td>\n",
       "      <td>10.06</td>\n",
       "      <td>10.08</td>\n",
       "      <td>9.97</td>\n",
       "      <td>10.07</td>\n",
       "      <td>245.68</td>\n",
       "      <td>1INCHDOWN/USDT</td>\n",
       "      <td>10.144</td>\n",
       "    </tr>\n",
       "    <tr>\n",
       "      <th>8</th>\n",
       "      <td>2021-04-15 08:00:00</td>\n",
       "      <td>10.03</td>\n",
       "      <td>10.10</td>\n",
       "      <td>10.01</td>\n",
       "      <td>10.10</td>\n",
       "      <td>78.28</td>\n",
       "      <td>1INCHDOWN/USDT</td>\n",
       "      <td>10.120</td>\n",
       "    </tr>\n",
       "  </tbody>\n",
       "</table>\n",
       "</div>"
      ],
      "text/plain": [
       "                 date   open   high    low  close   volume            pair  \\\n",
       "4 2021-04-15 07:40:00  10.22  10.25  10.20  10.25   158.92  1INCHDOWN/USDT   \n",
       "5 2021-04-15 07:45:00  10.25  10.25  10.07  10.17  1153.58  1INCHDOWN/USDT   \n",
       "6 2021-04-15 07:50:00  10.17  10.17  10.01  10.01   392.02  1INCHDOWN/USDT   \n",
       "7 2021-04-15 07:55:00  10.06  10.08   9.97  10.07   245.68  1INCHDOWN/USDT   \n",
       "8 2021-04-15 08:00:00  10.03  10.10  10.01  10.10    78.28  1INCHDOWN/USDT   \n",
       "\n",
       "     ma_5  \n",
       "4  10.216  \n",
       "5  10.204  \n",
       "6  10.178  \n",
       "7  10.144  \n",
       "8  10.120  "
      ]
     },
     "metadata": {},
     "output_type": "display_data"
    }
   ],
   "source": [
    "print(\"Dataframe Rows:\", len(df_main))\n",
    "display(df_main.head())"
   ]
  },
  {
   "cell_type": "code",
   "execution_count": null,
   "id": "53ccd028-1503-41ad-9071-bc55fdd1f71e",
   "metadata": {},
   "outputs": [],
   "source": []
  }
 ],
 "metadata": {
  "kernelspec": {
   "display_name": "Python 3 (ipykernel)",
   "language": "python",
   "name": "python3"
  },
  "language_info": {
   "codemirror_mode": {
    "name": "ipython",
    "version": 3
   },
   "file_extension": ".py",
   "mimetype": "text/x-python",
   "name": "python",
   "nbconvert_exporter": "python",
   "pygments_lexer": "ipython3",
   "version": "3.9.5"
  }
 },
 "nbformat": 4,
 "nbformat_minor": 5
}
