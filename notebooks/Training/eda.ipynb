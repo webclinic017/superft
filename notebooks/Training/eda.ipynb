{
 "cells": [
  {
   "cell_type": "markdown",
   "id": "4237e75e-f188-4276-babd-59369dc67b54",
   "metadata": {},
   "source": [
    "## Missing Values"
   ]
  },
  {
   "cell_type": "code",
   "execution_count": 1,
   "id": "1df6e694-c964-4819-a6a7-aa0fac98c573",
   "metadata": {},
   "outputs": [],
   "source": [
    "### Drop row"
   ]
  },
  {
   "cell_type": "code",
   "execution_count": 2,
   "id": "ffd73175-72c4-4a77-848d-72999ffd2d58",
   "metadata": {},
   "outputs": [],
   "source": [
    "### Imputation (filling with mean)"
   ]
  },
  {
   "cell_type": "code",
   "execution_count": null,
   "id": "69160773-1b3f-43ad-ba44-4e49a1a210c8",
   "metadata": {},
   "outputs": [],
   "source": [
    "### Imputation + is_missing category column"
   ]
  }
 ],
 "metadata": {
  "kernelspec": {
   "display_name": "Python 3 (ipykernel)",
   "language": "python",
   "name": "python3"
  },
  "language_info": {
   "codemirror_mode": {
    "name": "ipython",
    "version": 3
   },
   "file_extension": ".py",
   "mimetype": "text/x-python",
   "name": "python",
   "nbconvert_exporter": "python",
   "pygments_lexer": "ipython3",
   "version": "3.9.5"
  }
 },
 "nbformat": 4,
 "nbformat_minor": 5
}
