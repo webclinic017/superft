{
 "cells": [
  {
   "cell_type": "code",
   "execution_count": 11,
   "id": "2431c580-8f9a-483a-9570-565205722349",
   "metadata": {},
   "outputs": [],
   "source": [
    "delta = []"
   ]
  },
  {
   "cell_type": "code",
   "execution_count": 65,
   "id": "9e2bc861-cc0c-4925-8cb1-30f01bd570ca",
   "metadata": {},
   "outputs": [],
   "source": [
    "for _ in range(100000000):\n",
    "    delta.append(10000000000000000)"
   ]
  },
  {
   "cell_type": "code",
   "execution_count": 66,
   "id": "3a7ce961-b10b-4cdd-9c5b-8df31c178277",
   "metadata": {},
   "outputs": [
    {
     "data": {
      "text/plain": [
       "2890453371"
      ]
     },
     "execution_count": 66,
     "metadata": {},
     "output_type": "execute_result"
    }
   ],
   "source": [
    "len(delta)"
   ]
  },
  {
   "cell_type": "code",
   "execution_count": null,
   "id": "6cb4da6a-ba89-4e4b-9b89-58a3b0e52020",
   "metadata": {},
   "outputs": [],
   "source": []
  }
 ],
 "metadata": {
  "kernelspec": {
   "display_name": "Python 3 (ipykernel)",
   "language": "python",
   "name": "python3"
  },
  "language_info": {
   "codemirror_mode": {
    "name": "ipython",
    "version": 3
   },
   "file_extension": ".py",
   "mimetype": "text/x-python",
   "name": "python",
   "nbconvert_exporter": "python",
   "pygments_lexer": "ipython3",
   "version": "3.9.5"
  }
 },
 "nbformat": 4,
 "nbformat_minor": 5
}
