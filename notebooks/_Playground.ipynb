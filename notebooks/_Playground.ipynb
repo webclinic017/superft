{
 "cells": [
  {
   "cell_type": "code",
   "execution_count": 4,
   "id": "2431c580-8f9a-483a-9570-565205722349",
   "metadata": {},
   "outputs": [],
   "source": [
    "import pandas as pd\n",
    "import qgrid"
   ]
  },
  {
   "cell_type": "code",
   "execution_count": 2,
   "id": "4371c78b-2ffa-4501-a867-2cbb23ee93f3",
   "metadata": {},
   "outputs": [
    {
     "data": {
      "text/html": [
       "<div>\n",
       "<style scoped>\n",
       "    .dataframe tbody tr th:only-of-type {\n",
       "        vertical-align: middle;\n",
       "    }\n",
       "\n",
       "    .dataframe tbody tr th {\n",
       "        vertical-align: top;\n",
       "    }\n",
       "\n",
       "    .dataframe thead th {\n",
       "        text-align: right;\n",
       "    }\n",
       "</style>\n",
       "<table border=\"1\" class=\"dataframe\">\n",
       "  <thead>\n",
       "    <tr style=\"text-align: right;\">\n",
       "      <th></th>\n",
       "      <th>name</th>\n",
       "      <th>age</th>\n",
       "    </tr>\n",
       "  </thead>\n",
       "  <tbody>\n",
       "    <tr>\n",
       "      <th>0</th>\n",
       "      <td>Lary</td>\n",
       "      <td>15</td>\n",
       "    </tr>\n",
       "    <tr>\n",
       "      <th>1</th>\n",
       "      <td>Wilson</td>\n",
       "      <td>25</td>\n",
       "    </tr>\n",
       "    <tr>\n",
       "      <th>2</th>\n",
       "      <td>Robert</td>\n",
       "      <td>17</td>\n",
       "    </tr>\n",
       "    <tr>\n",
       "      <th>3</th>\n",
       "      <td>Martin</td>\n",
       "      <td>19</td>\n",
       "    </tr>\n",
       "    <tr>\n",
       "      <th>4</th>\n",
       "      <td>Wilray</td>\n",
       "      <td>29</td>\n",
       "    </tr>\n",
       "  </tbody>\n",
       "</table>\n",
       "</div>"
      ],
      "text/plain": [
       "     name  age\n",
       "0    Lary   15\n",
       "1  Wilson   25\n",
       "2  Robert   17\n",
       "3  Martin   19\n",
       "4  Wilray   29"
      ]
     },
     "execution_count": 2,
     "metadata": {},
     "output_type": "execute_result"
    }
   ],
   "source": [
    "df = pd.DataFrame({\n",
    "    \"name\": [\"Lary\", \"Wilson\", \"Robert\", \"Martin\", \"Wilray\"],\n",
    "    \"age\": [15, 25, 17, 19, 29],\n",
    "})\n",
    "df"
   ]
  },
  {
   "cell_type": "code",
   "execution_count": 3,
   "id": "c2b66ac1-bbe3-4037-8f3c-0ca541bf796d",
   "metadata": {},
   "outputs": [
    {
     "data": {
      "application/vnd.jupyter.widget-view+json": {
       "model_id": "0cd91fb7c4514155aa8d12a611147f55",
       "version_major": 2,
       "version_minor": 0
      },
      "text/plain": [
       "QgridWidget(grid_options={'fullWidthRows': True, 'syncColumnCellResize': True, 'forceFitColumns': True, 'defau…"
      ]
     },
     "metadata": {},
     "output_type": "display_data"
    }
   ],
   "source": [
    "qgrid_widget = qgrid.show_grid(df)\n",
    "qgrid_widget"
   ]
  },
  {
   "cell_type": "code",
   "execution_count": null,
   "id": "91fef05f-45bc-4cca-a4f4-dca07d4f43ce",
   "metadata": {},
   "outputs": [],
   "source": []
  }
 ],
 "metadata": {
  "kernelspec": {
   "display_name": "Python 3 (ipykernel)",
   "language": "python",
   "name": "python3"
  },
  "language_info": {
   "codemirror_mode": {
    "name": "ipython",
    "version": 3
   },
   "file_extension": ".py",
   "mimetype": "text/x-python",
   "name": "python",
   "nbconvert_exporter": "python",
   "pygments_lexer": "ipython3",
   "version": "3.9.5"
  },
  "widgets": {
   "application/vnd.jupyter.widget-state+json": {
    "state": {
     "0cd91fb7c4514155aa8d12a611147f55": {
      "model_module": "qgrid",
      "model_module_version": "^1.1.3",
      "model_name": "QgridModel",
      "state": {
       "_columns": {
        "age": {
         "cssClass": "integer",
         "defaultSortAsc": true,
         "editable": true,
         "field": "age",
         "filter_info": {
          "field": "age",
          "max": null,
          "min": null,
          "type": "slider"
         },
         "id": "age",
         "minWidth": 30,
         "name": "age",
         "position": 3,
         "resizable": true,
         "slider_max": 29,
         "slider_min": 15,
         "sortable": true,
         "toolTip": "",
         "type": "integer"
        },
        "index": {
         "cssClass": "integer first-idx-col idx-col",
         "defaultSortAsc": true,
         "editable": true,
         "field": "index",
         "first_index": true,
         "id": "index",
         "index_display_text": "",
         "is_index": true,
         "level": 0,
         "minWidth": 30,
         "name": "",
         "position": 0,
         "resizable": true,
         "slider_max": 4,
         "slider_min": 0,
         "sortable": true,
         "toolTip": "",
         "type": "integer"
        },
        "name": {
         "cssClass": "string",
         "defaultSortAsc": true,
         "editable": true,
         "field": "name",
         "id": "name",
         "length": 5,
         "minWidth": 30,
         "name": "name",
         "position": 2,
         "resizable": true,
         "selected_length": 0,
         "sortable": true,
         "toolTip": "",
         "type": "string",
         "value_range": [
          0,
          5
         ],
         "values": [
          "Lary",
          "Martin",
          "Robert",
          "Wilray",
          "Wilson"
         ],
         "viewport_range": [
          0,
          5
         ]
        },
        "qgrid_unfiltered_index": {
         "cssClass": "integer",
         "defaultSortAsc": true,
         "editable": true,
         "field": "qgrid_unfiltered_index",
         "id": "qgrid_unfiltered_index",
         "maxWidth": null,
         "minWidth": 30,
         "name": "qgrid_unfiltered_index",
         "position": 1,
         "resizable": true,
         "sortable": true,
         "toolTip": "",
         "type": "integer",
         "width": null
        }
       },
       "_df_json": "{\"schema\":{\"fields\":[{\"name\":\"index\",\"type\":\"integer\"},{\"name\":\"qgrid_unfiltered_index\",\"type\":\"integer\"},{\"name\":\"name\",\"type\":\"string\"},{\"name\":\"age\",\"type\":\"integer\"}],\"primaryKey\":[\"index\"],\"pandas_version\":\"0.20.0\"},\"data\":[{\"index\":0,\"qgrid_unfiltered_index\":0,\"name\":\"Lary\",\"age\":15},{\"index\":2,\"qgrid_unfiltered_index\":2,\"name\":\"Robert\",\"age\":17},{\"index\":3,\"qgrid_unfiltered_index\":3,\"name\":\"Martin\",\"age\":19},{\"index\":1,\"qgrid_unfiltered_index\":1,\"name\":\"Wilson\",\"age\":25}]}",
       "_df_range": [
        0,
        100
       ],
       "_editable_rows": {},
       "_index_col_name": "qgrid_unfiltered_index",
       "_interval_columns": [],
       "_multi_index": false,
       "_row_count": 4,
       "_row_styles": {},
       "_sort_ascending": true,
       "_sort_field": "age",
       "_viewport_range": [
        0,
        100
       ],
       "grid_options": {
        "autoEdit": false,
        "boldIndex": true,
        "defaultColumnWidth": 150,
        "editable": true,
        "enableColumnReorder": false,
        "enableTextSelectionOnCells": true,
        "explicitInitialization": true,
        "filterable": true,
        "forceFitColumns": true,
        "fullWidthRows": true,
        "highlightSelectedCell": false,
        "highlightSelectedRow": true,
        "maxVisibleRows": 15,
        "minVisibleRows": 8,
        "rowHeight": 28,
        "sortable": true,
        "syncColumnCellResize": true
       },
       "id": "0bb326e3-7eb6-42a5-a20e-06ea198918d3",
       "layout": "IPY_MODEL_23f1ca2aaec4479f945fe0845dd380c3",
       "precision": 5,
       "show_toolbar": false
      }
     },
     "23f1ca2aaec4479f945fe0845dd380c3": {
      "model_module": "@jupyter-widgets/base",
      "model_module_version": "1.2.0",
      "model_name": "LayoutModel",
      "state": {}
     }
    },
    "version_major": 2,
    "version_minor": 0
   }
  }
 },
 "nbformat": 4,
 "nbformat_minor": 5
}
